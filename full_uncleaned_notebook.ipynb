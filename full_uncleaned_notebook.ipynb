{
 "cells": [
  {
   "cell_type": "markdown",
   "metadata": {},
   "source": [
    "Classifying Political Media Text with Natural Language Processing\n",
    "===\n",
    "\n",
    "*Connor Foley,* Data Science Immersive, General Assembly NYC, July 2018\n",
    "___"
   ]
  },
  {
   "cell_type": "code",
   "execution_count": 161,
   "metadata": {},
   "outputs": [],
   "source": [
    "import pandas as pd\n",
    "import numpy as np\n",
    "# SciKitLearn Imports\n",
    "from sklearn.feature_extraction.text import CountVectorizer, TfidfVectorizer\n",
    "from sklearn.linear_model import LogisticRegression, PassiveAggressiveClassifier, SGDClassifier\n",
    "from sklearn.model_selection import train_test_split, GridSearchCV, cross_val_score\n",
    "from sklearn.ensemble import RandomForestClassifier, GradientBoostingClassifier\n",
    "from sklearn.neighbors import KNeighborsClassifier\n",
    "from sklearn.pipeline import Pipeline, FeatureUnion\n",
    "from sklearn.base import TransformerMixin, BaseEstimator\n",
    "from sklearn.svm import SVC\n",
    "from sklearn.naive_bayes import MultinomialNB\n",
    "from sklearn.metrics import classification_report, confusion_matrix\n",
    "from sklearn.preprocessing import StandardScaler, MinMaxScaler, PolynomialFeatures\n",
    "from sklearn.decomposition import PCA, TruncatedSVD\n",
    "# NLP Tools\n",
    "import nltk\n",
    "from nltk.stem.porter import PorterStemmer\n",
    "from nltk.stem import WordNetLemmatizer\n",
    "import spacy as sp\n",
    "from textblob import TextBlob\n",
    "# Plotting Imports\n",
    "import matplotlib\n",
    "import matplotlib.pyplot as plt\n",
    "import seaborn as sns\n",
    "\n",
    "%matplotlib inline\n",
    "\n",
    "np.random.seed(42)"
   ]
  },
  {
   "cell_type": "markdown",
   "metadata": {},
   "source": [
    "<a id=\"contents\"></a>\n",
    "## Contents\n",
    "\n",
    "- [Load Data](#load-data)\n",
    "- [Clean Data](#clean-data)\n",
    "- [NLP Feature Engineering](#feature-engineering)\n",
    "- [Explore Data](#explore-data)\n",
    "- [Modeling](#modeling)\n",
    "    - [Text Features Only](#text-only)\n",
    "    - [Numerical Features Only](#num-only)\n",
    "    - [Pipeline: Combine Text and Numerical Features](#pipeline)\n",
    "- [Evaluate Model](#eval-model)\n",
    "- [Answer Question](#answer-question)\n",
    "- [Next Steps](#next-steps)"
   ]
  },
  {
   "cell_type": "markdown",
   "metadata": {},
   "source": [
    "<a id=\"load-data\"></a>\n",
    "## Load Data\n",
    "[Return to Index](#contents)\n",
    "___\n",
    "Here I load in all of the individual .csv files I had created by scraping article information from News API as well as from the RSS feeds of Infowars and Democracy Now using Beautiful Soup. The notebooks for this data collection can be found in the \"datasets\" folder of this repository. "
   ]
  },
  {
   "cell_type": "code",
   "execution_count": 402,
   "metadata": {},
   "outputs": [],
   "source": [
    "bb = pd.read_csv('./datasets/jun20_bb_posts.csv', )\n",
    "cnn = pd.read_csv('./datasets/jun20_cnn_posts.csv')\n",
    "fox = pd.read_csv('./datasets/jun20_fox_posts.csv')\n",
    "fox2 = pd.read_csv('./datasets/fox_posts_jun26.csv')\n",
    "fox3 = pd.read_csv('./datasets/fox_posts_jun29.csv')\n",
    "nr = pd.read_csv('./datasets/jun20_nr_posts.csv')\n",
    "nr2 = pd.read_csv('./datasets/jun29_nr_posts.csv')\n",
    "vice = pd.read_csv('./datasets/jun20_vice_posts.csv')\n",
    "dem = pd.read_csv('./datasets/jun21_demnow_posts.csv')\n",
    "dem2 = pd.read_csv('./datasets/jun22_demnow_posts.csv')\n",
    "dem3 = pd.read_csv('./datasets/jun23_demnow_posts.csv')\n",
    "dem4 = pd.read_csv('./datasets/jun24_demnow_posts.csv')\n",
    "dem5 = pd.read_csv('./datasets/jun25_demnow_posts.csv')\n",
    "dem6 = pd.read_csv('./datasets/jun26_demnow_posts.csv')\n",
    "dem7 = pd.read_csv('./datasets/jun29_demnow_posts.csv')\n",
    "inwa = pd.read_csv('./datasets/june20infowars.csv')\n",
    "inwa2 = pd.read_csv('./datasets/june21infowars.csv')\n",
    "inwa3 = pd.read_csv('./datasets/june22infowars.csv')\n",
    "inwa4 = pd.read_csv('./datasets/june23infowars.csv')\n",
    "inwa5 = pd.read_csv('./datasets/june24infowars.csv')\n",
    "inwa6 = pd.read_csv('./datasets/june25infowars.csv')\n",
    "inwa7 = pd.read_csv('./datasets/june26infowars.csv')\n",
    "inwa8 = pd.read_csv('./datasets/june29infowars.csv')\n",
    "msnbc = pd.read_csv('./datasets/jun26_msnbc_posts.csv')\n",
    "huff = pd.read_csv('./datasets/jun_24_huff_posts.csv')"
   ]
  },
  {
   "cell_type": "code",
   "execution_count": 403,
   "metadata": {},
   "outputs": [],
   "source": [
    "bb['yes_right'] = 1\n",
    "cnn['yes_right'] = 0\n",
    "fox['yes_right'] = 1\n",
    "fox2['yes_right'] = 1\n",
    "fox3['yes_right'] = 1\n",
    "nr['yes_right'] = 1\n",
    "nr2['yes_right'] = 1\n",
    "vice['yes_right'] = 0\n",
    "dem['yes_right'] = 0\n",
    "dem2['yes_right'] = 0\n",
    "dem3['yes_right'] = 0\n",
    "dem4['yes_right'] = 0\n",
    "dem5['yes_right'] = 0\n",
    "dem6['yes_right'] = 0\n",
    "dem7['yes_right'] = 0\n",
    "inwa['yes_right'] = 1\n",
    "inwa2['yes_right'] = 1\n",
    "inwa3['yes_right'] = 1\n",
    "inwa4['yes_right'] = 1\n",
    "inwa5['yes_right'] = 1\n",
    "inwa6['yes_right'] = 1\n",
    "inwa7['yes_right'] = 1\n",
    "inwa8['yes_right'] = 1\n",
    "msnbc['yes_right'] = 0\n",
    "huff['yes_right'] = 0"
   ]
  },
  {
   "cell_type": "code",
   "execution_count": 404,
   "metadata": {},
   "outputs": [],
   "source": [
    "text = pd.concat(\n",
    "    [bb, cnn, fox, fox2, fox3, nr, nr2, vice, dem, dem2, dem3, dem4, dem5, dem6, dem7, inwa,\n",
    "     inwa2, inwa3, inwa4, inwa5, inwa6, inwa7, inwa8, msnbc, huff])"
   ]
  },
  {
   "cell_type": "markdown",
   "metadata": {},
   "source": [
    "<a id=\"clean-data\"></a>\n",
    "### Clean Data\n",
    "[Return to Index](#contents)"
   ]
  },
  {
   "cell_type": "code",
   "execution_count": 405,
   "metadata": {},
   "outputs": [],
   "source": [
    "text.drop(['Unnamed: 0', 'category', 'urlToImage'], axis=1, inplace=True)"
   ]
  },
  {
   "cell_type": "code",
   "execution_count": 406,
   "metadata": {},
   "outputs": [
    {
     "data": {
      "text/plain": [
       "author         9466\n",
       "description      69\n",
       "publishedAt       0\n",
       "source            0\n",
       "title             1\n",
       "url               0\n",
       "yes_right         0\n",
       "dtype: int64"
      ]
     },
     "execution_count": 406,
     "metadata": {},
     "output_type": "execute_result"
    }
   ],
   "source": [
    "text.isna().sum()"
   ]
  },
  {
   "cell_type": "code",
   "execution_count": 407,
   "metadata": {},
   "outputs": [],
   "source": [
    "no_desc = text.description.isna()"
   ]
  },
  {
   "cell_type": "code",
   "execution_count": 408,
   "metadata": {},
   "outputs": [],
   "source": [
    "text.dropna(subset=['description','title'], inplace=True)"
   ]
  },
  {
   "cell_type": "code",
   "execution_count": 409,
   "metadata": {},
   "outputs": [
    {
     "data": {
      "text/plain": [
       "author         9408\n",
       "description       0\n",
       "publishedAt       0\n",
       "source            0\n",
       "title             0\n",
       "url               0\n",
       "yes_right         0\n",
       "dtype: int64"
      ]
     },
     "execution_count": 409,
     "metadata": {},
     "output_type": "execute_result"
    }
   ],
   "source": [
    "text.isna().sum()"
   ]
  },
  {
   "cell_type": "code",
   "execution_count": 410,
   "metadata": {},
   "outputs": [],
   "source": [
    "text.fillna('no_author', inplace=True)"
   ]
  },
  {
   "cell_type": "code",
   "execution_count": 411,
   "metadata": {},
   "outputs": [
    {
     "data": {
      "text/plain": [
       "(50578, 7)"
      ]
     },
     "execution_count": 411,
     "metadata": {},
     "output_type": "execute_result"
    }
   ],
   "source": [
    "text.shape"
   ]
  },
  {
   "cell_type": "code",
   "execution_count": 412,
   "metadata": {},
   "outputs": [
    {
     "data": {
      "text/plain": [
       "36854"
      ]
     },
     "execution_count": 412,
     "metadata": {},
     "output_type": "execute_result"
    }
   ],
   "source": [
    "len(text.url.unique())"
   ]
  },
  {
   "cell_type": "code",
   "execution_count": 413,
   "metadata": {},
   "outputs": [],
   "source": [
    "text.drop_duplicates('url', inplace=True)"
   ]
  },
  {
   "cell_type": "code",
   "execution_count": 414,
   "metadata": {},
   "outputs": [
    {
     "data": {
      "text/plain": [
       "0"
      ]
     },
     "execution_count": 414,
     "metadata": {},
     "output_type": "execute_result"
    }
   ],
   "source": [
    "text.isna().sum().sum()"
   ]
  },
  {
   "cell_type": "code",
   "execution_count": 415,
   "metadata": {},
   "outputs": [
    {
     "data": {
      "text/plain": [
       "(36854, 7)"
      ]
     },
     "execution_count": 415,
     "metadata": {},
     "output_type": "execute_result"
    }
   ],
   "source": [
    "text.shape"
   ]
  },
  {
   "cell_type": "code",
   "execution_count": 416,
   "metadata": {},
   "outputs": [],
   "source": [
    "text.reset_index(drop=True, inplace=True)"
   ]
  },
  {
   "cell_type": "code",
   "execution_count": 417,
   "metadata": {},
   "outputs": [
    {
     "data": {
      "text/plain": [
       "0.4652954903131275"
      ]
     },
     "execution_count": 417,
     "metadata": {},
     "output_type": "execute_result"
    }
   ],
   "source": [
    "text.yes_right.value_counts()[1]/len(text.yes_right) #baseline"
   ]
  },
  {
   "cell_type": "code",
   "execution_count": 419,
   "metadata": {},
   "outputs": [
    {
     "data": {
      "text/plain": [
       "fox news           6381\n",
       "national review    5348\n",
       "huffington post    4950\n",
       "msnbc              4950\n",
       "vice news          4949\n",
       "breitbart          4948\n",
       "cnn                4776\n",
       "infowars            471\n",
       "democracy now        81\n",
       "Name: source, dtype: int64"
      ]
     },
     "execution_count": 419,
     "metadata": {},
     "output_type": "execute_result"
    }
   ],
   "source": [
    "text.source.value_counts()"
   ]
  },
  {
   "cell_type": "code",
   "execution_count": 420,
   "metadata": {},
   "outputs": [],
   "source": [
    "source_dict = {'breitbart': \"Breitbart\", 'cnn': \"CNN\", 'fox news': \"Fox News\",\n",
    "               'national review': \"National Review\", 'vice news': \"Vice News\", 'democracy now': \"Democracy Now\",\n",
    "               'infowars': \"Infowars\", 'msnbc': \"MSNBC\", 'huffington post': \"Huffington Post\"}\n",
    "\n",
    "text['source'] = text['source'].map(source_dict)"
   ]
  },
  {
   "cell_type": "code",
   "execution_count": 382,
   "metadata": {},
   "outputs": [],
   "source": [
    "# if statement, filter through text.values and append cleaned (or not) title to list"
   ]
  },
  {
   "cell_type": "code",
   "execution_count": 22,
   "metadata": {},
   "outputs": [],
   "source": [
    "# for row in text.values:\n",
    "#     author = row[0]\n",
    "#     source = row[3]\n",
    "#     row[1] = row[1].replace(author, '')\n",
    "#     row[1] = row[1].replace(source, '')\n",
    "#     row[1] = row[1].replace(author.lower(), '')\n",
    "#     row[1] = row[1].replace(source.lower(), '')\n",
    "#     row[4] = row[1].replace(author, '')\n",
    "#     row[4] = row[1].replace(source, '')\n",
    "#     row[4] = row[1].replace(author.lower(), '')\n",
    "#     row[4] = row[1].replace(source.lower(), '')    "
   ]
  },
  {
   "cell_type": "code",
   "execution_count": 359,
   "metadata": {},
   "outputs": [],
   "source": [
    "# tokenize source and remove each word, remove each author\n",
    "\n",
    "# def remove_source_info(row):\n",
    "#     author = row[0]\n",
    "#     row[1] = row[1].replace(author, '')\n",
    "#     row[1] = row[1].replace(author.lower(), '')\n",
    "#     row[4] = row[1].replace(author, '')   \n",
    "#     row[4] = row[1].replace(author.lower(), '')\n",
    "#     source = row[3]\n",
    "#     row[1] = row[1].replace(source, '')\n",
    "#     row[1] = row[1].replace(source.lower(), '')\n",
    "#     row[4] = row[1].replace(source, '')   \n",
    "#     row[4] = row[1].replace(source.lower(), '')\n",
    "#     for n in tokenizer.tokenize(row[3]):\n",
    "#             row[1] = row[1].replace(n, '')\n",
    "#             row[1] = row[1].replace(n.lower(), '')\n",
    "#             row[4] = row[1].replace(n, '')\n",
    "#             row[4] = row[1].replace(n.lower(), '') \n",
    "#     return row\n"
   ]
  },
  {
   "cell_type": "code",
   "execution_count": 424,
   "metadata": {},
   "outputs": [],
   "source": [
    "text['author'] = [a.replace(', CNN', '') for a in text['author']]"
   ]
  },
  {
   "cell_type": "code",
   "execution_count": 422,
   "metadata": {},
   "outputs": [],
   "source": [
    "def remove_source_info(row):\n",
    "    sources = ['Breitbart', 'CNN', 'Fox News', 'National Review', 'Vice News', 'Democracy Now',\n",
    "               'Infowars', 'MSNBC', 'Huffington Post']\n",
    "    for source in sources:\n",
    "        row['description'] = row['description'].replace(source, '')\n",
    "        row['title'] = row['title'].replace(source, '')\n",
    "    row['title'] = row['title'].replace(row['author'], '')\n",
    "    row['description'] = row['description'].replace(row['author'], '')\n",
    "    return row"
   ]
  },
  {
   "cell_type": "code",
   "execution_count": 425,
   "metadata": {},
   "outputs": [],
   "source": [
    "text = text.apply(remove_source_info, axis=1)"
   ]
  },
  {
   "cell_type": "code",
   "execution_count": 430,
   "metadata": {
    "scrolled": false
   },
   "outputs": [
    {
     "data": {
      "text/html": [
       "<div>\n",
       "<style scoped>\n",
       "    .dataframe tbody tr th:only-of-type {\n",
       "        vertical-align: middle;\n",
       "    }\n",
       "\n",
       "    .dataframe tbody tr th {\n",
       "        vertical-align: top;\n",
       "    }\n",
       "\n",
       "    .dataframe thead th {\n",
       "        text-align: right;\n",
       "    }\n",
       "</style>\n",
       "<table border=\"1\" class=\"dataframe\">\n",
       "  <thead>\n",
       "    <tr style=\"text-align: right;\">\n",
       "      <th></th>\n",
       "      <th>author</th>\n",
       "      <th>description</th>\n",
       "      <th>publishedAt</th>\n",
       "      <th>source</th>\n",
       "      <th>title</th>\n",
       "      <th>url</th>\n",
       "      <th>yes_right</th>\n",
       "    </tr>\n",
       "  </thead>\n",
       "  <tbody>\n",
       "    <tr>\n",
       "      <th>9724</th>\n",
       "      <td>no_author</td>\n",
       "      <td>Judge Napolitano and Marie Harf discuss the Tr...</td>\n",
       "      <td>2018-06-20T18:51:36Z</td>\n",
       "      <td>Fox News</td>\n",
       "      <td>Freedom Watch: Napolitano and Harf dig in on i...</td>\n",
       "      <td>http://video.foxnews.com/v/5799861947001/</td>\n",
       "      <td>1</td>\n",
       "    </tr>\n",
       "    <tr>\n",
       "      <th>9725</th>\n",
       "      <td>no_author</td>\n",
       "      <td>Find out where and who caught a rare cotton ca...</td>\n",
       "      <td>2018-06-20T18:50:00Z</td>\n",
       "      <td>Fox News</td>\n",
       "      <td>See it: Cotton candy-colored lobster caught</td>\n",
       "      <td>http://video.foxnews.com/v/5799865520001/</td>\n",
       "      <td>1</td>\n",
       "    </tr>\n",
       "    <tr>\n",
       "      <th>9726</th>\n",
       "      <td>no_author</td>\n",
       "      <td>Steve Harrigan reports from outside a detentio...</td>\n",
       "      <td>2018-06-20T18:47:58Z</td>\n",
       "      <td>Fox News</td>\n",
       "      <td>Media not given access to 'tender age' shelters</td>\n",
       "      <td>http://video.foxnews.com/v/5799862990001/</td>\n",
       "      <td>1</td>\n",
       "    </tr>\n",
       "    <tr>\n",
       "      <th>9727</th>\n",
       "      <td>no_author</td>\n",
       "      <td>Reports: More than 2,000 children have been se...</td>\n",
       "      <td>2018-06-20T18:47:54Z</td>\n",
       "      <td>Fox News</td>\n",
       "      <td>Critics denounce 'tender age' shelters</td>\n",
       "      <td>http://video.foxnews.com/v/5799860019001/</td>\n",
       "      <td>1</td>\n",
       "    </tr>\n",
       "    <tr>\n",
       "      <th>9728</th>\n",
       "      <td>no_author</td>\n",
       "      <td>Nearly a year after the body of little boy was...</td>\n",
       "      <td>2018-06-20T18:38:34Z</td>\n",
       "      <td>Fox News</td>\n",
       "      <td>‘Little Jacob’ has been identified</td>\n",
       "      <td>http://video.foxnews.com/v/5799856889001/</td>\n",
       "      <td>1</td>\n",
       "    </tr>\n",
       "  </tbody>\n",
       "</table>\n",
       "</div>"
      ],
      "text/plain": [
       "         author                                        description  \\\n",
       "9724  no_author  Judge Napolitano and Marie Harf discuss the Tr...   \n",
       "9725  no_author  Find out where and who caught a rare cotton ca...   \n",
       "9726  no_author  Steve Harrigan reports from outside a detentio...   \n",
       "9727  no_author  Reports: More than 2,000 children have been se...   \n",
       "9728  no_author  Nearly a year after the body of little boy was...   \n",
       "\n",
       "               publishedAt    source  \\\n",
       "9724  2018-06-20T18:51:36Z  Fox News   \n",
       "9725  2018-06-20T18:50:00Z  Fox News   \n",
       "9726  2018-06-20T18:47:58Z  Fox News   \n",
       "9727  2018-06-20T18:47:54Z  Fox News   \n",
       "9728  2018-06-20T18:38:34Z  Fox News   \n",
       "\n",
       "                                                  title  \\\n",
       "9724  Freedom Watch: Napolitano and Harf dig in on i...   \n",
       "9725        See it: Cotton candy-colored lobster caught   \n",
       "9726    Media not given access to 'tender age' shelters   \n",
       "9727             Critics denounce 'tender age' shelters   \n",
       "9728                 ‘Little Jacob’ has been identified   \n",
       "\n",
       "                                            url  yes_right  \n",
       "9724  http://video.foxnews.com/v/5799861947001/          1  \n",
       "9725  http://video.foxnews.com/v/5799865520001/          1  \n",
       "9726  http://video.foxnews.com/v/5799862990001/          1  \n",
       "9727  http://video.foxnews.com/v/5799860019001/          1  \n",
       "9728  http://video.foxnews.com/v/5799856889001/          1  "
      ]
     },
     "execution_count": 430,
     "metadata": {},
     "output_type": "execute_result"
    }
   ],
   "source": [
    "text.query(\"source=='Fox News'\").head()"
   ]
  },
  {
   "cell_type": "code",
   "execution_count": 431,
   "metadata": {},
   "outputs": [],
   "source": [
    "# def fox_news_clean(row):\n",
    "    \n",
    "#     if \"Fox News\" in row['description'][0:8]:\n",
    "#         row['description'] = row['description'][8:] \n",
    "        \n",
    "#     return row\n",
    "\n",
    "# #text.head(100).apply(fox_news_clean, axis=1)    \n",
    "# #text.query(\"source=='Breitbart'\").head(10)\n",
    "# text[text['description'].str.contains('Fox News 100')].head(10).apply(fox_news_clean, axis=1) "
   ]
  },
  {
   "cell_type": "markdown",
   "metadata": {},
   "source": [
    "<a id=\"feature-engineering\"></a>\n",
    "# NLP Feature Engineering\n",
    "[Return to Index](#contents)"
   ]
  },
  {
   "cell_type": "code",
   "execution_count": 432,
   "metadata": {},
   "outputs": [],
   "source": [
    "text['combined'] = text.title + ' ' + text.description # all text together"
   ]
  },
  {
   "cell_type": "markdown",
   "metadata": {},
   "source": [
    "#### Sentiment Analysis"
   ]
  },
  {
   "cell_type": "code",
   "execution_count": 433,
   "metadata": {},
   "outputs": [],
   "source": [
    "tokenizer = nltk.RegexpTokenizer(r'\\w+')"
   ]
  },
  {
   "cell_type": "code",
   "execution_count": 434,
   "metadata": {},
   "outputs": [],
   "source": [
    "title_tokens = [tokenizer.tokenize(w) for w in text.title]"
   ]
  },
  {
   "cell_type": "code",
   "execution_count": 435,
   "metadata": {},
   "outputs": [],
   "source": [
    "avg_word_length = []\n",
    "for title in title_tokens:\n",
    "    wordlen = []\n",
    "    for word in title:\n",
    "        wordlen.append(len(word))\n",
    "        if len(wordlen)==len(title):\n",
    "            avg_word_length.append(np.sum(wordlen)/len(wordlen))\n",
    "    "
   ]
  },
  {
   "cell_type": "code",
   "execution_count": 436,
   "metadata": {},
   "outputs": [
    {
     "data": {
      "text/plain": [
       "36854"
      ]
     },
     "execution_count": 436,
     "metadata": {},
     "output_type": "execute_result"
    }
   ],
   "source": [
    "len(avg_word_length)"
   ]
  },
  {
   "cell_type": "code",
   "execution_count": 437,
   "metadata": {},
   "outputs": [],
   "source": [
    "text['avg_word_len_title'] = avg_word_length"
   ]
  },
  {
   "cell_type": "code",
   "execution_count": 438,
   "metadata": {},
   "outputs": [],
   "source": [
    "text['title_polarity'] = [TextBlob(w).sentiment.polarity for w in text.title]"
   ]
  },
  {
   "cell_type": "code",
   "execution_count": 439,
   "metadata": {},
   "outputs": [],
   "source": [
    "text['title_subjectivity'] = [TextBlob(w).sentiment.subjectivity for w in text.title]"
   ]
  },
  {
   "cell_type": "code",
   "execution_count": 440,
   "metadata": {},
   "outputs": [],
   "source": [
    "text['desc_polarity'] = [TextBlob(w).sentiment.polarity for w in text.description]"
   ]
  },
  {
   "cell_type": "code",
   "execution_count": 441,
   "metadata": {},
   "outputs": [],
   "source": [
    "text['desc_subjectivity'] = [TextBlob(w).sentiment.subjectivity for w in text.description]"
   ]
  },
  {
   "cell_type": "code",
   "execution_count": 442,
   "metadata": {},
   "outputs": [],
   "source": [
    "text['title_polarity'] = (text.title_polarity - min(text.title_polarity))/(max(text.title_polarity)-min(text.title_polarity))\n",
    "text['desc_polarity'] = (text.desc_polarity - min(text.desc_polarity))/(max(text.desc_polarity)-min(text.desc_polarity))\n",
    "# manual minmax scaler; i do not want negative values "
   ]
  },
  {
   "cell_type": "code",
   "execution_count": 443,
   "metadata": {},
   "outputs": [],
   "source": [
    "text['subj_difference'] = text['title_subjectivity'] - text['desc_subjectivity']\n",
    "text['polarity_difference']  = text['title_polarity'] - text['desc_polarity']"
   ]
  },
  {
   "cell_type": "markdown",
   "metadata": {},
   "source": [
    "#### Parts of Speech Tagging"
   ]
  },
  {
   "cell_type": "code",
   "execution_count": 444,
   "metadata": {},
   "outputs": [],
   "source": [
    "tokenizer = nltk.RegexpTokenizer(r'\\w+')"
   ]
  },
  {
   "cell_type": "code",
   "execution_count": 445,
   "metadata": {},
   "outputs": [],
   "source": [
    "title_tags = [TextBlob(w.lower(), tokenizer=tokenizer).tags for w in text.title]"
   ]
  },
  {
   "cell_type": "code",
   "execution_count": 446,
   "metadata": {},
   "outputs": [
    {
     "data": {
      "text/plain": [
       "[('peter', 'NN'),\n",
       " ('fonda', 'NN'),\n",
       " ('lying', 'VBG'),\n",
       " ('gash', 'JJ'),\n",
       " ('kirstjen', 'NNS'),\n",
       " ('nielsen', 'VBN'),\n",
       " ('should', 'MD'),\n",
       " ('be', 'VB'),\n",
       " ('whipped', 'VBN'),\n",
       " ('naked', 'JJ'),\n",
       " ('in', 'IN'),\n",
       " ('public', 'JJ')]"
      ]
     },
     "execution_count": 446,
     "metadata": {},
     "output_type": "execute_result"
    }
   ],
   "source": [
    "title_tags[0]"
   ]
  },
  {
   "cell_type": "code",
   "execution_count": 447,
   "metadata": {},
   "outputs": [],
   "source": [
    "tags_counts = []\n",
    "for row in title_tags:\n",
    "    tags = [n[1] for n in row]\n",
    "    tags_counts.append(tags)"
   ]
  },
  {
   "cell_type": "code",
   "execution_count": 448,
   "metadata": {},
   "outputs": [],
   "source": [
    "title_parts_of_speech = []\n",
    "for n in tags_counts:\n",
    "    foo = dict(pd.Series(n).value_counts(normalize=True))\n",
    "    title_parts_of_speech.append(foo)"
   ]
  },
  {
   "cell_type": "code",
   "execution_count": 449,
   "metadata": {},
   "outputs": [],
   "source": [
    "title_parts_of_speech = pd.DataFrame(title_parts_of_speech).fillna(0)"
   ]
  },
  {
   "cell_type": "code",
   "execution_count": 450,
   "metadata": {},
   "outputs": [
    {
     "data": {
      "text/html": [
       "<div>\n",
       "<style scoped>\n",
       "    .dataframe tbody tr th:only-of-type {\n",
       "        vertical-align: middle;\n",
       "    }\n",
       "\n",
       "    .dataframe tbody tr th {\n",
       "        vertical-align: top;\n",
       "    }\n",
       "\n",
       "    .dataframe thead th {\n",
       "        text-align: right;\n",
       "    }\n",
       "</style>\n",
       "<table border=\"1\" class=\"dataframe\">\n",
       "  <thead>\n",
       "    <tr style=\"text-align: right;\">\n",
       "      <th></th>\n",
       "      <th>CC</th>\n",
       "      <th>CD</th>\n",
       "      <th>DT</th>\n",
       "      <th>EX</th>\n",
       "      <th>FW</th>\n",
       "      <th>IN</th>\n",
       "      <th>JJ</th>\n",
       "      <th>JJR</th>\n",
       "      <th>JJS</th>\n",
       "      <th>MD</th>\n",
       "      <th>...</th>\n",
       "      <th>VB</th>\n",
       "      <th>VBD</th>\n",
       "      <th>VBG</th>\n",
       "      <th>VBN</th>\n",
       "      <th>VBP</th>\n",
       "      <th>VBZ</th>\n",
       "      <th>WDT</th>\n",
       "      <th>WP</th>\n",
       "      <th>WP$</th>\n",
       "      <th>WRB</th>\n",
       "    </tr>\n",
       "  </thead>\n",
       "  <tbody>\n",
       "    <tr>\n",
       "      <th>0</th>\n",
       "      <td>0.0</td>\n",
       "      <td>0.0</td>\n",
       "      <td>0.0</td>\n",
       "      <td>0.0</td>\n",
       "      <td>0.0</td>\n",
       "      <td>0.083333</td>\n",
       "      <td>0.250000</td>\n",
       "      <td>0.0</td>\n",
       "      <td>0.0</td>\n",
       "      <td>0.083333</td>\n",
       "      <td>...</td>\n",
       "      <td>0.083333</td>\n",
       "      <td>0.0</td>\n",
       "      <td>0.083333</td>\n",
       "      <td>0.166667</td>\n",
       "      <td>0.0</td>\n",
       "      <td>0.0</td>\n",
       "      <td>0.0</td>\n",
       "      <td>0.0</td>\n",
       "      <td>0.0</td>\n",
       "      <td>0.0</td>\n",
       "    </tr>\n",
       "    <tr>\n",
       "      <th>1</th>\n",
       "      <td>0.0</td>\n",
       "      <td>0.0</td>\n",
       "      <td>0.0</td>\n",
       "      <td>0.0</td>\n",
       "      <td>0.0</td>\n",
       "      <td>0.083333</td>\n",
       "      <td>0.250000</td>\n",
       "      <td>0.0</td>\n",
       "      <td>0.0</td>\n",
       "      <td>0.083333</td>\n",
       "      <td>...</td>\n",
       "      <td>0.083333</td>\n",
       "      <td>0.0</td>\n",
       "      <td>0.083333</td>\n",
       "      <td>0.000000</td>\n",
       "      <td>0.0</td>\n",
       "      <td>0.0</td>\n",
       "      <td>0.0</td>\n",
       "      <td>0.0</td>\n",
       "      <td>0.0</td>\n",
       "      <td>0.0</td>\n",
       "    </tr>\n",
       "    <tr>\n",
       "      <th>2</th>\n",
       "      <td>0.0</td>\n",
       "      <td>0.0</td>\n",
       "      <td>0.0</td>\n",
       "      <td>0.0</td>\n",
       "      <td>0.0</td>\n",
       "      <td>0.000000</td>\n",
       "      <td>0.363636</td>\n",
       "      <td>0.0</td>\n",
       "      <td>0.0</td>\n",
       "      <td>0.000000</td>\n",
       "      <td>...</td>\n",
       "      <td>0.090909</td>\n",
       "      <td>0.0</td>\n",
       "      <td>0.000000</td>\n",
       "      <td>0.000000</td>\n",
       "      <td>0.0</td>\n",
       "      <td>0.0</td>\n",
       "      <td>0.0</td>\n",
       "      <td>0.0</td>\n",
       "      <td>0.0</td>\n",
       "      <td>0.0</td>\n",
       "    </tr>\n",
       "    <tr>\n",
       "      <th>3</th>\n",
       "      <td>0.0</td>\n",
       "      <td>0.0</td>\n",
       "      <td>0.0</td>\n",
       "      <td>0.0</td>\n",
       "      <td>0.0</td>\n",
       "      <td>0.142857</td>\n",
       "      <td>0.142857</td>\n",
       "      <td>0.0</td>\n",
       "      <td>0.0</td>\n",
       "      <td>0.000000</td>\n",
       "      <td>...</td>\n",
       "      <td>0.285714</td>\n",
       "      <td>0.0</td>\n",
       "      <td>0.000000</td>\n",
       "      <td>0.000000</td>\n",
       "      <td>0.0</td>\n",
       "      <td>0.0</td>\n",
       "      <td>0.0</td>\n",
       "      <td>0.0</td>\n",
       "      <td>0.0</td>\n",
       "      <td>0.0</td>\n",
       "    </tr>\n",
       "    <tr>\n",
       "      <th>4</th>\n",
       "      <td>0.0</td>\n",
       "      <td>0.0</td>\n",
       "      <td>0.1</td>\n",
       "      <td>0.0</td>\n",
       "      <td>0.0</td>\n",
       "      <td>0.300000</td>\n",
       "      <td>0.100000</td>\n",
       "      <td>0.0</td>\n",
       "      <td>0.0</td>\n",
       "      <td>0.000000</td>\n",
       "      <td>...</td>\n",
       "      <td>0.000000</td>\n",
       "      <td>0.0</td>\n",
       "      <td>0.000000</td>\n",
       "      <td>0.000000</td>\n",
       "      <td>0.0</td>\n",
       "      <td>0.0</td>\n",
       "      <td>0.0</td>\n",
       "      <td>0.0</td>\n",
       "      <td>0.0</td>\n",
       "      <td>0.0</td>\n",
       "    </tr>\n",
       "  </tbody>\n",
       "</table>\n",
       "<p>5 rows × 35 columns</p>\n",
       "</div>"
      ],
      "text/plain": [
       "    CC   CD   DT   EX   FW        IN        JJ  JJR  JJS        MD ...   \\\n",
       "0  0.0  0.0  0.0  0.0  0.0  0.083333  0.250000  0.0  0.0  0.083333 ...    \n",
       "1  0.0  0.0  0.0  0.0  0.0  0.083333  0.250000  0.0  0.0  0.083333 ...    \n",
       "2  0.0  0.0  0.0  0.0  0.0  0.000000  0.363636  0.0  0.0  0.000000 ...    \n",
       "3  0.0  0.0  0.0  0.0  0.0  0.142857  0.142857  0.0  0.0  0.000000 ...    \n",
       "4  0.0  0.0  0.1  0.0  0.0  0.300000  0.100000  0.0  0.0  0.000000 ...    \n",
       "\n",
       "         VB  VBD       VBG       VBN  VBP  VBZ  WDT   WP  WP$  WRB  \n",
       "0  0.083333  0.0  0.083333  0.166667  0.0  0.0  0.0  0.0  0.0  0.0  \n",
       "1  0.083333  0.0  0.083333  0.000000  0.0  0.0  0.0  0.0  0.0  0.0  \n",
       "2  0.090909  0.0  0.000000  0.000000  0.0  0.0  0.0  0.0  0.0  0.0  \n",
       "3  0.285714  0.0  0.000000  0.000000  0.0  0.0  0.0  0.0  0.0  0.0  \n",
       "4  0.000000  0.0  0.000000  0.000000  0.0  0.0  0.0  0.0  0.0  0.0  \n",
       "\n",
       "[5 rows x 35 columns]"
      ]
     },
     "execution_count": 450,
     "metadata": {},
     "output_type": "execute_result"
    }
   ],
   "source": [
    "title_parts_of_speech.head()"
   ]
  },
  {
   "cell_type": "code",
   "execution_count": 451,
   "metadata": {},
   "outputs": [
    {
     "data": {
      "text/plain": [
       "[0.14285714285714285,\n",
       " 0.29642857142857143,\n",
       " 1.4419413919413919,\n",
       " 1.711311787627577,\n",
       " 4.1597045927928278,\n",
       " 10.43336318394368,\n",
       " 12.412833408421644,\n",
       " 12.606152791137312,\n",
       " 21.882508510581268,\n",
       " 26.23270679550572]"
      ]
     },
     "execution_count": 451,
     "metadata": {},
     "output_type": "execute_result"
    }
   ],
   "source": [
    "sorted([title_parts_of_speech[col].sum() for col in title_parts_of_speech.columns])[:10]\n",
    "# Any columns with negligible values?"
   ]
  },
  {
   "cell_type": "code",
   "execution_count": 452,
   "metadata": {},
   "outputs": [],
   "source": [
    "title_parts_of_speech.columns = [str(n) + '_title' for n in title_parts_of_speech.columns]"
   ]
  },
  {
   "cell_type": "code",
   "execution_count": 453,
   "metadata": {},
   "outputs": [
    {
     "data": {
      "text/html": [
       "<div>\n",
       "<style scoped>\n",
       "    .dataframe tbody tr th:only-of-type {\n",
       "        vertical-align: middle;\n",
       "    }\n",
       "\n",
       "    .dataframe tbody tr th {\n",
       "        vertical-align: top;\n",
       "    }\n",
       "\n",
       "    .dataframe thead th {\n",
       "        text-align: right;\n",
       "    }\n",
       "</style>\n",
       "<table border=\"1\" class=\"dataframe\">\n",
       "  <thead>\n",
       "    <tr style=\"text-align: right;\">\n",
       "      <th></th>\n",
       "      <th>count</th>\n",
       "      <th>mean</th>\n",
       "      <th>std</th>\n",
       "      <th>min</th>\n",
       "      <th>25%</th>\n",
       "      <th>50%</th>\n",
       "      <th>75%</th>\n",
       "      <th>max</th>\n",
       "    </tr>\n",
       "  </thead>\n",
       "  <tbody>\n",
       "    <tr>\n",
       "      <th>NN_title</th>\n",
       "      <td>36854.0</td>\n",
       "      <td>0.342739</td>\n",
       "      <td>0.162052</td>\n",
       "      <td>0.0</td>\n",
       "      <td>0.230769</td>\n",
       "      <td>0.333333</td>\n",
       "      <td>0.444444</td>\n",
       "      <td>1.000000</td>\n",
       "    </tr>\n",
       "    <tr>\n",
       "      <th>JJ_title</th>\n",
       "      <td>36854.0</td>\n",
       "      <td>0.119757</td>\n",
       "      <td>0.104867</td>\n",
       "      <td>0.0</td>\n",
       "      <td>0.000000</td>\n",
       "      <td>0.111111</td>\n",
       "      <td>0.181818</td>\n",
       "      <td>1.000000</td>\n",
       "    </tr>\n",
       "    <tr>\n",
       "      <th>IN_title</th>\n",
       "      <td>36854.0</td>\n",
       "      <td>0.096853</td>\n",
       "      <td>0.079797</td>\n",
       "      <td>0.0</td>\n",
       "      <td>0.000000</td>\n",
       "      <td>0.100000</td>\n",
       "      <td>0.142857</td>\n",
       "      <td>0.666667</td>\n",
       "    </tr>\n",
       "    <tr>\n",
       "      <th>NNS_title</th>\n",
       "      <td>36854.0</td>\n",
       "      <td>0.095445</td>\n",
       "      <td>0.100312</td>\n",
       "      <td>0.0</td>\n",
       "      <td>0.000000</td>\n",
       "      <td>0.090909</td>\n",
       "      <td>0.153846</td>\n",
       "      <td>1.000000</td>\n",
       "    </tr>\n",
       "    <tr>\n",
       "      <th>DT_title</th>\n",
       "      <td>36854.0</td>\n",
       "      <td>0.045575</td>\n",
       "      <td>0.070313</td>\n",
       "      <td>0.0</td>\n",
       "      <td>0.000000</td>\n",
       "      <td>0.000000</td>\n",
       "      <td>0.090909</td>\n",
       "      <td>0.500000</td>\n",
       "    </tr>\n",
       "  </tbody>\n",
       "</table>\n",
       "</div>"
      ],
      "text/plain": [
       "             count      mean       std  min       25%       50%       75%  \\\n",
       "NN_title   36854.0  0.342739  0.162052  0.0  0.230769  0.333333  0.444444   \n",
       "JJ_title   36854.0  0.119757  0.104867  0.0  0.000000  0.111111  0.181818   \n",
       "IN_title   36854.0  0.096853  0.079797  0.0  0.000000  0.100000  0.142857   \n",
       "NNS_title  36854.0  0.095445  0.100312  0.0  0.000000  0.090909  0.153846   \n",
       "DT_title   36854.0  0.045575  0.070313  0.0  0.000000  0.000000  0.090909   \n",
       "\n",
       "                max  \n",
       "NN_title   1.000000  \n",
       "JJ_title   1.000000  \n",
       "IN_title   0.666667  \n",
       "NNS_title  1.000000  \n",
       "DT_title   0.500000  "
      ]
     },
     "execution_count": 453,
     "metadata": {},
     "output_type": "execute_result"
    }
   ],
   "source": [
    "title_parts_of_speech.describe().T.sort_values('mean', ascending=False).head()"
   ]
  },
  {
   "cell_type": "code",
   "execution_count": 454,
   "metadata": {},
   "outputs": [],
   "source": [
    "desc_tags = [TextBlob(w, tokenizer=tokenizer).tags for w in text.description]"
   ]
  },
  {
   "cell_type": "code",
   "execution_count": 455,
   "metadata": {},
   "outputs": [],
   "source": [
    "tags_counts = []\n",
    "for row in desc_tags:\n",
    "    tags = [n[1] for n in row]\n",
    "    tags_counts.append(tags)"
   ]
  },
  {
   "cell_type": "code",
   "execution_count": 456,
   "metadata": {},
   "outputs": [],
   "source": [
    "desc_parts_of_speech = []\n",
    "for n in tags_counts:\n",
    "    foo = dict(pd.Series(n).value_counts(normalize=True))\n",
    "    desc_parts_of_speech.append(foo)"
   ]
  },
  {
   "cell_type": "code",
   "execution_count": 457,
   "metadata": {},
   "outputs": [],
   "source": [
    "desc_parts_of_speech = pd.DataFrame(desc_parts_of_speech).fillna(0)"
   ]
  },
  {
   "cell_type": "code",
   "execution_count": 458,
   "metadata": {},
   "outputs": [
    {
     "data": {
      "text/html": [
       "<div>\n",
       "<style scoped>\n",
       "    .dataframe tbody tr th:only-of-type {\n",
       "        vertical-align: middle;\n",
       "    }\n",
       "\n",
       "    .dataframe tbody tr th {\n",
       "        vertical-align: top;\n",
       "    }\n",
       "\n",
       "    .dataframe thead th {\n",
       "        text-align: right;\n",
       "    }\n",
       "</style>\n",
       "<table border=\"1\" class=\"dataframe\">\n",
       "  <thead>\n",
       "    <tr style=\"text-align: right;\">\n",
       "      <th></th>\n",
       "      <th>CC</th>\n",
       "      <th>CD</th>\n",
       "      <th>DT</th>\n",
       "      <th>EX</th>\n",
       "      <th>FW</th>\n",
       "      <th>IN</th>\n",
       "      <th>JJ</th>\n",
       "      <th>JJR</th>\n",
       "      <th>JJS</th>\n",
       "      <th>LS</th>\n",
       "      <th>...</th>\n",
       "      <th>VB</th>\n",
       "      <th>VBD</th>\n",
       "      <th>VBG</th>\n",
       "      <th>VBN</th>\n",
       "      <th>VBP</th>\n",
       "      <th>VBZ</th>\n",
       "      <th>WDT</th>\n",
       "      <th>WP</th>\n",
       "      <th>WP$</th>\n",
       "      <th>WRB</th>\n",
       "    </tr>\n",
       "  </thead>\n",
       "  <tbody>\n",
       "    <tr>\n",
       "      <th>0</th>\n",
       "      <td>0.000000</td>\n",
       "      <td>0.0</td>\n",
       "      <td>0.068182</td>\n",
       "      <td>0.0</td>\n",
       "      <td>0.0</td>\n",
       "      <td>0.090909</td>\n",
       "      <td>0.022727</td>\n",
       "      <td>0.0</td>\n",
       "      <td>0.000000</td>\n",
       "      <td>0.0</td>\n",
       "      <td>...</td>\n",
       "      <td>0.022727</td>\n",
       "      <td>0.068182</td>\n",
       "      <td>0.045455</td>\n",
       "      <td>0.022727</td>\n",
       "      <td>0.000000</td>\n",
       "      <td>0.000000</td>\n",
       "      <td>0.0</td>\n",
       "      <td>0.022727</td>\n",
       "      <td>0.0</td>\n",
       "      <td>0.0</td>\n",
       "    </tr>\n",
       "    <tr>\n",
       "      <th>1</th>\n",
       "      <td>0.040000</td>\n",
       "      <td>0.0</td>\n",
       "      <td>0.000000</td>\n",
       "      <td>0.0</td>\n",
       "      <td>0.0</td>\n",
       "      <td>0.080000</td>\n",
       "      <td>0.080000</td>\n",
       "      <td>0.0</td>\n",
       "      <td>0.000000</td>\n",
       "      <td>0.0</td>\n",
       "      <td>...</td>\n",
       "      <td>0.000000</td>\n",
       "      <td>0.000000</td>\n",
       "      <td>0.160000</td>\n",
       "      <td>0.040000</td>\n",
       "      <td>0.000000</td>\n",
       "      <td>0.040000</td>\n",
       "      <td>0.0</td>\n",
       "      <td>0.000000</td>\n",
       "      <td>0.0</td>\n",
       "      <td>0.0</td>\n",
       "    </tr>\n",
       "    <tr>\n",
       "      <th>2</th>\n",
       "      <td>0.040000</td>\n",
       "      <td>0.0</td>\n",
       "      <td>0.120000</td>\n",
       "      <td>0.0</td>\n",
       "      <td>0.0</td>\n",
       "      <td>0.100000</td>\n",
       "      <td>0.060000</td>\n",
       "      <td>0.0</td>\n",
       "      <td>0.000000</td>\n",
       "      <td>0.0</td>\n",
       "      <td>...</td>\n",
       "      <td>0.080000</td>\n",
       "      <td>0.020000</td>\n",
       "      <td>0.060000</td>\n",
       "      <td>0.020000</td>\n",
       "      <td>0.100000</td>\n",
       "      <td>0.040000</td>\n",
       "      <td>0.0</td>\n",
       "      <td>0.000000</td>\n",
       "      <td>0.0</td>\n",
       "      <td>0.0</td>\n",
       "    </tr>\n",
       "    <tr>\n",
       "      <th>3</th>\n",
       "      <td>0.035714</td>\n",
       "      <td>0.0</td>\n",
       "      <td>0.107143</td>\n",
       "      <td>0.0</td>\n",
       "      <td>0.0</td>\n",
       "      <td>0.107143</td>\n",
       "      <td>0.142857</td>\n",
       "      <td>0.0</td>\n",
       "      <td>0.000000</td>\n",
       "      <td>0.0</td>\n",
       "      <td>...</td>\n",
       "      <td>0.071429</td>\n",
       "      <td>0.035714</td>\n",
       "      <td>0.071429</td>\n",
       "      <td>0.000000</td>\n",
       "      <td>0.000000</td>\n",
       "      <td>0.035714</td>\n",
       "      <td>0.0</td>\n",
       "      <td>0.000000</td>\n",
       "      <td>0.0</td>\n",
       "      <td>0.0</td>\n",
       "    </tr>\n",
       "    <tr>\n",
       "      <th>4</th>\n",
       "      <td>0.000000</td>\n",
       "      <td>0.0</td>\n",
       "      <td>0.085714</td>\n",
       "      <td>0.0</td>\n",
       "      <td>0.0</td>\n",
       "      <td>0.114286</td>\n",
       "      <td>0.114286</td>\n",
       "      <td>0.0</td>\n",
       "      <td>0.028571</td>\n",
       "      <td>0.0</td>\n",
       "      <td>...</td>\n",
       "      <td>0.000000</td>\n",
       "      <td>0.028571</td>\n",
       "      <td>0.057143</td>\n",
       "      <td>0.028571</td>\n",
       "      <td>0.057143</td>\n",
       "      <td>0.000000</td>\n",
       "      <td>0.0</td>\n",
       "      <td>0.000000</td>\n",
       "      <td>0.0</td>\n",
       "      <td>0.0</td>\n",
       "    </tr>\n",
       "  </tbody>\n",
       "</table>\n",
       "<p>5 rows × 36 columns</p>\n",
       "</div>"
      ],
      "text/plain": [
       "         CC   CD        DT   EX   FW        IN        JJ  JJR       JJS   LS  \\\n",
       "0  0.000000  0.0  0.068182  0.0  0.0  0.090909  0.022727  0.0  0.000000  0.0   \n",
       "1  0.040000  0.0  0.000000  0.0  0.0  0.080000  0.080000  0.0  0.000000  0.0   \n",
       "2  0.040000  0.0  0.120000  0.0  0.0  0.100000  0.060000  0.0  0.000000  0.0   \n",
       "3  0.035714  0.0  0.107143  0.0  0.0  0.107143  0.142857  0.0  0.000000  0.0   \n",
       "4  0.000000  0.0  0.085714  0.0  0.0  0.114286  0.114286  0.0  0.028571  0.0   \n",
       "\n",
       "  ...         VB       VBD       VBG       VBN       VBP       VBZ  WDT  \\\n",
       "0 ...   0.022727  0.068182  0.045455  0.022727  0.000000  0.000000  0.0   \n",
       "1 ...   0.000000  0.000000  0.160000  0.040000  0.000000  0.040000  0.0   \n",
       "2 ...   0.080000  0.020000  0.060000  0.020000  0.100000  0.040000  0.0   \n",
       "3 ...   0.071429  0.035714  0.071429  0.000000  0.000000  0.035714  0.0   \n",
       "4 ...   0.000000  0.028571  0.057143  0.028571  0.057143  0.000000  0.0   \n",
       "\n",
       "         WP  WP$  WRB  \n",
       "0  0.022727  0.0  0.0  \n",
       "1  0.000000  0.0  0.0  \n",
       "2  0.000000  0.0  0.0  \n",
       "3  0.000000  0.0  0.0  \n",
       "4  0.000000  0.0  0.0  \n",
       "\n",
       "[5 rows x 36 columns]"
      ]
     },
     "execution_count": 458,
     "metadata": {},
     "output_type": "execute_result"
    }
   ],
   "source": [
    "desc_parts_of_speech.head()"
   ]
  },
  {
   "cell_type": "code",
   "execution_count": 459,
   "metadata": {},
   "outputs": [],
   "source": [
    "desc_parts_of_speech.columns = [str(n) + '_desc' for n in desc_parts_of_speech.columns]"
   ]
  },
  {
   "cell_type": "code",
   "execution_count": 460,
   "metadata": {},
   "outputs": [
    {
     "data": {
      "text/plain": [
       "True"
      ]
     },
     "execution_count": 460,
     "metadata": {},
     "output_type": "execute_result"
    }
   ],
   "source": [
    "desc_parts_of_speech.shape[0] == title_parts_of_speech.shape[0]"
   ]
  },
  {
   "cell_type": "code",
   "execution_count": 461,
   "metadata": {},
   "outputs": [],
   "source": [
    "pos_tags = pd.concat([title_parts_of_speech, desc_parts_of_speech], axis=1)"
   ]
  },
  {
   "cell_type": "code",
   "execution_count": 462,
   "metadata": {},
   "outputs": [
    {
     "data": {
      "text/plain": [
       "Index(['author', 'description', 'publishedAt', 'source', 'title', 'url',\n",
       "       'yes_right', 'combined', 'avg_word_len_title', 'title_polarity',\n",
       "       'title_subjectivity', 'desc_polarity', 'desc_subjectivity',\n",
       "       'subj_difference', 'polarity_difference'],\n",
       "      dtype='object')"
      ]
     },
     "execution_count": 462,
     "metadata": {},
     "output_type": "execute_result"
    }
   ],
   "source": [
    "text.columns"
   ]
  },
  {
   "cell_type": "code",
   "execution_count": 463,
   "metadata": {},
   "outputs": [
    {
     "data": {
      "text/html": [
       "<div>\n",
       "<style scoped>\n",
       "    .dataframe tbody tr th:only-of-type {\n",
       "        vertical-align: middle;\n",
       "    }\n",
       "\n",
       "    .dataframe tbody tr th {\n",
       "        vertical-align: top;\n",
       "    }\n",
       "\n",
       "    .dataframe thead th {\n",
       "        text-align: right;\n",
       "    }\n",
       "</style>\n",
       "<table border=\"1\" class=\"dataframe\">\n",
       "  <thead>\n",
       "    <tr style=\"text-align: right;\">\n",
       "      <th></th>\n",
       "      <th>title_polarity</th>\n",
       "      <th>title_subjectivity</th>\n",
       "      <th>desc_polarity</th>\n",
       "      <th>desc_subjectivity</th>\n",
       "      <th>subj_difference</th>\n",
       "      <th>polarity_difference</th>\n",
       "      <th>avg_word_len_title</th>\n",
       "      <th>CC_title</th>\n",
       "      <th>CD_title</th>\n",
       "      <th>DT_title</th>\n",
       "      <th>...</th>\n",
       "      <th>VBD_desc</th>\n",
       "      <th>VBG_desc</th>\n",
       "      <th>VBN_desc</th>\n",
       "      <th>VBP_desc</th>\n",
       "      <th>VBZ_desc</th>\n",
       "      <th>WDT_desc</th>\n",
       "      <th>WP_desc</th>\n",
       "      <th>WP$_desc</th>\n",
       "      <th>WRB_desc</th>\n",
       "      <th>yes_right</th>\n",
       "    </tr>\n",
       "  </thead>\n",
       "  <tbody>\n",
       "    <tr>\n",
       "      <th>0</th>\n",
       "      <td>0.50</td>\n",
       "      <td>0.233333</td>\n",
       "      <td>0.500000</td>\n",
       "      <td>0.000000</td>\n",
       "      <td>0.233333</td>\n",
       "      <td>0.000000</td>\n",
       "      <td>5.166667</td>\n",
       "      <td>0.0</td>\n",
       "      <td>0.0</td>\n",
       "      <td>0.0</td>\n",
       "      <td>...</td>\n",
       "      <td>0.068182</td>\n",
       "      <td>0.045455</td>\n",
       "      <td>0.022727</td>\n",
       "      <td>0.0</td>\n",
       "      <td>0.00</td>\n",
       "      <td>0.0</td>\n",
       "      <td>0.022727</td>\n",
       "      <td>0.0</td>\n",
       "      <td>0.0</td>\n",
       "      <td>1</td>\n",
       "    </tr>\n",
       "    <tr>\n",
       "      <th>1</th>\n",
       "      <td>0.25</td>\n",
       "      <td>0.900000</td>\n",
       "      <td>0.250000</td>\n",
       "      <td>0.650000</td>\n",
       "      <td>0.250000</td>\n",
       "      <td>0.000000</td>\n",
       "      <td>5.750000</td>\n",
       "      <td>0.0</td>\n",
       "      <td>0.0</td>\n",
       "      <td>0.0</td>\n",
       "      <td>...</td>\n",
       "      <td>0.000000</td>\n",
       "      <td>0.160000</td>\n",
       "      <td>0.040000</td>\n",
       "      <td>0.0</td>\n",
       "      <td>0.04</td>\n",
       "      <td>0.0</td>\n",
       "      <td>0.000000</td>\n",
       "      <td>0.0</td>\n",
       "      <td>0.0</td>\n",
       "      <td>1</td>\n",
       "    </tr>\n",
       "    <tr>\n",
       "      <th>2</th>\n",
       "      <td>0.40</td>\n",
       "      <td>0.300000</td>\n",
       "      <td>0.555417</td>\n",
       "      <td>0.666667</td>\n",
       "      <td>-0.366667</td>\n",
       "      <td>-0.155417</td>\n",
       "      <td>6.545455</td>\n",
       "      <td>0.0</td>\n",
       "      <td>0.0</td>\n",
       "      <td>0.0</td>\n",
       "      <td>...</td>\n",
       "      <td>0.020000</td>\n",
       "      <td>0.060000</td>\n",
       "      <td>0.020000</td>\n",
       "      <td>0.1</td>\n",
       "      <td>0.04</td>\n",
       "      <td>0.0</td>\n",
       "      <td>0.000000</td>\n",
       "      <td>0.0</td>\n",
       "      <td>0.0</td>\n",
       "      <td>1</td>\n",
       "    </tr>\n",
       "  </tbody>\n",
       "</table>\n",
       "<p>3 rows × 79 columns</p>\n",
       "</div>"
      ],
      "text/plain": [
       "   title_polarity  title_subjectivity  desc_polarity  desc_subjectivity  \\\n",
       "0            0.50            0.233333       0.500000           0.000000   \n",
       "1            0.25            0.900000       0.250000           0.650000   \n",
       "2            0.40            0.300000       0.555417           0.666667   \n",
       "\n",
       "   subj_difference  polarity_difference  avg_word_len_title  CC_title  \\\n",
       "0         0.233333             0.000000            5.166667       0.0   \n",
       "1         0.250000             0.000000            5.750000       0.0   \n",
       "2        -0.366667            -0.155417            6.545455       0.0   \n",
       "\n",
       "   CD_title  DT_title    ...      VBD_desc  VBG_desc  VBN_desc  VBP_desc  \\\n",
       "0       0.0       0.0    ...      0.068182  0.045455  0.022727       0.0   \n",
       "1       0.0       0.0    ...      0.000000  0.160000  0.040000       0.0   \n",
       "2       0.0       0.0    ...      0.020000  0.060000  0.020000       0.1   \n",
       "\n",
       "   VBZ_desc  WDT_desc   WP_desc  WP$_desc  WRB_desc  yes_right  \n",
       "0      0.00       0.0  0.022727       0.0       0.0          1  \n",
       "1      0.04       0.0  0.000000       0.0       0.0          1  \n",
       "2      0.04       0.0  0.000000       0.0       0.0          1  \n",
       "\n",
       "[3 rows x 79 columns]"
      ]
     },
     "execution_count": 463,
     "metadata": {},
     "output_type": "execute_result"
    }
   ],
   "source": [
    "df = pd.concat([text[['title_polarity', 'title_subjectivity', 'desc_polarity', 'desc_subjectivity', \n",
    "                      'subj_difference', 'polarity_difference', 'avg_word_len_title']], pos_tags, text.yes_right],\n",
    "               axis=1)\n",
    "df.head(3)"
   ]
  },
  {
   "cell_type": "code",
   "execution_count": 464,
   "metadata": {},
   "outputs": [
    {
     "data": {
      "text/html": [
       "<div>\n",
       "<style scoped>\n",
       "    .dataframe tbody tr th:only-of-type {\n",
       "        vertical-align: middle;\n",
       "    }\n",
       "\n",
       "    .dataframe tbody tr th {\n",
       "        vertical-align: top;\n",
       "    }\n",
       "\n",
       "    .dataframe thead th {\n",
       "        text-align: right;\n",
       "    }\n",
       "</style>\n",
       "<table border=\"1\" class=\"dataframe\">\n",
       "  <thead>\n",
       "    <tr style=\"text-align: right;\">\n",
       "      <th></th>\n",
       "      <th>count</th>\n",
       "      <th>mean</th>\n",
       "      <th>std</th>\n",
       "      <th>min</th>\n",
       "      <th>25%</th>\n",
       "      <th>50%</th>\n",
       "      <th>75%</th>\n",
       "      <th>max</th>\n",
       "    </tr>\n",
       "  </thead>\n",
       "  <tbody>\n",
       "    <tr>\n",
       "      <th>subj_difference</th>\n",
       "      <td>36854.0</td>\n",
       "      <td>-0.094585</td>\n",
       "      <td>0.383312</td>\n",
       "      <td>-1.0</td>\n",
       "      <td>-0.350000</td>\n",
       "      <td>-0.041667</td>\n",
       "      <td>0.065054</td>\n",
       "      <td>1.0</td>\n",
       "    </tr>\n",
       "    <tr>\n",
       "      <th>polarity_difference</th>\n",
       "      <td>36854.0</td>\n",
       "      <td>-0.015980</td>\n",
       "      <td>0.147941</td>\n",
       "      <td>-1.0</td>\n",
       "      <td>-0.083333</td>\n",
       "      <td>0.000000</td>\n",
       "      <td>0.038194</td>\n",
       "      <td>0.9</td>\n",
       "    </tr>\n",
       "  </tbody>\n",
       "</table>\n",
       "</div>"
      ],
      "text/plain": [
       "                       count      mean       std  min       25%       50%  \\\n",
       "subj_difference      36854.0 -0.094585  0.383312 -1.0 -0.350000 -0.041667   \n",
       "polarity_difference  36854.0 -0.015980  0.147941 -1.0 -0.083333  0.000000   \n",
       "\n",
       "                          75%  max  \n",
       "subj_difference      0.065054  1.0  \n",
       "polarity_difference  0.038194  0.9  "
      ]
     },
     "execution_count": 464,
     "metadata": {},
     "output_type": "execute_result"
    }
   ],
   "source": [
    "df[['subj_difference','polarity_difference']].describe().T"
   ]
  },
  {
   "cell_type": "code",
   "execution_count": 465,
   "metadata": {},
   "outputs": [
    {
     "name": "stdout",
     "output_type": "stream",
     "text": [
      "subj_difference\n",
      "polarity_difference\n",
      "avg_word_len_title\n"
     ]
    }
   ],
   "source": [
    "def scaled_checker(df):\n",
    "    for col in df.columns:\n",
    "        if max(df[col]) > 1:\n",
    "            print(col)\n",
    "        if min(df[col]) < 0:\n",
    "            print(col)\n",
    "        else:\n",
    "            pass\n",
    "        \n",
    "scaled_checker(df)"
   ]
  },
  {
   "cell_type": "code",
   "execution_count": 466,
   "metadata": {},
   "outputs": [],
   "source": [
    "df['subj_difference'] = (df['subj_difference'] - min(df['subj_difference']))/(max(df['subj_difference'])-min(df['subj_difference']))\n",
    "df['polarity_difference'] = (df['polarity_difference'] - min(df['polarity_difference']))/(max(df['polarity_difference'])-min(df['polarity_difference']))\n",
    "df['avg_word_len_title'] = (df['avg_word_len_title'] - min(df['avg_word_len_title']))/(max(df['avg_word_len_title'])-min(df['avg_word_len_title']))\n"
   ]
  },
  {
   "cell_type": "code",
   "execution_count": 467,
   "metadata": {},
   "outputs": [],
   "source": [
    "scaled_checker(df) # numerical data is scaled"
   ]
  },
  {
   "cell_type": "code",
   "execution_count": 469,
   "metadata": {},
   "outputs": [],
   "source": [
    "text.to_csv('./text2.csv')\n",
    "df.to_csv('./df2.csv')"
   ]
  },
  {
   "cell_type": "markdown",
   "metadata": {},
   "source": [
    "<a id=\"explore-data\"></a>\n",
    "# Explore Data\n",
    "[Return to Index](#contents)"
   ]
  },
  {
   "cell_type": "code",
   "execution_count": 175,
   "metadata": {},
   "outputs": [
    {
     "data": {
      "image/png": "[encoded data removed]",
      "text/plain": [
       "<Figure size 1080x576 with 2 Axes>"
      ]
     },
     "metadata": {},
     "output_type": "display_data"
    }
   ],
   "source": [
    "num_corrs = df[['title_polarity','title_subjectivity','desc_polarity','desc_subjectivity',\n",
    "                'subj_difference','polarity_difference', 'avg_word_len_title','yes_right']].corr()\n",
    "mask = np.zeros_like(num_corrs, dtype=np.bool)\n",
    "mask[np.triu_indices_from(mask)] = True\n",
    "plt.figure(figsize=(15,8))\n",
    "plt.title('Correlations Between Sentiment Analysis Features and Target', fontsize=20)\n",
    "sns.heatmap(num_corrs, linewidths=0.5, mask=mask, annot=True);\n",
    "# Very insignificant "
   ]
  },
  {
   "cell_type": "code",
   "execution_count": 180,
   "metadata": {},
   "outputs": [],
   "source": [
    "rightwing = df[df.yes_right==1]\n",
    "notrightwing = df[df.yes_right==0]"
   ]
  },
  {
   "cell_type": "code",
   "execution_count": 182,
   "metadata": {},
   "outputs": [
    {
     "data": {
      "image/png": "[encoded data removed]",
      "text/plain": [
       "<Figure size 864x576 with 4 Axes>"
      ]
     },
     "metadata": {},
     "output_type": "display_data"
    }
   ],
   "source": [
    "figure, ax = plt.subplots(nrows=2, ncols=2, figsize=(12, 8))\n",
    "\n",
    "rightwing.title_polarity.plot(kind='hist', ax=ax[0,1], title='Title Polarity: Right')\n",
    "notrightwing.title_polarity.plot(kind='hist', ax=ax[0,0], title='Title Polarity: Not Right')\n",
    "notrightwing.desc_polarity.plot(kind='hist', ax=ax[1,0], title='Description Polarity: Not Right')\n",
    "rightwing.desc_polarity.plot(kind='hist', ax=ax[1,1], title='Description Polarity: Right');"
   ]
  },
  {
   "cell_type": "code",
   "execution_count": 188,
   "metadata": {},
   "outputs": [
    {
     "data": {
      "image/png": "[encoded data removed]",
      "text/plain": [
       "<Figure size 864x576 with 4 Axes>"
      ]
     },
     "metadata": {},
     "output_type": "display_data"
    }
   ],
   "source": [
    "figure, ax = plt.subplots(nrows=2, ncols=2, figsize=(12, 8))\n",
    "\n",
    "rightwing.title_subjectivity.plot(kind='hist', ax=ax[0,1], title='Title Subjectivity: Right')\n",
    "notrightwing.title_subjectivity.plot(kind='hist', ax=ax[0,0], title='Title Subjectivity: Not Right')\n",
    "notrightwing.desc_subjectivity.plot(kind='hist', ax=ax[1,0], title='Description Subjectivity: Not Right')\n",
    "rightwing.desc_subjectivity.plot(kind='hist', ax=ax[1,1], title='Description Subjectivity: Right');"
   ]
  },
  {
   "cell_type": "code",
   "execution_count": 185,
   "metadata": {},
   "outputs": [
    {
     "data": {
      "text/html": [
       "<div>\n",
       "<style scoped>\n",
       "    .dataframe tbody tr th:only-of-type {\n",
       "        vertical-align: middle;\n",
       "    }\n",
       "\n",
       "    .dataframe tbody tr th {\n",
       "        vertical-align: top;\n",
       "    }\n",
       "\n",
       "    .dataframe thead th {\n",
       "        text-align: right;\n",
       "    }\n",
       "</style>\n",
       "<table border=\"1\" class=\"dataframe\">\n",
       "  <thead>\n",
       "    <tr style=\"text-align: right;\">\n",
       "      <th></th>\n",
       "      <th>count</th>\n",
       "      <th>mean</th>\n",
       "      <th>std</th>\n",
       "      <th>min</th>\n",
       "      <th>25%</th>\n",
       "      <th>50%</th>\n",
       "      <th>75%</th>\n",
       "      <th>max</th>\n",
       "    </tr>\n",
       "  </thead>\n",
       "  <tbody>\n",
       "    <tr>\n",
       "      <th>title_polarity</th>\n",
       "      <td>17148.0</td>\n",
       "      <td>0.507856</td>\n",
       "      <td>0.113371</td>\n",
       "      <td>0.0</td>\n",
       "      <td>0.500000</td>\n",
       "      <td>0.500000</td>\n",
       "      <td>0.500000</td>\n",
       "      <td>1.000000</td>\n",
       "    </tr>\n",
       "    <tr>\n",
       "      <th>title_subjectivity</th>\n",
       "      <td>17148.0</td>\n",
       "      <td>0.201348</td>\n",
       "      <td>0.296501</td>\n",
       "      <td>0.0</td>\n",
       "      <td>0.000000</td>\n",
       "      <td>0.000000</td>\n",
       "      <td>0.400000</td>\n",
       "      <td>1.000000</td>\n",
       "    </tr>\n",
       "    <tr>\n",
       "      <th>desc_polarity</th>\n",
       "      <td>17148.0</td>\n",
       "      <td>0.524758</td>\n",
       "      <td>0.107297</td>\n",
       "      <td>0.0</td>\n",
       "      <td>0.500000</td>\n",
       "      <td>0.500000</td>\n",
       "      <td>0.568182</td>\n",
       "      <td>1.000000</td>\n",
       "    </tr>\n",
       "    <tr>\n",
       "      <th>desc_subjectivity</th>\n",
       "      <td>17148.0</td>\n",
       "      <td>0.312783</td>\n",
       "      <td>0.270642</td>\n",
       "      <td>0.0</td>\n",
       "      <td>0.000000</td>\n",
       "      <td>0.300000</td>\n",
       "      <td>0.500000</td>\n",
       "      <td>1.000000</td>\n",
       "    </tr>\n",
       "    <tr>\n",
       "      <th>subj_difference</th>\n",
       "      <td>17148.0</td>\n",
       "      <td>0.444283</td>\n",
       "      <td>0.180273</td>\n",
       "      <td>0.0</td>\n",
       "      <td>0.325000</td>\n",
       "      <td>0.478975</td>\n",
       "      <td>0.500000</td>\n",
       "      <td>1.000000</td>\n",
       "    </tr>\n",
       "    <tr>\n",
       "      <th>polarity_difference</th>\n",
       "      <td>17148.0</td>\n",
       "      <td>0.517420</td>\n",
       "      <td>0.070813</td>\n",
       "      <td>0.0</td>\n",
       "      <td>0.488722</td>\n",
       "      <td>0.526316</td>\n",
       "      <td>0.539474</td>\n",
       "      <td>1.000000</td>\n",
       "    </tr>\n",
       "    <tr>\n",
       "      <th>avg_word_len_title</th>\n",
       "      <td>17148.0</td>\n",
       "      <td>0.299787</td>\n",
       "      <td>0.065313</td>\n",
       "      <td>0.0</td>\n",
       "      <td>0.257143</td>\n",
       "      <td>0.294643</td>\n",
       "      <td>0.337662</td>\n",
       "      <td>0.714286</td>\n",
       "    </tr>\n",
       "  </tbody>\n",
       "</table>\n",
       "</div>"
      ],
      "text/plain": [
       "                       count      mean       std  min       25%       50%  \\\n",
       "title_polarity       17148.0  0.507856  0.113371  0.0  0.500000  0.500000   \n",
       "title_subjectivity   17148.0  0.201348  0.296501  0.0  0.000000  0.000000   \n",
       "desc_polarity        17148.0  0.524758  0.107297  0.0  0.500000  0.500000   \n",
       "desc_subjectivity    17148.0  0.312783  0.270642  0.0  0.000000  0.300000   \n",
       "subj_difference      17148.0  0.444283  0.180273  0.0  0.325000  0.478975   \n",
       "polarity_difference  17148.0  0.517420  0.070813  0.0  0.488722  0.526316   \n",
       "avg_word_len_title   17148.0  0.299787  0.065313  0.0  0.257143  0.294643   \n",
       "\n",
       "                          75%       max  \n",
       "title_polarity       0.500000  1.000000  \n",
       "title_subjectivity   0.400000  1.000000  \n",
       "desc_polarity        0.568182  1.000000  \n",
       "desc_subjectivity    0.500000  1.000000  \n",
       "subj_difference      0.500000  1.000000  \n",
       "polarity_difference  0.539474  1.000000  \n",
       "avg_word_len_title   0.337662  0.714286  "
      ]
     },
     "execution_count": 185,
     "metadata": {},
     "output_type": "execute_result"
    }
   ],
   "source": [
    "rightwing.describe().T.head(7)"
   ]
  },
  {
   "cell_type": "code",
   "execution_count": 187,
   "metadata": {},
   "outputs": [
    {
     "data": {
      "text/html": [
       "<div>\n",
       "<style scoped>\n",
       "    .dataframe tbody tr th:only-of-type {\n",
       "        vertical-align: middle;\n",
       "    }\n",
       "\n",
       "    .dataframe tbody tr th {\n",
       "        vertical-align: top;\n",
       "    }\n",
       "\n",
       "    .dataframe thead th {\n",
       "        text-align: right;\n",
       "    }\n",
       "</style>\n",
       "<table border=\"1\" class=\"dataframe\">\n",
       "  <thead>\n",
       "    <tr style=\"text-align: right;\">\n",
       "      <th></th>\n",
       "      <th>count</th>\n",
       "      <th>mean</th>\n",
       "      <th>std</th>\n",
       "      <th>min</th>\n",
       "      <th>25%</th>\n",
       "      <th>50%</th>\n",
       "      <th>75%</th>\n",
       "      <th>max</th>\n",
       "    </tr>\n",
       "  </thead>\n",
       "  <tbody>\n",
       "    <tr>\n",
       "      <th>title_polarity</th>\n",
       "      <td>19706.0</td>\n",
       "      <td>0.520245</td>\n",
       "      <td>0.124798</td>\n",
       "      <td>0.000000</td>\n",
       "      <td>0.500000</td>\n",
       "      <td>0.500000</td>\n",
       "      <td>0.550000</td>\n",
       "      <td>1.000000</td>\n",
       "    </tr>\n",
       "    <tr>\n",
       "      <th>title_subjectivity</th>\n",
       "      <td>19706.0</td>\n",
       "      <td>0.252814</td>\n",
       "      <td>0.315929</td>\n",
       "      <td>0.000000</td>\n",
       "      <td>0.000000</td>\n",
       "      <td>0.050000</td>\n",
       "      <td>0.487500</td>\n",
       "      <td>1.000000</td>\n",
       "    </tr>\n",
       "    <tr>\n",
       "      <th>desc_polarity</th>\n",
       "      <td>19706.0</td>\n",
       "      <td>0.535423</td>\n",
       "      <td>0.117463</td>\n",
       "      <td>0.000000</td>\n",
       "      <td>0.500000</td>\n",
       "      <td>0.500000</td>\n",
       "      <td>0.587500</td>\n",
       "      <td>1.000000</td>\n",
       "    </tr>\n",
       "    <tr>\n",
       "      <th>desc_subjectivity</th>\n",
       "      <td>19706.0</td>\n",
       "      <td>0.332736</td>\n",
       "      <td>0.284196</td>\n",
       "      <td>0.000000</td>\n",
       "      <td>0.000000</td>\n",
       "      <td>0.316369</td>\n",
       "      <td>0.500000</td>\n",
       "      <td>1.000000</td>\n",
       "    </tr>\n",
       "    <tr>\n",
       "      <th>subj_difference</th>\n",
       "      <td>19706.0</td>\n",
       "      <td>0.460039</td>\n",
       "      <td>0.200754</td>\n",
       "      <td>0.000000</td>\n",
       "      <td>0.325000</td>\n",
       "      <td>0.479167</td>\n",
       "      <td>0.555556</td>\n",
       "      <td>1.000000</td>\n",
       "    </tr>\n",
       "    <tr>\n",
       "      <th>polarity_difference</th>\n",
       "      <td>19706.0</td>\n",
       "      <td>0.518327</td>\n",
       "      <td>0.083516</td>\n",
       "      <td>0.052632</td>\n",
       "      <td>0.479825</td>\n",
       "      <td>0.526316</td>\n",
       "      <td>0.552632</td>\n",
       "      <td>0.960526</td>\n",
       "    </tr>\n",
       "    <tr>\n",
       "      <th>avg_word_len_title</th>\n",
       "      <td>19706.0</td>\n",
       "      <td>0.279079</td>\n",
       "      <td>0.062686</td>\n",
       "      <td>0.057143</td>\n",
       "      <td>0.238095</td>\n",
       "      <td>0.274725</td>\n",
       "      <td>0.317460</td>\n",
       "      <td>1.000000</td>\n",
       "    </tr>\n",
       "  </tbody>\n",
       "</table>\n",
       "</div>"
      ],
      "text/plain": [
       "                       count      mean       std       min       25%  \\\n",
       "title_polarity       19706.0  0.520245  0.124798  0.000000  0.500000   \n",
       "title_subjectivity   19706.0  0.252814  0.315929  0.000000  0.000000   \n",
       "desc_polarity        19706.0  0.535423  0.117463  0.000000  0.500000   \n",
       "desc_subjectivity    19706.0  0.332736  0.284196  0.000000  0.000000   \n",
       "subj_difference      19706.0  0.460039  0.200754  0.000000  0.325000   \n",
       "polarity_difference  19706.0  0.518327  0.083516  0.052632  0.479825   \n",
       "avg_word_len_title   19706.0  0.279079  0.062686  0.057143  0.238095   \n",
       "\n",
       "                          50%       75%       max  \n",
       "title_polarity       0.500000  0.550000  1.000000  \n",
       "title_subjectivity   0.050000  0.487500  1.000000  \n",
       "desc_polarity        0.500000  0.587500  1.000000  \n",
       "desc_subjectivity    0.316369  0.500000  1.000000  \n",
       "subj_difference      0.479167  0.555556  1.000000  \n",
       "polarity_difference  0.526316  0.552632  0.960526  \n",
       "avg_word_len_title   0.274725  0.317460  1.000000  "
      ]
     },
     "execution_count": 187,
     "metadata": {},
     "output_type": "execute_result"
    }
   ],
   "source": [
    "notrightwing.describe().T.head(7)"
   ]
  },
  {
   "cell_type": "markdown",
   "metadata": {},
   "source": [
    "### Single Grams for Title"
   ]
  },
  {
   "cell_type": "code",
   "execution_count": 490,
   "metadata": {},
   "outputs": [],
   "source": [
    "cust_stop_words = ['CNN', 'cnn',\n",
    "                   'national review', 'huffpost','fox','reuters','ap', 'associated press', 'vice','breitbart',\n",
    "                   'nationalreview', 'www', 'content uploads', 'msnbc', 'infowars', 'foxnews','Vice','Breitbart',\n",
    "                  'National Review','Fox News','Reuters','Fast Facts','Infowars','Vice','Content Uploads','MSNBC',\n",
    "                   'www', 'AP','Huffpost','HuffPost','Fox amp Friends','Morning Joe', 'Maddow', 'FOX NEWS'\n",
    "                  ]\n",
    "from sklearn.feature_extraction.text import ENGLISH_STOP_WORDS\n",
    "original_stopwords = list(ENGLISH_STOP_WORDS)\n",
    "cust_stop_words += original_stopwords"
   ]
  },
  {
   "cell_type": "code",
   "execution_count": 492,
   "metadata": {},
   "outputs": [],
   "source": [
    "right = text['yes_right'] == 1\n",
    "notright = text['yes_right'] == 0"
   ]
  },
  {
   "cell_type": "code",
   "execution_count": 493,
   "metadata": {},
   "outputs": [],
   "source": [
    "right_title = text[right].title\n",
    "right_desc = text[right].description\n",
    "notright_title = text[notright].title\n",
    "notright_desc = text[notright].description"
   ]
  },
  {
   "cell_type": "code",
   "execution_count": 494,
   "metadata": {},
   "outputs": [],
   "source": [
    "stem = PorterStemmer()\n",
    "lemmatizer = WordNetLemmatizer()\n",
    "cvec = CountVectorizer(preprocessor=lemmatizer.lemmatize, tokenizer=tokenizer.tokenize, \n",
    "                       ngram_range=(1,1), stop_words=cust_stop_words, min_df=10)"
   ]
  },
  {
   "cell_type": "code",
   "execution_count": 495,
   "metadata": {},
   "outputs": [],
   "source": [
    "cvec.fit(right_title)\n",
    "rt_counts = pd.DataFrame(cvec.transform(right_title).todense(),\n",
    "                       columns=cvec.get_feature_names())\n",
    "title_counts = rt_counts.sum(axis=0)\n",
    "title_counts = pd.DataFrame(title_counts.sort_values(ascending = False), columns=['right'])"
   ]
  },
  {
   "cell_type": "code",
   "execution_count": 496,
   "metadata": {},
   "outputs": [],
   "source": [
    "cvec = CountVectorizer(preprocessor=stem.stem, ngram_range=(1,1), stop_words=cust_stop_words, min_df=10)\n",
    "cvec.fit(notright_title)\n",
    "nrt_counts = pd.DataFrame(cvec.transform(notright_title).todense(),\n",
    "                         columns=cvec.get_feature_names())\n",
    "nrt_counts = nrt_counts.sum(axis=0)\n",
    "title_counts['not right'] = nrt_counts"
   ]
  },
  {
   "cell_type": "code",
   "execution_count": 497,
   "metadata": {},
   "outputs": [
    {
     "data": {
      "text/html": [
       "<div>\n",
       "<style scoped>\n",
       "    .dataframe tbody tr th:only-of-type {\n",
       "        vertical-align: middle;\n",
       "    }\n",
       "\n",
       "    .dataframe tbody tr th {\n",
       "        vertical-align: top;\n",
       "    }\n",
       "\n",
       "    .dataframe thead th {\n",
       "        text-align: right;\n",
       "    }\n",
       "</style>\n",
       "<table border=\"1\" class=\"dataframe\">\n",
       "  <thead>\n",
       "    <tr style=\"text-align: right;\">\n",
       "      <th></th>\n",
       "      <th>right</th>\n",
       "      <th>not right</th>\n",
       "    </tr>\n",
       "  </thead>\n",
       "  <tbody>\n",
       "    <tr>\n",
       "      <th>Trump</th>\n",
       "      <td>2979</td>\n",
       "      <td>NaN</td>\n",
       "    </tr>\n",
       "    <tr>\n",
       "      <th>s</th>\n",
       "      <td>2862</td>\n",
       "      <td>NaN</td>\n",
       "    </tr>\n",
       "    <tr>\n",
       "      <th>The</th>\n",
       "      <td>1101</td>\n",
       "      <td>NaN</td>\n",
       "    </tr>\n",
       "    <tr>\n",
       "      <th>Is</th>\n",
       "      <td>643</td>\n",
       "      <td>NaN</td>\n",
       "    </tr>\n",
       "    <tr>\n",
       "      <th>t</th>\n",
       "      <td>568</td>\n",
       "      <td>NaN</td>\n",
       "    </tr>\n",
       "    <tr>\n",
       "      <th>North</th>\n",
       "      <td>521</td>\n",
       "      <td>NaN</td>\n",
       "    </tr>\n",
       "    <tr>\n",
       "      <th>Korea</th>\n",
       "      <td>502</td>\n",
       "      <td>NaN</td>\n",
       "    </tr>\n",
       "    <tr>\n",
       "      <th>Kim</th>\n",
       "      <td>397</td>\n",
       "      <td>NaN</td>\n",
       "    </tr>\n",
       "    <tr>\n",
       "      <th>House</th>\n",
       "      <td>397</td>\n",
       "      <td>NaN</td>\n",
       "    </tr>\n",
       "    <tr>\n",
       "      <th>U</th>\n",
       "      <td>379</td>\n",
       "      <td>NaN</td>\n",
       "    </tr>\n",
       "    <tr>\n",
       "      <th>A</th>\n",
       "      <td>375</td>\n",
       "      <td>NaN</td>\n",
       "    </tr>\n",
       "    <tr>\n",
       "      <th>S</th>\n",
       "      <td>358</td>\n",
       "      <td>NaN</td>\n",
       "    </tr>\n",
       "    <tr>\n",
       "      <th>Day</th>\n",
       "      <td>342</td>\n",
       "      <td>NaN</td>\n",
       "    </tr>\n",
       "    <tr>\n",
       "      <th>Not</th>\n",
       "      <td>341</td>\n",
       "      <td>NaN</td>\n",
       "    </tr>\n",
       "    <tr>\n",
       "      <th>Report</th>\n",
       "      <td>340</td>\n",
       "      <td>NaN</td>\n",
       "    </tr>\n",
       "    <tr>\n",
       "      <th>President</th>\n",
       "      <td>329</td>\n",
       "      <td>NaN</td>\n",
       "    </tr>\n",
       "    <tr>\n",
       "      <th>New</th>\n",
       "      <td>324</td>\n",
       "      <td>NaN</td>\n",
       "    </tr>\n",
       "    <tr>\n",
       "      <th>After</th>\n",
       "      <td>324</td>\n",
       "      <td>NaN</td>\n",
       "    </tr>\n",
       "    <tr>\n",
       "      <th>Border</th>\n",
       "      <td>322</td>\n",
       "      <td>NaN</td>\n",
       "    </tr>\n",
       "    <tr>\n",
       "      <th>US</th>\n",
       "      <td>322</td>\n",
       "      <td>NaN</td>\n",
       "    </tr>\n",
       "  </tbody>\n",
       "</table>\n",
       "</div>"
      ],
      "text/plain": [
       "           right  not right\n",
       "Trump       2979        NaN\n",
       "s           2862        NaN\n",
       "The         1101        NaN\n",
       "Is           643        NaN\n",
       "t            568        NaN\n",
       "North        521        NaN\n",
       "Korea        502        NaN\n",
       "Kim          397        NaN\n",
       "House        397        NaN\n",
       "U            379        NaN\n",
       "A            375        NaN\n",
       "S            358        NaN\n",
       "Day          342        NaN\n",
       "Not          341        NaN\n",
       "Report       340        NaN\n",
       "President    329        NaN\n",
       "New          324        NaN\n",
       "After        324        NaN\n",
       "Border       322        NaN\n",
       "US           322        NaN"
      ]
     },
     "execution_count": 497,
     "metadata": {},
     "output_type": "execute_result"
    }
   ],
   "source": [
    "title_counts.head(10)"
   ]
  },
  {
   "cell_type": "code",
   "execution_count": 498,
   "metadata": {},
   "outputs": [
    {
     "data": {
      "text/html": [
       "<div>\n",
       "<style scoped>\n",
       "    .dataframe tbody tr th:only-of-type {\n",
       "        vertical-align: middle;\n",
       "    }\n",
       "\n",
       "    .dataframe tbody tr th {\n",
       "        vertical-align: top;\n",
       "    }\n",
       "\n",
       "    .dataframe thead th {\n",
       "        text-align: right;\n",
       "    }\n",
       "</style>\n",
       "<table border=\"1\" class=\"dataframe\">\n",
       "  <thead>\n",
       "    <tr style=\"text-align: right;\">\n",
       "      <th></th>\n",
       "      <th>right</th>\n",
       "      <th>not right</th>\n",
       "    </tr>\n",
       "  </thead>\n",
       "  <tbody>\n",
       "    <tr>\n",
       "      <th>new</th>\n",
       "      <td>129</td>\n",
       "      <td>1074.0</td>\n",
       "    </tr>\n",
       "    <tr>\n",
       "      <th>says</th>\n",
       "      <td>307</td>\n",
       "      <td>492.0</td>\n",
       "    </tr>\n",
       "    <tr>\n",
       "      <th>2018</th>\n",
       "      <td>220</td>\n",
       "      <td>430.0</td>\n",
       "    </tr>\n",
       "    <tr>\n",
       "      <th>house</th>\n",
       "      <td>21</td>\n",
       "      <td>425.0</td>\n",
       "    </tr>\n",
       "    <tr>\n",
       "      <th>white</th>\n",
       "      <td>16</td>\n",
       "      <td>348.0</td>\n",
       "    </tr>\n",
       "    <tr>\n",
       "      <th>world</th>\n",
       "      <td>21</td>\n",
       "      <td>340.0</td>\n",
       "    </tr>\n",
       "    <tr>\n",
       "      <th>18</th>\n",
       "      <td>81</td>\n",
       "      <td>339.0</td>\n",
       "    </tr>\n",
       "    <tr>\n",
       "      <th>just</th>\n",
       "      <td>15</td>\n",
       "      <td>326.0</td>\n",
       "    </tr>\n",
       "    <tr>\n",
       "      <th>like</th>\n",
       "      <td>31</td>\n",
       "      <td>320.0</td>\n",
       "    </tr>\n",
       "    <tr>\n",
       "      <th>video</th>\n",
       "      <td>73</td>\n",
       "      <td>299.0</td>\n",
       "    </tr>\n",
       "    <tr>\n",
       "      <th>report</th>\n",
       "      <td>216</td>\n",
       "      <td>293.0</td>\n",
       "    </tr>\n",
       "    <tr>\n",
       "      <th>summit</th>\n",
       "      <td>244</td>\n",
       "      <td>283.0</td>\n",
       "    </tr>\n",
       "    <tr>\n",
       "      <th>women</th>\n",
       "      <td>21</td>\n",
       "      <td>278.0</td>\n",
       "    </tr>\n",
       "    <tr>\n",
       "      <th>people</th>\n",
       "      <td>34</td>\n",
       "      <td>278.0</td>\n",
       "    </tr>\n",
       "    <tr>\n",
       "      <th>president</th>\n",
       "      <td>57</td>\n",
       "      <td>273.0</td>\n",
       "    </tr>\n",
       "    <tr>\n",
       "      <th>watch</th>\n",
       "      <td>12</td>\n",
       "      <td>263.0</td>\n",
       "    </tr>\n",
       "    <tr>\n",
       "      <th>year</th>\n",
       "      <td>85</td>\n",
       "      <td>253.0</td>\n",
       "    </tr>\n",
       "    <tr>\n",
       "      <th>man</th>\n",
       "      <td>105</td>\n",
       "      <td>252.0</td>\n",
       "    </tr>\n",
       "    <tr>\n",
       "      <th>day</th>\n",
       "      <td>32</td>\n",
       "      <td>250.0</td>\n",
       "    </tr>\n",
       "    <tr>\n",
       "      <th>say</th>\n",
       "      <td>121</td>\n",
       "      <td>240.0</td>\n",
       "    </tr>\n",
       "  </tbody>\n",
       "</table>\n",
       "</div>"
      ],
      "text/plain": [
       "           right  not right\n",
       "new          129     1074.0\n",
       "says         307      492.0\n",
       "2018         220      430.0\n",
       "house         21      425.0\n",
       "white         16      348.0\n",
       "world         21      340.0\n",
       "18            81      339.0\n",
       "just          15      326.0\n",
       "like          31      320.0\n",
       "video         73      299.0\n",
       "report       216      293.0\n",
       "summit       244      283.0\n",
       "women         21      278.0\n",
       "people        34      278.0\n",
       "president     57      273.0\n",
       "watch         12      263.0\n",
       "year          85      253.0\n",
       "man          105      252.0\n",
       "day           32      250.0\n",
       "say          121      240.0"
      ]
     },
     "execution_count": 498,
     "metadata": {},
     "output_type": "execute_result"
    }
   ],
   "source": [
    "title_counts.sort_values('not right', ascending=False).head(10)"
   ]
  },
  {
   "cell_type": "markdown",
   "metadata": {},
   "source": [
    "### Single Grams for Description"
   ]
  },
  {
   "cell_type": "code",
   "execution_count": 211,
   "metadata": {},
   "outputs": [],
   "source": [
    "cvec = CountVectorizer(preprocessor=lemmatizer.lemmatize, tokenizer=tokenizer.tokenize,\n",
    "                       ngram_range=(1,1), stop_words='english', min_df=10)\n",
    "cvec.fit(right_desc)\n",
    "rd_counts = pd.DataFrame(cvec.transform(right_desc).todense(),\n",
    "                         columns=cvec.get_feature_names())\n",
    "desc_counts = rd_counts.sum(axis=0)\n",
    "desc_counts = pd.DataFrame(desc_counts.sort_values(ascending = False), columns=['right'])"
   ]
  },
  {
   "cell_type": "code",
   "execution_count": 146,
   "metadata": {},
   "outputs": [],
   "source": [
    "cvec = CountVectorizer(preprocessor=stem.stem, ngram_range=(1,1), stop_words='english', min_df=10)\n",
    "cvec.fit(notright_desc)\n",
    "nrd_counts = pd.DataFrame(cvec.transform(notright_desc).todense(),\n",
    "                         columns=cvec.get_feature_names())\n",
    "nrd_counts = nrd_counts.sum(axis=0)\n",
    "desc_counts['not right'] = nrd_counts"
   ]
  },
  {
   "cell_type": "code",
   "execution_count": 147,
   "metadata": {},
   "outputs": [
    {
     "data": {
      "text/html": [
       "<div>\n",
       "<style scoped>\n",
       "    .dataframe tbody tr th:only-of-type {\n",
       "        vertical-align: middle;\n",
       "    }\n",
       "\n",
       "    .dataframe tbody tr th {\n",
       "        vertical-align: top;\n",
       "    }\n",
       "\n",
       "    .dataframe thead th {\n",
       "        text-align: right;\n",
       "    }\n",
       "</style>\n",
       "<table border=\"1\" class=\"dataframe\">\n",
       "  <thead>\n",
       "    <tr style=\"text-align: right;\">\n",
       "      <th></th>\n",
       "      <th>right</th>\n",
       "      <th>not right</th>\n",
       "    </tr>\n",
       "  </thead>\n",
       "  <tbody>\n",
       "    <tr>\n",
       "      <th>trump</th>\n",
       "      <td>3830</td>\n",
       "      <td>4756.0</td>\n",
       "    </tr>\n",
       "    <tr>\n",
       "      <th>president</th>\n",
       "      <td>3215</td>\n",
       "      <td>2796.0</td>\n",
       "    </tr>\n",
       "    <tr>\n",
       "      <th>news</th>\n",
       "      <td>3121</td>\n",
       "      <td>857.0</td>\n",
       "    </tr>\n",
       "    <tr>\n",
       "      <th>fox</th>\n",
       "      <td>2794</td>\n",
       "      <td>180.0</td>\n",
       "    </tr>\n",
       "    <tr>\n",
       "      <th>new</th>\n",
       "      <td>1480</td>\n",
       "      <td>2052.0</td>\n",
       "    </tr>\n",
       "    <tr>\n",
       "      <th>house</th>\n",
       "      <td>1214</td>\n",
       "      <td>1033.0</td>\n",
       "    </tr>\n",
       "    <tr>\n",
       "      <th>said</th>\n",
       "      <td>1205</td>\n",
       "      <td>1093.0</td>\n",
       "    </tr>\n",
       "    <tr>\n",
       "      <th>donald</th>\n",
       "      <td>1111</td>\n",
       "      <td>1374.0</td>\n",
       "    </tr>\n",
       "    <tr>\n",
       "      <th>north</th>\n",
       "      <td>938</td>\n",
       "      <td>721.0</td>\n",
       "    </tr>\n",
       "    <tr>\n",
       "      <th>state</th>\n",
       "      <td>909</td>\n",
       "      <td>527.0</td>\n",
       "    </tr>\n",
       "    <tr>\n",
       "      <th>says</th>\n",
       "      <td>843</td>\n",
       "      <td>838.0</td>\n",
       "    </tr>\n",
       "    <tr>\n",
       "      <th>year</th>\n",
       "      <td>739</td>\n",
       "      <td>584.0</td>\n",
       "    </tr>\n",
       "    <tr>\n",
       "      <th>white</th>\n",
       "      <td>734</td>\n",
       "      <td>768.0</td>\n",
       "    </tr>\n",
       "    <tr>\n",
       "      <th>police</th>\n",
       "      <td>701</td>\n",
       "      <td>265.0</td>\n",
       "    </tr>\n",
       "    <tr>\n",
       "      <th>tuesday</th>\n",
       "      <td>682</td>\n",
       "      <td>416.0</td>\n",
       "    </tr>\n",
       "    <tr>\n",
       "      <th>people</th>\n",
       "      <td>632</td>\n",
       "      <td>830.0</td>\n",
       "    </tr>\n",
       "    <tr>\n",
       "      <th>border</th>\n",
       "      <td>626</td>\n",
       "      <td>451.0</td>\n",
       "    </tr>\n",
       "    <tr>\n",
       "      <th>kim</th>\n",
       "      <td>621</td>\n",
       "      <td>528.0</td>\n",
       "    </tr>\n",
       "    <tr>\n",
       "      <th>week</th>\n",
       "      <td>614</td>\n",
       "      <td>458.0</td>\n",
       "    </tr>\n",
       "    <tr>\n",
       "      <th>national</th>\n",
       "      <td>612</td>\n",
       "      <td>417.0</td>\n",
       "    </tr>\n",
       "  </tbody>\n",
       "</table>\n",
       "</div>"
      ],
      "text/plain": [
       "           right  not right\n",
       "trump       3830     4756.0\n",
       "president   3215     2796.0\n",
       "news        3121      857.0\n",
       "fox         2794      180.0\n",
       "new         1480     2052.0\n",
       "house       1214     1033.0\n",
       "said        1205     1093.0\n",
       "donald      1111     1374.0\n",
       "north        938      721.0\n",
       "state        909      527.0\n",
       "says         843      838.0\n",
       "year         739      584.0\n",
       "white        734      768.0\n",
       "police       701      265.0\n",
       "tuesday      682      416.0\n",
       "people       632      830.0\n",
       "border       626      451.0\n",
       "kim          621      528.0\n",
       "week         614      458.0\n",
       "national     612      417.0"
      ]
     },
     "execution_count": 147,
     "metadata": {},
     "output_type": "execute_result"
    }
   ],
   "source": [
    "desc_counts.head(10)"
   ]
  },
  {
   "cell_type": "code",
   "execution_count": 148,
   "metadata": {},
   "outputs": [
    {
     "data": {
      "text/html": [
       "<div>\n",
       "<style scoped>\n",
       "    .dataframe tbody tr th:only-of-type {\n",
       "        vertical-align: middle;\n",
       "    }\n",
       "\n",
       "    .dataframe tbody tr th {\n",
       "        vertical-align: top;\n",
       "    }\n",
       "\n",
       "    .dataframe thead th {\n",
       "        text-align: right;\n",
       "    }\n",
       "</style>\n",
       "<table border=\"1\" class=\"dataframe\">\n",
       "  <thead>\n",
       "    <tr style=\"text-align: right;\">\n",
       "      <th></th>\n",
       "      <th>right</th>\n",
       "      <th>not right</th>\n",
       "    </tr>\n",
       "  </thead>\n",
       "  <tbody>\n",
       "    <tr>\n",
       "      <th>trump</th>\n",
       "      <td>3830</td>\n",
       "      <td>4756.0</td>\n",
       "    </tr>\n",
       "    <tr>\n",
       "      <th>president</th>\n",
       "      <td>3215</td>\n",
       "      <td>2796.0</td>\n",
       "    </tr>\n",
       "    <tr>\n",
       "      <th>new</th>\n",
       "      <td>1480</td>\n",
       "      <td>2052.0</td>\n",
       "    </tr>\n",
       "    <tr>\n",
       "      <th>donald</th>\n",
       "      <td>1111</td>\n",
       "      <td>1374.0</td>\n",
       "    </tr>\n",
       "    <tr>\n",
       "      <th>said</th>\n",
       "      <td>1205</td>\n",
       "      <td>1093.0</td>\n",
       "    </tr>\n",
       "    <tr>\n",
       "      <th>house</th>\n",
       "      <td>1214</td>\n",
       "      <td>1033.0</td>\n",
       "    </tr>\n",
       "    <tr>\n",
       "      <th>cnn</th>\n",
       "      <td>192</td>\n",
       "      <td>958.0</td>\n",
       "    </tr>\n",
       "    <tr>\n",
       "      <th>news</th>\n",
       "      <td>3121</td>\n",
       "      <td>857.0</td>\n",
       "    </tr>\n",
       "    <tr>\n",
       "      <th>says</th>\n",
       "      <td>843</td>\n",
       "      <td>838.0</td>\n",
       "    </tr>\n",
       "    <tr>\n",
       "      <th>people</th>\n",
       "      <td>632</td>\n",
       "      <td>830.0</td>\n",
       "    </tr>\n",
       "    <tr>\n",
       "      <th>discuss</th>\n",
       "      <td>275</td>\n",
       "      <td>777.0</td>\n",
       "    </tr>\n",
       "    <tr>\n",
       "      <th>white</th>\n",
       "      <td>734</td>\n",
       "      <td>768.0</td>\n",
       "    </tr>\n",
       "    <tr>\n",
       "      <th>north</th>\n",
       "      <td>938</td>\n",
       "      <td>721.0</td>\n",
       "    </tr>\n",
       "    <tr>\n",
       "      <th>michael</th>\n",
       "      <td>242</td>\n",
       "      <td>718.0</td>\n",
       "    </tr>\n",
       "    <tr>\n",
       "      <th>day</th>\n",
       "      <td>424</td>\n",
       "      <td>623.0</td>\n",
       "    </tr>\n",
       "    <tr>\n",
       "      <th>year</th>\n",
       "      <td>739</td>\n",
       "      <td>584.0</td>\n",
       "    </tr>\n",
       "    <tr>\n",
       "      <th>attorney</th>\n",
       "      <td>316</td>\n",
       "      <td>569.0</td>\n",
       "    </tr>\n",
       "    <tr>\n",
       "      <th>cohen</th>\n",
       "      <td>69</td>\n",
       "      <td>562.0</td>\n",
       "    </tr>\n",
       "    <tr>\n",
       "      <th>administration</th>\n",
       "      <td>409</td>\n",
       "      <td>562.0</td>\n",
       "    </tr>\n",
       "    <tr>\n",
       "      <th>time</th>\n",
       "      <td>407</td>\n",
       "      <td>561.0</td>\n",
       "    </tr>\n",
       "  </tbody>\n",
       "</table>\n",
       "</div>"
      ],
      "text/plain": [
       "                right  not right\n",
       "trump            3830     4756.0\n",
       "president        3215     2796.0\n",
       "new              1480     2052.0\n",
       "donald           1111     1374.0\n",
       "said             1205     1093.0\n",
       "house            1214     1033.0\n",
       "cnn               192      958.0\n",
       "news             3121      857.0\n",
       "says              843      838.0\n",
       "people            632      830.0\n",
       "discuss           275      777.0\n",
       "white             734      768.0\n",
       "north             938      721.0\n",
       "michael           242      718.0\n",
       "day               424      623.0\n",
       "year              739      584.0\n",
       "attorney          316      569.0\n",
       "cohen              69      562.0\n",
       "administration    409      562.0\n",
       "time              407      561.0"
      ]
     },
     "execution_count": 148,
     "metadata": {},
     "output_type": "execute_result"
    }
   ],
   "source": [
    "desc_counts.sort_values('not right', ascending=False).head(10)"
   ]
  },
  {
   "cell_type": "markdown",
   "metadata": {},
   "source": [
    "### BiGrams for Title"
   ]
  },
  {
   "cell_type": "code",
   "execution_count": 149,
   "metadata": {},
   "outputs": [],
   "source": [
    "cvec = CountVectorizer(preprocessor=stem.stem, ngram_range=(2,2), stop_words='english', min_df=10)\n",
    "cvec.fit(right_title)\n",
    "rt_counts2 = pd.DataFrame(cvec.transform(right_title).todense(),\n",
    "                         columns=cvec.get_feature_names())\n",
    "title_counts2 = rt_counts2.sum(axis=0)\n",
    "title_counts2 = pd.DataFrame(title_counts2.sort_values(ascending = False), columns=['right'])"
   ]
  },
  {
   "cell_type": "code",
   "execution_count": 150,
   "metadata": {},
   "outputs": [],
   "source": [
    "cvec = CountVectorizer(preprocessor=stem.stem, ngram_range=(2,2), stop_words='english', min_df=10)\n",
    "cvec.fit(notright_title)\n",
    "nrt_counts2 = pd.DataFrame(cvec.transform(notright_desc).todense(),\n",
    "                         columns=cvec.get_feature_names())\n",
    "nrt_counts2 = nrt_counts2.sum(axis=0)\n",
    "title_counts2['not right'] = nrt_counts2"
   ]
  },
  {
   "cell_type": "code",
   "execution_count": 151,
   "metadata": {},
   "outputs": [
    {
     "data": {
      "text/html": [
       "<div>\n",
       "<style scoped>\n",
       "    .dataframe tbody tr th:only-of-type {\n",
       "        vertical-align: middle;\n",
       "    }\n",
       "\n",
       "    .dataframe tbody tr th {\n",
       "        vertical-align: top;\n",
       "    }\n",
       "\n",
       "    .dataframe thead th {\n",
       "        text-align: right;\n",
       "    }\n",
       "</style>\n",
       "<table border=\"1\" class=\"dataframe\">\n",
       "  <thead>\n",
       "    <tr style=\"text-align: right;\">\n",
       "      <th></th>\n",
       "      <th>right</th>\n",
       "      <th>not right</th>\n",
       "    </tr>\n",
       "  </thead>\n",
       "  <tbody>\n",
       "    <tr>\n",
       "      <th>fox new</th>\n",
       "      <td>961</td>\n",
       "      <td>NaN</td>\n",
       "    </tr>\n",
       "    <tr>\n",
       "      <th>north korea</th>\n",
       "      <td>417</td>\n",
       "      <td>386.0</td>\n",
       "    </tr>\n",
       "    <tr>\n",
       "      <th>donald trump</th>\n",
       "      <td>303</td>\n",
       "      <td>1352.0</td>\n",
       "    </tr>\n",
       "    <tr>\n",
       "      <th>kim jong</th>\n",
       "      <td>182</td>\n",
       "      <td>414.0</td>\n",
       "    </tr>\n",
       "    <tr>\n",
       "      <th>white house</th>\n",
       "      <td>181</td>\n",
       "      <td>634.0</td>\n",
       "    </tr>\n",
       "    <tr>\n",
       "      <th>president trump</th>\n",
       "      <td>181</td>\n",
       "      <td>904.0</td>\n",
       "    </tr>\n",
       "    <tr>\n",
       "      <th>ig report</th>\n",
       "      <td>141</td>\n",
       "      <td>7.0</td>\n",
       "    </tr>\n",
       "    <tr>\n",
       "      <th>supreme court</th>\n",
       "      <td>129</td>\n",
       "      <td>94.0</td>\n",
       "    </tr>\n",
       "    <tr>\n",
       "      <th>trump kim</th>\n",
       "      <td>121</td>\n",
       "      <td>61.0</td>\n",
       "    </tr>\n",
       "    <tr>\n",
       "      <th>judicial activism</th>\n",
       "      <td>104</td>\n",
       "      <td>NaN</td>\n",
       "    </tr>\n",
       "    <tr>\n",
       "      <th>liberal judicial</th>\n",
       "      <td>104</td>\n",
       "      <td>NaN</td>\n",
       "    </tr>\n",
       "    <tr>\n",
       "      <th>day liberal</th>\n",
       "      <td>104</td>\n",
       "      <td>NaN</td>\n",
       "    </tr>\n",
       "    <tr>\n",
       "      <th>new york</th>\n",
       "      <td>100</td>\n",
       "      <td>420.0</td>\n",
       "    </tr>\n",
       "    <tr>\n",
       "      <th>year old</th>\n",
       "      <td>91</td>\n",
       "      <td>201.0</td>\n",
       "    </tr>\n",
       "    <tr>\n",
       "      <th>fox news</th>\n",
       "      <td>85</td>\n",
       "      <td>101.0</td>\n",
       "    </tr>\n",
       "  </tbody>\n",
       "</table>\n",
       "</div>"
      ],
      "text/plain": [
       "                   right  not right\n",
       "fox new              961        NaN\n",
       "north korea          417      386.0\n",
       "donald trump         303     1352.0\n",
       "kim jong             182      414.0\n",
       "white house          181      634.0\n",
       "president trump      181      904.0\n",
       "ig report            141        7.0\n",
       "supreme court        129       94.0\n",
       "trump kim            121       61.0\n",
       "judicial activism    104        NaN\n",
       "liberal judicial     104        NaN\n",
       "day liberal          104        NaN\n",
       "new york             100      420.0\n",
       "year old              91      201.0\n",
       "fox news              85      101.0"
      ]
     },
     "execution_count": 151,
     "metadata": {},
     "output_type": "execute_result"
    }
   ],
   "source": [
    "title_counts2.head(10)"
   ]
  },
  {
   "cell_type": "code",
   "execution_count": 152,
   "metadata": {},
   "outputs": [
    {
     "data": {
      "text/html": [
       "<div>\n",
       "<style scoped>\n",
       "    .dataframe tbody tr th:only-of-type {\n",
       "        vertical-align: middle;\n",
       "    }\n",
       "\n",
       "    .dataframe tbody tr th {\n",
       "        vertical-align: top;\n",
       "    }\n",
       "\n",
       "    .dataframe thead th {\n",
       "        text-align: right;\n",
       "    }\n",
       "</style>\n",
       "<table border=\"1\" class=\"dataframe\">\n",
       "  <thead>\n",
       "    <tr style=\"text-align: right;\">\n",
       "      <th></th>\n",
       "      <th>right</th>\n",
       "      <th>not right</th>\n",
       "    </tr>\n",
       "  </thead>\n",
       "  <tbody>\n",
       "    <tr>\n",
       "      <th>donald trump</th>\n",
       "      <td>303</td>\n",
       "      <td>1352.0</td>\n",
       "    </tr>\n",
       "    <tr>\n",
       "      <th>president trump</th>\n",
       "      <td>181</td>\n",
       "      <td>904.0</td>\n",
       "    </tr>\n",
       "    <tr>\n",
       "      <th>white house</th>\n",
       "      <td>181</td>\n",
       "      <td>634.0</td>\n",
       "    </tr>\n",
       "    <tr>\n",
       "      <th>new york</th>\n",
       "      <td>100</td>\n",
       "      <td>420.0</td>\n",
       "    </tr>\n",
       "    <tr>\n",
       "      <th>kim jong</th>\n",
       "      <td>182</td>\n",
       "      <td>414.0</td>\n",
       "    </tr>\n",
       "    <tr>\n",
       "      <th>michael cohen</th>\n",
       "      <td>25</td>\n",
       "      <td>405.0</td>\n",
       "    </tr>\n",
       "    <tr>\n",
       "      <th>trump administration</th>\n",
       "      <td>67</td>\n",
       "      <td>400.0</td>\n",
       "    </tr>\n",
       "    <tr>\n",
       "      <th>north korea</th>\n",
       "      <td>417</td>\n",
       "      <td>386.0</td>\n",
       "    </tr>\n",
       "    <tr>\n",
       "      <th>north korean</th>\n",
       "      <td>54</td>\n",
       "      <td>254.0</td>\n",
       "    </tr>\n",
       "    <tr>\n",
       "      <th>special counsel</th>\n",
       "      <td>28</td>\n",
       "      <td>236.0</td>\n",
       "    </tr>\n",
       "    <tr>\n",
       "      <th>robert mueller</th>\n",
       "      <td>16</td>\n",
       "      <td>232.0</td>\n",
       "    </tr>\n",
       "    <tr>\n",
       "      <th>rudy giuliani</th>\n",
       "      <td>13</td>\n",
       "      <td>224.0</td>\n",
       "    </tr>\n",
       "    <tr>\n",
       "      <th>united states</th>\n",
       "      <td>18</td>\n",
       "      <td>223.0</td>\n",
       "    </tr>\n",
       "    <tr>\n",
       "      <th>stormy daniels</th>\n",
       "      <td>45</td>\n",
       "      <td>213.0</td>\n",
       "    </tr>\n",
       "    <tr>\n",
       "      <th>year old</th>\n",
       "      <td>91</td>\n",
       "      <td>201.0</td>\n",
       "    </tr>\n",
       "  </tbody>\n",
       "</table>\n",
       "</div>"
      ],
      "text/plain": [
       "                      right  not right\n",
       "donald trump            303     1352.0\n",
       "president trump         181      904.0\n",
       "white house             181      634.0\n",
       "new york                100      420.0\n",
       "kim jong                182      414.0\n",
       "michael cohen            25      405.0\n",
       "trump administration     67      400.0\n",
       "north korea             417      386.0\n",
       "north korean             54      254.0\n",
       "special counsel          28      236.0\n",
       "robert mueller           16      232.0\n",
       "rudy giuliani            13      224.0\n",
       "united states            18      223.0\n",
       "stormy daniels           45      213.0\n",
       "year old                 91      201.0"
      ]
     },
     "execution_count": 152,
     "metadata": {},
     "output_type": "execute_result"
    }
   ],
   "source": [
    "title_counts2.sort_values('not right', ascending=False).head(10)"
   ]
  },
  {
   "cell_type": "markdown",
   "metadata": {},
   "source": [
    "### BiGrams for Description"
   ]
  },
  {
   "cell_type": "code",
   "execution_count": 153,
   "metadata": {},
   "outputs": [],
   "source": [
    "cvec = CountVectorizer(preprocessor=stem.stem, ngram_range=(2,2), stop_words='english', min_df=10)\n",
    "cvec.fit(right_desc)\n",
    "rd_counts2 = pd.DataFrame(cvec.transform(right_desc).todense(),\n",
    "                         columns=cvec.get_feature_names())\n",
    "desc_counts2 = rd_counts2.sum(axis=0)\n",
    "desc_counts2 = pd.DataFrame(desc_counts2.sort_values(ascending = False), columns=['right'])"
   ]
  },
  {
   "cell_type": "code",
   "execution_count": 154,
   "metadata": {},
   "outputs": [],
   "source": [
    "cvec = CountVectorizer(preprocessor=stem.stem, ngram_range=(2,2), stop_words='english', min_df=10)\n",
    "cvec.fit(notright_desc)\n",
    "nrd_counts2 = pd.DataFrame(cvec.transform(notright_desc).todense(),\n",
    "                         columns=cvec.get_feature_names())\n",
    "nrd_counts2 = nrd_counts2.sum(axis=0)\n",
    "desc_counts2['not right'] = nrd_counts2"
   ]
  },
  {
   "cell_type": "code",
   "execution_count": 155,
   "metadata": {},
   "outputs": [
    {
     "data": {
      "text/html": [
       "<div>\n",
       "<style scoped>\n",
       "    .dataframe tbody tr th:only-of-type {\n",
       "        vertical-align: middle;\n",
       "    }\n",
       "\n",
       "    .dataframe tbody tr th {\n",
       "        vertical-align: top;\n",
       "    }\n",
       "\n",
       "    .dataframe thead th {\n",
       "        text-align: right;\n",
       "    }\n",
       "</style>\n",
       "<table border=\"1\" class=\"dataframe\">\n",
       "  <thead>\n",
       "    <tr style=\"text-align: right;\">\n",
       "      <th></th>\n",
       "      <th>right</th>\n",
       "      <th>not right</th>\n",
       "    </tr>\n",
       "  </thead>\n",
       "  <tbody>\n",
       "    <tr>\n",
       "      <th>fox news</th>\n",
       "      <td>2463</td>\n",
       "      <td>101.0</td>\n",
       "    </tr>\n",
       "    <tr>\n",
       "      <th>president trump</th>\n",
       "      <td>1187</td>\n",
       "      <td>904.0</td>\n",
       "    </tr>\n",
       "    <tr>\n",
       "      <th>donald trump</th>\n",
       "      <td>1088</td>\n",
       "      <td>1352.0</td>\n",
       "    </tr>\n",
       "    <tr>\n",
       "      <th>president donald</th>\n",
       "      <td>932</td>\n",
       "      <td>673.0</td>\n",
       "    </tr>\n",
       "    <tr>\n",
       "      <th>white house</th>\n",
       "      <td>621</td>\n",
       "      <td>634.0</td>\n",
       "    </tr>\n",
       "    <tr>\n",
       "      <th>new york</th>\n",
       "      <td>481</td>\n",
       "      <td>420.0</td>\n",
       "    </tr>\n",
       "    <tr>\n",
       "      <th>kim jong</th>\n",
       "      <td>474</td>\n",
       "      <td>414.0</td>\n",
       "    </tr>\n",
       "    <tr>\n",
       "      <th>north korea</th>\n",
       "      <td>473</td>\n",
       "      <td>386.0</td>\n",
       "    </tr>\n",
       "    <tr>\n",
       "      <th>year old</th>\n",
       "      <td>339</td>\n",
       "      <td>201.0</td>\n",
       "    </tr>\n",
       "    <tr>\n",
       "      <th>united states</th>\n",
       "      <td>314</td>\n",
       "      <td>223.0</td>\n",
       "    </tr>\n",
       "    <tr>\n",
       "      <th>north korean</th>\n",
       "      <td>313</td>\n",
       "      <td>254.0</td>\n",
       "    </tr>\n",
       "    <tr>\n",
       "      <th>trump administration</th>\n",
       "      <td>257</td>\n",
       "      <td>400.0</td>\n",
       "    </tr>\n",
       "    <tr>\n",
       "      <th>breitbart news</th>\n",
       "      <td>252</td>\n",
       "      <td>NaN</td>\n",
       "    </tr>\n",
       "    <tr>\n",
       "      <th>nationalreview com</th>\n",
       "      <td>240</td>\n",
       "      <td>NaN</td>\n",
       "    </tr>\n",
       "    <tr>\n",
       "      <th>com wp</th>\n",
       "      <td>238</td>\n",
       "      <td>NaN</td>\n",
       "    </tr>\n",
       "  </tbody>\n",
       "</table>\n",
       "</div>"
      ],
      "text/plain": [
       "                      right  not right\n",
       "fox news               2463      101.0\n",
       "president trump        1187      904.0\n",
       "donald trump           1088     1352.0\n",
       "president donald        932      673.0\n",
       "white house             621      634.0\n",
       "new york                481      420.0\n",
       "kim jong                474      414.0\n",
       "north korea             473      386.0\n",
       "year old                339      201.0\n",
       "united states           314      223.0\n",
       "north korean            313      254.0\n",
       "trump administration    257      400.0\n",
       "breitbart news          252        NaN\n",
       "nationalreview com      240        NaN\n",
       "com wp                  238        NaN"
      ]
     },
     "execution_count": 155,
     "metadata": {},
     "output_type": "execute_result"
    }
   ],
   "source": [
    "desc_counts2.head(10)"
   ]
  },
  {
   "cell_type": "code",
   "execution_count": 156,
   "metadata": {},
   "outputs": [
    {
     "data": {
      "text/html": [
       "<div>\n",
       "<style scoped>\n",
       "    .dataframe tbody tr th:only-of-type {\n",
       "        vertical-align: middle;\n",
       "    }\n",
       "\n",
       "    .dataframe tbody tr th {\n",
       "        vertical-align: top;\n",
       "    }\n",
       "\n",
       "    .dataframe thead th {\n",
       "        text-align: right;\n",
       "    }\n",
       "</style>\n",
       "<table border=\"1\" class=\"dataframe\">\n",
       "  <thead>\n",
       "    <tr style=\"text-align: right;\">\n",
       "      <th></th>\n",
       "      <th>right</th>\n",
       "      <th>not right</th>\n",
       "    </tr>\n",
       "  </thead>\n",
       "  <tbody>\n",
       "    <tr>\n",
       "      <th>donald trump</th>\n",
       "      <td>1088</td>\n",
       "      <td>1352.0</td>\n",
       "    </tr>\n",
       "    <tr>\n",
       "      <th>president trump</th>\n",
       "      <td>1187</td>\n",
       "      <td>904.0</td>\n",
       "    </tr>\n",
       "    <tr>\n",
       "      <th>president donald</th>\n",
       "      <td>932</td>\n",
       "      <td>673.0</td>\n",
       "    </tr>\n",
       "    <tr>\n",
       "      <th>white house</th>\n",
       "      <td>621</td>\n",
       "      <td>634.0</td>\n",
       "    </tr>\n",
       "    <tr>\n",
       "      <th>new york</th>\n",
       "      <td>481</td>\n",
       "      <td>420.0</td>\n",
       "    </tr>\n",
       "    <tr>\n",
       "      <th>kim jong</th>\n",
       "      <td>474</td>\n",
       "      <td>414.0</td>\n",
       "    </tr>\n",
       "    <tr>\n",
       "      <th>michael cohen</th>\n",
       "      <td>45</td>\n",
       "      <td>405.0</td>\n",
       "    </tr>\n",
       "    <tr>\n",
       "      <th>trump administration</th>\n",
       "      <td>257</td>\n",
       "      <td>400.0</td>\n",
       "    </tr>\n",
       "    <tr>\n",
       "      <th>north korea</th>\n",
       "      <td>473</td>\n",
       "      <td>386.0</td>\n",
       "    </tr>\n",
       "    <tr>\n",
       "      <th>north korean</th>\n",
       "      <td>313</td>\n",
       "      <td>254.0</td>\n",
       "    </tr>\n",
       "    <tr>\n",
       "      <th>special counsel</th>\n",
       "      <td>169</td>\n",
       "      <td>236.0</td>\n",
       "    </tr>\n",
       "    <tr>\n",
       "      <th>robert mueller</th>\n",
       "      <td>136</td>\n",
       "      <td>232.0</td>\n",
       "    </tr>\n",
       "    <tr>\n",
       "      <th>rudy giuliani</th>\n",
       "      <td>65</td>\n",
       "      <td>224.0</td>\n",
       "    </tr>\n",
       "    <tr>\n",
       "      <th>united states</th>\n",
       "      <td>314</td>\n",
       "      <td>223.0</td>\n",
       "    </tr>\n",
       "    <tr>\n",
       "      <th>stormy daniels</th>\n",
       "      <td>50</td>\n",
       "      <td>213.0</td>\n",
       "    </tr>\n",
       "  </tbody>\n",
       "</table>\n",
       "</div>"
      ],
      "text/plain": [
       "                      right  not right\n",
       "donald trump           1088     1352.0\n",
       "president trump        1187      904.0\n",
       "president donald        932      673.0\n",
       "white house             621      634.0\n",
       "new york                481      420.0\n",
       "kim jong                474      414.0\n",
       "michael cohen            45      405.0\n",
       "trump administration    257      400.0\n",
       "north korea             473      386.0\n",
       "north korean            313      254.0\n",
       "special counsel         169      236.0\n",
       "robert mueller          136      232.0\n",
       "rudy giuliani            65      224.0\n",
       "united states           314      223.0\n",
       "stormy daniels           50      213.0"
      ]
     },
     "execution_count": 156,
     "metadata": {},
     "output_type": "execute_result"
    }
   ],
   "source": [
    "desc_counts2.sort_values('not right',ascending=False).head(10)"
   ]
  },
  {
   "cell_type": "markdown",
   "metadata": {},
   "source": [
    "### TriGrams for Title"
   ]
  },
  {
   "cell_type": "code",
   "execution_count": 157,
   "metadata": {},
   "outputs": [],
   "source": [
    "cvec = CountVectorizer(preprocessor=stem.stem, ngram_range=(3,3), stop_words='english', min_df=5)\n",
    "cvec.fit(right_title)\n",
    "rt_counts3 = pd.DataFrame(cvec.transform(right_title).todense(),\n",
    "                         columns=cvec.get_feature_names())\n",
    "title_counts3 = rt_counts3.sum(axis=0)\n",
    "title_counts3 = pd.DataFrame(title_counts3.sort_values(ascending = False), columns=['right'])"
   ]
  },
  {
   "cell_type": "code",
   "execution_count": 158,
   "metadata": {},
   "outputs": [],
   "source": [
    "cvec = CountVectorizer(preprocessor=stem.stem, ngram_range=(3,3), stop_words='english', min_df=5)\n",
    "cvec.fit(notright_title)\n",
    "nrt_counts3 = pd.DataFrame(cvec.transform(notright_desc).todense(),\n",
    "                         columns=cvec.get_feature_names())\n",
    "nrt_counts3 = nrt_counts3.sum(axis=0)\n",
    "title_counts3['not right'] = nrt_counts3"
   ]
  },
  {
   "cell_type": "code",
   "execution_count": 159,
   "metadata": {},
   "outputs": [
    {
     "data": {
      "text/html": [
       "<div>\n",
       "<style scoped>\n",
       "    .dataframe tbody tr th:only-of-type {\n",
       "        vertical-align: middle;\n",
       "    }\n",
       "\n",
       "    .dataframe tbody tr th {\n",
       "        vertical-align: top;\n",
       "    }\n",
       "\n",
       "    .dataframe thead th {\n",
       "        text-align: right;\n",
       "    }\n",
       "</style>\n",
       "<table border=\"1\" class=\"dataframe\">\n",
       "  <thead>\n",
       "    <tr style=\"text-align: right;\">\n",
       "      <th></th>\n",
       "      <th>right</th>\n",
       "      <th>not right</th>\n",
       "    </tr>\n",
       "  </thead>\n",
       "  <tbody>\n",
       "    <tr>\n",
       "      <th>liberal judicial activism</th>\n",
       "      <td>104</td>\n",
       "      <td>NaN</td>\n",
       "    </tr>\n",
       "    <tr>\n",
       "      <th>day liberal judicial</th>\n",
       "      <td>104</td>\n",
       "      <td>NaN</td>\n",
       "    </tr>\n",
       "    <tr>\n",
       "      <th>north korea summit</th>\n",
       "      <td>76</td>\n",
       "      <td>38.0</td>\n",
       "    </tr>\n",
       "    <tr>\n",
       "      <th>trump kim summit</th>\n",
       "      <td>66</td>\n",
       "      <td>8.0</td>\n",
       "    </tr>\n",
       "    <tr>\n",
       "      <th>say fox new</th>\n",
       "      <td>53</td>\n",
       "      <td>NaN</td>\n",
       "    </tr>\n",
       "    <tr>\n",
       "      <th>says fox new</th>\n",
       "      <td>37</td>\n",
       "      <td>NaN</td>\n",
       "    </tr>\n",
       "    <tr>\n",
       "      <th>police say fox</th>\n",
       "      <td>34</td>\n",
       "      <td>NaN</td>\n",
       "    </tr>\n",
       "    <tr>\n",
       "      <th>report fox new</th>\n",
       "      <td>29</td>\n",
       "      <td>NaN</td>\n",
       "    </tr>\n",
       "    <tr>\n",
       "      <th>fox news rundown</th>\n",
       "      <td>27</td>\n",
       "      <td>NaN</td>\n",
       "    </tr>\n",
       "    <tr>\n",
       "      <th>south china sea</th>\n",
       "      <td>26</td>\n",
       "      <td>13.0</td>\n",
       "    </tr>\n",
       "    <tr>\n",
       "      <th>border patrol agents</th>\n",
       "      <td>24</td>\n",
       "      <td>NaN</td>\n",
       "    </tr>\n",
       "    <tr>\n",
       "      <th>new york times</th>\n",
       "      <td>23</td>\n",
       "      <td>155.0</td>\n",
       "    </tr>\n",
       "    <tr>\n",
       "      <th>trump kim jong</th>\n",
       "      <td>23</td>\n",
       "      <td>41.0</td>\n",
       "    </tr>\n",
       "    <tr>\n",
       "      <th>judicial activism june</th>\n",
       "      <td>22</td>\n",
       "      <td>NaN</td>\n",
       "    </tr>\n",
       "    <tr>\n",
       "      <th>cartoons day march</th>\n",
       "      <td>21</td>\n",
       "      <td>NaN</td>\n",
       "    </tr>\n",
       "  </tbody>\n",
       "</table>\n",
       "</div>"
      ],
      "text/plain": [
       "                           right  not right\n",
       "liberal judicial activism    104        NaN\n",
       "day liberal judicial         104        NaN\n",
       "north korea summit            76       38.0\n",
       "trump kim summit              66        8.0\n",
       "say fox new                   53        NaN\n",
       "says fox new                  37        NaN\n",
       "police say fox                34        NaN\n",
       "report fox new                29        NaN\n",
       "fox news rundown              27        NaN\n",
       "south china sea               26       13.0\n",
       "border patrol agents          24        NaN\n",
       "new york times                23      155.0\n",
       "trump kim jong                23       41.0\n",
       "judicial activism june        22        NaN\n",
       "cartoons day march            21        NaN"
      ]
     },
     "execution_count": 159,
     "metadata": {},
     "output_type": "execute_result"
    }
   ],
   "source": [
    "title_counts3.head(10)"
   ]
  },
  {
   "cell_type": "code",
   "execution_count": 160,
   "metadata": {},
   "outputs": [
    {
     "data": {
      "text/html": [
       "<div>\n",
       "<style scoped>\n",
       "    .dataframe tbody tr th:only-of-type {\n",
       "        vertical-align: middle;\n",
       "    }\n",
       "\n",
       "    .dataframe tbody tr th {\n",
       "        vertical-align: top;\n",
       "    }\n",
       "\n",
       "    .dataframe thead th {\n",
       "        text-align: right;\n",
       "    }\n",
       "</style>\n",
       "<table border=\"1\" class=\"dataframe\">\n",
       "  <thead>\n",
       "    <tr style=\"text-align: right;\">\n",
       "      <th></th>\n",
       "      <th>right</th>\n",
       "      <th>not right</th>\n",
       "    </tr>\n",
       "  </thead>\n",
       "  <tbody>\n",
       "    <tr>\n",
       "      <th>new york times</th>\n",
       "      <td>23</td>\n",
       "      <td>155.0</td>\n",
       "    </tr>\n",
       "    <tr>\n",
       "      <th>new york city</th>\n",
       "      <td>7</td>\n",
       "      <td>60.0</td>\n",
       "    </tr>\n",
       "    <tr>\n",
       "      <th>trump legal team</th>\n",
       "      <td>5</td>\n",
       "      <td>48.0</td>\n",
       "    </tr>\n",
       "    <tr>\n",
       "      <th>summit north korea</th>\n",
       "      <td>5</td>\n",
       "      <td>42.0</td>\n",
       "    </tr>\n",
       "    <tr>\n",
       "      <th>trump kim jong</th>\n",
       "      <td>23</td>\n",
       "      <td>41.0</td>\n",
       "    </tr>\n",
       "    <tr>\n",
       "      <th>trump white house</th>\n",
       "      <td>8</td>\n",
       "      <td>41.0</td>\n",
       "    </tr>\n",
       "    <tr>\n",
       "      <th>fe high school</th>\n",
       "      <td>7</td>\n",
       "      <td>39.0</td>\n",
       "    </tr>\n",
       "    <tr>\n",
       "      <th>santa fe high</th>\n",
       "      <td>9</td>\n",
       "      <td>38.0</td>\n",
       "    </tr>\n",
       "    <tr>\n",
       "      <th>north korea summit</th>\n",
       "      <td>76</td>\n",
       "      <td>38.0</td>\n",
       "    </tr>\n",
       "    <tr>\n",
       "      <th>donald trump jr</th>\n",
       "      <td>14</td>\n",
       "      <td>34.0</td>\n",
       "    </tr>\n",
       "    <tr>\n",
       "      <th>summit kim jong</th>\n",
       "      <td>15</td>\n",
       "      <td>27.0</td>\n",
       "    </tr>\n",
       "    <tr>\n",
       "      <th>meeting kim jong</th>\n",
       "      <td>14</td>\n",
       "      <td>26.0</td>\n",
       "    </tr>\n",
       "    <tr>\n",
       "      <th>stormy daniels lawyer</th>\n",
       "      <td>7</td>\n",
       "      <td>26.0</td>\n",
       "    </tr>\n",
       "    <tr>\n",
       "      <th>zero tolerance immigration</th>\n",
       "      <td>6</td>\n",
       "      <td>23.0</td>\n",
       "    </tr>\n",
       "    <tr>\n",
       "      <th>york attorney general</th>\n",
       "      <td>6</td>\n",
       "      <td>18.0</td>\n",
       "    </tr>\n",
       "  </tbody>\n",
       "</table>\n",
       "</div>"
      ],
      "text/plain": [
       "                            right  not right\n",
       "new york times                 23      155.0\n",
       "new york city                   7       60.0\n",
       "trump legal team                5       48.0\n",
       "summit north korea              5       42.0\n",
       "trump kim jong                 23       41.0\n",
       "trump white house               8       41.0\n",
       "fe high school                  7       39.0\n",
       "santa fe high                   9       38.0\n",
       "north korea summit             76       38.0\n",
       "donald trump jr                14       34.0\n",
       "summit kim jong                15       27.0\n",
       "meeting kim jong               14       26.0\n",
       "stormy daniels lawyer           7       26.0\n",
       "zero tolerance immigration      6       23.0\n",
       "york attorney general           6       18.0"
      ]
     },
     "execution_count": 160,
     "metadata": {},
     "output_type": "execute_result"
    }
   ],
   "source": [
    "title_counts3.sort_values('not right', ascending=False).head(10)"
   ]
  },
  {
   "cell_type": "markdown",
   "metadata": {},
   "source": [
    "### TriGrams for Description"
   ]
  },
  {
   "cell_type": "code",
   "execution_count": 161,
   "metadata": {},
   "outputs": [],
   "source": [
    "cvec = CountVectorizer(preprocessor=stem.stem, ngram_range=(3,3), stop_words='english', min_df=5)\n",
    "cvec.fit(right_desc)\n",
    "rd_counts3 = pd.DataFrame(cvec.transform(right_desc).todense(),\n",
    "                         columns=cvec.get_feature_names())\n",
    "desc_counts3 = rd_counts3.sum(axis=0)\n",
    "desc_counts3 = pd.DataFrame(desc_counts3.sort_values(ascending = False), columns=['right'])"
   ]
  },
  {
   "cell_type": "code",
   "execution_count": 162,
   "metadata": {},
   "outputs": [],
   "source": [
    "cvec = CountVectorizer(preprocessor=stem.stem, ngram_range=(3,3), stop_words='english', min_df=5)\n",
    "cvec.fit(notright_desc)\n",
    "nrd_counts3 = pd.DataFrame(cvec.transform(notright_desc).todense(),\n",
    "                         columns=cvec.get_feature_names())\n",
    "nrd_counts3 = nrd_counts3.sum(axis=0)\n",
    "desc_counts3['not right'] = nrd_counts3"
   ]
  },
  {
   "cell_type": "code",
   "execution_count": 163,
   "metadata": {},
   "outputs": [
    {
     "data": {
      "text/html": [
       "<div>\n",
       "<style scoped>\n",
       "    .dataframe tbody tr th:only-of-type {\n",
       "        vertical-align: middle;\n",
       "    }\n",
       "\n",
       "    .dataframe tbody tr th {\n",
       "        vertical-align: top;\n",
       "    }\n",
       "\n",
       "    .dataframe thead th {\n",
       "        text-align: right;\n",
       "    }\n",
       "</style>\n",
       "<table border=\"1\" class=\"dataframe\">\n",
       "  <thead>\n",
       "    <tr style=\"text-align: right;\">\n",
       "      <th></th>\n",
       "      <th>right</th>\n",
       "      <th>not right</th>\n",
       "    </tr>\n",
       "  </thead>\n",
       "  <tbody>\n",
       "    <tr>\n",
       "      <th>president donald trump</th>\n",
       "      <td>926</td>\n",
       "      <td>672.0</td>\n",
       "    </tr>\n",
       "    <tr>\n",
       "      <th>nationalreview com wp</th>\n",
       "      <td>238</td>\n",
       "      <td>NaN</td>\n",
       "    </tr>\n",
       "    <tr>\n",
       "      <th>com www nationalreview</th>\n",
       "      <td>238</td>\n",
       "      <td>NaN</td>\n",
       "    </tr>\n",
       "    <tr>\n",
       "      <th>wp com www</th>\n",
       "      <td>238</td>\n",
       "      <td>NaN</td>\n",
       "    </tr>\n",
       "    <tr>\n",
       "      <th>com wp content</th>\n",
       "      <td>238</td>\n",
       "      <td>NaN</td>\n",
       "    </tr>\n",
       "    <tr>\n",
       "      <th>wp content uploads</th>\n",
       "      <td>238</td>\n",
       "      <td>NaN</td>\n",
       "    </tr>\n",
       "    <tr>\n",
       "      <th>www nationalreview com</th>\n",
       "      <td>238</td>\n",
       "      <td>NaN</td>\n",
       "    </tr>\n",
       "    <tr>\n",
       "      <th>content uploads 2018</th>\n",
       "      <td>233</td>\n",
       "      <td>NaN</td>\n",
       "    </tr>\n",
       "    <tr>\n",
       "      <th>jpg fit 1024</th>\n",
       "      <td>218</td>\n",
       "      <td>NaN</td>\n",
       "    </tr>\n",
       "    <tr>\n",
       "      <th>1024 2c597 ssl</th>\n",
       "      <td>216</td>\n",
       "      <td>NaN</td>\n",
       "    </tr>\n",
       "    <tr>\n",
       "      <th>fit 1024 2c597</th>\n",
       "      <td>216</td>\n",
       "      <td>NaN</td>\n",
       "    </tr>\n",
       "    <tr>\n",
       "      <th>fox amp friends</th>\n",
       "      <td>162</td>\n",
       "      <td>NaN</td>\n",
       "    </tr>\n",
       "    <tr>\n",
       "      <th>fox news channel</th>\n",
       "      <td>142</td>\n",
       "      <td>NaN</td>\n",
       "    </tr>\n",
       "    <tr>\n",
       "      <th>dictator kim jong</th>\n",
       "      <td>125</td>\n",
       "      <td>21.0</td>\n",
       "    </tr>\n",
       "    <tr>\n",
       "      <th>new york times</th>\n",
       "      <td>118</td>\n",
       "      <td>155.0</td>\n",
       "    </tr>\n",
       "  </tbody>\n",
       "</table>\n",
       "</div>"
      ],
      "text/plain": [
       "                        right  not right\n",
       "president donald trump    926      672.0\n",
       "nationalreview com wp     238        NaN\n",
       "com www nationalreview    238        NaN\n",
       "wp com www                238        NaN\n",
       "com wp content            238        NaN\n",
       "wp content uploads        238        NaN\n",
       "www nationalreview com    238        NaN\n",
       "content uploads 2018      233        NaN\n",
       "jpg fit 1024              218        NaN\n",
       "1024 2c597 ssl            216        NaN\n",
       "fit 1024 2c597            216        NaN\n",
       "fox amp friends           162        NaN\n",
       "fox news channel          142        NaN\n",
       "dictator kim jong         125       21.0\n",
       "new york times            118      155.0"
      ]
     },
     "execution_count": 163,
     "metadata": {},
     "output_type": "execute_result"
    }
   ],
   "source": [
    "desc_counts3.head(10)"
   ]
  },
  {
   "cell_type": "code",
   "execution_count": 164,
   "metadata": {},
   "outputs": [
    {
     "data": {
      "text/html": [
       "<div>\n",
       "<style scoped>\n",
       "    .dataframe tbody tr th:only-of-type {\n",
       "        vertical-align: middle;\n",
       "    }\n",
       "\n",
       "    .dataframe tbody tr th {\n",
       "        vertical-align: top;\n",
       "    }\n",
       "\n",
       "    .dataframe thead th {\n",
       "        text-align: right;\n",
       "    }\n",
       "</style>\n",
       "<table border=\"1\" class=\"dataframe\">\n",
       "  <thead>\n",
       "    <tr style=\"text-align: right;\">\n",
       "      <th></th>\n",
       "      <th>right</th>\n",
       "      <th>not right</th>\n",
       "    </tr>\n",
       "  </thead>\n",
       "  <tbody>\n",
       "    <tr>\n",
       "      <th>president donald trump</th>\n",
       "      <td>926</td>\n",
       "      <td>672.0</td>\n",
       "    </tr>\n",
       "    <tr>\n",
       "      <th>north korean leader</th>\n",
       "      <td>102</td>\n",
       "      <td>158.0</td>\n",
       "    </tr>\n",
       "    <tr>\n",
       "      <th>new york times</th>\n",
       "      <td>118</td>\n",
       "      <td>155.0</td>\n",
       "    </tr>\n",
       "    <tr>\n",
       "      <th>leader kim jong</th>\n",
       "      <td>108</td>\n",
       "      <td>149.0</td>\n",
       "    </tr>\n",
       "    <tr>\n",
       "      <th>korean leader kim</th>\n",
       "      <td>91</td>\n",
       "      <td>133.0</td>\n",
       "    </tr>\n",
       "    <tr>\n",
       "      <th>special counsel robert</th>\n",
       "      <td>110</td>\n",
       "      <td>125.0</td>\n",
       "    </tr>\n",
       "    <tr>\n",
       "      <th>counsel robert mueller</th>\n",
       "      <td>108</td>\n",
       "      <td>122.0</td>\n",
       "    </tr>\n",
       "    <tr>\n",
       "      <th>fbi director james</th>\n",
       "      <td>60</td>\n",
       "      <td>81.0</td>\n",
       "    </tr>\n",
       "    <tr>\n",
       "      <th>director james comey</th>\n",
       "      <td>59</td>\n",
       "      <td>81.0</td>\n",
       "    </tr>\n",
       "    <tr>\n",
       "      <th>lawyer michael cohen</th>\n",
       "      <td>15</td>\n",
       "      <td>69.0</td>\n",
       "    </tr>\n",
       "    <tr>\n",
       "      <th>attorney general jeff</th>\n",
       "      <td>48</td>\n",
       "      <td>64.0</td>\n",
       "    </tr>\n",
       "    <tr>\n",
       "      <th>general jeff sessions</th>\n",
       "      <td>48</td>\n",
       "      <td>64.0</td>\n",
       "    </tr>\n",
       "    <tr>\n",
       "      <th>new york city</th>\n",
       "      <td>102</td>\n",
       "      <td>60.0</td>\n",
       "    </tr>\n",
       "    <tr>\n",
       "      <th>attorney michael cohen</th>\n",
       "      <td>9</td>\n",
       "      <td>59.0</td>\n",
       "    </tr>\n",
       "    <tr>\n",
       "      <th>zero tolerance policy</th>\n",
       "      <td>15</td>\n",
       "      <td>57.0</td>\n",
       "    </tr>\n",
       "  </tbody>\n",
       "</table>\n",
       "</div>"
      ],
      "text/plain": [
       "                        right  not right\n",
       "president donald trump    926      672.0\n",
       "north korean leader       102      158.0\n",
       "new york times            118      155.0\n",
       "leader kim jong           108      149.0\n",
       "korean leader kim          91      133.0\n",
       "special counsel robert    110      125.0\n",
       "counsel robert mueller    108      122.0\n",
       "fbi director james         60       81.0\n",
       "director james comey       59       81.0\n",
       "lawyer michael cohen       15       69.0\n",
       "attorney general jeff      48       64.0\n",
       "general jeff sessions      48       64.0\n",
       "new york city             102       60.0\n",
       "attorney michael cohen      9       59.0\n",
       "zero tolerance policy      15       57.0"
      ]
     },
     "execution_count": 164,
     "metadata": {},
     "output_type": "execute_result"
    }
   ],
   "source": [
    "desc_counts3.sort_values('not right',ascending=False).head(10)"
   ]
  },
  {
   "cell_type": "markdown",
   "metadata": {},
   "source": [
    "### QuadGrams for Title"
   ]
  },
  {
   "cell_type": "code",
   "execution_count": 165,
   "metadata": {},
   "outputs": [],
   "source": [
    "cvec = CountVectorizer(preprocessor=stem.stem, ngram_range=(4,4), stop_words='english', min_df=3)\n",
    "cvec.fit(right_title)\n",
    "rt_counts4 = pd.DataFrame(cvec.transform(right_title).todense(),\n",
    "                         columns=cvec.get_feature_names())\n",
    "title_counts4 = rt_counts4.sum(axis=0)\n",
    "title_counts4 = pd.DataFrame(title_counts4.sort_values(ascending = False), columns=['right'])"
   ]
  },
  {
   "cell_type": "code",
   "execution_count": 166,
   "metadata": {},
   "outputs": [],
   "source": [
    "cvec = CountVectorizer(preprocessor=stem.stem, ngram_range=(4,4), stop_words='english', min_df=3)\n",
    "cvec.fit(notright_title)\n",
    "nrt_counts4 = pd.DataFrame(cvec.transform(notright_desc).todense(),\n",
    "                         columns=cvec.get_feature_names())\n",
    "nrt_counts4 = nrt_counts4.sum(axis=0)\n",
    "title_counts4['not right'] = nrt_counts4"
   ]
  },
  {
   "cell_type": "code",
   "execution_count": 167,
   "metadata": {},
   "outputs": [
    {
     "data": {
      "text/html": [
       "<div>\n",
       "<style scoped>\n",
       "    .dataframe tbody tr th:only-of-type {\n",
       "        vertical-align: middle;\n",
       "    }\n",
       "\n",
       "    .dataframe tbody tr th {\n",
       "        vertical-align: top;\n",
       "    }\n",
       "\n",
       "    .dataframe thead th {\n",
       "        text-align: right;\n",
       "    }\n",
       "</style>\n",
       "<table border=\"1\" class=\"dataframe\">\n",
       "  <thead>\n",
       "    <tr style=\"text-align: right;\">\n",
       "      <th></th>\n",
       "      <th>right</th>\n",
       "      <th>not right</th>\n",
       "    </tr>\n",
       "  </thead>\n",
       "  <tbody>\n",
       "    <tr>\n",
       "      <th>day liberal judicial activism</th>\n",
       "      <td>104</td>\n",
       "      <td>NaN</td>\n",
       "    </tr>\n",
       "    <tr>\n",
       "      <th>police say fox new</th>\n",
       "      <td>34</td>\n",
       "      <td>NaN</td>\n",
       "    </tr>\n",
       "    <tr>\n",
       "      <th>liberal judicial activism june</th>\n",
       "      <td>22</td>\n",
       "      <td>NaN</td>\n",
       "    </tr>\n",
       "    <tr>\n",
       "      <th>liberal judicial activism march</th>\n",
       "      <td>20</td>\n",
       "      <td>NaN</td>\n",
       "    </tr>\n",
       "    <tr>\n",
       "      <th>liberal judicial activism february</th>\n",
       "      <td>19</td>\n",
       "      <td>NaN</td>\n",
       "    </tr>\n",
       "    <tr>\n",
       "      <th>liberal judicial activism april</th>\n",
       "      <td>19</td>\n",
       "      <td>NaN</td>\n",
       "    </tr>\n",
       "    <tr>\n",
       "      <th>report says fox new</th>\n",
       "      <td>13</td>\n",
       "      <td>NaN</td>\n",
       "    </tr>\n",
       "    <tr>\n",
       "      <th>things caught eye today</th>\n",
       "      <td>11</td>\n",
       "      <td>NaN</td>\n",
       "    </tr>\n",
       "    <tr>\n",
       "      <th>national review summer internship</th>\n",
       "      <td>9</td>\n",
       "      <td>NaN</td>\n",
       "    </tr>\n",
       "    <tr>\n",
       "      <th>fashion notes melania trump</th>\n",
       "      <td>9</td>\n",
       "      <td>NaN</td>\n",
       "    </tr>\n",
       "    <tr>\n",
       "      <th>north korea kim jong</th>\n",
       "      <td>9</td>\n",
       "      <td>NaN</td>\n",
       "    </tr>\n",
       "    <tr>\n",
       "      <th>sector union dues cas</th>\n",
       "      <td>7</td>\n",
       "      <td>NaN</td>\n",
       "    </tr>\n",
       "    <tr>\n",
       "      <th>ms 13 gang members</th>\n",
       "      <td>7</td>\n",
       "      <td>NaN</td>\n",
       "    </tr>\n",
       "    <tr>\n",
       "      <th>santa fe high school</th>\n",
       "      <td>7</td>\n",
       "      <td>38.0</td>\n",
       "    </tr>\n",
       "    <tr>\n",
       "      <th>public sector union dues</th>\n",
       "      <td>7</td>\n",
       "      <td>NaN</td>\n",
       "    </tr>\n",
       "  </tbody>\n",
       "</table>\n",
       "</div>"
      ],
      "text/plain": [
       "                                    right  not right\n",
       "day liberal judicial activism         104        NaN\n",
       "police say fox new                     34        NaN\n",
       "liberal judicial activism june         22        NaN\n",
       "liberal judicial activism march        20        NaN\n",
       "liberal judicial activism february     19        NaN\n",
       "liberal judicial activism april        19        NaN\n",
       "report says fox new                    13        NaN\n",
       "things caught eye today                11        NaN\n",
       "national review summer internship       9        NaN\n",
       "fashion notes melania trump             9        NaN\n",
       "north korea kim jong                    9        NaN\n",
       "sector union dues cas                   7        NaN\n",
       "ms 13 gang members                      7        NaN\n",
       "santa fe high school                    7       38.0\n",
       "public sector union dues                7        NaN"
      ]
     },
     "execution_count": 167,
     "metadata": {},
     "output_type": "execute_result"
    }
   ],
   "source": [
    "title_counts4.head(10)"
   ]
  },
  {
   "cell_type": "code",
   "execution_count": 168,
   "metadata": {},
   "outputs": [
    {
     "data": {
      "text/html": [
       "<div>\n",
       "<style scoped>\n",
       "    .dataframe tbody tr th:only-of-type {\n",
       "        vertical-align: middle;\n",
       "    }\n",
       "\n",
       "    .dataframe tbody tr th {\n",
       "        vertical-align: top;\n",
       "    }\n",
       "\n",
       "    .dataframe thead th {\n",
       "        text-align: right;\n",
       "    }\n",
       "</style>\n",
       "<table border=\"1\" class=\"dataframe\">\n",
       "  <thead>\n",
       "    <tr style=\"text-align: right;\">\n",
       "      <th></th>\n",
       "      <th>right</th>\n",
       "      <th>not right</th>\n",
       "    </tr>\n",
       "  </thead>\n",
       "  <tbody>\n",
       "    <tr>\n",
       "      <th>santa fe high school</th>\n",
       "      <td>7</td>\n",
       "      <td>38.0</td>\n",
       "    </tr>\n",
       "    <tr>\n",
       "      <th>new york attorney general</th>\n",
       "      <td>6</td>\n",
       "      <td>18.0</td>\n",
       "    </tr>\n",
       "    <tr>\n",
       "      <th>white house correspondents dinner</th>\n",
       "      <td>5</td>\n",
       "      <td>12.0</td>\n",
       "    </tr>\n",
       "    <tr>\n",
       "      <th>attorney general eric schneiderman</th>\n",
       "      <td>3</td>\n",
       "      <td>7.0</td>\n",
       "    </tr>\n",
       "    <tr>\n",
       "      <th>summit north korea kim</th>\n",
       "      <td>3</td>\n",
       "      <td>7.0</td>\n",
       "    </tr>\n",
       "    <tr>\n",
       "      <th>trump meeting kim jong</th>\n",
       "      <td>6</td>\n",
       "      <td>3.0</td>\n",
       "    </tr>\n",
       "    <tr>\n",
       "      <th>dhs secretary kirstjen nielsen</th>\n",
       "      <td>3</td>\n",
       "      <td>3.0</td>\n",
       "    </tr>\n",
       "    <tr>\n",
       "      <th>elon musk boring company</th>\n",
       "      <td>4</td>\n",
       "      <td>1.0</td>\n",
       "    </tr>\n",
       "    <tr>\n",
       "      <th>designer kate spade dead</th>\n",
       "      <td>4</td>\n",
       "      <td>1.0</td>\n",
       "    </tr>\n",
       "    <tr>\n",
       "      <th>waffle house shooting suspect</th>\n",
       "      <td>3</td>\n",
       "      <td>1.0</td>\n",
       "    </tr>\n",
       "    <tr>\n",
       "      <th>zero tolerance immigration polici</th>\n",
       "      <td>4</td>\n",
       "      <td>0.0</td>\n",
       "    </tr>\n",
       "    <tr>\n",
       "      <th>trump north korea summit</th>\n",
       "      <td>4</td>\n",
       "      <td>0.0</td>\n",
       "    </tr>\n",
       "    <tr>\n",
       "      <th>santa fe school shooting</th>\n",
       "      <td>3</td>\n",
       "      <td>0.0</td>\n",
       "    </tr>\n",
       "    <tr>\n",
       "      <th>mtv movie tv award</th>\n",
       "      <td>3</td>\n",
       "      <td>0.0</td>\n",
       "    </tr>\n",
       "    <tr>\n",
       "      <th>day liberal judicial activism</th>\n",
       "      <td>104</td>\n",
       "      <td>NaN</td>\n",
       "    </tr>\n",
       "  </tbody>\n",
       "</table>\n",
       "</div>"
      ],
      "text/plain": [
       "                                    right  not right\n",
       "santa fe high school                    7       38.0\n",
       "new york attorney general               6       18.0\n",
       "white house correspondents dinner       5       12.0\n",
       "attorney general eric schneiderman      3        7.0\n",
       "summit north korea kim                  3        7.0\n",
       "trump meeting kim jong                  6        3.0\n",
       "dhs secretary kirstjen nielsen          3        3.0\n",
       "elon musk boring company                4        1.0\n",
       "designer kate spade dead                4        1.0\n",
       "waffle house shooting suspect           3        1.0\n",
       "zero tolerance immigration polici       4        0.0\n",
       "trump north korea summit                4        0.0\n",
       "santa fe school shooting                3        0.0\n",
       "mtv movie tv award                      3        0.0\n",
       "day liberal judicial activism         104        NaN"
      ]
     },
     "execution_count": 168,
     "metadata": {},
     "output_type": "execute_result"
    }
   ],
   "source": [
    "title_counts4.sort_values('not right', ascending=False).head(15)"
   ]
  },
  {
   "cell_type": "markdown",
   "metadata": {},
   "source": [
    "### QuadGrams for Description"
   ]
  },
  {
   "cell_type": "code",
   "execution_count": 169,
   "metadata": {},
   "outputs": [],
   "source": [
    "cvec = CountVectorizer(preprocessor=stem.stem, ngram_range=(4,4), stop_words=cust_stop_words, min_df=5)\n",
    "cvec.fit(right_desc)\n",
    "rd_counts4 = pd.DataFrame(cvec.transform(right_desc).todense(),\n",
    "                         columns=cvec.get_feature_names())\n",
    "desc_counts4 = rd_counts4.sum(axis=0)\n",
    "desc_counts4 = pd.DataFrame(desc_counts4.sort_values(ascending = False), columns=['right'])"
   ]
  },
  {
   "cell_type": "code",
   "execution_count": 170,
   "metadata": {},
   "outputs": [],
   "source": [
    "cvec = CountVectorizer(preprocessor=stem.stem, ngram_range=(4,4), stop_words=cust_stop_words, min_df=5)\n",
    "cvec.fit(notright_desc)\n",
    "nrd_counts4 = pd.DataFrame(cvec.transform(notright_desc).todense(),\n",
    "                         columns=cvec.get_feature_names())\n",
    "nrd_counts4 = nrd_counts4.sum(axis=0)\n",
    "desc_counts4['not right'] = nrd_counts4"
   ]
  },
  {
   "cell_type": "code",
   "execution_count": 171,
   "metadata": {},
   "outputs": [
    {
     "data": {
      "text/html": [
       "<div>\n",
       "<style scoped>\n",
       "    .dataframe tbody tr th:only-of-type {\n",
       "        vertical-align: middle;\n",
       "    }\n",
       "\n",
       "    .dataframe tbody tr th {\n",
       "        vertical-align: top;\n",
       "    }\n",
       "\n",
       "    .dataframe thead th {\n",
       "        text-align: right;\n",
       "    }\n",
       "</style>\n",
       "<table border=\"1\" class=\"dataframe\">\n",
       "  <thead>\n",
       "    <tr style=\"text-align: right;\">\n",
       "      <th></th>\n",
       "      <th>right</th>\n",
       "      <th>not right</th>\n",
       "    </tr>\n",
       "  </thead>\n",
       "  <tbody>\n",
       "    <tr>\n",
       "      <th>com wp content uploads</th>\n",
       "      <td>238</td>\n",
       "      <td>NaN</td>\n",
       "    </tr>\n",
       "    <tr>\n",
       "      <th>wp com com wp</th>\n",
       "      <td>238</td>\n",
       "      <td>NaN</td>\n",
       "    </tr>\n",
       "    <tr>\n",
       "      <th>com com wp content</th>\n",
       "      <td>238</td>\n",
       "      <td>NaN</td>\n",
       "    </tr>\n",
       "    <tr>\n",
       "      <th>wp content uploads 2018</th>\n",
       "      <td>233</td>\n",
       "      <td>NaN</td>\n",
       "    </tr>\n",
       "    <tr>\n",
       "      <th>fit 1024 2c597 ssl</th>\n",
       "      <td>216</td>\n",
       "      <td>NaN</td>\n",
       "    </tr>\n",
       "    <tr>\n",
       "      <th>jpg fit 1024 2c597</th>\n",
       "      <td>209</td>\n",
       "      <td>NaN</td>\n",
       "    </tr>\n",
       "    <tr>\n",
       "      <th>dictator kim jong un</th>\n",
       "      <td>125</td>\n",
       "      <td>21.0</td>\n",
       "    </tr>\n",
       "    <tr>\n",
       "      <th>leader kim jong un</th>\n",
       "      <td>108</td>\n",
       "      <td>148.0</td>\n",
       "    </tr>\n",
       "    <tr>\n",
       "      <th>special counsel robert mueller</th>\n",
       "      <td>108</td>\n",
       "      <td>122.0</td>\n",
       "    </tr>\n",
       "    <tr>\n",
       "      <th>north korean dictator kim</th>\n",
       "      <td>94</td>\n",
       "      <td>17.0</td>\n",
       "    </tr>\n",
       "    <tr>\n",
       "      <th>korean dictator kim jong</th>\n",
       "      <td>94</td>\n",
       "      <td>16.0</td>\n",
       "    </tr>\n",
       "    <tr>\n",
       "      <th>north korean leader kim</th>\n",
       "      <td>91</td>\n",
       "      <td>133.0</td>\n",
       "    </tr>\n",
       "    <tr>\n",
       "      <th>korean leader kim jong</th>\n",
       "      <td>90</td>\n",
       "      <td>132.0</td>\n",
       "    </tr>\n",
       "    <tr>\n",
       "      <th>https i0 wp com</th>\n",
       "      <td>83</td>\n",
       "      <td>NaN</td>\n",
       "    </tr>\n",
       "    <tr>\n",
       "      <th>i0 wp com com</th>\n",
       "      <td>83</td>\n",
       "      <td>NaN</td>\n",
       "    </tr>\n",
       "  </tbody>\n",
       "</table>\n",
       "</div>"
      ],
      "text/plain": [
       "                                right  not right\n",
       "com wp content uploads            238        NaN\n",
       "wp com com wp                     238        NaN\n",
       "com com wp content                238        NaN\n",
       "wp content uploads 2018           233        NaN\n",
       "fit 1024 2c597 ssl                216        NaN\n",
       "jpg fit 1024 2c597                209        NaN\n",
       "dictator kim jong un              125       21.0\n",
       "leader kim jong un                108      148.0\n",
       "special counsel robert mueller    108      122.0\n",
       "north korean dictator kim          94       17.0\n",
       "korean dictator kim jong           94       16.0\n",
       "north korean leader kim            91      133.0\n",
       "korean leader kim jong             90      132.0\n",
       "https i0 wp com                    83        NaN\n",
       "i0 wp com com                      83        NaN"
      ]
     },
     "execution_count": 171,
     "metadata": {},
     "output_type": "execute_result"
    }
   ],
   "source": [
    "desc_counts4.head(10)"
   ]
  },
  {
   "cell_type": "code",
   "execution_count": 172,
   "metadata": {},
   "outputs": [
    {
     "data": {
      "text/html": [
       "<div>\n",
       "<style scoped>\n",
       "    .dataframe tbody tr th:only-of-type {\n",
       "        vertical-align: middle;\n",
       "    }\n",
       "\n",
       "    .dataframe tbody tr th {\n",
       "        vertical-align: top;\n",
       "    }\n",
       "\n",
       "    .dataframe thead th {\n",
       "        text-align: right;\n",
       "    }\n",
       "</style>\n",
       "<table border=\"1\" class=\"dataframe\">\n",
       "  <thead>\n",
       "    <tr style=\"text-align: right;\">\n",
       "      <th></th>\n",
       "      <th>right</th>\n",
       "      <th>not right</th>\n",
       "    </tr>\n",
       "  </thead>\n",
       "  <tbody>\n",
       "    <tr>\n",
       "      <th>leader kim jong un</th>\n",
       "      <td>108</td>\n",
       "      <td>148.0</td>\n",
       "    </tr>\n",
       "    <tr>\n",
       "      <th>north korean leader kim</th>\n",
       "      <td>91</td>\n",
       "      <td>133.0</td>\n",
       "    </tr>\n",
       "    <tr>\n",
       "      <th>korean leader kim jong</th>\n",
       "      <td>90</td>\n",
       "      <td>132.0</td>\n",
       "    </tr>\n",
       "    <tr>\n",
       "      <th>special counsel robert mueller</th>\n",
       "      <td>108</td>\n",
       "      <td>122.0</td>\n",
       "    </tr>\n",
       "    <tr>\n",
       "      <th>fbi director james comey</th>\n",
       "      <td>59</td>\n",
       "      <td>81.0</td>\n",
       "    </tr>\n",
       "    <tr>\n",
       "      <th>attorney general jeff sessions</th>\n",
       "      <td>48</td>\n",
       "      <td>63.0</td>\n",
       "    </tr>\n",
       "    <tr>\n",
       "      <th>former fbi director james</th>\n",
       "      <td>46</td>\n",
       "      <td>62.0</td>\n",
       "    </tr>\n",
       "    <tr>\n",
       "      <th>white house press secretary</th>\n",
       "      <td>69</td>\n",
       "      <td>47.0</td>\n",
       "    </tr>\n",
       "    <tr>\n",
       "      <th>secretary state mike pompeo</th>\n",
       "      <td>53</td>\n",
       "      <td>47.0</td>\n",
       "    </tr>\n",
       "    <tr>\n",
       "      <th>trump north korean leader</th>\n",
       "      <td>26</td>\n",
       "      <td>45.0</td>\n",
       "    </tr>\n",
       "    <tr>\n",
       "      <th>trump kim jong un</th>\n",
       "      <td>43</td>\n",
       "      <td>41.0</td>\n",
       "    </tr>\n",
       "    <tr>\n",
       "      <th>santa fe high school</th>\n",
       "      <td>20</td>\n",
       "      <td>38.0</td>\n",
       "    </tr>\n",
       "    <tr>\n",
       "      <th>us president donald trump</th>\n",
       "      <td>7</td>\n",
       "      <td>36.0</td>\n",
       "    </tr>\n",
       "    <tr>\n",
       "      <th>house press secretary sarah</th>\n",
       "      <td>43</td>\n",
       "      <td>35.0</td>\n",
       "    </tr>\n",
       "    <tr>\n",
       "      <th>first lady melania trump</th>\n",
       "      <td>60</td>\n",
       "      <td>35.0</td>\n",
       "    </tr>\n",
       "  </tbody>\n",
       "</table>\n",
       "</div>"
      ],
      "text/plain": [
       "                                right  not right\n",
       "leader kim jong un                108      148.0\n",
       "north korean leader kim            91      133.0\n",
       "korean leader kim jong             90      132.0\n",
       "special counsel robert mueller    108      122.0\n",
       "fbi director james comey           59       81.0\n",
       "attorney general jeff sessions     48       63.0\n",
       "former fbi director james          46       62.0\n",
       "white house press secretary        69       47.0\n",
       "secretary state mike pompeo        53       47.0\n",
       "trump north korean leader          26       45.0\n",
       "trump kim jong un                  43       41.0\n",
       "santa fe high school               20       38.0\n",
       "us president donald trump           7       36.0\n",
       "house press secretary sarah        43       35.0\n",
       "first lady melania trump           60       35.0"
      ]
     },
     "execution_count": 172,
     "metadata": {},
     "output_type": "execute_result"
    }
   ],
   "source": [
    "desc_counts4.sort_values('not right', ascending=False).head(10)"
   ]
  },
  {
   "cell_type": "markdown",
   "metadata": {},
   "source": [
    "<a id=\"modeling\"></a>\n",
    "# Modeling\n",
    "[Return to Index](#contents)"
   ]
  },
  {
   "cell_type": "code",
   "execution_count": 66,
   "metadata": {},
   "outputs": [],
   "source": [
    "text = pd.read_csv('./text2.csv').drop('Unnamed: 0', axis=1)\n",
    "df = pd.read_csv('./df2.csv').drop('Unnamed: 0', axis=1)"
   ]
  },
  {
   "cell_type": "code",
   "execution_count": 91,
   "metadata": {},
   "outputs": [],
   "source": [
    "cust_stop_words = ['CNN', 'cnn', 'NR','nr','jpg','ssl',\n",
    "                    'huffpost','fox','reuters','ap', 'AP', 'vice','breitbart',\n",
    "                   'nationalreview', 'www','msnbc', 'infowars', 'foxnews','Vice','Breitbart',\n",
    "                  'National Review','Fox News','Reuters','Fast Facts','Infowars','Vice','MSNBC',\n",
    "                   'www', 'AP','Huffpost','HuffPost', 'huffpost'\n",
    "                  ]\n",
    "from sklearn.feature_extraction.text import ENGLISH_STOP_WORDS\n",
    "original_stopwords = list(ENGLISH_STOP_WORDS)\n",
    "cust_stop_words += original_stopwords"
   ]
  },
  {
   "cell_type": "code",
   "execution_count": 141,
   "metadata": {},
   "outputs": [],
   "source": [
    "stop_grams = ['national review','National Review','Fox News','Content Uploads','content uploads','fox news',\n",
    "             'Associated Press','associated press','Fox amp Friends','Rachel Maddow','Morning Joe',\n",
    "              'morning joe', 'Breitbart News', 'fast facts', 'Fast Facts','Fox &', 'Fox & Friends', 'Ali Velshi',\n",
    "             'Stephanie Ruhle','Raw video', ' & Friends', 'Ari Melber','amp Friends']"
   ]
  },
  {
   "cell_type": "code",
   "execution_count": 69,
   "metadata": {},
   "outputs": [],
   "source": [
    "# For text data only\n",
    "X = text['combined']\n",
    "y = text['yes_right']"
   ]
  },
  {
   "cell_type": "code",
   "execution_count": 70,
   "metadata": {},
   "outputs": [],
   "source": [
    "X_train, X_test, y_train, y_test = train_test_split(X, y, random_state=42, stratify=y)"
   ]
  },
  {
   "cell_type": "markdown",
   "metadata": {},
   "source": [
    "<a id=\"text-only\"></a>\n",
    "### Text Features Only\n",
    "#### Simple CountVec\n",
    "[Return to Index](#contents)"
   ]
  },
  {
   "cell_type": "code",
   "execution_count": 536,
   "metadata": {},
   "outputs": [],
   "source": [
    "cvec = CountVectorizer(preprocessor=lemmatizer.lemmatize,\n",
    "#                        tokenizer=tokenizer.tokenize,\n",
    "                       strip_accents='ascii',\n",
    "                       ngram_range=(2,4),\n",
    "                       stop_words=cust_stop_words,\n",
    "                       min_df=5)"
   ]
  },
  {
   "cell_type": "code",
   "execution_count": 537,
   "metadata": {},
   "outputs": [
    {
     "data": {
      "text/plain": [
       "CountVectorizer(analyzer='word', binary=False, decode_error='strict',\n",
       "        dtype=<class 'numpy.int64'>, encoding='utf-8', input='content',\n",
       "        lowercase=True, max_df=1.0, max_features=None, min_df=5,\n",
       "        ngram_range=(2, 4),\n",
       "        preprocessor=<bound method WordNetLemmatizer.lemmatize of <WordNetLemmatizer>>,\n",
       "        stop_words=['CNN', 'cnn', 'NR', 'national review', 'huffpost', 'fox', 'reuters', 'ap', 'associated press', 'vice', 'breitbart', 'nationalreview', 'www', 'content uploads', 'msnbc', 'infowars', 'foxnews', 'Vice', 'Breitbart', 'National Review', 'Fox News', 'Reuters', 'Fast Facts', 'Infowars', 'Vice',...', 'between', 'toward', 'who', 'her', 'noone', 'beyond', 'eg', 'yours', 'front', 'myself', 'beside'],\n",
       "        strip_accents='ascii', token_pattern='(?u)\\\\b\\\\w\\\\w+\\\\b',\n",
       "        tokenizer=None, vocabulary=None)"
      ]
     },
     "execution_count": 537,
     "metadata": {},
     "output_type": "execute_result"
    }
   ],
   "source": [
    "cvec.fit(X_train, y_train)"
   ]
  },
  {
   "cell_type": "code",
   "execution_count": 538,
   "metadata": {},
   "outputs": [],
   "source": [
    "X_feats = pd.DataFrame(cvec.transform(X_train).todense(), columns=cvec.get_feature_names())"
   ]
  },
  {
   "cell_type": "code",
   "execution_count": 539,
   "metadata": {},
   "outputs": [
    {
     "data": {
      "text/plain": [
       "Donald Trump              2199\n",
       "President Trump           1795\n",
       "White House               1292\n",
       "North Korea               1220\n",
       "President Donald          1220\n",
       "President Donald Trump    1216\n",
       "Kim Jong                   946\n",
       "New York                   803\n",
       "Jong Un                    758\n",
       "Kim Jong Un                756\n",
       "Trump administration       524\n",
       "Michael Cohen              512\n",
       "North Korean               493\n",
       "year old                   479\n",
       "United States              434\n",
       "Supreme Court              403\n",
       "Stormy Daniels             324\n",
       "Robert Mueller             316\n",
       "World Cup                  275\n",
       "Rudy Giuliani              262\n",
       "dtype: int64"
      ]
     },
     "execution_count": 539,
     "metadata": {},
     "output_type": "execute_result"
    }
   ],
   "source": [
    "word_counts = X_feats.sum(axis=0)\n",
    "word_counts.sort_values(ascending = False).head(20)"
   ]
  },
  {
   "cell_type": "code",
   "execution_count": 540,
   "metadata": {},
   "outputs": [],
   "source": [
    "cv_train = cvec.transform(X_train).todense()\n",
    "cv_test = cvec.transform(X_test).todense()"
   ]
  },
  {
   "cell_type": "code",
   "execution_count": 541,
   "metadata": {},
   "outputs": [
    {
     "data": {
      "text/plain": [
       "LogisticRegression(C=1.0, class_weight=None, dual=False, fit_intercept=True,\n",
       "          intercept_scaling=1, max_iter=100, multi_class='ovr', n_jobs=1,\n",
       "          penalty='l2', random_state=42, solver='liblinear', tol=0.0001,\n",
       "          verbose=0, warm_start=False)"
      ]
     },
     "execution_count": 541,
     "metadata": {},
     "output_type": "execute_result"
    }
   ],
   "source": [
    "lr = LogisticRegression(random_state=42)\n",
    "lr.fit(cv_train, y_train)"
   ]
  },
  {
   "cell_type": "code",
   "execution_count": 542,
   "metadata": {},
   "outputs": [
    {
     "data": {
      "text/plain": [
       "0.85502894356005787"
      ]
     },
     "execution_count": 542,
     "metadata": {},
     "output_type": "execute_result"
    }
   ],
   "source": [
    "lr.score(cv_train, y_train)"
   ]
  },
  {
   "cell_type": "code",
   "execution_count": 543,
   "metadata": {},
   "outputs": [
    {
     "data": {
      "text/plain": [
       "0.73485999565878013"
      ]
     },
     "execution_count": 543,
     "metadata": {},
     "output_type": "execute_result"
    }
   ],
   "source": [
    "lr.score(cv_test, y_test)"
   ]
  },
  {
   "cell_type": "code",
   "execution_count": 544,
   "metadata": {},
   "outputs": [
    {
     "name": "stdout",
     "output_type": "stream",
     "text": [
      "             precision    recall  f1-score   support\n",
      "\n",
      "          0       0.72      0.83      0.77      4927\n",
      "          1       0.76      0.62      0.69      4287\n",
      "\n",
      "avg / total       0.74      0.73      0.73      9214\n",
      "\n"
     ]
    }
   ],
   "source": [
    "print(classification_report(y_test, lr.predict(cv_test)))"
   ]
  },
  {
   "cell_type": "code",
   "execution_count": 545,
   "metadata": {},
   "outputs": [
    {
     "name": "stdout",
     "output_type": "stream",
     "text": [
      "[[4108  819]\n",
      " [1624 2663]]\n"
     ]
    }
   ],
   "source": [
    "print(confusion_matrix(y_test, lr.predict(cv_test)))"
   ]
  },
  {
   "cell_type": "code",
   "execution_count": 532,
   "metadata": {},
   "outputs": [
    {
     "data": {
      "text/plain": [
       "0.76828938361734167"
      ]
     },
     "execution_count": 532,
     "metadata": {},
     "output_type": "execute_result"
    }
   ],
   "source": [
    "cross_val_score(lr, cv_test, y_test, cv=7, scoring='accuracy').mean()"
   ]
  },
  {
   "cell_type": "code",
   "execution_count": 546,
   "metadata": {},
   "outputs": [],
   "source": [
    "cfs = lr.coef_[0]\n",
    "fts = cvec.get_feature_names()"
   ]
  },
  {
   "cell_type": "code",
   "execution_count": 547,
   "metadata": {},
   "outputs": [
    {
     "data": {
      "text/html": [
       "<div>\n",
       "<style scoped>\n",
       "    .dataframe tbody tr th:only-of-type {\n",
       "        vertical-align: middle;\n",
       "    }\n",
       "\n",
       "    .dataframe tbody tr th {\n",
       "        vertical-align: top;\n",
       "    }\n",
       "\n",
       "    .dataframe thead th {\n",
       "        text-align: right;\n",
       "    }\n",
       "</style>\n",
       "<table border=\"1\" class=\"dataframe\">\n",
       "  <thead>\n",
       "    <tr style=\"text-align: right;\">\n",
       "      <th></th>\n",
       "      <th>feat</th>\n",
       "      <th>abs</th>\n",
       "      <th>coef</th>\n",
       "    </tr>\n",
       "  </thead>\n",
       "  <tbody>\n",
       "    <tr>\n",
       "      <th>8273</th>\n",
       "      <td>We speak</td>\n",
       "      <td>2.772455</td>\n",
       "      <td>-2.772455</td>\n",
       "    </tr>\n",
       "    <tr>\n",
       "      <th>5504</th>\n",
       "      <td>Raw video</td>\n",
       "      <td>2.614837</td>\n",
       "      <td>2.614837</td>\n",
       "    </tr>\n",
       "    <tr>\n",
       "      <th>485</th>\n",
       "      <td>Ali Velshi</td>\n",
       "      <td>2.586766</td>\n",
       "      <td>-2.586766</td>\n",
       "    </tr>\n",
       "    <tr>\n",
       "      <th>8610</th>\n",
       "      <td>Your World</td>\n",
       "      <td>2.576522</td>\n",
       "      <td>2.576522</td>\n",
       "    </tr>\n",
       "    <tr>\n",
       "      <th>6597</th>\n",
       "      <td>TEL AVIV</td>\n",
       "      <td>2.547240</td>\n",
       "      <td>2.547240</td>\n",
       "    </tr>\n",
       "    <tr>\n",
       "      <th>12552</th>\n",
       "      <td>talks Rachel</td>\n",
       "      <td>2.407425</td>\n",
       "      <td>-2.407425</td>\n",
       "    </tr>\n",
       "    <tr>\n",
       "      <th>8153</th>\n",
       "      <td>Visit post</td>\n",
       "      <td>2.397209</td>\n",
       "      <td>2.397209</td>\n",
       "    </tr>\n",
       "    <tr>\n",
       "      <th>6444</th>\n",
       "      <td>Stephanie Ruhle</td>\n",
       "      <td>2.392614</td>\n",
       "      <td>-2.392614</td>\n",
       "    </tr>\n",
       "    <tr>\n",
       "      <th>4740</th>\n",
       "      <td>News News</td>\n",
       "      <td>2.308490</td>\n",
       "      <td>2.308490</td>\n",
       "    </tr>\n",
       "    <tr>\n",
       "      <th>5487</th>\n",
       "      <td>Rachel reports</td>\n",
       "      <td>2.206523</td>\n",
       "      <td>-2.206523</td>\n",
       "    </tr>\n",
       "    <tr>\n",
       "      <th>7272</th>\n",
       "      <td>Today Comic</td>\n",
       "      <td>2.139608</td>\n",
       "      <td>-2.139608</td>\n",
       "    </tr>\n",
       "    <tr>\n",
       "      <th>9864</th>\n",
       "      <td>far left</td>\n",
       "      <td>2.125390</td>\n",
       "      <td>2.125390</td>\n",
       "    </tr>\n",
       "    <tr>\n",
       "      <th>700</th>\n",
       "      <td>Ari Melber</td>\n",
       "      <td>2.028391</td>\n",
       "      <td>-2.028391</td>\n",
       "    </tr>\n",
       "    <tr>\n",
       "      <th>2228</th>\n",
       "      <td>Fake News</td>\n",
       "      <td>2.004373</td>\n",
       "      <td>2.004373</td>\n",
       "    </tr>\n",
       "    <tr>\n",
       "      <th>748</th>\n",
       "      <td>At The</td>\n",
       "      <td>1.968795</td>\n",
       "      <td>-1.968795</td>\n",
       "    </tr>\n",
       "    <tr>\n",
       "      <th>4226</th>\n",
       "      <td>Meet Midterms</td>\n",
       "      <td>1.964083</td>\n",
       "      <td>-1.964083</td>\n",
       "    </tr>\n",
       "    <tr>\n",
       "      <th>4143</th>\n",
       "      <td>Masters Universe</td>\n",
       "      <td>1.959815</td>\n",
       "      <td>1.959815</td>\n",
       "    </tr>\n",
       "    <tr>\n",
       "      <th>2478</th>\n",
       "      <td>Friday Links</td>\n",
       "      <td>1.915654</td>\n",
       "      <td>1.915654</td>\n",
       "    </tr>\n",
       "    <tr>\n",
       "      <th>1211</th>\n",
       "      <td>Charles Krauthammer</td>\n",
       "      <td>1.903034</td>\n",
       "      <td>1.903034</td>\n",
       "    </tr>\n",
       "    <tr>\n",
       "      <th>11616</th>\n",
       "      <td>provides insight</td>\n",
       "      <td>1.875589</td>\n",
       "      <td>1.875589</td>\n",
       "    </tr>\n",
       "    <tr>\n",
       "      <th>2839</th>\n",
       "      <td>Headlines June</td>\n",
       "      <td>1.870587</td>\n",
       "      <td>-1.870587</td>\n",
       "    </tr>\n",
       "    <tr>\n",
       "      <th>4922</th>\n",
       "      <td>Of The</td>\n",
       "      <td>1.858872</td>\n",
       "      <td>-1.858872</td>\n",
       "    </tr>\n",
       "    <tr>\n",
       "      <th>10640</th>\n",
       "      <td>left wing</td>\n",
       "      <td>1.857197</td>\n",
       "      <td>1.857197</td>\n",
       "    </tr>\n",
       "    <tr>\n",
       "      <th>11196</th>\n",
       "      <td>official says</td>\n",
       "      <td>1.842161</td>\n",
       "      <td>1.842161</td>\n",
       "    </tr>\n",
       "    <tr>\n",
       "      <th>8138</th>\n",
       "      <td>Video com</td>\n",
       "      <td>1.837995</td>\n",
       "      <td>-1.837995</td>\n",
       "    </tr>\n",
       "  </tbody>\n",
       "</table>\n",
       "</div>"
      ],
      "text/plain": [
       "                      feat       abs      coef\n",
       "8273              We speak  2.772455 -2.772455\n",
       "5504             Raw video  2.614837  2.614837\n",
       "485             Ali Velshi  2.586766 -2.586766\n",
       "8610            Your World  2.576522  2.576522\n",
       "6597              TEL AVIV  2.547240  2.547240\n",
       "12552         talks Rachel  2.407425 -2.407425\n",
       "8153            Visit post  2.397209  2.397209\n",
       "6444       Stephanie Ruhle  2.392614 -2.392614\n",
       "4740             News News  2.308490  2.308490\n",
       "5487        Rachel reports  2.206523 -2.206523\n",
       "7272           Today Comic  2.139608 -2.139608\n",
       "9864              far left  2.125390  2.125390\n",
       "700             Ari Melber  2.028391 -2.028391\n",
       "2228             Fake News  2.004373  2.004373\n",
       "748                 At The  1.968795 -1.968795\n",
       "4226         Meet Midterms  1.964083 -1.964083\n",
       "4143      Masters Universe  1.959815  1.959815\n",
       "2478          Friday Links  1.915654  1.915654\n",
       "1211   Charles Krauthammer  1.903034  1.903034\n",
       "11616     provides insight  1.875589  1.875589\n",
       "2839        Headlines June  1.870587 -1.870587\n",
       "4922                Of The  1.858872 -1.858872\n",
       "10640            left wing  1.857197  1.857197\n",
       "11196        official says  1.842161  1.842161\n",
       "8138             Video com  1.837995 -1.837995"
      ]
     },
     "execution_count": 547,
     "metadata": {},
     "output_type": "execute_result"
    }
   ],
   "source": [
    "pd.DataFrame(\n",
    "    list(zip(fts, np.abs(cfs), cfs)),\n",
    "    columns=['feat','abs','coef']).sort_values('abs',ascending=False).head(25)"
   ]
  },
  {
   "cell_type": "markdown",
   "metadata": {},
   "source": [
    "**Passive Aggressive Classifier** on Same CountVectorized data:"
   ]
  },
  {
   "cell_type": "code",
   "execution_count": 551,
   "metadata": {},
   "outputs": [],
   "source": [
    "pac = PassiveAggressiveClassifier(C=0.5, random_state=42)"
   ]
  },
  {
   "cell_type": "code",
   "execution_count": 552,
   "metadata": {},
   "outputs": [
    {
     "name": "stderr",
     "output_type": "stream",
     "text": [
      "/anaconda3/envs/dsi/lib/python3.6/site-packages/sklearn/linear_model/stochastic_gradient.py:128: FutureWarning: max_iter and tol parameters have been added in <class 'sklearn.linear_model.passive_aggressive.PassiveAggressiveClassifier'> in 0.19. If both are left unset, they default to max_iter=5 and tol=None. If tol is not None, max_iter defaults to max_iter=1000. From 0.21, default max_iter will be 1000, and default tol will be 1e-3.\n",
      "  \"and default tol will be 1e-3.\" % type(self), FutureWarning)\n"
     ]
    },
    {
     "data": {
      "text/plain": [
       "0.84153400868306805"
      ]
     },
     "execution_count": 552,
     "metadata": {},
     "output_type": "execute_result"
    }
   ],
   "source": [
    "pac.fit(cv_train, y_train)\n",
    "pac.score(cv_train, y_train)"
   ]
  },
  {
   "cell_type": "code",
   "execution_count": 553,
   "metadata": {},
   "outputs": [
    {
     "data": {
      "text/plain": [
       "0.71847189060125893"
      ]
     },
     "execution_count": 553,
     "metadata": {},
     "output_type": "execute_result"
    }
   ],
   "source": [
    "pac.score(cv_test, y_test)"
   ]
  },
  {
   "cell_type": "markdown",
   "metadata": {},
   "source": [
    "### TfIdf"
   ]
  },
  {
   "cell_type": "code",
   "execution_count": 554,
   "metadata": {},
   "outputs": [],
   "source": [
    "stemmer=PorterStemmer()"
   ]
  },
  {
   "cell_type": "code",
   "execution_count": 564,
   "metadata": {},
   "outputs": [],
   "source": [
    "tf = TfidfVectorizer(\n",
    "    strip_accents='ascii',\n",
    "    preprocessor=lemmatizer.lemmatize,\n",
    "    ngram_range=(2,4),\n",
    "    stop_words=cust_stop_words\n",
    ")"
   ]
  },
  {
   "cell_type": "code",
   "execution_count": 565,
   "metadata": {},
   "outputs": [
    {
     "data": {
      "text/plain": [
       "TfidfVectorizer(analyzer='word', binary=False, decode_error='strict',\n",
       "        dtype=<class 'numpy.int64'>, encoding='utf-8', input='content',\n",
       "        lowercase=True, max_df=1.0, max_features=None, min_df=1,\n",
       "        ngram_range=(2, 4), norm='l2',\n",
       "        preprocessor=<bound method WordNetLemmatizer.lemmatize of <WordNetLemmatizer>>,\n",
       "        smooth_idf=True,\n",
       "        stop_words=['CNN', 'cnn', 'NR', 'national review', 'huffpost', 'fox', 'reuters', 'ap', 'associated press', 'vice', 'breitbart', 'nationalreview', 'www', 'content uploads', 'msnbc', 'infowars', 'foxnews', 'Vice', 'Breitbart', 'National Review', 'Fox News', 'Reuters', 'Fast Facts', 'Infowars', 'Vice',...', 'between', 'toward', 'who', 'her', 'noone', 'beyond', 'eg', 'yours', 'front', 'myself', 'beside'],\n",
       "        strip_accents='ascii', sublinear_tf=False,\n",
       "        token_pattern='(?u)\\\\b\\\\w\\\\w+\\\\b', tokenizer=None, use_idf=True,\n",
       "        vocabulary=None)"
      ]
     },
     "execution_count": 565,
     "metadata": {},
     "output_type": "execute_result"
    }
   ],
   "source": [
    "tf.fit(X_train, y_train)"
   ]
  },
  {
   "cell_type": "code",
   "execution_count": 566,
   "metadata": {},
   "outputs": [],
   "source": [
    "tf_train = tf.transform(X_train)\n",
    "tf_test = tf.transform(X_test)"
   ]
  },
  {
   "cell_type": "code",
   "execution_count": 567,
   "metadata": {},
   "outputs": [],
   "source": [
    "lr = LogisticRegression(random_state=42)"
   ]
  },
  {
   "cell_type": "code",
   "execution_count": 568,
   "metadata": {},
   "outputs": [],
   "source": [
    "parameters = {\n",
    "    'penalty': ['l2','l1'],\n",
    "    'C': [1.0,0.6]\n",
    "}\n",
    "\n",
    "grid = GridSearchCV(lr, parameters, scoring='accuracy')"
   ]
  },
  {
   "cell_type": "code",
   "execution_count": 569,
   "metadata": {},
   "outputs": [
    {
     "data": {
      "text/plain": [
       "GridSearchCV(cv=None, error_score='raise',\n",
       "       estimator=LogisticRegression(C=1.0, class_weight=None, dual=False, fit_intercept=True,\n",
       "          intercept_scaling=1, max_iter=100, multi_class='ovr', n_jobs=1,\n",
       "          penalty='l2', random_state=42, solver='liblinear', tol=0.0001,\n",
       "          verbose=0, warm_start=False),\n",
       "       fit_params=None, iid=True, n_jobs=1,\n",
       "       param_grid={'penalty': ['l2', 'l1'], 'C': [1.0, 0.6]},\n",
       "       pre_dispatch='2*n_jobs', refit=True, return_train_score='warn',\n",
       "       scoring='accuracy', verbose=0)"
      ]
     },
     "execution_count": 569,
     "metadata": {},
     "output_type": "execute_result"
    }
   ],
   "source": [
    "grid.fit(tf_train, y_train)"
   ]
  },
  {
   "cell_type": "code",
   "execution_count": 570,
   "metadata": {},
   "outputs": [
    {
     "data": {
      "text/plain": [
       "0.99692474674384945"
      ]
     },
     "execution_count": 570,
     "metadata": {},
     "output_type": "execute_result"
    }
   ],
   "source": [
    "grid.score(tf_train, y_train)"
   ]
  },
  {
   "cell_type": "code",
   "execution_count": 571,
   "metadata": {},
   "outputs": [
    {
     "data": {
      "text/plain": [
       "0.73876709355328851"
      ]
     },
     "execution_count": 571,
     "metadata": {},
     "output_type": "execute_result"
    }
   ],
   "source": [
    "grid.score(tf_test, y_test)"
   ]
  },
  {
   "cell_type": "code",
   "execution_count": 572,
   "metadata": {},
   "outputs": [
    {
     "data": {
      "text/plain": [
       "{'C': 1.0, 'penalty': 'l2'}"
      ]
     },
     "execution_count": 572,
     "metadata": {},
     "output_type": "execute_result"
    }
   ],
   "source": [
    "grid.best_params_"
   ]
  },
  {
   "cell_type": "code",
   "execution_count": 573,
   "metadata": {},
   "outputs": [
    {
     "name": "stdout",
     "output_type": "stream",
     "text": [
      "             precision    recall  f1-score   support\n",
      "\n",
      "          0       0.71      0.87      0.78      4927\n",
      "          1       0.80      0.59      0.68      4287\n",
      "\n",
      "avg / total       0.75      0.74      0.73      9214\n",
      "\n"
     ]
    }
   ],
   "source": [
    "print(classification_report(y_test, grid.predict(tf_test)))"
   ]
  },
  {
   "cell_type": "code",
   "execution_count": 574,
   "metadata": {},
   "outputs": [
    {
     "name": "stdout",
     "output_type": "stream",
     "text": [
      "[[4284  643]\n",
      " [1764 2523]]\n"
     ]
    }
   ],
   "source": [
    "print(confusion_matrix(y_test, grid.predict(tf_test)))"
   ]
  },
  {
   "cell_type": "markdown",
   "metadata": {},
   "source": [
    "*Gettin passive aggressive with it now*"
   ]
  },
  {
   "cell_type": "code",
   "execution_count": 575,
   "metadata": {},
   "outputs": [
    {
     "name": "stderr",
     "output_type": "stream",
     "text": [
      "/anaconda3/envs/dsi/lib/python3.6/site-packages/sklearn/linear_model/stochastic_gradient.py:128: FutureWarning: max_iter and tol parameters have been added in <class 'sklearn.linear_model.passive_aggressive.PassiveAggressiveClassifier'> in 0.19. If both are left unset, they default to max_iter=5 and tol=None. If tol is not None, max_iter defaults to max_iter=1000. From 0.21, default max_iter will be 1000, and default tol will be 1e-3.\n",
      "  \"and default tol will be 1e-3.\" % type(self), FutureWarning)\n"
     ]
    },
    {
     "data": {
      "text/plain": [
       "1.0"
      ]
     },
     "execution_count": 575,
     "metadata": {},
     "output_type": "execute_result"
    }
   ],
   "source": [
    "pac = PassiveAggressiveClassifier(random_state=42)\n",
    "pac.fit(tf_train, y_train)\n",
    "pac.score(tf_train, y_train)"
   ]
  },
  {
   "cell_type": "code",
   "execution_count": 576,
   "metadata": {},
   "outputs": [
    {
     "data": {
      "text/plain": [
       "0.77903190796613853"
      ]
     },
     "execution_count": 576,
     "metadata": {},
     "output_type": "execute_result"
    }
   ],
   "source": [
    "pac.score(tf_test, y_test)"
   ]
  },
  {
   "cell_type": "markdown",
   "metadata": {},
   "source": [
    "<a id=\"numerical-only\"></a>\n",
    "### Look at Numerical Features Only\n",
    "[Return to Index](#contents)"
   ]
  },
  {
   "cell_type": "code",
   "execution_count": 577,
   "metadata": {},
   "outputs": [],
   "source": [
    "X = df[[col for col in df.columns if col != 'yes_right']]\n",
    "y = df['yes_right']"
   ]
  },
  {
   "cell_type": "code",
   "execution_count": 578,
   "metadata": {},
   "outputs": [],
   "source": [
    "X_train, X_test, y_train, y_test = train_test_split(X, y, random_state=42, stratify=y)"
   ]
  },
  {
   "cell_type": "code",
   "execution_count": 579,
   "metadata": {},
   "outputs": [
    {
     "data": {
      "text/plain": [
       "(0.74232995658465994, 0.60169307575428699)"
      ]
     },
     "execution_count": 579,
     "metadata": {},
     "output_type": "execute_result"
    }
   ],
   "source": [
    "knn = KNeighborsClassifier()\n",
    "knn.fit(X_train, y_train)\n",
    "knn.score(X_train, y_train), knn.score(X_test, y_test)"
   ]
  },
  {
   "cell_type": "code",
   "execution_count": 580,
   "metadata": {},
   "outputs": [
    {
     "data": {
      "text/plain": [
       "(0.6296671490593343, 0.6296671490593343)"
      ]
     },
     "execution_count": 580,
     "metadata": {},
     "output_type": "execute_result"
    }
   ],
   "source": [
    "lr = LogisticRegression()\n",
    "lr.fit(X_train, y_train)\n",
    "lr.score(X_train, y_train), lr.score(X_train, y_train)"
   ]
  },
  {
   "cell_type": "code",
   "execution_count": 581,
   "metadata": {},
   "outputs": [
    {
     "data": {
      "text/plain": [
       "Pipeline(memory=None,\n",
       "     steps=[('model', LogisticRegression(C=1.0, class_weight=None, dual=False, fit_intercept=True,\n",
       "          intercept_scaling=1, max_iter=100, multi_class='ovr', n_jobs=1,\n",
       "          penalty='l2', random_state=None, solver='liblinear', tol=0.0001,\n",
       "          verbose=0, warm_start=False))])"
      ]
     },
     "execution_count": 581,
     "metadata": {},
     "output_type": "execute_result"
    }
   ],
   "source": [
    "pipe = Pipeline([\n",
    "#     ('poly', PolynomialFeatures(interaction_only=True)),\n",
    "#     ('pca', PCA()),\n",
    "    ('model', LogisticRegression())\n",
    "])\n",
    "\n",
    "pipe.fit(X_train, y_train)"
   ]
  },
  {
   "cell_type": "code",
   "execution_count": 582,
   "metadata": {},
   "outputs": [
    {
     "data": {
      "text/plain": [
       "(0.6296671490593343, 0.63338398089863257)"
      ]
     },
     "execution_count": 582,
     "metadata": {},
     "output_type": "execute_result"
    }
   ],
   "source": [
    "pipe.score(X_train, y_train), pipe.score(X_test, y_test)"
   ]
  },
  {
   "cell_type": "code",
   "execution_count": 584,
   "metadata": {},
   "outputs": [
    {
     "data": {
      "text/html": [
       "<div>\n",
       "<style scoped>\n",
       "    .dataframe tbody tr th:only-of-type {\n",
       "        vertical-align: middle;\n",
       "    }\n",
       "\n",
       "    .dataframe tbody tr th {\n",
       "        vertical-align: top;\n",
       "    }\n",
       "\n",
       "    .dataframe thead th {\n",
       "        text-align: right;\n",
       "    }\n",
       "</style>\n",
       "<table border=\"1\" class=\"dataframe\">\n",
       "  <thead>\n",
       "    <tr style=\"text-align: right;\">\n",
       "      <th></th>\n",
       "      <th>coef</th>\n",
       "      <th>coef_abs</th>\n",
       "      <th>feat</th>\n",
       "    </tr>\n",
       "  </thead>\n",
       "  <tbody>\n",
       "    <tr>\n",
       "      <th>24</th>\n",
       "      <td>-3.542671</td>\n",
       "      <td>3.542671</td>\n",
       "      <td>PRP$_title</td>\n",
       "    </tr>\n",
       "    <tr>\n",
       "      <th>55</th>\n",
       "      <td>3.161655</td>\n",
       "      <td>3.161655</td>\n",
       "      <td>NNPS_desc</td>\n",
       "    </tr>\n",
       "    <tr>\n",
       "      <th>42</th>\n",
       "      <td>-3.045602</td>\n",
       "      <td>3.045602</td>\n",
       "      <td>CC_desc</td>\n",
       "    </tr>\n",
       "    <tr>\n",
       "      <th>6</th>\n",
       "      <td>2.939313</td>\n",
       "      <td>2.939313</td>\n",
       "      <td>avg_word_len_title</td>\n",
       "    </tr>\n",
       "    <tr>\n",
       "      <th>43</th>\n",
       "      <td>2.722251</td>\n",
       "      <td>2.722251</td>\n",
       "      <td>CD_desc</td>\n",
       "    </tr>\n",
       "    <tr>\n",
       "      <th>59</th>\n",
       "      <td>-2.410286</td>\n",
       "      <td>2.410286</td>\n",
       "      <td>PRP_desc</td>\n",
       "    </tr>\n",
       "    <tr>\n",
       "      <th>60</th>\n",
       "      <td>-2.396420</td>\n",
       "      <td>2.396420</td>\n",
       "      <td>PRP$_desc</td>\n",
       "    </tr>\n",
       "    <tr>\n",
       "      <th>71</th>\n",
       "      <td>1.986782</td>\n",
       "      <td>1.986782</td>\n",
       "      <td>VBN_desc</td>\n",
       "    </tr>\n",
       "    <tr>\n",
       "      <th>77</th>\n",
       "      <td>-1.864823</td>\n",
       "      <td>1.864823</td>\n",
       "      <td>WRB_desc</td>\n",
       "    </tr>\n",
       "    <tr>\n",
       "      <th>44</th>\n",
       "      <td>-1.799065</td>\n",
       "      <td>1.799065</td>\n",
       "      <td>DT_desc</td>\n",
       "    </tr>\n",
       "    <tr>\n",
       "      <th>53</th>\n",
       "      <td>1.779174</td>\n",
       "      <td>1.779174</td>\n",
       "      <td>NN_desc</td>\n",
       "    </tr>\n",
       "    <tr>\n",
       "      <th>41</th>\n",
       "      <td>-1.775461</td>\n",
       "      <td>1.775461</td>\n",
       "      <td>WRB_title</td>\n",
       "    </tr>\n",
       "    <tr>\n",
       "      <th>47</th>\n",
       "      <td>1.697581</td>\n",
       "      <td>1.697581</td>\n",
       "      <td>IN_desc</td>\n",
       "    </tr>\n",
       "    <tr>\n",
       "      <th>50</th>\n",
       "      <td>-1.695893</td>\n",
       "      <td>1.695893</td>\n",
       "      <td>JJS_desc</td>\n",
       "    </tr>\n",
       "    <tr>\n",
       "      <th>13</th>\n",
       "      <td>1.623625</td>\n",
       "      <td>1.623625</td>\n",
       "      <td>JJ_title</td>\n",
       "    </tr>\n",
       "  </tbody>\n",
       "</table>\n",
       "</div>"
      ],
      "text/plain": [
       "        coef  coef_abs                feat\n",
       "24 -3.542671  3.542671          PRP$_title\n",
       "55  3.161655  3.161655           NNPS_desc\n",
       "42 -3.045602  3.045602             CC_desc\n",
       "6   2.939313  2.939313  avg_word_len_title\n",
       "43  2.722251  2.722251             CD_desc\n",
       "59 -2.410286  2.410286            PRP_desc\n",
       "60 -2.396420  2.396420           PRP$_desc\n",
       "71  1.986782  1.986782            VBN_desc\n",
       "77 -1.864823  1.864823            WRB_desc\n",
       "44 -1.799065  1.799065             DT_desc\n",
       "53  1.779174  1.779174             NN_desc\n",
       "41 -1.775461  1.775461           WRB_title\n",
       "47  1.697581  1.697581             IN_desc\n",
       "50 -1.695893  1.695893            JJS_desc\n",
       "13  1.623625  1.623625            JJ_title"
      ]
     },
     "execution_count": 584,
     "metadata": {},
     "output_type": "execute_result"
    }
   ],
   "source": [
    "pd.DataFrame(list(zip(list(pipe.steps[0][1].coef_[0]), np.abs(list(pipe.steps[0][1].coef_[0])), X.columns)),\n",
    "             columns=['coef','coef_abs','feat']).sort_values('coef_abs', ascending=False).head(15)"
   ]
  },
  {
   "cell_type": "markdown",
   "metadata": {},
   "source": [
    "### Dave's CustomVectorizer\n",
    "Originally used to expand on CountVectorizer; using with TfIdf in this case"
   ]
  },
  {
   "cell_type": "code",
   "execution_count": 155,
   "metadata": {},
   "outputs": [],
   "source": [
    "class CustomVectorizer(TfidfVectorizer): \n",
    "       \n",
    "    stop_grams = []    \n",
    "    \n",
    "    def __init__(self, stop_grams = [], **opts):\n",
    "        self.stop_grams = stop_grams\n",
    "        super().__init__(**opts)\n",
    "    \n",
    "    def remove_ngrams(self, doc):\n",
    "        for stop_gram in self.stop_grams:\n",
    "            doc = doc.replace(stop_gram, \"\")\n",
    "        return doc\n",
    "    \n",
    "    # overwrite the build_analyzer method, allowing one to\n",
    "    # create a custom analyzer for the vectorizer\n",
    "    def build_analyzer(self):\n",
    "        \n",
    "        # load stop words using CountVectorizer's built in method\n",
    "        stop_words = list(self.get_stop_words())\n",
    "        \n",
    "        preprocessor = self.build_preprocessor()\n",
    "        tokenizer = self.build_tokenizer()\n",
    "        remove_ngrams = self.remove_ngrams\n",
    "        \n",
    "        \n",
    "        # create the analyzer that will be returned by this method\n",
    "        def analyser(doc):\n",
    "                \n",
    "            # apply the preprocessing and tokenzation steps\n",
    "            doc_clean = preprocessor(doc.lower())\n",
    "            \n",
    "            # remove phrase stopwords\n",
    "            doc_clean = remove_ngrams(doc)\n",
    "            \n",
    "            # tokenize using default tokenizer\n",
    "            tokens = tokenizer(doc_clean)            \n",
    "            \n",
    "            # use CountVectorizer's _word_ngrams built in method\n",
    "            # to remove stop words and extract n-grams\n",
    "            return(self._word_ngrams(tokens, stop_words))\n",
    "        \n",
    "        return(analyser)"
   ]
  },
  {
   "cell_type": "code",
   "execution_count": 142,
   "metadata": {},
   "outputs": [],
   "source": [
    "cust = CustomVectorizer(stop_grams=stop_grams, stop_words=cust_stop_words, ngram_range=(2,4), min_df=3)"
   ]
  },
  {
   "cell_type": "code",
   "execution_count": 143,
   "metadata": {},
   "outputs": [
    {
     "data": {
      "text/plain": [
       "Pipeline(memory=None,\n",
       "     steps=[('vectorizer', CustomVectorizer(stop_grams=['national review', 'National Review', 'Fox News', 'Content Uploads', 'content uploads', 'fox news', 'Associated Press', 'associated press', 'Fox amp Friends', 'Rachel Maddow', 'Morning Joe', 'morning joe', 'Breitbart News', 'fast facts', 'Fast Facts...ty='l2', random_state=None, solver='liblinear', tol=0.0001,\n",
       "          verbose=0, warm_start=False))])"
      ]
     },
     "execution_count": 143,
     "metadata": {},
     "output_type": "execute_result"
    }
   ],
   "source": [
    "pipe = Pipeline([('vectorizer',cust), ('lr', LogisticRegression())])\n",
    "\n",
    "pipe.fit(X_train, y_train)"
   ]
  },
  {
   "cell_type": "code",
   "execution_count": 144,
   "metadata": {},
   "outputs": [
    {
     "data": {
      "text/plain": [
       "(0.88578147612156299, 0.74701541133058391)"
      ]
     },
     "execution_count": 144,
     "metadata": {},
     "output_type": "execute_result"
    }
   ],
   "source": [
    "pipe.score(X_train, y_train), pipe.score(X_test, y_test)"
   ]
  },
  {
   "cell_type": "code",
   "execution_count": 145,
   "metadata": {},
   "outputs": [
    {
     "data": {
      "text/html": [
       "<div>\n",
       "<style scoped>\n",
       "    .dataframe tbody tr th:only-of-type {\n",
       "        vertical-align: middle;\n",
       "    }\n",
       "\n",
       "    .dataframe tbody tr th {\n",
       "        vertical-align: top;\n",
       "    }\n",
       "\n",
       "    .dataframe thead th {\n",
       "        text-align: right;\n",
       "    }\n",
       "</style>\n",
       "<table border=\"1\" class=\"dataframe\">\n",
       "  <thead>\n",
       "    <tr style=\"text-align: right;\">\n",
       "      <th></th>\n",
       "      <th>coef</th>\n",
       "      <th>coef_abs</th>\n",
       "      <th>feat</th>\n",
       "    </tr>\n",
       "  </thead>\n",
       "  <tbody>\n",
       "    <tr>\n",
       "      <th>20611</th>\n",
       "      <td>4.322234</td>\n",
       "      <td>4.322234</td>\n",
       "      <td>amp Friends</td>\n",
       "    </tr>\n",
       "    <tr>\n",
       "      <th>25423</th>\n",
       "      <td>-4.230119</td>\n",
       "      <td>4.230119</td>\n",
       "      <td>joins discuss</td>\n",
       "    </tr>\n",
       "    <tr>\n",
       "      <th>10161</th>\n",
       "      <td>-3.957316</td>\n",
       "      <td>3.957316</td>\n",
       "      <td>Michael Cohen</td>\n",
       "    </tr>\n",
       "    <tr>\n",
       "      <th>15966</th>\n",
       "      <td>3.248799</td>\n",
       "      <td>3.248799</td>\n",
       "      <td>The Latest</td>\n",
       "    </tr>\n",
       "    <tr>\n",
       "      <th>15427</th>\n",
       "      <td>3.225853</td>\n",
       "      <td>3.225853</td>\n",
       "      <td>TEL AVIV</td>\n",
       "    </tr>\n",
       "    <tr>\n",
       "      <th>16464</th>\n",
       "      <td>-2.890348</td>\n",
       "      <td>2.890348</td>\n",
       "      <td>The panel</td>\n",
       "    </tr>\n",
       "    <tr>\n",
       "      <th>13651</th>\n",
       "      <td>-2.871278</td>\n",
       "      <td>2.871278</td>\n",
       "      <td>Rudy Giuliani</td>\n",
       "    </tr>\n",
       "    <tr>\n",
       "      <th>11571</th>\n",
       "      <td>-2.798337</td>\n",
       "      <td>2.798337</td>\n",
       "      <td>Of The</td>\n",
       "    </tr>\n",
       "    <tr>\n",
       "      <th>11140</th>\n",
       "      <td>2.770913</td>\n",
       "      <td>2.770913</td>\n",
       "      <td>News News</td>\n",
       "    </tr>\n",
       "    <tr>\n",
       "      <th>9629</th>\n",
       "      <td>2.760225</td>\n",
       "      <td>2.760225</td>\n",
       "      <td>MS 13</td>\n",
       "    </tr>\n",
       "    <tr>\n",
       "      <th>12471</th>\n",
       "      <td>2.730857</td>\n",
       "      <td>2.730857</td>\n",
       "      <td>President Trump</td>\n",
       "    </tr>\n",
       "    <tr>\n",
       "      <th>20102</th>\n",
       "      <td>2.724745</td>\n",
       "      <td>2.724745</td>\n",
       "      <td>Your World</td>\n",
       "    </tr>\n",
       "    <tr>\n",
       "      <th>2880</th>\n",
       "      <td>2.689496</td>\n",
       "      <td>2.689496</td>\n",
       "      <td>Charles Krauthammer</td>\n",
       "    </tr>\n",
       "    <tr>\n",
       "      <th>28040</th>\n",
       "      <td>2.669299</td>\n",
       "      <td>2.669299</td>\n",
       "      <td>police say</td>\n",
       "    </tr>\n",
       "    <tr>\n",
       "      <th>7368</th>\n",
       "      <td>2.594829</td>\n",
       "      <td>2.594829</td>\n",
       "      <td>IG report</td>\n",
       "    </tr>\n",
       "  </tbody>\n",
       "</table>\n",
       "</div>"
      ],
      "text/plain": [
       "           coef  coef_abs                 feat\n",
       "20611  4.322234  4.322234          amp Friends\n",
       "25423 -4.230119  4.230119        joins discuss\n",
       "10161 -3.957316  3.957316        Michael Cohen\n",
       "15966  3.248799  3.248799           The Latest\n",
       "15427  3.225853  3.225853             TEL AVIV\n",
       "16464 -2.890348  2.890348            The panel\n",
       "13651 -2.871278  2.871278        Rudy Giuliani\n",
       "11571 -2.798337  2.798337               Of The\n",
       "11140  2.770913  2.770913            News News\n",
       "9629   2.760225  2.760225                MS 13\n",
       "12471  2.730857  2.730857      President Trump\n",
       "20102  2.724745  2.724745           Your World\n",
       "2880   2.689496  2.689496  Charles Krauthammer\n",
       "28040  2.669299  2.669299           police say\n",
       "7368   2.594829  2.594829            IG report"
      ]
     },
     "execution_count": 145,
     "metadata": {},
     "output_type": "execute_result"
    }
   ],
   "source": [
    "pd.DataFrame(list(zip(list(pipe.steps[1][1].coef_[0]), np.abs(list(pipe.steps[1][1].coef_[0])), pipe.steps[0][1].get_feature_names())),\n",
    "             columns=['coef','coef_abs','feat']).sort_values('coef_abs', ascending=False).head(15)"
   ]
  },
  {
   "cell_type": "code",
   "execution_count": 130,
   "metadata": {},
   "outputs": [
    {
     "data": {
      "text/plain": [
       "array(['MSNBC'], dtype=object)"
      ]
     },
     "execution_count": 130,
     "metadata": {},
     "output_type": "execute_result"
    }
   ],
   "source": [
    "text[text['combined'].str.contains('Ari Melber')]['source'].unique()"
   ]
  },
  {
   "cell_type": "markdown",
   "metadata": {},
   "source": [
    "-----------------------------------------------"
   ]
  },
  {
   "cell_type": "code",
   "execution_count": 585,
   "metadata": {},
   "outputs": [],
   "source": [
    "# text.to_csv('text.csv')\n",
    "# df.to_csv('df.csv')"
   ]
  },
  {
   "cell_type": "markdown",
   "metadata": {},
   "source": [
    "<a id=\"pipeline\"></a>\n",
    "# Pipeline (Combining Text and Numerical Features)\n",
    "[Return to Index](#contents)"
   ]
  },
  {
   "cell_type": "code",
   "execution_count": 146,
   "metadata": {},
   "outputs": [],
   "source": [
    "# For Pipeline:\n",
    "X = pd.concat([text['combined'], df[[col for col in df.columns if col != 'yes_right']]], axis=1)\n",
    "y = df['yes_right']\n",
    "num_cols = [col for col in X.columns if col != 'combined']"
   ]
  },
  {
   "cell_type": "code",
   "execution_count": 147,
   "metadata": {},
   "outputs": [],
   "source": [
    "X_train, X_test, y_train, y_test = train_test_split(X, y, random_state=42, stratify=y)"
   ]
  },
  {
   "cell_type": "code",
   "execution_count": 148,
   "metadata": {},
   "outputs": [],
   "source": [
    "lemmatizer = WordNetLemmatizer()\n",
    "tokenizer = nltk.RegexpTokenizer(r'\\w+')"
   ]
  },
  {
   "cell_type": "code",
   "execution_count": 149,
   "metadata": {},
   "outputs": [],
   "source": [
    "class DfExtract(BaseEstimator, TransformerMixin):\n",
    "    def __init__(self, column):\n",
    "        self.column = column\n",
    "    def fit(self, X, y=None):\n",
    "        return self\n",
    "    def transform(self, X, y=None):\n",
    "        if len(self.column) > 1:\n",
    "            return pd.DataFrame(X[self.column])\n",
    "        else:\n",
    "            return pd.Series(X[self.column[0]]) \n",
    "    def get_feature_names(self):\n",
    "        return X.columns.tolist()"
   ]
  },
  {
   "cell_type": "code",
   "execution_count": 156,
   "metadata": {},
   "outputs": [],
   "source": [
    "text_pipe = Pipeline([\n",
    "            ('ext', DfExtract(['combined'])),\n",
    "            ('tf', CustomVectorizer(stop_grams=stop_grams,\n",
    "                                    preprocessor=lemmatizer.lemmatize,\n",
    "#                                    tokenizer=tokenizer.tokenize,\n",
    "                                   stop_words=cust_stop_words, min_df=2,\n",
    "                                   ngram_range=(2,4), use_idf=True, binary=False)\n",
    "            ),\n",
    "#             ('lda', TruncatedSVD(n_components=500))\n",
    "        ])\n",
    "\n",
    "num_pipe = Pipeline([\n",
    "            ('ext', DfExtract(num_cols)),\n",
    "#             ('poly', PolynomialFeatures(interaction_only=True))\n",
    "            ])"
   ]
  },
  {
   "cell_type": "code",
   "execution_count": 157,
   "metadata": {},
   "outputs": [],
   "source": [
    "feat_union = FeatureUnion([\n",
    "        ('text', text_pipe),\n",
    "        ('numerical', num_pipe)]\n",
    "#     transformer_weights={'text': 2, 'numerical': 1}\n",
    ")"
   ]
  },
  {
   "cell_type": "code",
   "execution_count": 158,
   "metadata": {},
   "outputs": [],
   "source": [
    "pipe = Pipeline([\n",
    "    ('features', feat_union),\n",
    "#     ('lda', TruncatedSVD(n_components=100)),\n",
    "    ('lr', LogisticRegression(random_state=42)),\n",
    "#     ('pac', PassiveAggressiveClassifier(fit_intercept=True, random_state=42))\n",
    "#     ('mnb', MultinomialNB())\n",
    "#     ('svc', SVC(random_state=42))\n",
    "#     ('bnb', BernoulliNB(binarize=0.5))\n",
    "#     ('rf', RandomForestClassifier(random_state=42))\n",
    "#     ('sgdc', SGDClassifier(random_state=42))\n",
    "#     ('gbc', GradientBoostingClassifier())\n",
    "])"
   ]
  },
  {
   "cell_type": "code",
   "execution_count": 159,
   "metadata": {},
   "outputs": [],
   "source": [
    "params = {\n",
    "    'lr__penalty': ['l1','l2'],\n",
    "    'lr__C': [0.33, 0.5, 0.75, 1.0],\n",
    "#     'svc__kernel': ['rbf', 'sigmoid', 'poly'],\n",
    "#     'bnb__alpha': [1.0, 0.5, 0.33]\n",
    "#     'pac__C': [0.25, 0.35, 0.45, 0.5, 0.65, 1],\n",
    "#     'pac__loss': ['hinge','squared_hinge'],\n",
    "#     'pac__average': [True, False]\n",
    "#     'mnb__alpha': [0.001, 0.01, 0.025, 0.05, 0.1, 0.15, 0.2, 0.25]\n",
    "#     'rf__n_estimators': [20, 30],\n",
    "#     'rf__max_features': ['auto', 0.3],\n",
    "#     'rf__max_depth': [None, 4, 7]\n",
    "#     'sgdc__loss': ['log','perceptron'],\n",
    "#     'sgdc__penalty': ['l2','elasticnet'],\n",
    "#     'sgdc__alpha': [0.00001, 0.0001, 0.001]\n",
    "}\n",
    "\n",
    "gs = GridSearchCV(pipe, params, scoring='accuracy')"
   ]
  },
  {
   "cell_type": "code",
   "execution_count": 160,
   "metadata": {},
   "outputs": [
    {
     "ename": "NameError",
     "evalue": "name 'stop_words' is not defined",
     "output_type": "error",
     "traceback": [
      "\u001b[0;31m---------------------------------------------------------------------------\u001b[0m",
      "\u001b[0;31mNameError\u001b[0m                                 Traceback (most recent call last)",
      "\u001b[0;32m<ipython-input-160-dd947cb3301f>\u001b[0m in \u001b[0;36m<module>\u001b[0;34m()\u001b[0m\n\u001b[0;32m----> 1\u001b[0;31m \u001b[0mgs\u001b[0m\u001b[0;34m.\u001b[0m\u001b[0mfit\u001b[0m\u001b[0;34m(\u001b[0m\u001b[0mX_train\u001b[0m\u001b[0;34m,\u001b[0m \u001b[0my_train\u001b[0m\u001b[0;34m)\u001b[0m\u001b[0;34m\u001b[0m\u001b[0m\n\u001b[0m",
      "\u001b[0;32m/anaconda3/envs/dsi/lib/python3.6/site-packages/sklearn/model_selection/_search.py\u001b[0m in \u001b[0;36mfit\u001b[0;34m(self, X, y, groups, **fit_params)\u001b[0m\n\u001b[1;32m    637\u001b[0m                                   error_score=self.error_score)\n\u001b[1;32m    638\u001b[0m           for parameters, (train, test) in product(candidate_params,\n\u001b[0;32m--> 639\u001b[0;31m                                                    cv.split(X, y, groups)))\n\u001b[0m\u001b[1;32m    640\u001b[0m \u001b[0;34m\u001b[0m\u001b[0m\n\u001b[1;32m    641\u001b[0m         \u001b[0;31m# if one choose to see train score, \"out\" will contain train score info\u001b[0m\u001b[0;34m\u001b[0m\u001b[0;34m\u001b[0m\u001b[0m\n",
      "\u001b[0;32m/anaconda3/envs/dsi/lib/python3.6/site-packages/sklearn/externals/joblib/parallel.py\u001b[0m in \u001b[0;36m__call__\u001b[0;34m(self, iterable)\u001b[0m\n\u001b[1;32m    777\u001b[0m             \u001b[0;31m# was dispatched. In particular this covers the edge\u001b[0m\u001b[0;34m\u001b[0m\u001b[0;34m\u001b[0m\u001b[0m\n\u001b[1;32m    778\u001b[0m             \u001b[0;31m# case of Parallel used with an exhausted iterator.\u001b[0m\u001b[0;34m\u001b[0m\u001b[0;34m\u001b[0m\u001b[0m\n\u001b[0;32m--> 779\u001b[0;31m             \u001b[0;32mwhile\u001b[0m \u001b[0mself\u001b[0m\u001b[0;34m.\u001b[0m\u001b[0mdispatch_one_batch\u001b[0m\u001b[0;34m(\u001b[0m\u001b[0miterator\u001b[0m\u001b[0;34m)\u001b[0m\u001b[0;34m:\u001b[0m\u001b[0;34m\u001b[0m\u001b[0m\n\u001b[0m\u001b[1;32m    780\u001b[0m                 \u001b[0mself\u001b[0m\u001b[0;34m.\u001b[0m\u001b[0m_iterating\u001b[0m \u001b[0;34m=\u001b[0m \u001b[0;32mTrue\u001b[0m\u001b[0;34m\u001b[0m\u001b[0m\n\u001b[1;32m    781\u001b[0m             \u001b[0;32melse\u001b[0m\u001b[0;34m:\u001b[0m\u001b[0;34m\u001b[0m\u001b[0m\n",
      "\u001b[0;32m/anaconda3/envs/dsi/lib/python3.6/site-packages/sklearn/externals/joblib/parallel.py\u001b[0m in \u001b[0;36mdispatch_one_batch\u001b[0;34m(self, iterator)\u001b[0m\n\u001b[1;32m    623\u001b[0m                 \u001b[0;32mreturn\u001b[0m \u001b[0;32mFalse\u001b[0m\u001b[0;34m\u001b[0m\u001b[0m\n\u001b[1;32m    624\u001b[0m             \u001b[0;32melse\u001b[0m\u001b[0;34m:\u001b[0m\u001b[0;34m\u001b[0m\u001b[0m\n\u001b[0;32m--> 625\u001b[0;31m                 \u001b[0mself\u001b[0m\u001b[0;34m.\u001b[0m\u001b[0m_dispatch\u001b[0m\u001b[0;34m(\u001b[0m\u001b[0mtasks\u001b[0m\u001b[0;34m)\u001b[0m\u001b[0;34m\u001b[0m\u001b[0m\n\u001b[0m\u001b[1;32m    626\u001b[0m                 \u001b[0;32mreturn\u001b[0m \u001b[0;32mTrue\u001b[0m\u001b[0;34m\u001b[0m\u001b[0m\n\u001b[1;32m    627\u001b[0m \u001b[0;34m\u001b[0m\u001b[0m\n",
      "\u001b[0;32m/anaconda3/envs/dsi/lib/python3.6/site-packages/sklearn/externals/joblib/parallel.py\u001b[0m in \u001b[0;36m_dispatch\u001b[0;34m(self, batch)\u001b[0m\n\u001b[1;32m    586\u001b[0m         \u001b[0mdispatch_timestamp\u001b[0m \u001b[0;34m=\u001b[0m \u001b[0mtime\u001b[0m\u001b[0;34m.\u001b[0m\u001b[0mtime\u001b[0m\u001b[0;34m(\u001b[0m\u001b[0;34m)\u001b[0m\u001b[0;34m\u001b[0m\u001b[0m\n\u001b[1;32m    587\u001b[0m         \u001b[0mcb\u001b[0m \u001b[0;34m=\u001b[0m \u001b[0mBatchCompletionCallBack\u001b[0m\u001b[0;34m(\u001b[0m\u001b[0mdispatch_timestamp\u001b[0m\u001b[0;34m,\u001b[0m \u001b[0mlen\u001b[0m\u001b[0;34m(\u001b[0m\u001b[0mbatch\u001b[0m\u001b[0;34m)\u001b[0m\u001b[0;34m,\u001b[0m \u001b[0mself\u001b[0m\u001b[0;34m)\u001b[0m\u001b[0;34m\u001b[0m\u001b[0m\n\u001b[0;32m--> 588\u001b[0;31m         \u001b[0mjob\u001b[0m \u001b[0;34m=\u001b[0m \u001b[0mself\u001b[0m\u001b[0;34m.\u001b[0m\u001b[0m_backend\u001b[0m\u001b[0;34m.\u001b[0m\u001b[0mapply_async\u001b[0m\u001b[0;34m(\u001b[0m\u001b[0mbatch\u001b[0m\u001b[0;34m,\u001b[0m \u001b[0mcallback\u001b[0m\u001b[0;34m=\u001b[0m\u001b[0mcb\u001b[0m\u001b[0;34m)\u001b[0m\u001b[0;34m\u001b[0m\u001b[0m\n\u001b[0m\u001b[1;32m    589\u001b[0m         \u001b[0mself\u001b[0m\u001b[0;34m.\u001b[0m\u001b[0m_jobs\u001b[0m\u001b[0;34m.\u001b[0m\u001b[0mappend\u001b[0m\u001b[0;34m(\u001b[0m\u001b[0mjob\u001b[0m\u001b[0;34m)\u001b[0m\u001b[0;34m\u001b[0m\u001b[0m\n\u001b[1;32m    590\u001b[0m \u001b[0;34m\u001b[0m\u001b[0m\n",
      "\u001b[0;32m/anaconda3/envs/dsi/lib/python3.6/site-packages/sklearn/externals/joblib/_parallel_backends.py\u001b[0m in \u001b[0;36mapply_async\u001b[0;34m(self, func, callback)\u001b[0m\n\u001b[1;32m    109\u001b[0m     \u001b[0;32mdef\u001b[0m \u001b[0mapply_async\u001b[0m\u001b[0;34m(\u001b[0m\u001b[0mself\u001b[0m\u001b[0;34m,\u001b[0m \u001b[0mfunc\u001b[0m\u001b[0;34m,\u001b[0m \u001b[0mcallback\u001b[0m\u001b[0;34m=\u001b[0m\u001b[0;32mNone\u001b[0m\u001b[0;34m)\u001b[0m\u001b[0;34m:\u001b[0m\u001b[0;34m\u001b[0m\u001b[0m\n\u001b[1;32m    110\u001b[0m         \u001b[0;34m\"\"\"Schedule a func to be run\"\"\"\u001b[0m\u001b[0;34m\u001b[0m\u001b[0m\n\u001b[0;32m--> 111\u001b[0;31m         \u001b[0mresult\u001b[0m \u001b[0;34m=\u001b[0m \u001b[0mImmediateResult\u001b[0m\u001b[0;34m(\u001b[0m\u001b[0mfunc\u001b[0m\u001b[0;34m)\u001b[0m\u001b[0;34m\u001b[0m\u001b[0m\n\u001b[0m\u001b[1;32m    112\u001b[0m         \u001b[0;32mif\u001b[0m \u001b[0mcallback\u001b[0m\u001b[0;34m:\u001b[0m\u001b[0;34m\u001b[0m\u001b[0m\n\u001b[1;32m    113\u001b[0m             \u001b[0mcallback\u001b[0m\u001b[0;34m(\u001b[0m\u001b[0mresult\u001b[0m\u001b[0;34m)\u001b[0m\u001b[0;34m\u001b[0m\u001b[0m\n",
      "\u001b[0;32m/anaconda3/envs/dsi/lib/python3.6/site-packages/sklearn/externals/joblib/_parallel_backends.py\u001b[0m in \u001b[0;36m__init__\u001b[0;34m(self, batch)\u001b[0m\n\u001b[1;32m    330\u001b[0m         \u001b[0;31m# Don't delay the application, to avoid keeping the input\u001b[0m\u001b[0;34m\u001b[0m\u001b[0;34m\u001b[0m\u001b[0m\n\u001b[1;32m    331\u001b[0m         \u001b[0;31m# arguments in memory\u001b[0m\u001b[0;34m\u001b[0m\u001b[0;34m\u001b[0m\u001b[0m\n\u001b[0;32m--> 332\u001b[0;31m         \u001b[0mself\u001b[0m\u001b[0;34m.\u001b[0m\u001b[0mresults\u001b[0m \u001b[0;34m=\u001b[0m \u001b[0mbatch\u001b[0m\u001b[0;34m(\u001b[0m\u001b[0;34m)\u001b[0m\u001b[0;34m\u001b[0m\u001b[0m\n\u001b[0m\u001b[1;32m    333\u001b[0m \u001b[0;34m\u001b[0m\u001b[0m\n\u001b[1;32m    334\u001b[0m     \u001b[0;32mdef\u001b[0m \u001b[0mget\u001b[0m\u001b[0;34m(\u001b[0m\u001b[0mself\u001b[0m\u001b[0;34m)\u001b[0m\u001b[0;34m:\u001b[0m\u001b[0;34m\u001b[0m\u001b[0m\n",
      "\u001b[0;32m/anaconda3/envs/dsi/lib/python3.6/site-packages/sklearn/externals/joblib/parallel.py\u001b[0m in \u001b[0;36m__call__\u001b[0;34m(self)\u001b[0m\n\u001b[1;32m    129\u001b[0m \u001b[0;34m\u001b[0m\u001b[0m\n\u001b[1;32m    130\u001b[0m     \u001b[0;32mdef\u001b[0m \u001b[0m__call__\u001b[0m\u001b[0;34m(\u001b[0m\u001b[0mself\u001b[0m\u001b[0;34m)\u001b[0m\u001b[0;34m:\u001b[0m\u001b[0;34m\u001b[0m\u001b[0m\n\u001b[0;32m--> 131\u001b[0;31m         \u001b[0;32mreturn\u001b[0m \u001b[0;34m[\u001b[0m\u001b[0mfunc\u001b[0m\u001b[0;34m(\u001b[0m\u001b[0;34m*\u001b[0m\u001b[0margs\u001b[0m\u001b[0;34m,\u001b[0m \u001b[0;34m**\u001b[0m\u001b[0mkwargs\u001b[0m\u001b[0;34m)\u001b[0m \u001b[0;32mfor\u001b[0m \u001b[0mfunc\u001b[0m\u001b[0;34m,\u001b[0m \u001b[0margs\u001b[0m\u001b[0;34m,\u001b[0m \u001b[0mkwargs\u001b[0m \u001b[0;32min\u001b[0m \u001b[0mself\u001b[0m\u001b[0;34m.\u001b[0m\u001b[0mitems\u001b[0m\u001b[0;34m]\u001b[0m\u001b[0;34m\u001b[0m\u001b[0m\n\u001b[0m\u001b[1;32m    132\u001b[0m \u001b[0;34m\u001b[0m\u001b[0m\n\u001b[1;32m    133\u001b[0m     \u001b[0;32mdef\u001b[0m \u001b[0m__len__\u001b[0m\u001b[0;34m(\u001b[0m\u001b[0mself\u001b[0m\u001b[0;34m)\u001b[0m\u001b[0;34m:\u001b[0m\u001b[0;34m\u001b[0m\u001b[0m\n",
      "\u001b[0;32m/anaconda3/envs/dsi/lib/python3.6/site-packages/sklearn/externals/joblib/parallel.py\u001b[0m in \u001b[0;36m<listcomp>\u001b[0;34m(.0)\u001b[0m\n\u001b[1;32m    129\u001b[0m \u001b[0;34m\u001b[0m\u001b[0m\n\u001b[1;32m    130\u001b[0m     \u001b[0;32mdef\u001b[0m \u001b[0m__call__\u001b[0m\u001b[0;34m(\u001b[0m\u001b[0mself\u001b[0m\u001b[0;34m)\u001b[0m\u001b[0;34m:\u001b[0m\u001b[0;34m\u001b[0m\u001b[0m\n\u001b[0;32m--> 131\u001b[0;31m         \u001b[0;32mreturn\u001b[0m \u001b[0;34m[\u001b[0m\u001b[0mfunc\u001b[0m\u001b[0;34m(\u001b[0m\u001b[0;34m*\u001b[0m\u001b[0margs\u001b[0m\u001b[0;34m,\u001b[0m \u001b[0;34m**\u001b[0m\u001b[0mkwargs\u001b[0m\u001b[0;34m)\u001b[0m \u001b[0;32mfor\u001b[0m \u001b[0mfunc\u001b[0m\u001b[0;34m,\u001b[0m \u001b[0margs\u001b[0m\u001b[0;34m,\u001b[0m \u001b[0mkwargs\u001b[0m \u001b[0;32min\u001b[0m \u001b[0mself\u001b[0m\u001b[0;34m.\u001b[0m\u001b[0mitems\u001b[0m\u001b[0;34m]\u001b[0m\u001b[0;34m\u001b[0m\u001b[0m\n\u001b[0m\u001b[1;32m    132\u001b[0m \u001b[0;34m\u001b[0m\u001b[0m\n\u001b[1;32m    133\u001b[0m     \u001b[0;32mdef\u001b[0m \u001b[0m__len__\u001b[0m\u001b[0;34m(\u001b[0m\u001b[0mself\u001b[0m\u001b[0;34m)\u001b[0m\u001b[0;34m:\u001b[0m\u001b[0;34m\u001b[0m\u001b[0m\n",
      "\u001b[0;32m/anaconda3/envs/dsi/lib/python3.6/site-packages/sklearn/model_selection/_validation.py\u001b[0m in \u001b[0;36m_fit_and_score\u001b[0;34m(estimator, X, y, scorer, train, test, verbose, parameters, fit_params, return_train_score, return_parameters, return_n_test_samples, return_times, error_score)\u001b[0m\n\u001b[1;32m    456\u001b[0m             \u001b[0mestimator\u001b[0m\u001b[0;34m.\u001b[0m\u001b[0mfit\u001b[0m\u001b[0;34m(\u001b[0m\u001b[0mX_train\u001b[0m\u001b[0;34m,\u001b[0m \u001b[0;34m**\u001b[0m\u001b[0mfit_params\u001b[0m\u001b[0;34m)\u001b[0m\u001b[0;34m\u001b[0m\u001b[0m\n\u001b[1;32m    457\u001b[0m         \u001b[0;32melse\u001b[0m\u001b[0;34m:\u001b[0m\u001b[0;34m\u001b[0m\u001b[0m\n\u001b[0;32m--> 458\u001b[0;31m             \u001b[0mestimator\u001b[0m\u001b[0;34m.\u001b[0m\u001b[0mfit\u001b[0m\u001b[0;34m(\u001b[0m\u001b[0mX_train\u001b[0m\u001b[0;34m,\u001b[0m \u001b[0my_train\u001b[0m\u001b[0;34m,\u001b[0m \u001b[0;34m**\u001b[0m\u001b[0mfit_params\u001b[0m\u001b[0;34m)\u001b[0m\u001b[0;34m\u001b[0m\u001b[0m\n\u001b[0m\u001b[1;32m    459\u001b[0m \u001b[0;34m\u001b[0m\u001b[0m\n\u001b[1;32m    460\u001b[0m     \u001b[0;32mexcept\u001b[0m \u001b[0mException\u001b[0m \u001b[0;32mas\u001b[0m \u001b[0me\u001b[0m\u001b[0;34m:\u001b[0m\u001b[0;34m\u001b[0m\u001b[0m\n",
      "\u001b[0;32m/anaconda3/envs/dsi/lib/python3.6/site-packages/sklearn/pipeline.py\u001b[0m in \u001b[0;36mfit\u001b[0;34m(self, X, y, **fit_params)\u001b[0m\n\u001b[1;32m    246\u001b[0m             \u001b[0mThis\u001b[0m \u001b[0mestimator\u001b[0m\u001b[0;34m\u001b[0m\u001b[0m\n\u001b[1;32m    247\u001b[0m         \"\"\"\n\u001b[0;32m--> 248\u001b[0;31m         \u001b[0mXt\u001b[0m\u001b[0;34m,\u001b[0m \u001b[0mfit_params\u001b[0m \u001b[0;34m=\u001b[0m \u001b[0mself\u001b[0m\u001b[0;34m.\u001b[0m\u001b[0m_fit\u001b[0m\u001b[0;34m(\u001b[0m\u001b[0mX\u001b[0m\u001b[0;34m,\u001b[0m \u001b[0my\u001b[0m\u001b[0;34m,\u001b[0m \u001b[0;34m**\u001b[0m\u001b[0mfit_params\u001b[0m\u001b[0;34m)\u001b[0m\u001b[0;34m\u001b[0m\u001b[0m\n\u001b[0m\u001b[1;32m    249\u001b[0m         \u001b[0;32mif\u001b[0m \u001b[0mself\u001b[0m\u001b[0;34m.\u001b[0m\u001b[0m_final_estimator\u001b[0m \u001b[0;32mis\u001b[0m \u001b[0;32mnot\u001b[0m \u001b[0;32mNone\u001b[0m\u001b[0;34m:\u001b[0m\u001b[0;34m\u001b[0m\u001b[0m\n\u001b[1;32m    250\u001b[0m             \u001b[0mself\u001b[0m\u001b[0;34m.\u001b[0m\u001b[0m_final_estimator\u001b[0m\u001b[0;34m.\u001b[0m\u001b[0mfit\u001b[0m\u001b[0;34m(\u001b[0m\u001b[0mXt\u001b[0m\u001b[0;34m,\u001b[0m \u001b[0my\u001b[0m\u001b[0;34m,\u001b[0m \u001b[0;34m**\u001b[0m\u001b[0mfit_params\u001b[0m\u001b[0;34m)\u001b[0m\u001b[0;34m\u001b[0m\u001b[0m\n",
      "\u001b[0;32m/anaconda3/envs/dsi/lib/python3.6/site-packages/sklearn/pipeline.py\u001b[0m in \u001b[0;36m_fit\u001b[0;34m(self, X, y, **fit_params)\u001b[0m\n\u001b[1;32m    211\u001b[0m                 Xt, fitted_transformer = fit_transform_one_cached(\n\u001b[1;32m    212\u001b[0m                     \u001b[0mcloned_transformer\u001b[0m\u001b[0;34m,\u001b[0m \u001b[0;32mNone\u001b[0m\u001b[0;34m,\u001b[0m \u001b[0mXt\u001b[0m\u001b[0;34m,\u001b[0m \u001b[0my\u001b[0m\u001b[0;34m,\u001b[0m\u001b[0;34m\u001b[0m\u001b[0m\n\u001b[0;32m--> 213\u001b[0;31m                     **fit_params_steps[name])\n\u001b[0m\u001b[1;32m    214\u001b[0m                 \u001b[0;31m# Replace the transformer of the step with the fitted\u001b[0m\u001b[0;34m\u001b[0m\u001b[0;34m\u001b[0m\u001b[0m\n\u001b[1;32m    215\u001b[0m                 \u001b[0;31m# transformer. This is necessary when loading the transformer\u001b[0m\u001b[0;34m\u001b[0m\u001b[0;34m\u001b[0m\u001b[0m\n",
      "\u001b[0;32m/anaconda3/envs/dsi/lib/python3.6/site-packages/sklearn/externals/joblib/memory.py\u001b[0m in \u001b[0;36m__call__\u001b[0;34m(self, *args, **kwargs)\u001b[0m\n\u001b[1;32m    360\u001b[0m \u001b[0;34m\u001b[0m\u001b[0m\n\u001b[1;32m    361\u001b[0m     \u001b[0;32mdef\u001b[0m \u001b[0m__call__\u001b[0m\u001b[0;34m(\u001b[0m\u001b[0mself\u001b[0m\u001b[0;34m,\u001b[0m \u001b[0;34m*\u001b[0m\u001b[0margs\u001b[0m\u001b[0;34m,\u001b[0m \u001b[0;34m**\u001b[0m\u001b[0mkwargs\u001b[0m\u001b[0;34m)\u001b[0m\u001b[0;34m:\u001b[0m\u001b[0;34m\u001b[0m\u001b[0m\n\u001b[0;32m--> 362\u001b[0;31m         \u001b[0;32mreturn\u001b[0m \u001b[0mself\u001b[0m\u001b[0;34m.\u001b[0m\u001b[0mfunc\u001b[0m\u001b[0;34m(\u001b[0m\u001b[0;34m*\u001b[0m\u001b[0margs\u001b[0m\u001b[0;34m,\u001b[0m \u001b[0;34m**\u001b[0m\u001b[0mkwargs\u001b[0m\u001b[0;34m)\u001b[0m\u001b[0;34m\u001b[0m\u001b[0m\n\u001b[0m\u001b[1;32m    363\u001b[0m \u001b[0;34m\u001b[0m\u001b[0m\n\u001b[1;32m    364\u001b[0m     \u001b[0;32mdef\u001b[0m \u001b[0mcall_and_shelve\u001b[0m\u001b[0;34m(\u001b[0m\u001b[0mself\u001b[0m\u001b[0;34m,\u001b[0m \u001b[0;34m*\u001b[0m\u001b[0margs\u001b[0m\u001b[0;34m,\u001b[0m \u001b[0;34m**\u001b[0m\u001b[0mkwargs\u001b[0m\u001b[0;34m)\u001b[0m\u001b[0;34m:\u001b[0m\u001b[0;34m\u001b[0m\u001b[0m\n",
      "\u001b[0;32m/anaconda3/envs/dsi/lib/python3.6/site-packages/sklearn/pipeline.py\u001b[0m in \u001b[0;36m_fit_transform_one\u001b[0;34m(transformer, weight, X, y, **fit_params)\u001b[0m\n\u001b[1;32m    579\u001b[0m                        **fit_params):\n\u001b[1;32m    580\u001b[0m     \u001b[0;32mif\u001b[0m \u001b[0mhasattr\u001b[0m\u001b[0;34m(\u001b[0m\u001b[0mtransformer\u001b[0m\u001b[0;34m,\u001b[0m \u001b[0;34m'fit_transform'\u001b[0m\u001b[0;34m)\u001b[0m\u001b[0;34m:\u001b[0m\u001b[0;34m\u001b[0m\u001b[0m\n\u001b[0;32m--> 581\u001b[0;31m         \u001b[0mres\u001b[0m \u001b[0;34m=\u001b[0m \u001b[0mtransformer\u001b[0m\u001b[0;34m.\u001b[0m\u001b[0mfit_transform\u001b[0m\u001b[0;34m(\u001b[0m\u001b[0mX\u001b[0m\u001b[0;34m,\u001b[0m \u001b[0my\u001b[0m\u001b[0;34m,\u001b[0m \u001b[0;34m**\u001b[0m\u001b[0mfit_params\u001b[0m\u001b[0;34m)\u001b[0m\u001b[0;34m\u001b[0m\u001b[0m\n\u001b[0m\u001b[1;32m    582\u001b[0m     \u001b[0;32melse\u001b[0m\u001b[0;34m:\u001b[0m\u001b[0;34m\u001b[0m\u001b[0m\n\u001b[1;32m    583\u001b[0m         \u001b[0mres\u001b[0m \u001b[0;34m=\u001b[0m \u001b[0mtransformer\u001b[0m\u001b[0;34m.\u001b[0m\u001b[0mfit\u001b[0m\u001b[0;34m(\u001b[0m\u001b[0mX\u001b[0m\u001b[0;34m,\u001b[0m \u001b[0my\u001b[0m\u001b[0;34m,\u001b[0m \u001b[0;34m**\u001b[0m\u001b[0mfit_params\u001b[0m\u001b[0;34m)\u001b[0m\u001b[0;34m.\u001b[0m\u001b[0mtransform\u001b[0m\u001b[0;34m(\u001b[0m\u001b[0mX\u001b[0m\u001b[0;34m)\u001b[0m\u001b[0;34m\u001b[0m\u001b[0m\n",
      "\u001b[0;32m/anaconda3/envs/dsi/lib/python3.6/site-packages/sklearn/pipeline.py\u001b[0m in \u001b[0;36mfit_transform\u001b[0;34m(self, X, y, **fit_params)\u001b[0m\n\u001b[1;32m    737\u001b[0m             delayed(_fit_transform_one)(trans, weight, X, y,\n\u001b[1;32m    738\u001b[0m                                         **fit_params)\n\u001b[0;32m--> 739\u001b[0;31m             for name, trans, weight in self._iter())\n\u001b[0m\u001b[1;32m    740\u001b[0m \u001b[0;34m\u001b[0m\u001b[0m\n\u001b[1;32m    741\u001b[0m         \u001b[0;32mif\u001b[0m \u001b[0;32mnot\u001b[0m \u001b[0mresult\u001b[0m\u001b[0;34m:\u001b[0m\u001b[0;34m\u001b[0m\u001b[0m\n",
      "\u001b[0;32m/anaconda3/envs/dsi/lib/python3.6/site-packages/sklearn/externals/joblib/parallel.py\u001b[0m in \u001b[0;36m__call__\u001b[0;34m(self, iterable)\u001b[0m\n\u001b[1;32m    777\u001b[0m             \u001b[0;31m# was dispatched. In particular this covers the edge\u001b[0m\u001b[0;34m\u001b[0m\u001b[0;34m\u001b[0m\u001b[0m\n\u001b[1;32m    778\u001b[0m             \u001b[0;31m# case of Parallel used with an exhausted iterator.\u001b[0m\u001b[0;34m\u001b[0m\u001b[0;34m\u001b[0m\u001b[0m\n\u001b[0;32m--> 779\u001b[0;31m             \u001b[0;32mwhile\u001b[0m \u001b[0mself\u001b[0m\u001b[0;34m.\u001b[0m\u001b[0mdispatch_one_batch\u001b[0m\u001b[0;34m(\u001b[0m\u001b[0miterator\u001b[0m\u001b[0;34m)\u001b[0m\u001b[0;34m:\u001b[0m\u001b[0;34m\u001b[0m\u001b[0m\n\u001b[0m\u001b[1;32m    780\u001b[0m                 \u001b[0mself\u001b[0m\u001b[0;34m.\u001b[0m\u001b[0m_iterating\u001b[0m \u001b[0;34m=\u001b[0m \u001b[0;32mTrue\u001b[0m\u001b[0;34m\u001b[0m\u001b[0m\n\u001b[1;32m    781\u001b[0m             \u001b[0;32melse\u001b[0m\u001b[0;34m:\u001b[0m\u001b[0;34m\u001b[0m\u001b[0m\n",
      "\u001b[0;32m/anaconda3/envs/dsi/lib/python3.6/site-packages/sklearn/externals/joblib/parallel.py\u001b[0m in \u001b[0;36mdispatch_one_batch\u001b[0;34m(self, iterator)\u001b[0m\n\u001b[1;32m    623\u001b[0m                 \u001b[0;32mreturn\u001b[0m \u001b[0;32mFalse\u001b[0m\u001b[0;34m\u001b[0m\u001b[0m\n\u001b[1;32m    624\u001b[0m             \u001b[0;32melse\u001b[0m\u001b[0;34m:\u001b[0m\u001b[0;34m\u001b[0m\u001b[0m\n\u001b[0;32m--> 625\u001b[0;31m                 \u001b[0mself\u001b[0m\u001b[0;34m.\u001b[0m\u001b[0m_dispatch\u001b[0m\u001b[0;34m(\u001b[0m\u001b[0mtasks\u001b[0m\u001b[0;34m)\u001b[0m\u001b[0;34m\u001b[0m\u001b[0m\n\u001b[0m\u001b[1;32m    626\u001b[0m                 \u001b[0;32mreturn\u001b[0m \u001b[0;32mTrue\u001b[0m\u001b[0;34m\u001b[0m\u001b[0m\n\u001b[1;32m    627\u001b[0m \u001b[0;34m\u001b[0m\u001b[0m\n",
      "\u001b[0;32m/anaconda3/envs/dsi/lib/python3.6/site-packages/sklearn/externals/joblib/parallel.py\u001b[0m in \u001b[0;36m_dispatch\u001b[0;34m(self, batch)\u001b[0m\n\u001b[1;32m    586\u001b[0m         \u001b[0mdispatch_timestamp\u001b[0m \u001b[0;34m=\u001b[0m \u001b[0mtime\u001b[0m\u001b[0;34m.\u001b[0m\u001b[0mtime\u001b[0m\u001b[0;34m(\u001b[0m\u001b[0;34m)\u001b[0m\u001b[0;34m\u001b[0m\u001b[0m\n\u001b[1;32m    587\u001b[0m         \u001b[0mcb\u001b[0m \u001b[0;34m=\u001b[0m \u001b[0mBatchCompletionCallBack\u001b[0m\u001b[0;34m(\u001b[0m\u001b[0mdispatch_timestamp\u001b[0m\u001b[0;34m,\u001b[0m \u001b[0mlen\u001b[0m\u001b[0;34m(\u001b[0m\u001b[0mbatch\u001b[0m\u001b[0;34m)\u001b[0m\u001b[0;34m,\u001b[0m \u001b[0mself\u001b[0m\u001b[0;34m)\u001b[0m\u001b[0;34m\u001b[0m\u001b[0m\n\u001b[0;32m--> 588\u001b[0;31m         \u001b[0mjob\u001b[0m \u001b[0;34m=\u001b[0m \u001b[0mself\u001b[0m\u001b[0;34m.\u001b[0m\u001b[0m_backend\u001b[0m\u001b[0;34m.\u001b[0m\u001b[0mapply_async\u001b[0m\u001b[0;34m(\u001b[0m\u001b[0mbatch\u001b[0m\u001b[0;34m,\u001b[0m \u001b[0mcallback\u001b[0m\u001b[0;34m=\u001b[0m\u001b[0mcb\u001b[0m\u001b[0;34m)\u001b[0m\u001b[0;34m\u001b[0m\u001b[0m\n\u001b[0m\u001b[1;32m    589\u001b[0m         \u001b[0mself\u001b[0m\u001b[0;34m.\u001b[0m\u001b[0m_jobs\u001b[0m\u001b[0;34m.\u001b[0m\u001b[0mappend\u001b[0m\u001b[0;34m(\u001b[0m\u001b[0mjob\u001b[0m\u001b[0;34m)\u001b[0m\u001b[0;34m\u001b[0m\u001b[0m\n\u001b[1;32m    590\u001b[0m \u001b[0;34m\u001b[0m\u001b[0m\n",
      "\u001b[0;32m/anaconda3/envs/dsi/lib/python3.6/site-packages/sklearn/externals/joblib/_parallel_backends.py\u001b[0m in \u001b[0;36mapply_async\u001b[0;34m(self, func, callback)\u001b[0m\n\u001b[1;32m    109\u001b[0m     \u001b[0;32mdef\u001b[0m \u001b[0mapply_async\u001b[0m\u001b[0;34m(\u001b[0m\u001b[0mself\u001b[0m\u001b[0;34m,\u001b[0m \u001b[0mfunc\u001b[0m\u001b[0;34m,\u001b[0m \u001b[0mcallback\u001b[0m\u001b[0;34m=\u001b[0m\u001b[0;32mNone\u001b[0m\u001b[0;34m)\u001b[0m\u001b[0;34m:\u001b[0m\u001b[0;34m\u001b[0m\u001b[0m\n\u001b[1;32m    110\u001b[0m         \u001b[0;34m\"\"\"Schedule a func to be run\"\"\"\u001b[0m\u001b[0;34m\u001b[0m\u001b[0m\n\u001b[0;32m--> 111\u001b[0;31m         \u001b[0mresult\u001b[0m \u001b[0;34m=\u001b[0m \u001b[0mImmediateResult\u001b[0m\u001b[0;34m(\u001b[0m\u001b[0mfunc\u001b[0m\u001b[0;34m)\u001b[0m\u001b[0;34m\u001b[0m\u001b[0m\n\u001b[0m\u001b[1;32m    112\u001b[0m         \u001b[0;32mif\u001b[0m \u001b[0mcallback\u001b[0m\u001b[0;34m:\u001b[0m\u001b[0;34m\u001b[0m\u001b[0m\n\u001b[1;32m    113\u001b[0m             \u001b[0mcallback\u001b[0m\u001b[0;34m(\u001b[0m\u001b[0mresult\u001b[0m\u001b[0;34m)\u001b[0m\u001b[0;34m\u001b[0m\u001b[0m\n",
      "\u001b[0;32m/anaconda3/envs/dsi/lib/python3.6/site-packages/sklearn/externals/joblib/_parallel_backends.py\u001b[0m in \u001b[0;36m__init__\u001b[0;34m(self, batch)\u001b[0m\n\u001b[1;32m    330\u001b[0m         \u001b[0;31m# Don't delay the application, to avoid keeping the input\u001b[0m\u001b[0;34m\u001b[0m\u001b[0;34m\u001b[0m\u001b[0m\n\u001b[1;32m    331\u001b[0m         \u001b[0;31m# arguments in memory\u001b[0m\u001b[0;34m\u001b[0m\u001b[0;34m\u001b[0m\u001b[0m\n\u001b[0;32m--> 332\u001b[0;31m         \u001b[0mself\u001b[0m\u001b[0;34m.\u001b[0m\u001b[0mresults\u001b[0m \u001b[0;34m=\u001b[0m \u001b[0mbatch\u001b[0m\u001b[0;34m(\u001b[0m\u001b[0;34m)\u001b[0m\u001b[0;34m\u001b[0m\u001b[0m\n\u001b[0m\u001b[1;32m    333\u001b[0m \u001b[0;34m\u001b[0m\u001b[0m\n\u001b[1;32m    334\u001b[0m     \u001b[0;32mdef\u001b[0m \u001b[0mget\u001b[0m\u001b[0;34m(\u001b[0m\u001b[0mself\u001b[0m\u001b[0;34m)\u001b[0m\u001b[0;34m:\u001b[0m\u001b[0;34m\u001b[0m\u001b[0m\n",
      "\u001b[0;32m/anaconda3/envs/dsi/lib/python3.6/site-packages/sklearn/externals/joblib/parallel.py\u001b[0m in \u001b[0;36m__call__\u001b[0;34m(self)\u001b[0m\n\u001b[1;32m    129\u001b[0m \u001b[0;34m\u001b[0m\u001b[0m\n\u001b[1;32m    130\u001b[0m     \u001b[0;32mdef\u001b[0m \u001b[0m__call__\u001b[0m\u001b[0;34m(\u001b[0m\u001b[0mself\u001b[0m\u001b[0;34m)\u001b[0m\u001b[0;34m:\u001b[0m\u001b[0;34m\u001b[0m\u001b[0m\n\u001b[0;32m--> 131\u001b[0;31m         \u001b[0;32mreturn\u001b[0m \u001b[0;34m[\u001b[0m\u001b[0mfunc\u001b[0m\u001b[0;34m(\u001b[0m\u001b[0;34m*\u001b[0m\u001b[0margs\u001b[0m\u001b[0;34m,\u001b[0m \u001b[0;34m**\u001b[0m\u001b[0mkwargs\u001b[0m\u001b[0;34m)\u001b[0m \u001b[0;32mfor\u001b[0m \u001b[0mfunc\u001b[0m\u001b[0;34m,\u001b[0m \u001b[0margs\u001b[0m\u001b[0;34m,\u001b[0m \u001b[0mkwargs\u001b[0m \u001b[0;32min\u001b[0m \u001b[0mself\u001b[0m\u001b[0;34m.\u001b[0m\u001b[0mitems\u001b[0m\u001b[0;34m]\u001b[0m\u001b[0;34m\u001b[0m\u001b[0m\n\u001b[0m\u001b[1;32m    132\u001b[0m \u001b[0;34m\u001b[0m\u001b[0m\n\u001b[1;32m    133\u001b[0m     \u001b[0;32mdef\u001b[0m \u001b[0m__len__\u001b[0m\u001b[0;34m(\u001b[0m\u001b[0mself\u001b[0m\u001b[0;34m)\u001b[0m\u001b[0;34m:\u001b[0m\u001b[0;34m\u001b[0m\u001b[0m\n",
      "\u001b[0;32m/anaconda3/envs/dsi/lib/python3.6/site-packages/sklearn/externals/joblib/parallel.py\u001b[0m in \u001b[0;36m<listcomp>\u001b[0;34m(.0)\u001b[0m\n\u001b[1;32m    129\u001b[0m \u001b[0;34m\u001b[0m\u001b[0m\n\u001b[1;32m    130\u001b[0m     \u001b[0;32mdef\u001b[0m \u001b[0m__call__\u001b[0m\u001b[0;34m(\u001b[0m\u001b[0mself\u001b[0m\u001b[0;34m)\u001b[0m\u001b[0;34m:\u001b[0m\u001b[0;34m\u001b[0m\u001b[0m\n\u001b[0;32m--> 131\u001b[0;31m         \u001b[0;32mreturn\u001b[0m \u001b[0;34m[\u001b[0m\u001b[0mfunc\u001b[0m\u001b[0;34m(\u001b[0m\u001b[0;34m*\u001b[0m\u001b[0margs\u001b[0m\u001b[0;34m,\u001b[0m \u001b[0;34m**\u001b[0m\u001b[0mkwargs\u001b[0m\u001b[0;34m)\u001b[0m \u001b[0;32mfor\u001b[0m \u001b[0mfunc\u001b[0m\u001b[0;34m,\u001b[0m \u001b[0margs\u001b[0m\u001b[0;34m,\u001b[0m \u001b[0mkwargs\u001b[0m \u001b[0;32min\u001b[0m \u001b[0mself\u001b[0m\u001b[0;34m.\u001b[0m\u001b[0mitems\u001b[0m\u001b[0;34m]\u001b[0m\u001b[0;34m\u001b[0m\u001b[0m\n\u001b[0m\u001b[1;32m    132\u001b[0m \u001b[0;34m\u001b[0m\u001b[0m\n\u001b[1;32m    133\u001b[0m     \u001b[0;32mdef\u001b[0m \u001b[0m__len__\u001b[0m\u001b[0;34m(\u001b[0m\u001b[0mself\u001b[0m\u001b[0;34m)\u001b[0m\u001b[0;34m:\u001b[0m\u001b[0;34m\u001b[0m\u001b[0m\n",
      "\u001b[0;32m/anaconda3/envs/dsi/lib/python3.6/site-packages/sklearn/pipeline.py\u001b[0m in \u001b[0;36m_fit_transform_one\u001b[0;34m(transformer, weight, X, y, **fit_params)\u001b[0m\n\u001b[1;32m    579\u001b[0m                        **fit_params):\n\u001b[1;32m    580\u001b[0m     \u001b[0;32mif\u001b[0m \u001b[0mhasattr\u001b[0m\u001b[0;34m(\u001b[0m\u001b[0mtransformer\u001b[0m\u001b[0;34m,\u001b[0m \u001b[0;34m'fit_transform'\u001b[0m\u001b[0;34m)\u001b[0m\u001b[0;34m:\u001b[0m\u001b[0;34m\u001b[0m\u001b[0m\n\u001b[0;32m--> 581\u001b[0;31m         \u001b[0mres\u001b[0m \u001b[0;34m=\u001b[0m \u001b[0mtransformer\u001b[0m\u001b[0;34m.\u001b[0m\u001b[0mfit_transform\u001b[0m\u001b[0;34m(\u001b[0m\u001b[0mX\u001b[0m\u001b[0;34m,\u001b[0m \u001b[0my\u001b[0m\u001b[0;34m,\u001b[0m \u001b[0;34m**\u001b[0m\u001b[0mfit_params\u001b[0m\u001b[0;34m)\u001b[0m\u001b[0;34m\u001b[0m\u001b[0m\n\u001b[0m\u001b[1;32m    582\u001b[0m     \u001b[0;32melse\u001b[0m\u001b[0;34m:\u001b[0m\u001b[0;34m\u001b[0m\u001b[0m\n\u001b[1;32m    583\u001b[0m         \u001b[0mres\u001b[0m \u001b[0;34m=\u001b[0m \u001b[0mtransformer\u001b[0m\u001b[0;34m.\u001b[0m\u001b[0mfit\u001b[0m\u001b[0;34m(\u001b[0m\u001b[0mX\u001b[0m\u001b[0;34m,\u001b[0m \u001b[0my\u001b[0m\u001b[0;34m,\u001b[0m \u001b[0;34m**\u001b[0m\u001b[0mfit_params\u001b[0m\u001b[0;34m)\u001b[0m\u001b[0;34m.\u001b[0m\u001b[0mtransform\u001b[0m\u001b[0;34m(\u001b[0m\u001b[0mX\u001b[0m\u001b[0;34m)\u001b[0m\u001b[0;34m\u001b[0m\u001b[0m\n",
      "\u001b[0;32m/anaconda3/envs/dsi/lib/python3.6/site-packages/sklearn/pipeline.py\u001b[0m in \u001b[0;36mfit_transform\u001b[0;34m(self, X, y, **fit_params)\u001b[0m\n\u001b[1;32m    281\u001b[0m         \u001b[0mXt\u001b[0m\u001b[0;34m,\u001b[0m \u001b[0mfit_params\u001b[0m \u001b[0;34m=\u001b[0m \u001b[0mself\u001b[0m\u001b[0;34m.\u001b[0m\u001b[0m_fit\u001b[0m\u001b[0;34m(\u001b[0m\u001b[0mX\u001b[0m\u001b[0;34m,\u001b[0m \u001b[0my\u001b[0m\u001b[0;34m,\u001b[0m \u001b[0;34m**\u001b[0m\u001b[0mfit_params\u001b[0m\u001b[0;34m)\u001b[0m\u001b[0;34m\u001b[0m\u001b[0m\n\u001b[1;32m    282\u001b[0m         \u001b[0;32mif\u001b[0m \u001b[0mhasattr\u001b[0m\u001b[0;34m(\u001b[0m\u001b[0mlast_step\u001b[0m\u001b[0;34m,\u001b[0m \u001b[0;34m'fit_transform'\u001b[0m\u001b[0;34m)\u001b[0m\u001b[0;34m:\u001b[0m\u001b[0;34m\u001b[0m\u001b[0m\n\u001b[0;32m--> 283\u001b[0;31m             \u001b[0;32mreturn\u001b[0m \u001b[0mlast_step\u001b[0m\u001b[0;34m.\u001b[0m\u001b[0mfit_transform\u001b[0m\u001b[0;34m(\u001b[0m\u001b[0mXt\u001b[0m\u001b[0;34m,\u001b[0m \u001b[0my\u001b[0m\u001b[0;34m,\u001b[0m \u001b[0;34m**\u001b[0m\u001b[0mfit_params\u001b[0m\u001b[0;34m)\u001b[0m\u001b[0;34m\u001b[0m\u001b[0m\n\u001b[0m\u001b[1;32m    284\u001b[0m         \u001b[0;32melif\u001b[0m \u001b[0mlast_step\u001b[0m \u001b[0;32mis\u001b[0m \u001b[0;32mNone\u001b[0m\u001b[0;34m:\u001b[0m\u001b[0;34m\u001b[0m\u001b[0m\n\u001b[1;32m    285\u001b[0m             \u001b[0;32mreturn\u001b[0m \u001b[0mXt\u001b[0m\u001b[0;34m\u001b[0m\u001b[0m\n",
      "\u001b[0;32m/anaconda3/envs/dsi/lib/python3.6/site-packages/sklearn/feature_extraction/text.py\u001b[0m in \u001b[0;36mfit_transform\u001b[0;34m(self, raw_documents, y)\u001b[0m\n\u001b[1;32m   1379\u001b[0m             \u001b[0mTf\u001b[0m\u001b[0;34m-\u001b[0m\u001b[0midf\u001b[0m\u001b[0;34m-\u001b[0m\u001b[0mweighted\u001b[0m \u001b[0mdocument\u001b[0m\u001b[0;34m-\u001b[0m\u001b[0mterm\u001b[0m \u001b[0mmatrix\u001b[0m\u001b[0;34m.\u001b[0m\u001b[0;34m\u001b[0m\u001b[0m\n\u001b[1;32m   1380\u001b[0m         \"\"\"\n\u001b[0;32m-> 1381\u001b[0;31m         \u001b[0mX\u001b[0m \u001b[0;34m=\u001b[0m \u001b[0msuper\u001b[0m\u001b[0;34m(\u001b[0m\u001b[0mTfidfVectorizer\u001b[0m\u001b[0;34m,\u001b[0m \u001b[0mself\u001b[0m\u001b[0;34m)\u001b[0m\u001b[0;34m.\u001b[0m\u001b[0mfit_transform\u001b[0m\u001b[0;34m(\u001b[0m\u001b[0mraw_documents\u001b[0m\u001b[0;34m)\u001b[0m\u001b[0;34m\u001b[0m\u001b[0m\n\u001b[0m\u001b[1;32m   1382\u001b[0m         \u001b[0mself\u001b[0m\u001b[0;34m.\u001b[0m\u001b[0m_tfidf\u001b[0m\u001b[0;34m.\u001b[0m\u001b[0mfit\u001b[0m\u001b[0;34m(\u001b[0m\u001b[0mX\u001b[0m\u001b[0;34m)\u001b[0m\u001b[0;34m\u001b[0m\u001b[0m\n\u001b[1;32m   1383\u001b[0m         \u001b[0;31m# X is already a transformed view of raw_documents so\u001b[0m\u001b[0;34m\u001b[0m\u001b[0;34m\u001b[0m\u001b[0m\n",
      "\u001b[0;32m/anaconda3/envs/dsi/lib/python3.6/site-packages/sklearn/feature_extraction/text.py\u001b[0m in \u001b[0;36mfit_transform\u001b[0;34m(self, raw_documents, y)\u001b[0m\n\u001b[1;32m    867\u001b[0m \u001b[0;34m\u001b[0m\u001b[0m\n\u001b[1;32m    868\u001b[0m         vocabulary, X = self._count_vocab(raw_documents,\n\u001b[0;32m--> 869\u001b[0;31m                                           self.fixed_vocabulary_)\n\u001b[0m\u001b[1;32m    870\u001b[0m \u001b[0;34m\u001b[0m\u001b[0m\n\u001b[1;32m    871\u001b[0m         \u001b[0;32mif\u001b[0m \u001b[0mself\u001b[0m\u001b[0;34m.\u001b[0m\u001b[0mbinary\u001b[0m\u001b[0;34m:\u001b[0m\u001b[0;34m\u001b[0m\u001b[0m\n",
      "\u001b[0;32m/anaconda3/envs/dsi/lib/python3.6/site-packages/sklearn/feature_extraction/text.py\u001b[0m in \u001b[0;36m_count_vocab\u001b[0;34m(self, raw_documents, fixed_vocab)\u001b[0m\n\u001b[1;32m    790\u001b[0m         \u001b[0;32mfor\u001b[0m \u001b[0mdoc\u001b[0m \u001b[0;32min\u001b[0m \u001b[0mraw_documents\u001b[0m\u001b[0;34m:\u001b[0m\u001b[0;34m\u001b[0m\u001b[0m\n\u001b[1;32m    791\u001b[0m             \u001b[0mfeature_counter\u001b[0m \u001b[0;34m=\u001b[0m \u001b[0;34m{\u001b[0m\u001b[0;34m}\u001b[0m\u001b[0;34m\u001b[0m\u001b[0m\n\u001b[0;32m--> 792\u001b[0;31m             \u001b[0;32mfor\u001b[0m \u001b[0mfeature\u001b[0m \u001b[0;32min\u001b[0m \u001b[0manalyze\u001b[0m\u001b[0;34m(\u001b[0m\u001b[0mdoc\u001b[0m\u001b[0;34m)\u001b[0m\u001b[0;34m:\u001b[0m\u001b[0;34m\u001b[0m\u001b[0m\n\u001b[0m\u001b[1;32m    793\u001b[0m                 \u001b[0;32mtry\u001b[0m\u001b[0;34m:\u001b[0m\u001b[0;34m\u001b[0m\u001b[0m\n\u001b[1;32m    794\u001b[0m                     \u001b[0mfeature_idx\u001b[0m \u001b[0;34m=\u001b[0m \u001b[0mvocabulary\u001b[0m\u001b[0;34m[\u001b[0m\u001b[0mfeature\u001b[0m\u001b[0;34m]\u001b[0m\u001b[0;34m\u001b[0m\u001b[0m\n",
      "\u001b[0;32m<ipython-input-155-ecec989b7e86>\u001b[0m in \u001b[0;36manalyser\u001b[0;34m(doc)\u001b[0m\n\u001b[1;32m     38\u001b[0m             \u001b[0;31m# use CountVectorizer's _word_ngrams built in method\u001b[0m\u001b[0;34m\u001b[0m\u001b[0;34m\u001b[0m\u001b[0m\n\u001b[1;32m     39\u001b[0m             \u001b[0;31m# to remove stop words and extract n-grams\u001b[0m\u001b[0;34m\u001b[0m\u001b[0;34m\u001b[0m\u001b[0m\n\u001b[0;32m---> 40\u001b[0;31m             \u001b[0;32mreturn\u001b[0m\u001b[0;34m(\u001b[0m\u001b[0mself\u001b[0m\u001b[0;34m.\u001b[0m\u001b[0m_word_ngrams\u001b[0m\u001b[0;34m(\u001b[0m\u001b[0mtokens\u001b[0m\u001b[0;34m,\u001b[0m \u001b[0mstop_words\u001b[0m\u001b[0;34m)\u001b[0m\u001b[0;34m)\u001b[0m\u001b[0;34m\u001b[0m\u001b[0m\n\u001b[0m\u001b[1;32m     41\u001b[0m \u001b[0;34m\u001b[0m\u001b[0m\n\u001b[1;32m     42\u001b[0m         \u001b[0;32mreturn\u001b[0m\u001b[0;34m(\u001b[0m\u001b[0manalyser\u001b[0m\u001b[0;34m)\u001b[0m\u001b[0;34m\u001b[0m\u001b[0m\n",
      "\u001b[0;31mNameError\u001b[0m: name 'stop_words' is not defined"
     ]
    }
   ],
   "source": [
    "gs.fit(X_train, y_train)"
   ]
  },
  {
   "cell_type": "code",
   "execution_count": 52,
   "metadata": {},
   "outputs": [
    {
     "data": {
      "text/plain": [
       "0.90072358900144722"
      ]
     },
     "execution_count": 52,
     "metadata": {},
     "output_type": "execute_result"
    }
   ],
   "source": [
    "gs.score(X_train, y_train)"
   ]
  },
  {
   "cell_type": "code",
   "execution_count": 53,
   "metadata": {},
   "outputs": [
    {
     "data": {
      "text/plain": [
       "0.75591491209029738"
      ]
     },
     "execution_count": 53,
     "metadata": {},
     "output_type": "execute_result"
    }
   ],
   "source": [
    "gs.score(X_test, y_test)"
   ]
  },
  {
   "cell_type": "code",
   "execution_count": 46,
   "metadata": {},
   "outputs": [
    {
     "data": {
      "text/plain": [
       "{'sgdc__alpha': 1e-05, 'sgdc__loss': 'log', 'sgdc__penalty': 'elasticnet'}"
      ]
     },
     "execution_count": 46,
     "metadata": {},
     "output_type": "execute_result"
    }
   ],
   "source": [
    "gs.best_params_"
   ]
  },
  {
   "attachments": {},
   "cell_type": "markdown",
   "metadata": {},
   "source": [
    "<a id=\"eval-model\"></a>\n",
    "# Evaluate Model\n",
    "[Return to Index](#contents)"
   ]
  },
  {
   "cell_type": "markdown",
   "metadata": {},
   "source": [
    "Best scores: \n",
    "- PAC, 0.804: (1,4) ngrams, stemmer, polynomial off\n",
    "- PAC, 0.842: (1,4) ngrams, lemmatizer, poly off\n",
    "- LogReg, 0.808 : (1,4) ngrams, lemmatizer, poly off (and same score poly on int only)\n",
    "- PAC, 0.816: (1,4) ngrams, lemmatizer, poly on int only\n",
    "- PAC, 0.8399: (1,4) lemma, poly off, idf off binary false, transformer weights 3, 1\n",
    "- SGDC, 0.813: (1,4) ngrams, lemmatizer, poly off, 'loss': 'perceptron', 'penalty': 'l2' -- overfit\n",
    "- SGDC, 0.831: (1,4) ngrams, lemma, poly off, alpha': 0.01, 'loss': 'perceptron', 'penalty': 'l2'\n",
    "- MNB: 0.824 (1,4), lemma, poly off, alpha 0.025, tfidf off, binary true\n",
    "- PAC: 0.843 (1,4), lemma, poly off, C .45, binary true idf off, trans weights 2, 1\n",
    "- SGDC .825, percep, l2, 0.001 alpha, tfidf off binary true"
   ]
  },
  {
   "cell_type": "markdown",
   "metadata": {},
   "source": [
    "#### How well does the model work for each news source?\n",
    "Make function with input source name, or for loop through `source.unique()`"
   ]
  },
  {
   "cell_type": "code",
   "execution_count": 301,
   "metadata": {},
   "outputs": [],
   "source": [
    "# low, high = min(text[text['source'] == 'Breitbart'].index), max(text[text['source'] == 'Breitbart'].index)\n",
    "# source_text = text[text['source'] == 'Breitbart']['combined']\n",
    "# source_num = df.iloc[low:high][num_cols]\n",
    "# s_label = text[text['source'] == 'Breitbart']['yes_right']\n",
    "# poop = pd.concat([source_text, source_num], axis=1)\n",
    "# poop = feat_union.fit_transform(poop)\n",
    "# gs.score(poop, s_label)"
   ]
  },
  {
   "cell_type": "code",
   "execution_count": 300,
   "metadata": {},
   "outputs": [],
   "source": [
    "# def source_score(model, source):\n",
    "#     low, high = min(text[text['source'] == source].index), max(text[text['source'] == source].index)\n",
    "#     source_text = text[text['source'] == source]['combined']\n",
    "#     source_num = df.iloc[low:high][num_cols]\n",
    "#     label = text[text['source'] == source]['yes_right']\n",
    "#     X = pd.concat([source_text, source_num], axis=1)\n",
    "#     X = feat_union.fit_transform(X)\n",
    "#     return model.score(X, label)\n",
    "    "
   ]
  },
  {
   "cell_type": "markdown",
   "metadata": {},
   "source": [
    "<a id=\"answer-question\"></a>\n",
    "# Answer Question\n",
    "[Return to Index](#contents)"
   ]
  },
  {
   "cell_type": "markdown",
   "metadata": {},
   "source": [
    "### Getting Feature Importances"
   ]
  },
  {
   "cell_type": "code",
   "execution_count": 602,
   "metadata": {},
   "outputs": [],
   "source": [
    "feature_names = text_pipe.fit(X_train, y_train).steps[1][1].get_feature_names()\n",
    "feature_names.extend(num_pipe.fit(X_train, y_train).steps[0][1].get_feature_names())"
   ]
  },
  {
   "cell_type": "code",
   "execution_count": 603,
   "metadata": {},
   "outputs": [],
   "source": [
    "pipe_coefs = list(gs.best_estimator_.steps[1][1].coef_[0])"
   ]
  },
  {
   "cell_type": "code",
   "execution_count": 604,
   "metadata": {},
   "outputs": [
    {
     "name": "stdout",
     "output_type": "stream",
     "text": [
      "33098 = 33097 ?\n",
      "False\n"
     ]
    }
   ],
   "source": [
    "print(len(feature_names), '=', len(pipe_coefs), '?')\n",
    "print(len(feature_names)==len(pipe_coefs))"
   ]
  },
  {
   "cell_type": "code",
   "execution_count": 605,
   "metadata": {},
   "outputs": [
    {
     "data": {
      "text/plain": [
       "'00 jpg'"
      ]
     },
     "execution_count": 605,
     "metadata": {},
     "output_type": "execute_result"
    }
   ],
   "source": [
    "feature_names[0]"
   ]
  },
  {
   "cell_type": "code",
   "execution_count": 606,
   "metadata": {},
   "outputs": [],
   "source": [
    "feature_names.remove(feature_names[0])"
   ]
  },
  {
   "cell_type": "code",
   "execution_count": 607,
   "metadata": {},
   "outputs": [
    {
     "name": "stdout",
     "output_type": "stream",
     "text": [
      "33097 = 33097 ?\n",
      "True\n"
     ]
    }
   ],
   "source": [
    "print(len(feature_names), '=', len(pipe_coefs), '?')\n",
    "print(len(feature_names)==len(pipe_coefs))"
   ]
  },
  {
   "cell_type": "code",
   "execution_count": 608,
   "metadata": {},
   "outputs": [],
   "source": [
    "importances = pd.DataFrame(list(zip(feature_names, pipe_coefs, np.abs(pipe_coefs))),\n",
    "                          columns=['feature','coef','abs_coef'])"
   ]
  },
  {
   "cell_type": "code",
   "execution_count": 609,
   "metadata": {},
   "outputs": [
    {
     "data": {
      "text/html": [
       "<div>\n",
       "<style scoped>\n",
       "    .dataframe tbody tr th:only-of-type {\n",
       "        vertical-align: middle;\n",
       "    }\n",
       "\n",
       "    .dataframe tbody tr th {\n",
       "        vertical-align: top;\n",
       "    }\n",
       "\n",
       "    .dataframe thead th {\n",
       "        text-align: right;\n",
       "    }\n",
       "</style>\n",
       "<table border=\"1\" class=\"dataframe\">\n",
       "  <thead>\n",
       "    <tr style=\"text-align: right;\">\n",
       "      <th></th>\n",
       "      <th>feature</th>\n",
       "      <th>coef</th>\n",
       "      <th>abs_coef</th>\n",
       "    </tr>\n",
       "  </thead>\n",
       "  <tbody>\n",
       "    <tr>\n",
       "      <th>15254</th>\n",
       "      <td>Stephanie Ruhle Ali</td>\n",
       "      <td>-3.748326</td>\n",
       "      <td>3.748326</td>\n",
       "    </tr>\n",
       "    <tr>\n",
       "      <th>31581</th>\n",
       "      <td>talks Rachel Donald</td>\n",
       "      <td>-3.586563</td>\n",
       "      <td>3.586563</td>\n",
       "    </tr>\n",
       "    <tr>\n",
       "      <th>16151</th>\n",
       "      <td>The Latest Italy</td>\n",
       "      <td>3.449701</td>\n",
       "      <td>3.449701</td>\n",
       "    </tr>\n",
       "    <tr>\n",
       "      <th>1089</th>\n",
       "      <td>Ali Velshi Stephanie</td>\n",
       "      <td>-3.291323</td>\n",
       "      <td>3.291323</td>\n",
       "    </tr>\n",
       "    <tr>\n",
       "      <th>5378</th>\n",
       "      <td>Fast Facts Read</td>\n",
       "      <td>-2.891537</td>\n",
       "      <td>2.891537</td>\n",
       "    </tr>\n",
       "    <tr>\n",
       "      <th>15609</th>\n",
       "      <td>TEL AVIV An</td>\n",
       "      <td>2.885436</td>\n",
       "      <td>2.885436</td>\n",
       "    </tr>\n",
       "    <tr>\n",
       "      <th>1631</th>\n",
       "      <td>Ari Melber Fallback</td>\n",
       "      <td>-2.774018</td>\n",
       "      <td>2.774018</td>\n",
       "    </tr>\n",
       "    <tr>\n",
       "      <th>20310</th>\n",
       "      <td>Your World Generation</td>\n",
       "      <td>2.772057</td>\n",
       "      <td>2.772057</td>\n",
       "    </tr>\n",
       "    <tr>\n",
       "      <th>11258</th>\n",
       "      <td>News News China</td>\n",
       "      <td>2.717633</td>\n",
       "      <td>2.717633</td>\n",
       "    </tr>\n",
       "    <tr>\n",
       "      <th>10259</th>\n",
       "      <td>Michael Cohen 130</td>\n",
       "      <td>-2.706944</td>\n",
       "      <td>2.706944</td>\n",
       "    </tr>\n",
       "    <tr>\n",
       "      <th>2909</th>\n",
       "      <td>Charles Krauthammer Dead</td>\n",
       "      <td>2.699714</td>\n",
       "      <td>2.699714</td>\n",
       "    </tr>\n",
       "    <tr>\n",
       "      <th>13011</th>\n",
       "      <td>Rachel reviews</td>\n",
       "      <td>-2.683259</td>\n",
       "      <td>2.683259</td>\n",
       "    </tr>\n",
       "    <tr>\n",
       "      <th>13062</th>\n",
       "      <td>Raw video Police</td>\n",
       "      <td>2.597430</td>\n",
       "      <td>2.597430</td>\n",
       "    </tr>\n",
       "    <tr>\n",
       "      <th>5327</th>\n",
       "      <td>Fake News Media</td>\n",
       "      <td>2.462794</td>\n",
       "      <td>2.462794</td>\n",
       "    </tr>\n",
       "    <tr>\n",
       "      <th>19173</th>\n",
       "      <td>Vivienne Westwood</td>\n",
       "      <td>2.426501</td>\n",
       "      <td>2.426501</td>\n",
       "    </tr>\n",
       "    <tr>\n",
       "      <th>19126</th>\n",
       "      <td>Video shows</td>\n",
       "      <td>-2.402911</td>\n",
       "      <td>2.402911</td>\n",
       "    </tr>\n",
       "    <tr>\n",
       "      <th>23967</th>\n",
       "      <td>far left extremist</td>\n",
       "      <td>2.356778</td>\n",
       "      <td>2.356778</td>\n",
       "    </tr>\n",
       "    <tr>\n",
       "      <th>13799</th>\n",
       "      <td>Rudy Giuliani President</td>\n",
       "      <td>-2.348827</td>\n",
       "      <td>2.348827</td>\n",
       "    </tr>\n",
       "    <tr>\n",
       "      <th>5907</th>\n",
       "      <td>Fox amp Friends</td>\n",
       "      <td>2.186400</td>\n",
       "      <td>2.186400</td>\n",
       "    </tr>\n",
       "    <tr>\n",
       "      <th>8882</th>\n",
       "      <td>Katy Tur speaks</td>\n",
       "      <td>-2.175364</td>\n",
       "      <td>2.175364</td>\n",
       "    </tr>\n",
       "  </tbody>\n",
       "</table>\n",
       "</div>"
      ],
      "text/plain": [
       "                        feature      coef  abs_coef\n",
       "15254       Stephanie Ruhle Ali -3.748326  3.748326\n",
       "31581       talks Rachel Donald -3.586563  3.586563\n",
       "16151          The Latest Italy  3.449701  3.449701\n",
       "1089       Ali Velshi Stephanie -3.291323  3.291323\n",
       "5378            Fast Facts Read -2.891537  2.891537\n",
       "15609               TEL AVIV An  2.885436  2.885436\n",
       "1631        Ari Melber Fallback -2.774018  2.774018\n",
       "20310     Your World Generation  2.772057  2.772057\n",
       "11258           News News China  2.717633  2.717633\n",
       "10259         Michael Cohen 130 -2.706944  2.706944\n",
       "2909   Charles Krauthammer Dead  2.699714  2.699714\n",
       "13011            Rachel reviews -2.683259  2.683259\n",
       "13062          Raw video Police  2.597430  2.597430\n",
       "5327            Fake News Media  2.462794  2.462794\n",
       "19173         Vivienne Westwood  2.426501  2.426501\n",
       "19126               Video shows -2.402911  2.402911\n",
       "23967        far left extremist  2.356778  2.356778\n",
       "13799   Rudy Giuliani President -2.348827  2.348827\n",
       "5907            Fox amp Friends  2.186400  2.186400\n",
       "8882            Katy Tur speaks -2.175364  2.175364"
      ]
     },
     "execution_count": 609,
     "metadata": {},
     "output_type": "execute_result"
    }
   ],
   "source": [
    "importances.sort_values('abs_coef', ascending=False).head(20)"
   ]
  },
  {
   "cell_type": "code",
   "execution_count": 64,
   "metadata": {},
   "outputs": [
    {
     "data": {
      "text/plain": [
       "{'illegal aliens amnesty',\n",
       " 'president Czech Republic sworn',\n",
       " 'Sen McCain Democratic',\n",
       " 'wife obtuse',\n",
       " 'Media Firestorm',\n",
       " 'success President Reagan dealing',\n",
       " 'latest campaign treats fish',\n",
       " 'saves adopts baby',\n",
       " 'pushes Trump fundraiser hacking',\n",
       " 'detainees kept',\n",
       " 'Intensifies Outside Iraq',\n",
       " 'Raunchy New Takedown Late',\n",
       " 'pause military exercises South',\n",
       " 'video games Here need',\n",
       " 'won end Trump',\n",
       " 'fillies Classic',\n",
       " 'Possibly Coming Back To',\n",
       " 'pro parade',\n",
       " 'Republicans home warning',\n",
       " 'record weekend',\n",
       " 'bails UC',\n",
       " 'emerged Wednesday',\n",
       " 'Journalism initiative',\n",
       " 'reports leaked New',\n",
       " 'Why Working With Female',\n",
       " 'China Touts Mass Surveillance',\n",
       " 'husband Jared Kushner Donald',\n",
       " 'scenes save',\n",
       " 'book women Bible today',\n",
       " 'Oliver Solves The',\n",
       " 'past decade Jerry Brown',\n",
       " 'ruining snarky',\n",
       " 'watched year old',\n",
       " 'Confirmed Lead CIA',\n",
       " 'embassy Jerusalem Pastor Robert',\n",
       " 'arrives G7 summit',\n",
       " 'Legends lets',\n",
       " 'The noticeable change year',\n",
       " '000 Russian oligarch',\n",
       " 'Georgia Bilal Quintyne offered',\n",
       " 'favorite Trump',\n",
       " 'Labor Camp President Donald',\n",
       " 'treat kidney',\n",
       " 'Kobach contempt voting rights',\n",
       " 'Jean Pigozzi started snapping',\n",
       " 'Italy populist parties agree',\n",
       " 'Parenthood CEO Cecile',\n",
       " 'used immigration law enforcement',\n",
       " 'State ICE',\n",
       " 'Eating Salmon Is',\n",
       " 'administration separated border crossing',\n",
       " 'Reporter Heidi Przybyla discusses',\n",
       " 'Bettys historic summit',\n",
       " 'resisting arrest charges Vince',\n",
       " 'fight bathroom use The',\n",
       " 'Presence Greatness',\n",
       " 'speaks border agents',\n",
       " 'Palestinians reported killed',\n",
       " 'Fires Employee Who',\n",
       " 'strong defenses Israel offered',\n",
       " '02 cpac',\n",
       " 'Ports Could Create 150',\n",
       " 'depression dating',\n",
       " 'Romney predicts Trump',\n",
       " 'ambassadors thrown bus',\n",
       " 'president Federal investigators',\n",
       " 'aimed improving schools',\n",
       " '80m jet',\n",
       " 'Media South',\n",
       " 'Going Get Weird The',\n",
       " 'Former Health',\n",
       " 'long Is',\n",
       " 'Tricked His',\n",
       " 'ordered local',\n",
       " '18th birthday',\n",
       " 'Singapore feel',\n",
       " 'rendition Survivor sermons',\n",
       " 'Guerrero Jr The',\n",
       " 'Issue Perspective Any strategy',\n",
       " 'shutdowns hit airport hard',\n",
       " 'gunman killed students reunited',\n",
       " 'captivate club orientated imagination',\n",
       " 'Turkeys Die',\n",
       " 'suit We',\n",
       " 'asks Congressman',\n",
       " 'citizenship border wall',\n",
       " 'election officials clean voter',\n",
       " 'indicted 13 Russians Russian',\n",
       " 'clear messages',\n",
       " 'cans avoid scolded',\n",
       " 'connect dad Major Paul',\n",
       " 'evils cybercrime saying',\n",
       " 'noted historic North',\n",
       " 'just renamed Laura Ingalls',\n",
       " 'oldest animal',\n",
       " 'UK Cabinet',\n",
       " 'Pride London favourite',\n",
       " 'Wins Story XXXTentacion The',\n",
       " 'Calling Their Products Meat',\n",
       " 'trespassing policy Starbucks',\n",
       " 'try secure',\n",
       " 'Up FDA Mike',\n",
       " 'ready watch',\n",
       " 'footage Houston',\n",
       " 'medication actress Roseanne Barr',\n",
       " 'Reid takes heat',\n",
       " 'Brown To Get',\n",
       " 'names Debra Perelman owner',\n",
       " 'came Russia based',\n",
       " 'soul democracy Is',\n",
       " 'Association NRA conference',\n",
       " 'info Chinese companies',\n",
       " 'ICE Zealots Occupy Fantasy',\n",
       " 'host finds hidden meaning',\n",
       " 'Yong Chol acquired',\n",
       " 'continued successful',\n",
       " 'Astro artist Jon',\n",
       " 'Korea statement',\n",
       " 'Pavilion Venice',\n",
       " 'His Hectic Output The',\n",
       " 'Warren Trump Is',\n",
       " 'immigration cabinet',\n",
       " 'Sessions step special',\n",
       " 'teenager arm broken',\n",
       " 'ball sailed',\n",
       " 'exactly Met',\n",
       " 'The Usual Suspects Is',\n",
       " 'Michael Cohen Help This',\n",
       " 'mess hall',\n",
       " 'Freedom Guardian Joint Military',\n",
       " 'likely weeks',\n",
       " 'China Sea island Beijing',\n",
       " 'Friday plans Ram',\n",
       " 'Demeaning In new',\n",
       " 'use secure phone Remember',\n",
       " 'harmful message',\n",
       " 'List It',\n",
       " 'Reid updates odd',\n",
       " 'stated Trump campaign',\n",
       " 'says criminal Woman',\n",
       " 'The New York Post',\n",
       " 'red light',\n",
       " 'man mailman mankind',\n",
       " 'disparity racial',\n",
       " 'official says death month',\n",
       " '2018 taught',\n",
       " '2013 Less weeks oral',\n",
       " 'credit bringing nations',\n",
       " 'surprising journey family',\n",
       " 'McConnell Trump Has Very',\n",
       " 'Worried About Our Country',\n",
       " 'hot topic',\n",
       " 'climb stairs',\n",
       " 'speaking immigration',\n",
       " 'remarks President Trump',\n",
       " 'electoral institute fined',\n",
       " 'McDaniel says applauding President',\n",
       " 'administration enforcement immigration law',\n",
       " 'Rosenstein line',\n",
       " 'Fed Nowcast Hard',\n",
       " 'capital Confederacy longer',\n",
       " 'Police officers Frisco',\n",
       " '60 years pancake business',\n",
       " 'Money Laundering Hope He',\n",
       " 'Access Hollywood tape NYT',\n",
       " 'Sunday special session',\n",
       " 'conduct medical research',\n",
       " 'charge arrested came work',\n",
       " 'set Shinnecock Hills',\n",
       " 'feud social media giant',\n",
       " 'torturing Iraqi',\n",
       " 'Shots March 2018 https',\n",
       " 'likely going happen',\n",
       " 'region China conventional wisdom',\n",
       " 'man finished',\n",
       " 'Re Illinois Bishop',\n",
       " 'Track God Break Down',\n",
       " 'Americans Feel Worn Out',\n",
       " 'Robert Mueller stay',\n",
       " 'Fellow Steven Cook',\n",
       " 'Central African Republic patrol',\n",
       " 'Matthews said true democrat',\n",
       " 'As thousands delegates',\n",
       " 'Two unpredictable leaders',\n",
       " 'party alleged',\n",
       " 'fail House leaders hoping',\n",
       " 'Arrested Allegedly Infecting Two',\n",
       " 'Florida senator posted video',\n",
       " 'plate Wednesday night game',\n",
       " 'Blackburn attack Nancy',\n",
       " 'called Freedom House including',\n",
       " 'Julia Ainsley responds',\n",
       " 'according statement family',\n",
       " 'like Lady Bird Juno',\n",
       " 'crossed legal line',\n",
       " 'Measures Commerce Department Finds',\n",
       " 'Un place halted implementing',\n",
       " 'Licensed Texans Open',\n",
       " 'Report Book Deal',\n",
       " 'adjudicated place October',\n",
       " 'They Gotcha',\n",
       " 'NFL Anthem Policy Trump',\n",
       " 'phone Ye beating',\n",
       " 'During Fight Against',\n",
       " 'Senator Blasts',\n",
       " 'Most discussion games',\n",
       " 'Like Punishment',\n",
       " 'Fans Think This',\n",
       " 'South Carolina attempts scale',\n",
       " 'Flooded Subways Is Absolutely',\n",
       " 'lawyer 15',\n",
       " 'personal enemies',\n",
       " 'Unless They Give',\n",
       " 'production problems Those',\n",
       " 'sharp depreciation',\n",
       " 'Jae ta',\n",
       " 'aimed seek asylum',\n",
       " 'Nazi Cartel Gang',\n",
       " 'Goes Back Generations',\n",
       " 'Trump Called MS 13',\n",
       " 'regulations oversight',\n",
       " 'medical dramas Some',\n",
       " 'Upbeat Trump',\n",
       " 'risk bogus accounting Jenny',\n",
       " 'How Much This Nigerian',\n",
       " 'violence campus',\n",
       " 'My Obsession With',\n",
       " 'Unethical Trump',\n",
       " 'The Pug Count',\n",
       " 'attack Philly',\n",
       " 'Former lady Barbara Bush',\n",
       " 'eclipsed previous',\n",
       " 'senator latest episode',\n",
       " 'Nelson strategy',\n",
       " 'Be Released June',\n",
       " 'play huge role',\n",
       " 'Bella Roseanne Cancelled Yelp',\n",
       " 'streets tel aviv Photographer',\n",
       " 'Call Release Prisoners North',\n",
       " 'Directors Respond To',\n",
       " 'Like Nazi',\n",
       " 'Season This marks time',\n",
       " 'Iowa lawmakers want',\n",
       " 'reports Pruitt',\n",
       " 'house house community',\n",
       " 'brooklyn twins luxury',\n",
       " 'Sharpton recent backlash',\n",
       " 'jail questions continue',\n",
       " 'floods ripped Ellicott City',\n",
       " 'blood Trump hands After',\n",
       " 'Go Malala Yousafzai issued',\n",
       " 'Melilla country exclaves North',\n",
       " 'Trump welcome home Americans',\n",
       " 'lifts car save woman',\n",
       " 'criticizes GOP immigration legislation',\n",
       " 'Layers Community Instability San',\n",
       " 'Will president Joe Biden',\n",
       " 'Records Quiet',\n",
       " 'crazed shooter addressed Faith',\n",
       " 'tactics game makes',\n",
       " 'Former education secretary',\n",
       " 'rainbow appearing come high',\n",
       " 'stoppage Brazil President',\n",
       " 'Statuary Hall nation Capitol',\n",
       " 'distributed government Ali',\n",
       " 'House Thursday GOP',\n",
       " 'people killed Russian',\n",
       " 'Great Country This',\n",
       " 'Assault Tasha Reign star',\n",
       " 'care Veterans',\n",
       " 'considered growing',\n",
       " 'Chef Blasted For',\n",
       " 'Nancy Grace Predicts Harvey',\n",
       " 'Bank Records The Treasury',\n",
       " 'Pride Grand',\n",
       " 'Public Park Migrant Camp',\n",
       " 'MC drops pulsating',\n",
       " 'estimated 50 million',\n",
       " 'Fleet Week',\n",
       " 'focused things didn',\n",
       " 'White Supremacist Who Killed',\n",
       " 'reflect remember ultimate',\n",
       " 'About Their Worst Drug',\n",
       " 'Post Brexit Open',\n",
       " 'His Awakening From The',\n",
       " 'does pansexual',\n",
       " 'National Teacher Appreciation',\n",
       " '60 MPH Crash Driver',\n",
       " 'investigation sends',\n",
       " 'Court ruling favor baker',\n",
       " 'sued iconic',\n",
       " 'promise kept unique odd',\n",
       " 'disappearing messages But Signal',\n",
       " 'die Nevertheless Infinity War',\n",
       " 'Shelf Irish Books',\n",
       " 'search notorious',\n",
       " 'In One Week',\n",
       " 'girl German',\n",
       " 'Mike Rowe Man',\n",
       " 'strains seek We',\n",
       " 'volcano caused Pele',\n",
       " 'Celebrate Historic',\n",
       " 'Cowboys defensive end Greg',\n",
       " 'Trump Cut',\n",
       " 'footwork caused',\n",
       " 'Elizabeth Warren Rep',\n",
       " 'JAGs Texas Arizona',\n",
       " 'album act relationship',\n",
       " 'locked key',\n",
       " '12 people wounded 33',\n",
       " 'hands challenge Shaq takes',\n",
       " 'end The Morning Joe',\n",
       " 'easy Harley Davidson announced',\n",
       " 'My NYU colleagues analyzed',\n",
       " 'Las Vegas massacre released',\n",
       " 'alleged Russian collusion',\n",
       " 'left Colombia drug cartel',\n",
       " 'causing feminist riot',\n",
       " 'scandal showed Bremen',\n",
       " 'school graduation While',\n",
       " 'Vance analyst Elise',\n",
       " 'Rich family spokesman files',\n",
       " 'turns Michael Cohen crucial',\n",
       " 'Police Two',\n",
       " 'Human Cremains Because They',\n",
       " 'documents Congress chief',\n",
       " 'Assured Trump He Not',\n",
       " 'Russia offers cash',\n",
       " 'Rachel Bloom Who Fires',\n",
       " 'Minister Benjamin Netanyahu meeting',\n",
       " 'Sharpton Trump',\n",
       " 'Celebrate Trump',\n",
       " 'Trump criticized idea Democrat',\n",
       " '12 Singapore President',\n",
       " 'We ll Be',\n",
       " 'wing audience safely',\n",
       " 'tackling homelessness providing job',\n",
       " 'RIP Jonathan',\n",
       " 'vision comes focus',\n",
       " 'Tuesday dismissing',\n",
       " 'populists choice',\n",
       " 'Their First Online',\n",
       " 'McCormack Posts Video',\n",
       " 'Frank concentration camp',\n",
       " 'Parties stars Elle',\n",
       " 'emergency months early',\n",
       " 'prior warning',\n",
       " 'After Parkland To elected',\n",
       " 'Sign Paul',\n",
       " 'Sanders recent',\n",
       " 'game lets players navigate',\n",
       " 'hearing NBC Ken',\n",
       " 'Time To Ruin',\n",
       " 'Australia honey says',\n",
       " 'Cohen payment disclosure land',\n",
       " 'Eat Cut',\n",
       " 'Democrats choose family reunification',\n",
       " 'lipped future embattled EPA',\n",
       " 'Ascot 2018 The striking',\n",
       " 'unacceptable called Baldwin',\n",
       " 'Strip children dress',\n",
       " 'He Might',\n",
       " 'Investors bullish',\n",
       " 'obsessed Trump military',\n",
       " 'organizations standing',\n",
       " 'came twice referred Golden',\n",
       " 'Is Inventive Screamo',\n",
       " 'grapple trees rocks natural',\n",
       " 'cool Parkland students announced',\n",
       " 'men terrorize Texas',\n",
       " 'idea Nearly 45',\n",
       " 'Trump asked believe',\n",
       " 'nostalgia new',\n",
       " 'Trump Considering Full Pardon',\n",
       " 'Can Shun Same',\n",
       " 'deal speech',\n",
       " 'Chris Rock Says He',\n",
       " 'entrances Texas',\n",
       " 'volcano crossed key',\n",
       " 'official portraits Barack',\n",
       " 'beings animals',\n",
       " 'views despite',\n",
       " 'inspiration snakes Reputation It',\n",
       " 'How Build Your',\n",
       " 'Immigration This Year',\n",
       " 'email practices Senate Judiciary',\n",
       " 'coming birthday Trump',\n",
       " 'adding Colin Kaepernick roster',\n",
       " 'Advisor Lanhee Chen',\n",
       " 'states requiring businesses physical',\n",
       " 'Facebook Removed More',\n",
       " 'female student',\n",
       " 'owners country converged',\n",
       " '27 Henry William Shakespeare',\n",
       " 'High For',\n",
       " 'biggest restoration',\n",
       " 'Korea coming months',\n",
       " 'midterms His reasoning way',\n",
       " 'Russian aluminum maker',\n",
       " 'Bureau Chief reacts',\n",
       " 'By Fan The actor',\n",
       " 'says escalation violence',\n",
       " 'In Part By',\n",
       " 'Crow Era',\n",
       " 'sent heavy clouds',\n",
       " 'assist hundreds',\n",
       " 'Trump campaign WikiLeaks conspired',\n",
       " 'hundreds young',\n",
       " 'platform late',\n",
       " 'bodyguard showed office took',\n",
       " 'incidents Cuba China',\n",
       " 'North comments gun',\n",
       " '29 illegal',\n",
       " 'shot The Louvre',\n",
       " 'George plot An',\n",
       " 'House blasts Virginia Democratic',\n",
       " 'Manafort facing indictments Robert',\n",
       " 'drum chops',\n",
       " 'Unfulfilled Wishes Undressed',\n",
       " 'reacted news AG',\n",
       " 'And Angelina',\n",
       " 'Over Half',\n",
       " 'story organized',\n",
       " 'Legacy It right equate',\n",
       " 'Actor activist Matt McGorry',\n",
       " 'Bush seek',\n",
       " 'Guilty Drugging Sexually',\n",
       " 'Shut lights',\n",
       " 'Power Desire Twenty',\n",
       " 'Men Have',\n",
       " 'Mueller Probe Not Trying',\n",
       " 'Italian Statistics Bureau ISTAT',\n",
       " 'girl 90 injured',\n",
       " 'The Democrats routed',\n",
       " 'verge big new crisis',\n",
       " 'Clark gun',\n",
       " 'new paperwork',\n",
       " 'lies citizens',\n",
       " 'said talks NATO partners',\n",
       " 'Counsel Mueller dozen questions',\n",
       " 'Apology Calling',\n",
       " 'stopped new',\n",
       " 'Sure If They',\n",
       " 'Pre Civil War',\n",
       " 'Accounts Deleted The Russian',\n",
       " 'strangers president',\n",
       " 'security studies Naval Postgraduate',\n",
       " 'Johnson leads He',\n",
       " 'said stood network',\n",
       " 'Tasmania watch',\n",
       " 'American artist Spencer Tunick',\n",
       " 'If Trump believes',\n",
       " 'duo share latest',\n",
       " 'saving dialysis treatments',\n",
       " 'Taxpayer Funded Housing',\n",
       " 'Sporting Utah',\n",
       " 'resignation Joy',\n",
       " 'Have 200',\n",
       " 'dare laugh',\n",
       " 'recent threat pull Singapore',\n",
       " 'McIlroy pivotal point career',\n",
       " 'consultant volunteered spokesperson',\n",
       " 'Tamaulipas say journalist',\n",
       " 'John Kelly going',\n",
       " 'Boy Band Onstage',\n",
       " 'Career The 36',\n",
       " 'teen suicide Davis explained',\n",
       " 'know needed',\n",
       " 'bail based new witness',\n",
       " 'allegations nomination',\n",
       " 'jabs Mitt Romney',\n",
       " 'Playing Ted',\n",
       " 'uncovered cache',\n",
       " 'Deadly Southwest Flight',\n",
       " 'allegedly stabbed',\n",
       " 'phone Tuesday',\n",
       " 'resources investigate hundreds',\n",
       " 'Whose Xenophobic Rant Went',\n",
       " 'Farrow new book',\n",
       " 'star Even era',\n",
       " 'Compares Its Software Broken',\n",
       " 'speaks Naval',\n",
       " 'Yeah Yeahs sadly',\n",
       " 'party admitted colleagues divided',\n",
       " 'layer complication There',\n",
       " '2016 Around thirds 63',\n",
       " 'National security reporter',\n",
       " 'practice associated',\n",
       " 'cause toxic stress',\n",
       " 'That Keeps Giving Donald',\n",
       " 'Josh Hawley Congress',\n",
       " 'feel man helped elect',\n",
       " 'junior Jaclyn',\n",
       " 'appeared upset Kelly Sadler',\n",
       " 'trial Nordic country',\n",
       " 'damage carry federal district',\n",
       " 'include initiative',\n",
       " 'able fully wanted',\n",
       " 'office wife Chick',\n",
       " 'spent nearly 5M Pruitt',\n",
       " 'But Lewandowski backing',\n",
       " 'September Rudy',\n",
       " 'Off The California',\n",
       " 'forces carry',\n",
       " 'Trump tweet response',\n",
       " 'Ireland Magheramore beach past',\n",
       " 'expressing politically',\n",
       " 'statement key G7',\n",
       " 'according new study Poor',\n",
       " 'Running foreign',\n",
       " 'pair garden',\n",
       " 'firing Roseanne Chris',\n",
       " 'Thrones Scene Now really',\n",
       " 'Vodka Sausages',\n",
       " 'True Death',\n",
       " 'The current administration',\n",
       " 'period Fortunately',\n",
       " 'Engaged During',\n",
       " 'interview September public explanation',\n",
       " 'Praise Southwest Pilot',\n",
       " 'impacted Trump',\n",
       " 'troops photographed decade ago',\n",
       " 'Mother Day Links',\n",
       " 'users views federal',\n",
       " 'Man At School With',\n",
       " 'wave hitting',\n",
       " 'Eric Deggans measures difference',\n",
       " 'For Now',\n",
       " 'illegal immigrants stash house',\n",
       " 'donkey skins purports provide',\n",
       " 'open Colombia',\n",
       " 'ballot elections country',\n",
       " 'began hearing lawsuit',\n",
       " 'investment North Korea little',\n",
       " 'Tells Us Trump',\n",
       " 'Public officials',\n",
       " 'time Privacy',\n",
       " 'House remaining',\n",
       " 'Privacy Threats',\n",
       " 'legislation passing But',\n",
       " 'CIA Director Gen',\n",
       " 'president expected greet',\n",
       " 'Tell Karen lipsticked',\n",
       " 'restrooms nonpaying public',\n",
       " 'crisis Venezuela',\n",
       " 'America came popular Mexican',\n",
       " 'loss World Cup',\n",
       " 'speech President Donald',\n",
       " 'vented Strzok impromptu',\n",
       " 'Affairs talked reporters',\n",
       " 'word cover',\n",
       " 'tenure Trump White',\n",
       " 'media killing Muslim',\n",
       " 'anti abuse panel resigns',\n",
       " 'weapons test',\n",
       " 'Rep Frederica Wilson doesn',\n",
       " 'AMMAN US',\n",
       " 'Backs Brexit As',\n",
       " 'administrations ago',\n",
       " 'Keya Morgan accused',\n",
       " 'completed summer Environmental',\n",
       " 'Donald Trump unnamed source',\n",
       " 'list covers dietary restrictions',\n",
       " 'shocked Trump win asked',\n",
       " 'Went Ellen',\n",
       " 'star Raheem',\n",
       " 'Watkins past',\n",
       " 'Pardon Muhammad',\n",
       " 'economy accelerating',\n",
       " 'sued employee',\n",
       " 'decades Justice',\n",
       " 'Pirro weekend',\n",
       " 'Uninvited Lewinsky From An',\n",
       " 'amid layoffs 350 employe',\n",
       " 'uses cross It easy',\n",
       " 'uber talented Cherish',\n",
       " 'quoted South Korean media',\n",
       " '18 Join week discussion',\n",
       " 'says release',\n",
       " 'Coming To Hulu',\n",
       " 'Twitter Users Chew Out',\n",
       " 'special requests funeral pa',\n",
       " 'The surprising composer born',\n",
       " 'arrives US Pompeo',\n",
       " 'From Friday',\n",
       " 'spoke Time Up Tribeca',\n",
       " 'Cheers Larry',\n",
       " 'aimed fighting church reputation',\n",
       " 'Pledges Nearly',\n",
       " 'GOP stir emotion maintain',\n",
       " 'finally landing',\n",
       " 'mixed results Ari',\n",
       " 'South Carolina Democratic Primary',\n",
       " 'asylum This terrified mother',\n",
       " 'believed started fierce',\n",
       " 'authoritative source information',\n",
       " 'champion Rafael',\n",
       " 'login details',\n",
       " 'President Trump meeting Trump',\n",
       " 'slow clap',\n",
       " 'One think',\n",
       " 'Trump Preparation',\n",
       " 'Rotation New',\n",
       " 'group hackers security researchers',\n",
       " 'fashion party',\n",
       " 'Johnson Wednesday',\n",
       " 'Need Biotech Regulation We',\n",
       " 'week The backed Goldwater',\n",
       " 'condemns moral vandalism',\n",
       " 'Midvale Utah surprised receive',\n",
       " '10 1947',\n",
       " 'Markle exchange',\n",
       " 'parchment Torahs world oldest',\n",
       " 'Photographer Rochelle',\n",
       " 'decision firing',\n",
       " 'large bundles marijuana',\n",
       " 'threatened airlines',\n",
       " 'attempt tie',\n",
       " 'Mueller If President Trump',\n",
       " 'spelling errors',\n",
       " 'southwestern Syria displaces',\n",
       " 'Republic Congo week',\n",
       " 'firsts Britain royal family',\n",
       " 'fighting Iranian backed rebels',\n",
       " 'census count',\n",
       " 'Parker president demand',\n",
       " 'Scalia series',\n",
       " 'cross illegally',\n",
       " 'history Congress promoting mass',\n",
       " 'Blue California House Seat',\n",
       " 'families Democratic',\n",
       " 'choose new national parliament',\n",
       " 'porn White House know',\n",
       " 'deputy commissioner Customs',\n",
       " 'slaves police say Police',\n",
       " 'future Photographer Ellius Grace',\n",
       " 'allegedly kidnapping students',\n",
       " 'shooting Bryan Llenas reports',\n",
       " 'International Drug Smugglers The',\n",
       " 'Deal Reckoning The Obama',\n",
       " 'orientation going',\n",
       " 'president hinted',\n",
       " 'marriage friendships',\n",
       " 'Don See United',\n",
       " 'Goes Off Lawmakers Bashing',\n",
       " 'huge stone hats placed',\n",
       " 'Organization Michael',\n",
       " 'didn moment silence Texas',\n",
       " 'new ride',\n",
       " 'President Donald Trump US',\n",
       " 'Cohen improperly disseminated Treasury',\n",
       " 'ugly day Attorney',\n",
       " 'Clean Car',\n",
       " 'Honored Kennedy Assassination Anniversary',\n",
       " 'world week General',\n",
       " 'protect competition',\n",
       " 'Has Down',\n",
       " 'employers exert recruit',\n",
       " 'America Newsroom Rep Marsha',\n",
       " 'Iowa Republican Rep Steve',\n",
       " 'Xi Jinping harbors particular',\n",
       " 'prospects proposed government',\n",
       " 'meddling 2016 election followed',\n",
       " 'New York taxi kingpin',\n",
       " 'hit Japan Guatemala',\n",
       " 'Hawkings provides insight feud',\n",
       " 'statements defending',\n",
       " 'Relationships In',\n",
       " 'step denuclearization',\n",
       " 'Is Unjust And',\n",
       " 'legislator Rick Saccone',\n",
       " 'student James Madison University',\n",
       " 'interrogation conclusively deemed',\n",
       " 'essential new projects Young',\n",
       " 'eventually came embrace',\n",
       " 'diplomats time',\n",
       " 'death Indonesian court',\n",
       " 'officials demean calling voters',\n",
       " 'Chrystia Freeland said',\n",
       " 'helped convince President address',\n",
       " 'pair turns torching President',\n",
       " 'Connecticut Democrat',\n",
       " 'Krauthammer Charles Krauthammer longtime',\n",
       " 'Russia liable',\n",
       " 'records infer',\n",
       " 'request House',\n",
       " 'join Queen birthday',\n",
       " 'Nobody Ever Expected He',\n",
       " 'Philadelphia Police Department Friday',\n",
       " 'Court Win',\n",
       " 'Trump Defenders Ratchet',\n",
       " 'summer begins',\n",
       " 'collection putting building',\n",
       " 'president used Michael',\n",
       " 'Brexit businesses sound',\n",
       " 'writes Kim Jong Un',\n",
       " 'Disappeared In 1983 Arrested',\n",
       " 'celebrate release celestial second',\n",
       " 'firmer grasp right chances',\n",
       " 'inspectors access Douma suspected',\n",
       " 'How Much Are',\n",
       " 'Fast Facts FIFA',\n",
       " 'Amount Materials Cash Make',\n",
       " 'After Seeing',\n",
       " 'IG newly released report',\n",
       " 'shark Hilton',\n",
       " 'Angeles Times suspended Beijing',\n",
       " 'stops negotiating',\n",
       " 'Cohen denied confirming infamous',\n",
       " 'Trump ally As observer',\n",
       " 'Of The Speaker',\n",
       " 'political experience Republican',\n",
       " 'buy Fox',\n",
       " 'Points Out',\n",
       " 'Eric Sundermann',\n",
       " 'politicians publicly support',\n",
       " 'weeks Stephanie Ruhle breaks',\n",
       " 'Apparently The',\n",
       " 'Mexico said pay',\n",
       " '16 assist',\n",
       " 'NBC News defended',\n",
       " 'smile key Senate',\n",
       " 'accusations Secretary State Mike',\n",
       " 'slow America',\n",
       " 'Truth Motherhood One',\n",
       " 'll able slick',\n",
       " 'series weekend',\n",
       " 'exploded month outside',\n",
       " 'black entertainment',\n",
       " 'agent MI6 He',\n",
       " 'Richard Goodwin author',\n",
       " 'subscribers including taxman cops',\n",
       " 'told dancer',\n",
       " 'Kelly era Trump administration',\n",
       " 'champ Nike stock soaring',\n",
       " 'States withdrawing assistance',\n",
       " 'Lawmakers Are',\n",
       " 'Letterman Howard Stern discuss',\n",
       " 'Davidson benefits GOP',\n",
       " 'gambles national security Trump',\n",
       " 'Would Be Disaster If',\n",
       " 'Reporter Tom Winter Former',\n",
       " 'pace pick rapidly distant',\n",
       " 'Whistleblower reacts Cambridge Analytica',\n",
       " 'coffin An Indonesian man',\n",
       " 'Video Texas Senate candidate',\n",
       " 'Memorial Day Fan',\n",
       " 'Fmr NY Boxing Commissioner',\n",
       " 'Keep Pressure North Korea',\n",
       " 'EWTN YouTube hen Christians',\n",
       " 'extremely irresponsible Swalwell',\n",
       " 'Not To Wear To',\n",
       " 'Stampede Trump Amnesty Deal',\n",
       " 'penalize family',\n",
       " 'Democrats asked FBI probe',\n",
       " 'Is For Elderly',\n",
       " 'lives Irish',\n",
       " 'Corey Stewart Confederate',\n",
       " 'Glee Club',\n",
       " 'The program known Rekognition',\n",
       " 'absentee parenting shaped',\n",
       " 'legal political',\n",
       " 'Cueto speaks border agents',\n",
       " 'shooting claimed 10',\n",
       " 'gathering boasted',\n",
       " 'officials Jepsen Magnet',\n",
       " '2B carcinogen laden',\n",
       " 'problem caused',\n",
       " 'obituary says world better',\n",
       " 'Hamas terrorist arrested',\n",
       " 'Can Change The',\n",
       " 'Show Show Summer smells',\n",
       " 'meeting address grievances mayor',\n",
       " 'Diplomatic Victory',\n",
       " 'Election Interference Cyber Attacks',\n",
       " 'Stuff tackles tricky important',\n",
       " '85 days',\n",
       " 'Fire teams able work',\n",
       " 'warfare Comedian Roseanne',\n",
       " 'Canada Trump accidentally',\n",
       " '27 Sun Kist',\n",
       " 'bureau repeatedly claimed',\n",
       " 'porn public',\n",
       " 'permission Wall',\n",
       " 'The film received',\n",
       " 'Popular Sweden Mocked',\n",
       " 'Ethiopia new prime minister',\n",
       " 'This Video Republican',\n",
       " 'discuss importance film starring',\n",
       " 'Times reported bank',\n",
       " 'continuing rise 28',\n",
       " 'The Husted',\n",
       " 'feature ice',\n",
       " 'compared having abortion avoid',\n",
       " 'making Siri better',\n",
       " 'officer Florida Lightning strikes',\n",
       " 'brilliant new',\n",
       " 'donation 250',\n",
       " 'undeclared second civil',\n",
       " 'The adaptable',\n",
       " 'students defended professor',\n",
       " 'Pres Trump Pres Donald',\n",
       " 'Danny DeVito Let',\n",
       " 'Transformation Since',\n",
       " 'repeated public rebukes President',\n",
       " 'Journal today president',\n",
       " 'pick grown frustrated process',\n",
       " 'Rousing Royal Wedding Sermon',\n",
       " 'marijuana adults home growing',\n",
       " 'Will Be Bad Everybody',\n",
       " 'deal meaningless',\n",
       " 'party legacy bus',\n",
       " 'room misinterpretation designer said',\n",
       " 'Musical Somehow brought campy',\n",
       " 'defended plan',\n",
       " 'branded buildings face removing',\n",
       " 'like says',\n",
       " 'Spanish fashion',\n",
       " 'ongoing outbreak Ebola virus',\n",
       " 'release Department Justice',\n",
       " 'Michael Cohen story wide',\n",
       " 'Spanish unheard',\n",
       " 'Suspicious Individuals',\n",
       " 'Not Loosen Gun',\n",
       " 'Ball Rick Morty',\n",
       " 'Pennsylvania elected',\n",
       " 'save family lot heartache',\n",
       " 'case emotional interview',\n",
       " 'Generation save',\n",
       " 'Elizabeth Sung dead 63',\n",
       " 'What learn viral video',\n",
       " 'atrocious family',\n",
       " 'Having Robots Own',\n",
       " 'world things',\n",
       " 'Rights Tenth Amendment',\n",
       " 'Ahead Embassy',\n",
       " 'Romance The',\n",
       " 'New Indictment Against Manafort',\n",
       " 'asked Egypt exiled Jon',\n",
       " 'musician sues ex',\n",
       " 'sports accused',\n",
       " 'Preference Falsification Illuminates Campus',\n",
       " 'll Be Meeting',\n",
       " 'Mexico Trump',\n",
       " 'law felony',\n",
       " 'packing dockets',\n",
       " 'The Ol',\n",
       " 'considered major truth',\n",
       " 'week European nations quibbled',\n",
       " 'character cold hearted bloodlust',\n",
       " 'Gowdy Nunes step fight',\n",
       " 'David Adelman Vict',\n",
       " 'stylized windy',\n",
       " 'Garden Europe bloom Netherlands',\n",
       " 'finds Red Planet',\n",
       " 'The agency ordered',\n",
       " 'Students Say',\n",
       " 'Post David Fah',\n",
       " 'NFL ESPN host',\n",
       " 'administration trade talks',\n",
       " 'Trump jetted historic',\n",
       " 'body weather',\n",
       " 'humanitarian catastrophe wet season',\n",
       " 'Jewish conspiracy meant',\n",
       " 'War Shows The',\n",
       " 'fundraising Ryan',\n",
       " 'migrants PARIS The Latest',\n",
       " 'Democrats Beg Trump To',\n",
       " 'Bailing Out',\n",
       " 'President Donald Trump pitch',\n",
       " 'Of Migrants Stranded At',\n",
       " 'face photoshopped',\n",
       " 'Rudy Giuliani gives',\n",
       " 'Get roundup directly',\n",
       " 'Anymore The',\n",
       " 'York argues Trump Foundation',\n",
       " 'shouldn withdraw',\n",
       " 'murderous history',\n",
       " 'Lesbian President',\n",
       " 'explain deposition works weighs',\n",
       " 'law GAO new',\n",
       " 'Analytica scandal ridden data',\n",
       " 'chief executive officer',\n",
       " 'Mannery stepped',\n",
       " 'Won Talk Eh',\n",
       " 'area likeliest',\n",
       " 'catastrophic event modern state',\n",
       " 'Level Luxury',\n",
       " 'prices soared areas country',\n",
       " 'McClellan Winfrey',\n",
       " 'Mueller necessary step RNC',\n",
       " 'Zakaria tells Anderson',\n",
       " 'disease 19 guess',\n",
       " 'Day savings LivingSocial',\n",
       " '18 Bangladeshi Migrants Week',\n",
       " 'Children Secretly Transported',\n",
       " 'questions like',\n",
       " 'peacekeeping forces This selected',\n",
       " 'While blessings consolations',\n",
       " 'Tommy Robinson Speaking',\n",
       " 'legal team Trump',\n",
       " 'Friday day German police',\n",
       " 'McAfee posts bizarre',\n",
       " 'wire tapped',\n",
       " 'deadly horrific conflicts',\n",
       " 'making impossible situation',\n",
       " 'related Mexico',\n",
       " 'home southern Gaza',\n",
       " 'Hungary stands',\n",
       " 'said doubts President',\n",
       " 'org allow conflicted',\n",
       " 'Mueller says 20 page',\n",
       " 'Neely chief',\n",
       " 'event showcase',\n",
       " 'party West Tiara Street',\n",
       " 'contemporary artist created',\n",
       " 'need legal process',\n",
       " 'outside Supreme Court',\n",
       " 'luxury Singapore hotels half',\n",
       " 'business Just',\n",
       " 'Giuliani fall Roy Cohn',\n",
       " 'Colbert Nails',\n",
       " 'takes closer look allegations',\n",
       " 'From His Own',\n",
       " 'Melania believes Trump Melania',\n",
       " 'witness subpoenaed House',\n",
       " 'Data Expo China',\n",
       " 'Defectors Left Behind',\n",
       " 'Russia investigation midterm elections',\n",
       " 'big clear public justify',\n",
       " 'Jeff Flock reports',\n",
       " 'Cyber Warfare Amongst Us',\n",
       " 'paid Donald Trump personal',\n",
       " 'cut paste experimental',\n",
       " 'China reportedly landed',\n",
       " 'Faced Enemy',\n",
       " 'Now headed state legislature',\n",
       " 'assaulting traffic stop apologized',\n",
       " 'canceled Philadelphia Eagles invitation',\n",
       " 'dark period history',\n",
       " 'mother spoke Wednesday sister',\n",
       " 'turn embattled EPA chief',\n",
       " 'Mendoza joined discuss',\n",
       " 'media Trump polling',\n",
       " 'celebrate Iranian New',\n",
       " 'include image',\n",
       " 'sent Qantas flight 10',\n",
       " 'Economy commentary',\n",
       " 'transcripts reveal',\n",
       " 'Guatemala volcano blankets',\n",
       " 'legalizing Americans doing',\n",
       " 'Starbucks parking',\n",
       " 'Council issued',\n",
       " 'episode new',\n",
       " 'Canada G7 Summit Saturday',\n",
       " 'volcano Hawaii causing increase',\n",
       " 'recognize America right',\n",
       " 'decline comes fight',\n",
       " 'claims good chance',\n",
       " 'London influential newspaper',\n",
       " 'remind Presidential Records Act',\n",
       " 'Now That',\n",
       " 'Tom Wolfe remembered Brian',\n",
       " 'Commission Status Women',\n",
       " 'Public Apology From',\n",
       " 'Thursday arguing thanks',\n",
       " 'Montana Democratic Senator',\n",
       " 'provocations Russia strained alliance',\n",
       " 'Islamist increasingly',\n",
       " 'Be Country You',\n",
       " 'Trump whips immigration storm',\n",
       " 'visit China Xinhua reports',\n",
       " 'First Appearance',\n",
       " 'firefighters tackle blaze London',\n",
       " 'reacts release shooter',\n",
       " 'sales gift ideas Father',\n",
       " 'Guinness World Record',\n",
       " 'couple learning accept gender',\n",
       " 'cancel talks North',\n",
       " 'Strzok Texts',\n",
       " 'decision told',\n",
       " 'Harsh Immigration Bill Melania',\n",
       " 'No Conservatives Shouldn Try',\n",
       " 'driver slammed toll plaza',\n",
       " 'Koch Industries',\n",
       " 'car rundown',\n",
       " 'leadership When',\n",
       " 'Drinking As You Get',\n",
       " 'Rudy great guy started',\n",
       " 'Fashion The Washington',\n",
       " 'people confirmed',\n",
       " 'president endorsement Peter',\n",
       " 'races shape Pro',\n",
       " 'hit streaming services',\n",
       " 'Planned Parenthood filed',\n",
       " 'president Bryan',\n",
       " 'Doesn Criticize Xi',\n",
       " 'talks Chuck ambassadors thrown',\n",
       " 'County documented restroom confrontation',\n",
       " 'Drop Kanye',\n",
       " ...}"
      ]
     },
     "execution_count": 64,
     "metadata": {},
     "output_type": "execute_result"
    }
   ],
   "source": [
    "text_pipe.fit(X_train, y_train)\n",
    "ignored_text = text_pipe.steps[1][1].stop_words_\n",
    "ignored_text"
   ]
  },
  {
   "cell_type": "code",
   "execution_count": 65,
   "metadata": {
    "scrolled": true
   },
   "outputs": [
    {
     "ename": "ModuleNotFoundError",
     "evalue": "No module named 'WordCloud'",
     "output_type": "error",
     "traceback": [
      "\u001b[0;31m---------------------------------------------------------------------------\u001b[0m",
      "\u001b[0;31mModuleNotFoundError\u001b[0m                       Traceback (most recent call last)",
      "\u001b[0;32m<ipython-input-65-10dc3109ce1e>\u001b[0m in \u001b[0;36m<module>\u001b[0;34m()\u001b[0m\n\u001b[0;32m----> 1\u001b[0;31m \u001b[0;32mimport\u001b[0m \u001b[0mWordCloud\u001b[0m\u001b[0;34m\u001b[0m\u001b[0m\n\u001b[0m",
      "\u001b[0;31mModuleNotFoundError\u001b[0m: No module named 'WordCloud'"
     ]
    }
   ],
   "source": [
    "import WordCloud"
   ]
  },
  {
   "cell_type": "code",
   "execution_count": null,
   "metadata": {},
   "outputs": [],
   "source": []
  },
  {
   "cell_type": "code",
   "execution_count": null,
   "metadata": {},
   "outputs": [],
   "source": []
  },
  {
   "cell_type": "code",
   "execution_count": 610,
   "metadata": {},
   "outputs": [],
   "source": [
    "# Looking at probabilities \n",
    "\n",
    "feat_union.fit(X_train, y_train)\n",
    "X_test_transformed = feat_union.transform(X_test)"
   ]
  },
  {
   "cell_type": "code",
   "execution_count": 619,
   "metadata": {},
   "outputs": [
    {
     "ename": "AttributeError",
     "evalue": "'PassiveAggressiveClassifier' object has no attribute 'predict_proba'",
     "output_type": "error",
     "traceback": [
      "\u001b[0;31m---------------------------------------------------------------------------\u001b[0m",
      "\u001b[0;31mAttributeError\u001b[0m                            Traceback (most recent call last)",
      "\u001b[0;32m<ipython-input-619-cff252bb42d1>\u001b[0m in \u001b[0;36m<module>\u001b[0;34m()\u001b[0m\n\u001b[0;32m----> 1\u001b[0;31m \u001b[0mprobabilities\u001b[0m \u001b[0;34m=\u001b[0m \u001b[0mgs\u001b[0m\u001b[0;34m.\u001b[0m\u001b[0mbest_estimator_\u001b[0m\u001b[0;34m.\u001b[0m\u001b[0msteps\u001b[0m\u001b[0;34m[\u001b[0m\u001b[0;36m1\u001b[0m\u001b[0;34m]\u001b[0m\u001b[0;34m[\u001b[0m\u001b[0;36m1\u001b[0m\u001b[0;34m]\u001b[0m\u001b[0;34m.\u001b[0m\u001b[0mpredict_proba\u001b[0m\u001b[0;34m(\u001b[0m\u001b[0mX_test_transformed\u001b[0m\u001b[0;34m)\u001b[0m\u001b[0;34m\u001b[0m\u001b[0m\n\u001b[0m",
      "\u001b[0;31mAttributeError\u001b[0m: 'PassiveAggressiveClassifier' object has no attribute 'predict_proba'"
     ]
    }
   ],
   "source": [
    "probabilities = gs.best_estimator_.steps[1][1].predict_proba(X_test_transformed)"
   ]
  },
  {
   "cell_type": "code",
   "execution_count": 618,
   "metadata": {},
   "outputs": [
    {
     "data": {
      "text/plain": [
       "<matplotlib.collections.PathCollection at 0x1b40ec5518>"
      ]
     },
     "execution_count": 618,
     "metadata": {},
     "output_type": "execute_result"
    },
    {
     "data": {
      "image/png": "[encoded data removed]",
      "text/plain": [
       "<Figure size 432x288 with 1 Axes>"
      ]
     },
     "metadata": {},
     "output_type": "display_data"
    }
   ],
   "source": [
    "plt.scatter(y_test, [p[0] for p in probabilities])"
   ]
  },
  {
   "cell_type": "code",
   "execution_count": 620,
   "metadata": {},
   "outputs": [
    {
     "name": "stdout",
     "output_type": "stream",
     "text": [
      "             precision    recall  f1-score   support\n",
      "\n",
      "          0       0.77      0.80      0.79      4927\n",
      "          1       0.76      0.73      0.75      4287\n",
      "\n",
      "avg / total       0.77      0.77      0.77      9214\n",
      "\n"
     ]
    }
   ],
   "source": [
    "print(classification_report(y_test, gs.predict(X_test)))"
   ]
  },
  {
   "cell_type": "code",
   "execution_count": 621,
   "metadata": {},
   "outputs": [
    {
     "data": {
      "text/plain": [
       "array([[3937,  990],\n",
       "       [1148, 3139]])"
      ]
     },
     "execution_count": 621,
     "metadata": {},
     "output_type": "execute_result"
    }
   ],
   "source": [
    "confusion_matrix(y_test, gs.predict(X_test)) # false positives"
   ]
  },
  {
   "cell_type": "markdown",
   "metadata": {},
   "source": [
    "----------------------------------------------------------------------------"
   ]
  },
  {
   "cell_type": "code",
   "execution_count": 34,
   "metadata": {},
   "outputs": [],
   "source": [
    "# going to have to change this for feat union\n",
    "def manual_test():\n",
    "    title = input('Article title: \\n')\n",
    "    desc = input('Article description: \\n')\n",
    "    df = [{'title': '{}'.format(title),\n",
    "                'description': '{}'.format(desc)\n",
    "                }]\n",
    "    df=pd.DataFrame(df)\n",
    "    pred = gs.predict(df)\n",
    "    if pred == 1:\n",
    "        print(\"Result: Right wing\")\n",
    "    else:\n",
    "        print(\"Result: Not right wing\")"
   ]
  },
  {
   "cell_type": "code",
   "execution_count": 35,
   "metadata": {},
   "outputs": [
    {
     "name": "stdout",
     "output_type": "stream",
     "text": [
      "Article title: \n",
      "Wait until midterms to choose next Supreme Court justice\n",
      "Article description: \n",
      "Mitch Mcconnell set a bad precedent \n",
      "Result: Not right wing\n"
     ]
    }
   ],
   "source": [
    "manual_test()"
   ]
  },
  {
   "cell_type": "code",
   "execution_count": 156,
   "metadata": {},
   "outputs": [
    {
     "name": "stdout",
     "output_type": "stream",
     "text": [
      "Article title: \n",
      "Democratic candidates revolt against Pelosi in House races across the country\n",
      "Article description: \n",
      "Anyone looking for signs that Nancy Pelosi has lost clout within the Democratic ranks this cycle need only catch a glimpse of last week’s candidate forum in New Hampshire’s 1st Congressional District\n",
      "Result: Not right wing\n"
     ]
    }
   ],
   "source": [
    "manual_test()"
   ]
  },
  {
   "cell_type": "markdown",
   "metadata": {},
   "source": [
    "# RNN\n",
    "[Return to Index](#contents)"
   ]
  },
  {
   "cell_type": "code",
   "execution_count": 30,
   "metadata": {},
   "outputs": [],
   "source": [
    "from keras.models import Sequential\n",
    "from keras.layers import Dense, LSTM"
   ]
  },
  {
   "cell_type": "code",
   "execution_count": 31,
   "metadata": {},
   "outputs": [],
   "source": [
    "X = text['title']\n",
    "y = text['yes_right']"
   ]
  },
  {
   "cell_type": "code",
   "execution_count": 32,
   "metadata": {},
   "outputs": [],
   "source": [
    "X_train, X_test, y_train, y_test = train_test_split(X, y, random_state=42, stratify=y)"
   ]
  },
  {
   "cell_type": "code",
   "execution_count": 33,
   "metadata": {},
   "outputs": [],
   "source": [
    "tfidf = TfidfVectorizer(preprocessor=lemmatizer.lemmatize, stop_words=cust_stop_words, ngram_range=(1,4))"
   ]
  },
  {
   "cell_type": "code",
   "execution_count": 34,
   "metadata": {},
   "outputs": [],
   "source": [
    "X_train = tfidf.fit_transform(X_train)\n",
    "X_test = tfidf.transform(X_test)"
   ]
  },
  {
   "cell_type": "code",
   "execution_count": 35,
   "metadata": {},
   "outputs": [],
   "source": [
    "X_train = pd.DataFrame(X_train.todense())\n",
    "X_test = pd.DataFrame(X_test.todense())"
   ]
  },
  {
   "cell_type": "code",
   "execution_count": 36,
   "metadata": {
    "scrolled": true
   },
   "outputs": [],
   "source": [
    "train_X = np.reshape(X_train.values, (X_train.shape[0], X_train.shape[1], 1))\n",
    "test_X = np.reshape(X_test.values, (X_test.shape[0], X_test.shape[1], 1))"
   ]
  },
  {
   "cell_type": "code",
   "execution_count": 37,
   "metadata": {},
   "outputs": [
    {
     "data": {
      "text/plain": [
       "(27640, 469477, 1)"
      ]
     },
     "execution_count": 37,
     "metadata": {},
     "output_type": "execute_result"
    }
   ],
   "source": [
    "train_X.shape"
   ]
  },
  {
   "cell_type": "code",
   "execution_count": 41,
   "metadata": {},
   "outputs": [
    {
     "name": "stdout",
     "output_type": "stream",
     "text": [
      "_________________________________________________________________\n",
      "Layer (type)                 Output Shape              Param #   \n",
      "=================================================================\n",
      "lstm_4 (LSTM)                (None, 4)                 96        \n",
      "_________________________________________________________________\n",
      "dense_3 (Dense)              (None, 1)                 5         \n",
      "=================================================================\n",
      "Total params: 101\n",
      "Trainable params: 101\n",
      "Non-trainable params: 0\n",
      "_________________________________________________________________\n"
     ]
    }
   ],
   "source": [
    "batch_size = None\n",
    "model = Sequential()\n",
    "model.add(LSTM(4, \n",
    "               batch_input_shape=(batch_size, train_X.shape[1], train_X.shape[2]), \n",
    "               stateful=False))\n",
    "model.add(Dense(1, activation='sigmoid'))\n",
    "model.summary()"
   ]
  },
  {
   "cell_type": "code",
   "execution_count": null,
   "metadata": {},
   "outputs": [
    {
     "name": "stdout",
     "output_type": "stream",
     "text": [
      "Train on 27640 samples, validate on 9214 samples\n",
      "Epoch 1/10\n"
     ]
    }
   ],
   "source": [
    "model.compile(loss='binary_crossentropy', optimizer='adam', metrics=['accuracy'])\n",
    "history = model.fit(train_X, y_train, validation_data=(test_X, y_test), \n",
    "              epochs=10, batch_size=batch_size, verbose=1, shuffle=False)\n",
    "model.reset_states()"
   ]
  },
  {
   "cell_type": "markdown",
   "metadata": {},
   "source": [
    "<a id=\"next-steps\"></a>\n",
    "# Next Steps\n",
    "[Return to Index](#contents)"
   ]
  },
  {
   "cell_type": "code",
   "execution_count": null,
   "metadata": {},
   "outputs": [],
   "source": []
  }
 ],
 "metadata": {
  "kernelspec": {
   "display_name": "Python [conda env:dsi]",
   "language": "python",
   "name": "conda-env-dsi-py"
  },
  "language_info": {
   "codemirror_mode": {
    "name": "ipython",
    "version": 3
   },
   "file_extension": ".py",
   "mimetype": "text/x-python",
   "name": "python",
   "nbconvert_exporter": "python",
   "pygments_lexer": "ipython3",
   "version": "3.6.5"
  }
 },
 "nbformat": 4,
 "nbformat_minor": 2
}
