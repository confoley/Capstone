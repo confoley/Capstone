{
 "cells": [
  {
   "cell_type": "markdown",
   "metadata": {},
   "source": [
    "Classifying Political News Media Text with Natural Language Processing\n",
    "===\n",
    "\n",
    "*Connor Foley,* Data Science Immersive, General Assembly NYC, July 2018\n",
    "___"
   ]
  },
  {
   "cell_type": "markdown",
   "metadata": {},
   "source": [
    "**Purpose**\n",
    "\n",
    "In 2018, I don't need to remind anyone of the current news media landscape in the United States. Needless to say, the media culture is extremely polarized and the societal effects of how people source their information is becoming increasingly evident. It hasn’t always been this way, and it is important to be able to know what kind of source a piece of political news text is coming from before deciding what to do with it. Political Science is often defined as the study of power. In the era of Trump, the power of language is increasingly relevant and important. **In this project, I aim to build a model that predicts whether or not political media text is right wing or not right wing.** I could have chosen to call these labels “right” and “left”, but I chose this terminology to reflect the true non-binary spectrum of political opinion. However, for purposes of this project, it is fine if one chooses to simply interpret “not right” as “left”. Furthermore, this project is a stepping stone to future projects using multi class targets that more accurately reflect the spectrum of political ideology. Likewise, it is a stepping stone to more intimidating future projects that incorporate social media language as well. "
   ]
  },
  {
   "cell_type": "code",
   "execution_count": 143,
   "metadata": {},
   "outputs": [],
   "source": [
    "import pandas as pd\n",
    "import numpy as np\n",
    "# SciKitLearn Imports\n",
    "from sklearn.feature_extraction.text import CountVectorizer, TfidfVectorizer\n",
    "from sklearn.linear_model import LogisticRegression, PassiveAggressiveClassifier, SGDClassifier\n",
    "from sklearn.model_selection import train_test_split, GridSearchCV, cross_val_score\n",
    "from sklearn.ensemble import RandomForestClassifier, GradientBoostingClassifier\n",
    "from sklearn.neighbors import KNeighborsClassifier\n",
    "from sklearn.pipeline import Pipeline, FeatureUnion\n",
    "from sklearn.base import TransformerMixin, BaseEstimator\n",
    "from sklearn.svm import SVC\n",
    "from sklearn.naive_bayes import MultinomialNB\n",
    "from sklearn.metrics import classification_report, confusion_matrix\n",
    "from sklearn.preprocessing import StandardScaler, MinMaxScaler, PolynomialFeatures\n",
    "from sklearn.decomposition import PCA, TruncatedSVD\n",
    "# NLP Tools\n",
    "import nltk\n",
    "from nltk.stem.porter import PorterStemmer\n",
    "from nltk.stem import WordNetLemmatizer\n",
    "import spacy as sp\n",
    "from textblob import TextBlob\n",
    "# Plotting Imports\n",
    "import matplotlib\n",
    "import matplotlib.pyplot as plt\n",
    "import seaborn as sns\n",
    "from wordcloud import WordCloud\n",
    "\n",
    "%matplotlib inline\n",
    "\n",
    "np.random.seed(42)\n",
    "\n",
    "import warnings\n",
    "warnings.simplefilter(\"ignore\")"
   ]
  },
  {
   "cell_type": "markdown",
   "metadata": {},
   "source": [
    "<a id=\"contents\"></a>\n",
    "## Contents\n",
    "\n",
    "- [Load Data](#load-data)\n",
    "- [Clean Data](#clean-data)\n",
    "- [NLP Feature Engineering](#feature-engineering)\n",
    "- [Explore Data](#explore-data)\n",
    "- [Modeling](#modeling)\n",
    "    - [Text Features Only](#text-only)\n",
    "    - [Numerical Features Only](#num-only)\n",
    "    - [Pipeline: Combine Text and Numerical Features](#pipeline)\n",
    "- [Evaluate Model](#eval-model)\n",
    "- [Answer Question](#answer-question)\n",
    "- [Next Steps](#next-steps)"
   ]
  },
  {
   "cell_type": "markdown",
   "metadata": {},
   "source": [
    "<a id=\"load-data\"></a>\n",
    "## Load Data\n",
    "[Return to Index](#contents)\n",
    "\n",
    "Here I load in all of the individual .csv files I had created by scraping article information from News API as well as from RSS feeds using Beautiful Soup. The notebooks for this data collection process can be found in the main folder of this repository. \n",
    "\n",
    "I collected data for 36,854 unique articles from a variety of right wing and not right wing sources. The features collected were title, description, date posted, url, author, and source. Choosing obviously partisan sources, I labeled whether they are right wing or not based on the source. Therefore, since I would only be starting with title and description as features, a challenge I faced is making sure that any giveaway of the source is removed from an article’s text features. "
   ]
  },
  {
   "cell_type": "code",
   "execution_count": 402,
   "metadata": {},
   "outputs": [],
   "source": [
    "bb = pd.read_csv('./datasets/jun20_bb_posts.csv', )\n",
    "cnn = pd.read_csv('./datasets/jun20_cnn_posts.csv')\n",
    "fox = pd.read_csv('./datasets/jun20_fox_posts.csv')\n",
    "fox2 = pd.read_csv('./datasets/fox_posts_jun26.csv')\n",
    "fox3 = pd.read_csv('./datasets/fox_posts_jun29.csv')\n",
    "nr = pd.read_csv('./datasets/jun20_nr_posts.csv')\n",
    "nr2 = pd.read_csv('./datasets/jun29_nr_posts.csv')\n",
    "vice = pd.read_csv('./datasets/jun20_vice_posts.csv')\n",
    "dem = pd.read_csv('./datasets/jun21_demnow_posts.csv')\n",
    "dem2 = pd.read_csv('./datasets/jun22_demnow_posts.csv')\n",
    "dem3 = pd.read_csv('./datasets/jun23_demnow_posts.csv')\n",
    "dem4 = pd.read_csv('./datasets/jun24_demnow_posts.csv')\n",
    "dem5 = pd.read_csv('./datasets/jun25_demnow_posts.csv')\n",
    "dem6 = pd.read_csv('./datasets/jun26_demnow_posts.csv')\n",
    "dem7 = pd.read_csv('./datasets/jun29_demnow_posts.csv')\n",
    "inwa = pd.read_csv('./datasets/june20infowars.csv')\n",
    "inwa2 = pd.read_csv('./datasets/june21infowars.csv')\n",
    "inwa3 = pd.read_csv('./datasets/june22infowars.csv')\n",
    "inwa4 = pd.read_csv('./datasets/june23infowars.csv')\n",
    "inwa5 = pd.read_csv('./datasets/june24infowars.csv')\n",
    "inwa6 = pd.read_csv('./datasets/june25infowars.csv')\n",
    "inwa7 = pd.read_csv('./datasets/june26infowars.csv')\n",
    "inwa8 = pd.read_csv('./datasets/june29infowars.csv')\n",
    "msnbc = pd.read_csv('./datasets/jun26_msnbc_posts.csv')\n",
    "huff = pd.read_csv('./datasets/jun_24_huff_posts.csv')"
   ]
  },
  {
   "cell_type": "code",
   "execution_count": 403,
   "metadata": {},
   "outputs": [],
   "source": [
    "# Assign the right wing target\n",
    "bb['yes_right'] = 1\n",
    "cnn['yes_right'] = 0\n",
    "fox['yes_right'] = 1\n",
    "fox2['yes_right'] = 1\n",
    "fox3['yes_right'] = 1\n",
    "nr['yes_right'] = 1\n",
    "nr2['yes_right'] = 1\n",
    "vice['yes_right'] = 0\n",
    "dem['yes_right'] = 0\n",
    "dem2['yes_right'] = 0\n",
    "dem3['yes_right'] = 0\n",
    "dem4['yes_right'] = 0\n",
    "dem5['yes_right'] = 0\n",
    "dem6['yes_right'] = 0\n",
    "dem7['yes_right'] = 0\n",
    "inwa['yes_right'] = 1\n",
    "inwa2['yes_right'] = 1\n",
    "inwa3['yes_right'] = 1\n",
    "inwa4['yes_right'] = 1\n",
    "inwa5['yes_right'] = 1\n",
    "inwa6['yes_right'] = 1\n",
    "inwa7['yes_right'] = 1\n",
    "inwa8['yes_right'] = 1\n",
    "msnbc['yes_right'] = 0\n",
    "huff['yes_right'] = 0"
   ]
  },
  {
   "cell_type": "code",
   "execution_count": 404,
   "metadata": {},
   "outputs": [],
   "source": [
    "text = pd.concat(\n",
    "    [bb, cnn, fox, fox2, fox3, nr, nr2, vice, dem, dem2, dem3, dem4, dem5, dem6, dem7, inwa,\n",
    "     inwa2, inwa3, inwa4, inwa5, inwa6, inwa7, inwa8, msnbc, huff])"
   ]
  },
  {
   "cell_type": "markdown",
   "metadata": {},
   "source": [
    "<a id=\"clean-data\"></a>\n",
    "### Clean Data\n",
    "[Return to Index](#contents)"
   ]
  },
  {
   "cell_type": "code",
   "execution_count": 405,
   "metadata": {},
   "outputs": [],
   "source": [
    "text.drop(['Unnamed: 0', 'category', 'urlToImage'], axis=1, inplace=True)"
   ]
  },
  {
   "cell_type": "code",
   "execution_count": 406,
   "metadata": {},
   "outputs": [
    {
     "data": {
      "text/plain": [
       "author         9466\n",
       "description      69\n",
       "publishedAt       0\n",
       "source            0\n",
       "title             1\n",
       "url               0\n",
       "yes_right         0\n",
       "dtype: int64"
      ]
     },
     "execution_count": 406,
     "metadata": {},
     "output_type": "execute_result"
    }
   ],
   "source": [
    "# Check for missing values\n",
    "text.isna().sum()"
   ]
  },
  {
   "cell_type": "code",
   "execution_count": 407,
   "metadata": {},
   "outputs": [],
   "source": [
    "no_desc = text.description.isna()"
   ]
  },
  {
   "cell_type": "code",
   "execution_count": 408,
   "metadata": {},
   "outputs": [],
   "source": [
    "# Dropped all rows with missing text, as that is all I will be using as features\n",
    "text.dropna(subset=['description','title'], inplace=True)"
   ]
  },
  {
   "cell_type": "code",
   "execution_count": 409,
   "metadata": {},
   "outputs": [
    {
     "data": {
      "text/plain": [
       "author         9408\n",
       "description       0\n",
       "publishedAt       0\n",
       "source            0\n",
       "title             0\n",
       "url               0\n",
       "yes_right         0\n",
       "dtype: int64"
      ]
     },
     "execution_count": 409,
     "metadata": {},
     "output_type": "execute_result"
    }
   ],
   "source": [
    "text.isna().sum()"
   ]
  },
  {
   "cell_type": "code",
   "execution_count": 410,
   "metadata": {},
   "outputs": [],
   "source": [
    "text.fillna('no_author', inplace=True)"
   ]
  },
  {
   "cell_type": "code",
   "execution_count": 411,
   "metadata": {},
   "outputs": [
    {
     "data": {
      "text/plain": [
       "(50578, 7)"
      ]
     },
     "execution_count": 411,
     "metadata": {},
     "output_type": "execute_result"
    }
   ],
   "source": [
    "text.shape"
   ]
  },
  {
   "cell_type": "code",
   "execution_count": 412,
   "metadata": {},
   "outputs": [
    {
     "data": {
      "text/plain": [
       "36854"
      ]
     },
     "execution_count": 412,
     "metadata": {},
     "output_type": "execute_result"
    }
   ],
   "source": [
    "len(text.url.unique())"
   ]
  },
  {
   "cell_type": "code",
   "execution_count": 413,
   "metadata": {},
   "outputs": [],
   "source": [
    "text.drop_duplicates('url', inplace=True)"
   ]
  },
  {
   "cell_type": "code",
   "execution_count": 414,
   "metadata": {},
   "outputs": [
    {
     "data": {
      "text/plain": [
       "0"
      ]
     },
     "execution_count": 414,
     "metadata": {},
     "output_type": "execute_result"
    }
   ],
   "source": [
    "text.isna().sum().sum()"
   ]
  },
  {
   "cell_type": "code",
   "execution_count": 415,
   "metadata": {},
   "outputs": [
    {
     "data": {
      "text/plain": [
       "(36854, 7)"
      ]
     },
     "execution_count": 415,
     "metadata": {},
     "output_type": "execute_result"
    }
   ],
   "source": [
    "text.shape"
   ]
  },
  {
   "cell_type": "code",
   "execution_count": 416,
   "metadata": {},
   "outputs": [],
   "source": [
    "text.reset_index(drop=True, inplace=True)"
   ]
  },
  {
   "cell_type": "code",
   "execution_count": 417,
   "metadata": {},
   "outputs": [
    {
     "data": {
      "text/plain": [
       "0.4652954903131275"
      ]
     },
     "execution_count": 417,
     "metadata": {},
     "output_type": "execute_result"
    }
   ],
   "source": [
    "text.yes_right.value_counts()[1]/len(text.yes_right) \n",
    "# Baseline accuracy is 53.5%, almost a 50/50 split in target"
   ]
  },
  {
   "cell_type": "code",
   "execution_count": 419,
   "metadata": {},
   "outputs": [
    {
     "data": {
      "text/plain": [
       "fox news           6381\n",
       "national review    5348\n",
       "huffington post    4950\n",
       "msnbc              4950\n",
       "vice news          4949\n",
       "breitbart          4948\n",
       "cnn                4776\n",
       "infowars            471\n",
       "democracy now        81\n",
       "Name: source, dtype: int64"
      ]
     },
     "execution_count": 419,
     "metadata": {},
     "output_type": "execute_result"
    }
   ],
   "source": [
    "text.source.value_counts()"
   ]
  },
  {
   "cell_type": "code",
   "execution_count": 420,
   "metadata": {},
   "outputs": [],
   "source": [
    "source_dict = {'breitbart': \"Breitbart\", 'cnn': \"CNN\", 'fox news': \"Fox News\",\n",
    "               'national review': \"National Review\", 'vice news': \"Vice News\", 'democracy now': \"Democracy Now\",\n",
    "               'infowars': \"Infowars\", 'msnbc': \"MSNBC\", 'huffington post': \"Huffington Post\"}\n",
    "\n",
    "text['source'] = text['source'].map(source_dict)"
   ]
  },
  {
   "cell_type": "code",
   "execution_count": 424,
   "metadata": {},
   "outputs": [],
   "source": [
    "text['author'] = [a.replace(', CNN', '') for a in text['author']]"
   ]
  },
  {
   "cell_type": "markdown",
   "metadata": {},
   "source": [
    "**Removing Source Giveaways from the Title and Description**\n",
    "\n",
    "There was a multi-step process to remove source giveaways from the articles' text features. Here I create a function to use in the `.apply()` function to remove any mention of any source from all of the title and description text, as well as remove that specific article's author from the text. This cleaned up a lot of source giveaways, but there was still much that slipped through the cracks."
   ]
  },
  {
   "cell_type": "code",
   "execution_count": 422,
   "metadata": {},
   "outputs": [],
   "source": [
    "def remove_source_info(row):\n",
    "    sources = ['Breitbart', 'CNN', 'Fox News', 'National Review', 'Vice News', 'Democracy Now',\n",
    "               'Infowars', 'MSNBC', 'Huffington Post']\n",
    "    for source in sources:\n",
    "        row['description'] = row['description'].replace(source, '')\n",
    "        row['title'] = row['title'].replace(source, '')\n",
    "    row['title'] = row['title'].replace(row['author'], '')\n",
    "    row['description'] = row['description'].replace(row['author'], '')\n",
    "    return row"
   ]
  },
  {
   "cell_type": "code",
   "execution_count": 425,
   "metadata": {},
   "outputs": [],
   "source": [
    "text = text.apply(remove_source_info, axis=1)"
   ]
  },
  {
   "cell_type": "code",
   "execution_count": 430,
   "metadata": {
    "scrolled": false
   },
   "outputs": [
    {
     "data": {
      "text/html": [
       "<div>\n",
       "<style scoped>\n",
       "    .dataframe tbody tr th:only-of-type {\n",
       "        vertical-align: middle;\n",
       "    }\n",
       "\n",
       "    .dataframe tbody tr th {\n",
       "        vertical-align: top;\n",
       "    }\n",
       "\n",
       "    .dataframe thead th {\n",
       "        text-align: right;\n",
       "    }\n",
       "</style>\n",
       "<table border=\"1\" class=\"dataframe\">\n",
       "  <thead>\n",
       "    <tr style=\"text-align: right;\">\n",
       "      <th></th>\n",
       "      <th>author</th>\n",
       "      <th>description</th>\n",
       "      <th>publishedAt</th>\n",
       "      <th>source</th>\n",
       "      <th>title</th>\n",
       "      <th>url</th>\n",
       "      <th>yes_right</th>\n",
       "    </tr>\n",
       "  </thead>\n",
       "  <tbody>\n",
       "    <tr>\n",
       "      <th>9724</th>\n",
       "      <td>no_author</td>\n",
       "      <td>Judge Napolitano and Marie Harf discuss the Tr...</td>\n",
       "      <td>2018-06-20T18:51:36Z</td>\n",
       "      <td>Fox News</td>\n",
       "      <td>Freedom Watch: Napolitano and Harf dig in on i...</td>\n",
       "      <td>http://video.foxnews.com/v/5799861947001/</td>\n",
       "      <td>1</td>\n",
       "    </tr>\n",
       "    <tr>\n",
       "      <th>9725</th>\n",
       "      <td>no_author</td>\n",
       "      <td>Find out where and who caught a rare cotton ca...</td>\n",
       "      <td>2018-06-20T18:50:00Z</td>\n",
       "      <td>Fox News</td>\n",
       "      <td>See it: Cotton candy-colored lobster caught</td>\n",
       "      <td>http://video.foxnews.com/v/5799865520001/</td>\n",
       "      <td>1</td>\n",
       "    </tr>\n",
       "    <tr>\n",
       "      <th>9726</th>\n",
       "      <td>no_author</td>\n",
       "      <td>Steve Harrigan reports from outside a detentio...</td>\n",
       "      <td>2018-06-20T18:47:58Z</td>\n",
       "      <td>Fox News</td>\n",
       "      <td>Media not given access to 'tender age' shelters</td>\n",
       "      <td>http://video.foxnews.com/v/5799862990001/</td>\n",
       "      <td>1</td>\n",
       "    </tr>\n",
       "    <tr>\n",
       "      <th>9727</th>\n",
       "      <td>no_author</td>\n",
       "      <td>Reports: More than 2,000 children have been se...</td>\n",
       "      <td>2018-06-20T18:47:54Z</td>\n",
       "      <td>Fox News</td>\n",
       "      <td>Critics denounce 'tender age' shelters</td>\n",
       "      <td>http://video.foxnews.com/v/5799860019001/</td>\n",
       "      <td>1</td>\n",
       "    </tr>\n",
       "    <tr>\n",
       "      <th>9728</th>\n",
       "      <td>no_author</td>\n",
       "      <td>Nearly a year after the body of little boy was...</td>\n",
       "      <td>2018-06-20T18:38:34Z</td>\n",
       "      <td>Fox News</td>\n",
       "      <td>‘Little Jacob’ has been identified</td>\n",
       "      <td>http://video.foxnews.com/v/5799856889001/</td>\n",
       "      <td>1</td>\n",
       "    </tr>\n",
       "  </tbody>\n",
       "</table>\n",
       "</div>"
      ],
      "text/plain": [
       "         author                                        description  \\\n",
       "9724  no_author  Judge Napolitano and Marie Harf discuss the Tr...   \n",
       "9725  no_author  Find out where and who caught a rare cotton ca...   \n",
       "9726  no_author  Steve Harrigan reports from outside a detentio...   \n",
       "9727  no_author  Reports: More than 2,000 children have been se...   \n",
       "9728  no_author  Nearly a year after the body of little boy was...   \n",
       "\n",
       "               publishedAt    source  \\\n",
       "9724  2018-06-20T18:51:36Z  Fox News   \n",
       "9725  2018-06-20T18:50:00Z  Fox News   \n",
       "9726  2018-06-20T18:47:58Z  Fox News   \n",
       "9727  2018-06-20T18:47:54Z  Fox News   \n",
       "9728  2018-06-20T18:38:34Z  Fox News   \n",
       "\n",
       "                                                  title  \\\n",
       "9724  Freedom Watch: Napolitano and Harf dig in on i...   \n",
       "9725        See it: Cotton candy-colored lobster caught   \n",
       "9726    Media not given access to 'tender age' shelters   \n",
       "9727             Critics denounce 'tender age' shelters   \n",
       "9728                 ‘Little Jacob’ has been identified   \n",
       "\n",
       "                                            url  yes_right  \n",
       "9724  http://video.foxnews.com/v/5799861947001/          1  \n",
       "9725  http://video.foxnews.com/v/5799865520001/          1  \n",
       "9726  http://video.foxnews.com/v/5799862990001/          1  \n",
       "9727  http://video.foxnews.com/v/5799860019001/          1  \n",
       "9728  http://video.foxnews.com/v/5799856889001/          1  "
      ]
     },
     "execution_count": 430,
     "metadata": {},
     "output_type": "execute_result"
    }
   ],
   "source": [
    "text.query(\"source=='Fox News'\").head()"
   ]
  },
  {
   "cell_type": "markdown",
   "metadata": {},
   "source": [
    "<a id=\"feature-engineering\"></a>\n",
    "# NLP Feature Engineering\n",
    "[Return to Index](#contents)\n",
    "\n",
    "Using NLP tools from the TextBlob library, I tagged each word of the title and description with a part of speech and added the normalized value counts for each part of speech as a new feature. The meaning of those parts of speech tags can be found [here](https://www.clips.uantwerpen.be/pages/mbsp-tags). I also used TextBlob’s sentiment analysis scoring to create features for polarity (positive or negative) and subjectivity. I then took the difference between title polarity and description polarity and the difference between title subjectivity and description subjectivity to see if there was a discrepancy in sentiment between title and description. Additionally, I created an average title word length feature. I could have spent weeks just engineering features using NLP tools, but this seemed like a good base to start with for this project."
   ]
  },
  {
   "cell_type": "code",
   "execution_count": 432,
   "metadata": {},
   "outputs": [],
   "source": [
    "text['combined'] = text.title + ' ' + text.description # all text together"
   ]
  },
  {
   "cell_type": "markdown",
   "metadata": {},
   "source": [
    "#### Sentiment Analysis"
   ]
  },
  {
   "cell_type": "code",
   "execution_count": 433,
   "metadata": {},
   "outputs": [],
   "source": [
    "tokenizer = nltk.RegexpTokenizer(r'\\w+')"
   ]
  },
  {
   "cell_type": "code",
   "execution_count": 434,
   "metadata": {},
   "outputs": [],
   "source": [
    "title_tokens = [tokenizer.tokenize(w) for w in text.title]"
   ]
  },
  {
   "cell_type": "code",
   "execution_count": 435,
   "metadata": {},
   "outputs": [],
   "source": [
    "avg_word_length = []\n",
    "for title in title_tokens:\n",
    "    wordlen = []\n",
    "    for word in title:\n",
    "        wordlen.append(len(word))\n",
    "        if len(wordlen)==len(title):\n",
    "            avg_word_length.append(np.sum(wordlen)/len(wordlen))\n",
    "    "
   ]
  },
  {
   "cell_type": "code",
   "execution_count": 437,
   "metadata": {},
   "outputs": [],
   "source": [
    "text['avg_word_len_title'] = avg_word_length"
   ]
  },
  {
   "cell_type": "code",
   "execution_count": 438,
   "metadata": {},
   "outputs": [],
   "source": [
    "text['title_polarity'] = [TextBlob(w).sentiment.polarity for w in text.title]"
   ]
  },
  {
   "cell_type": "code",
   "execution_count": 439,
   "metadata": {},
   "outputs": [],
   "source": [
    "text['title_subjectivity'] = [TextBlob(w).sentiment.subjectivity for w in text.title]"
   ]
  },
  {
   "cell_type": "code",
   "execution_count": 440,
   "metadata": {},
   "outputs": [],
   "source": [
    "text['desc_polarity'] = [TextBlob(w).sentiment.polarity for w in text.description]"
   ]
  },
  {
   "cell_type": "code",
   "execution_count": 441,
   "metadata": {},
   "outputs": [],
   "source": [
    "text['desc_subjectivity'] = [TextBlob(w).sentiment.subjectivity for w in text.description]"
   ]
  },
  {
   "cell_type": "code",
   "execution_count": 442,
   "metadata": {},
   "outputs": [],
   "source": [
    "text['title_polarity'] = (text.title_polarity - min(text.title_polarity))/(max(text.title_polarity)-min(text.title_polarity))\n",
    "text['desc_polarity'] = (text.desc_polarity - min(text.desc_polarity))/(max(text.desc_polarity)-min(text.desc_polarity))\n",
    "# Manual MinMax Scaler; I do not want negative values as all other features are already normalized"
   ]
  },
  {
   "cell_type": "code",
   "execution_count": 443,
   "metadata": {},
   "outputs": [],
   "source": [
    "text['subj_difference'] = text['title_subjectivity'] - text['desc_subjectivity']\n",
    "text['polarity_difference']  = text['title_polarity'] - text['desc_polarity']"
   ]
  },
  {
   "cell_type": "markdown",
   "metadata": {},
   "source": [
    "#### Parts of Speech Tagging"
   ]
  },
  {
   "cell_type": "code",
   "execution_count": 445,
   "metadata": {},
   "outputs": [],
   "source": [
    "title_tags = [TextBlob(w.lower(), tokenizer=tokenizer).tags for w in text.title]"
   ]
  },
  {
   "cell_type": "code",
   "execution_count": 446,
   "metadata": {},
   "outputs": [
    {
     "data": {
      "text/plain": [
       "[('peter', 'NN'),\n",
       " ('fonda', 'NN'),\n",
       " ('lying', 'VBG'),\n",
       " ('gash', 'JJ'),\n",
       " ('kirstjen', 'NNS'),\n",
       " ('nielsen', 'VBN'),\n",
       " ('should', 'MD'),\n",
       " ('be', 'VB'),\n",
       " ('whipped', 'VBN'),\n",
       " ('naked', 'JJ'),\n",
       " ('in', 'IN'),\n",
       " ('public', 'JJ')]"
      ]
     },
     "execution_count": 446,
     "metadata": {},
     "output_type": "execute_result"
    }
   ],
   "source": [
    "title_tags[0]"
   ]
  },
  {
   "cell_type": "code",
   "execution_count": 447,
   "metadata": {},
   "outputs": [],
   "source": [
    "tags_counts = []\n",
    "for row in title_tags:\n",
    "    tags = [n[1] for n in row]\n",
    "    tags_counts.append(tags)"
   ]
  },
  {
   "cell_type": "code",
   "execution_count": 448,
   "metadata": {},
   "outputs": [],
   "source": [
    "title_parts_of_speech = []\n",
    "for n in tags_counts:\n",
    "    foo = dict(pd.Series(n).value_counts(normalize=True))\n",
    "    title_parts_of_speech.append(foo)"
   ]
  },
  {
   "cell_type": "code",
   "execution_count": 449,
   "metadata": {},
   "outputs": [],
   "source": [
    "title_parts_of_speech = pd.DataFrame(title_parts_of_speech).fillna(0)\n",
    "# A NaN value means that part of speech did not appear in the text"
   ]
  },
  {
   "cell_type": "code",
   "execution_count": 450,
   "metadata": {},
   "outputs": [
    {
     "data": {
      "text/html": [
       "<div>\n",
       "<style scoped>\n",
       "    .dataframe tbody tr th:only-of-type {\n",
       "        vertical-align: middle;\n",
       "    }\n",
       "\n",
       "    .dataframe tbody tr th {\n",
       "        vertical-align: top;\n",
       "    }\n",
       "\n",
       "    .dataframe thead th {\n",
       "        text-align: right;\n",
       "    }\n",
       "</style>\n",
       "<table border=\"1\" class=\"dataframe\">\n",
       "  <thead>\n",
       "    <tr style=\"text-align: right;\">\n",
       "      <th></th>\n",
       "      <th>CC</th>\n",
       "      <th>CD</th>\n",
       "      <th>DT</th>\n",
       "      <th>EX</th>\n",
       "      <th>FW</th>\n",
       "      <th>IN</th>\n",
       "      <th>JJ</th>\n",
       "      <th>JJR</th>\n",
       "      <th>JJS</th>\n",
       "      <th>MD</th>\n",
       "      <th>...</th>\n",
       "      <th>VB</th>\n",
       "      <th>VBD</th>\n",
       "      <th>VBG</th>\n",
       "      <th>VBN</th>\n",
       "      <th>VBP</th>\n",
       "      <th>VBZ</th>\n",
       "      <th>WDT</th>\n",
       "      <th>WP</th>\n",
       "      <th>WP$</th>\n",
       "      <th>WRB</th>\n",
       "    </tr>\n",
       "  </thead>\n",
       "  <tbody>\n",
       "    <tr>\n",
       "      <th>0</th>\n",
       "      <td>0.0</td>\n",
       "      <td>0.0</td>\n",
       "      <td>0.0</td>\n",
       "      <td>0.0</td>\n",
       "      <td>0.0</td>\n",
       "      <td>0.083333</td>\n",
       "      <td>0.250000</td>\n",
       "      <td>0.0</td>\n",
       "      <td>0.0</td>\n",
       "      <td>0.083333</td>\n",
       "      <td>...</td>\n",
       "      <td>0.083333</td>\n",
       "      <td>0.0</td>\n",
       "      <td>0.083333</td>\n",
       "      <td>0.166667</td>\n",
       "      <td>0.0</td>\n",
       "      <td>0.0</td>\n",
       "      <td>0.0</td>\n",
       "      <td>0.0</td>\n",
       "      <td>0.0</td>\n",
       "      <td>0.0</td>\n",
       "    </tr>\n",
       "    <tr>\n",
       "      <th>1</th>\n",
       "      <td>0.0</td>\n",
       "      <td>0.0</td>\n",
       "      <td>0.0</td>\n",
       "      <td>0.0</td>\n",
       "      <td>0.0</td>\n",
       "      <td>0.083333</td>\n",
       "      <td>0.250000</td>\n",
       "      <td>0.0</td>\n",
       "      <td>0.0</td>\n",
       "      <td>0.083333</td>\n",
       "      <td>...</td>\n",
       "      <td>0.083333</td>\n",
       "      <td>0.0</td>\n",
       "      <td>0.083333</td>\n",
       "      <td>0.000000</td>\n",
       "      <td>0.0</td>\n",
       "      <td>0.0</td>\n",
       "      <td>0.0</td>\n",
       "      <td>0.0</td>\n",
       "      <td>0.0</td>\n",
       "      <td>0.0</td>\n",
       "    </tr>\n",
       "    <tr>\n",
       "      <th>2</th>\n",
       "      <td>0.0</td>\n",
       "      <td>0.0</td>\n",
       "      <td>0.0</td>\n",
       "      <td>0.0</td>\n",
       "      <td>0.0</td>\n",
       "      <td>0.000000</td>\n",
       "      <td>0.363636</td>\n",
       "      <td>0.0</td>\n",
       "      <td>0.0</td>\n",
       "      <td>0.000000</td>\n",
       "      <td>...</td>\n",
       "      <td>0.090909</td>\n",
       "      <td>0.0</td>\n",
       "      <td>0.000000</td>\n",
       "      <td>0.000000</td>\n",
       "      <td>0.0</td>\n",
       "      <td>0.0</td>\n",
       "      <td>0.0</td>\n",
       "      <td>0.0</td>\n",
       "      <td>0.0</td>\n",
       "      <td>0.0</td>\n",
       "    </tr>\n",
       "    <tr>\n",
       "      <th>3</th>\n",
       "      <td>0.0</td>\n",
       "      <td>0.0</td>\n",
       "      <td>0.0</td>\n",
       "      <td>0.0</td>\n",
       "      <td>0.0</td>\n",
       "      <td>0.142857</td>\n",
       "      <td>0.142857</td>\n",
       "      <td>0.0</td>\n",
       "      <td>0.0</td>\n",
       "      <td>0.000000</td>\n",
       "      <td>...</td>\n",
       "      <td>0.285714</td>\n",
       "      <td>0.0</td>\n",
       "      <td>0.000000</td>\n",
       "      <td>0.000000</td>\n",
       "      <td>0.0</td>\n",
       "      <td>0.0</td>\n",
       "      <td>0.0</td>\n",
       "      <td>0.0</td>\n",
       "      <td>0.0</td>\n",
       "      <td>0.0</td>\n",
       "    </tr>\n",
       "    <tr>\n",
       "      <th>4</th>\n",
       "      <td>0.0</td>\n",
       "      <td>0.0</td>\n",
       "      <td>0.1</td>\n",
       "      <td>0.0</td>\n",
       "      <td>0.0</td>\n",
       "      <td>0.300000</td>\n",
       "      <td>0.100000</td>\n",
       "      <td>0.0</td>\n",
       "      <td>0.0</td>\n",
       "      <td>0.000000</td>\n",
       "      <td>...</td>\n",
       "      <td>0.000000</td>\n",
       "      <td>0.0</td>\n",
       "      <td>0.000000</td>\n",
       "      <td>0.000000</td>\n",
       "      <td>0.0</td>\n",
       "      <td>0.0</td>\n",
       "      <td>0.0</td>\n",
       "      <td>0.0</td>\n",
       "      <td>0.0</td>\n",
       "      <td>0.0</td>\n",
       "    </tr>\n",
       "  </tbody>\n",
       "</table>\n",
       "<p>5 rows × 35 columns</p>\n",
       "</div>"
      ],
      "text/plain": [
       "    CC   CD   DT   EX   FW        IN        JJ  JJR  JJS        MD ...   \\\n",
       "0  0.0  0.0  0.0  0.0  0.0  0.083333  0.250000  0.0  0.0  0.083333 ...    \n",
       "1  0.0  0.0  0.0  0.0  0.0  0.083333  0.250000  0.0  0.0  0.083333 ...    \n",
       "2  0.0  0.0  0.0  0.0  0.0  0.000000  0.363636  0.0  0.0  0.000000 ...    \n",
       "3  0.0  0.0  0.0  0.0  0.0  0.142857  0.142857  0.0  0.0  0.000000 ...    \n",
       "4  0.0  0.0  0.1  0.0  0.0  0.300000  0.100000  0.0  0.0  0.000000 ...    \n",
       "\n",
       "         VB  VBD       VBG       VBN  VBP  VBZ  WDT   WP  WP$  WRB  \n",
       "0  0.083333  0.0  0.083333  0.166667  0.0  0.0  0.0  0.0  0.0  0.0  \n",
       "1  0.083333  0.0  0.083333  0.000000  0.0  0.0  0.0  0.0  0.0  0.0  \n",
       "2  0.090909  0.0  0.000000  0.000000  0.0  0.0  0.0  0.0  0.0  0.0  \n",
       "3  0.285714  0.0  0.000000  0.000000  0.0  0.0  0.0  0.0  0.0  0.0  \n",
       "4  0.000000  0.0  0.000000  0.000000  0.0  0.0  0.0  0.0  0.0  0.0  \n",
       "\n",
       "[5 rows x 35 columns]"
      ]
     },
     "execution_count": 450,
     "metadata": {},
     "output_type": "execute_result"
    }
   ],
   "source": [
    "title_parts_of_speech.head()"
   ]
  },
  {
   "cell_type": "code",
   "execution_count": 451,
   "metadata": {},
   "outputs": [
    {
     "data": {
      "text/plain": [
       "[0.14285714285714285,\n",
       " 0.29642857142857143,\n",
       " 1.4419413919413919,\n",
       " 1.711311787627577,\n",
       " 4.1597045927928278,\n",
       " 10.43336318394368,\n",
       " 12.412833408421644,\n",
       " 12.606152791137312,\n",
       " 21.882508510581268,\n",
       " 26.23270679550572]"
      ]
     },
     "execution_count": 451,
     "metadata": {},
     "output_type": "execute_result"
    }
   ],
   "source": [
    "sorted([title_parts_of_speech[col].sum() for col in title_parts_of_speech.columns])[:10]\n",
    "# Any columns with negligible values?"
   ]
  },
  {
   "cell_type": "code",
   "execution_count": 452,
   "metadata": {},
   "outputs": [],
   "source": [
    "# Label as title parts of speech\n",
    "title_parts_of_speech.columns = [str(n) + '_title' for n in title_parts_of_speech.columns]"
   ]
  },
  {
   "cell_type": "code",
   "execution_count": 453,
   "metadata": {},
   "outputs": [
    {
     "data": {
      "text/html": [
       "<div>\n",
       "<style scoped>\n",
       "    .dataframe tbody tr th:only-of-type {\n",
       "        vertical-align: middle;\n",
       "    }\n",
       "\n",
       "    .dataframe tbody tr th {\n",
       "        vertical-align: top;\n",
       "    }\n",
       "\n",
       "    .dataframe thead th {\n",
       "        text-align: right;\n",
       "    }\n",
       "</style>\n",
       "<table border=\"1\" class=\"dataframe\">\n",
       "  <thead>\n",
       "    <tr style=\"text-align: right;\">\n",
       "      <th></th>\n",
       "      <th>count</th>\n",
       "      <th>mean</th>\n",
       "      <th>std</th>\n",
       "      <th>min</th>\n",
       "      <th>25%</th>\n",
       "      <th>50%</th>\n",
       "      <th>75%</th>\n",
       "      <th>max</th>\n",
       "    </tr>\n",
       "  </thead>\n",
       "  <tbody>\n",
       "    <tr>\n",
       "      <th>NN_title</th>\n",
       "      <td>36854.0</td>\n",
       "      <td>0.342739</td>\n",
       "      <td>0.162052</td>\n",
       "      <td>0.0</td>\n",
       "      <td>0.230769</td>\n",
       "      <td>0.333333</td>\n",
       "      <td>0.444444</td>\n",
       "      <td>1.000000</td>\n",
       "    </tr>\n",
       "    <tr>\n",
       "      <th>JJ_title</th>\n",
       "      <td>36854.0</td>\n",
       "      <td>0.119757</td>\n",
       "      <td>0.104867</td>\n",
       "      <td>0.0</td>\n",
       "      <td>0.000000</td>\n",
       "      <td>0.111111</td>\n",
       "      <td>0.181818</td>\n",
       "      <td>1.000000</td>\n",
       "    </tr>\n",
       "    <tr>\n",
       "      <th>IN_title</th>\n",
       "      <td>36854.0</td>\n",
       "      <td>0.096853</td>\n",
       "      <td>0.079797</td>\n",
       "      <td>0.0</td>\n",
       "      <td>0.000000</td>\n",
       "      <td>0.100000</td>\n",
       "      <td>0.142857</td>\n",
       "      <td>0.666667</td>\n",
       "    </tr>\n",
       "    <tr>\n",
       "      <th>NNS_title</th>\n",
       "      <td>36854.0</td>\n",
       "      <td>0.095445</td>\n",
       "      <td>0.100312</td>\n",
       "      <td>0.0</td>\n",
       "      <td>0.000000</td>\n",
       "      <td>0.090909</td>\n",
       "      <td>0.153846</td>\n",
       "      <td>1.000000</td>\n",
       "    </tr>\n",
       "    <tr>\n",
       "      <th>DT_title</th>\n",
       "      <td>36854.0</td>\n",
       "      <td>0.045575</td>\n",
       "      <td>0.070313</td>\n",
       "      <td>0.0</td>\n",
       "      <td>0.000000</td>\n",
       "      <td>0.000000</td>\n",
       "      <td>0.090909</td>\n",
       "      <td>0.500000</td>\n",
       "    </tr>\n",
       "  </tbody>\n",
       "</table>\n",
       "</div>"
      ],
      "text/plain": [
       "             count      mean       std  min       25%       50%       75%  \\\n",
       "NN_title   36854.0  0.342739  0.162052  0.0  0.230769  0.333333  0.444444   \n",
       "JJ_title   36854.0  0.119757  0.104867  0.0  0.000000  0.111111  0.181818   \n",
       "IN_title   36854.0  0.096853  0.079797  0.0  0.000000  0.100000  0.142857   \n",
       "NNS_title  36854.0  0.095445  0.100312  0.0  0.000000  0.090909  0.153846   \n",
       "DT_title   36854.0  0.045575  0.070313  0.0  0.000000  0.000000  0.090909   \n",
       "\n",
       "                max  \n",
       "NN_title   1.000000  \n",
       "JJ_title   1.000000  \n",
       "IN_title   0.666667  \n",
       "NNS_title  1.000000  \n",
       "DT_title   0.500000  "
      ]
     },
     "execution_count": 453,
     "metadata": {},
     "output_type": "execute_result"
    }
   ],
   "source": [
    "title_parts_of_speech.describe().T.sort_values('mean', ascending=False).head()"
   ]
  },
  {
   "cell_type": "code",
   "execution_count": 454,
   "metadata": {},
   "outputs": [],
   "source": [
    "# Same process follows for the description column\n",
    "desc_tags = [TextBlob(w, tokenizer=tokenizer).tags for w in text.description]"
   ]
  },
  {
   "cell_type": "code",
   "execution_count": 455,
   "metadata": {},
   "outputs": [],
   "source": [
    "tags_counts = []\n",
    "for row in desc_tags:\n",
    "    tags = [n[1] for n in row]\n",
    "    tags_counts.append(tags)"
   ]
  },
  {
   "cell_type": "code",
   "execution_count": 456,
   "metadata": {},
   "outputs": [],
   "source": [
    "desc_parts_of_speech = []\n",
    "for n in tags_counts:\n",
    "    foo = dict(pd.Series(n).value_counts(normalize=True))\n",
    "    desc_parts_of_speech.append(foo)"
   ]
  },
  {
   "cell_type": "code",
   "execution_count": 457,
   "metadata": {},
   "outputs": [],
   "source": [
    "desc_parts_of_speech = pd.DataFrame(desc_parts_of_speech).fillna(0)"
   ]
  },
  {
   "cell_type": "code",
   "execution_count": 458,
   "metadata": {},
   "outputs": [
    {
     "data": {
      "text/html": [
       "<div>\n",
       "<style scoped>\n",
       "    .dataframe tbody tr th:only-of-type {\n",
       "        vertical-align: middle;\n",
       "    }\n",
       "\n",
       "    .dataframe tbody tr th {\n",
       "        vertical-align: top;\n",
       "    }\n",
       "\n",
       "    .dataframe thead th {\n",
       "        text-align: right;\n",
       "    }\n",
       "</style>\n",
       "<table border=\"1\" class=\"dataframe\">\n",
       "  <thead>\n",
       "    <tr style=\"text-align: right;\">\n",
       "      <th></th>\n",
       "      <th>CC</th>\n",
       "      <th>CD</th>\n",
       "      <th>DT</th>\n",
       "      <th>EX</th>\n",
       "      <th>FW</th>\n",
       "      <th>IN</th>\n",
       "      <th>JJ</th>\n",
       "      <th>JJR</th>\n",
       "      <th>JJS</th>\n",
       "      <th>LS</th>\n",
       "      <th>...</th>\n",
       "      <th>VB</th>\n",
       "      <th>VBD</th>\n",
       "      <th>VBG</th>\n",
       "      <th>VBN</th>\n",
       "      <th>VBP</th>\n",
       "      <th>VBZ</th>\n",
       "      <th>WDT</th>\n",
       "      <th>WP</th>\n",
       "      <th>WP$</th>\n",
       "      <th>WRB</th>\n",
       "    </tr>\n",
       "  </thead>\n",
       "  <tbody>\n",
       "    <tr>\n",
       "      <th>0</th>\n",
       "      <td>0.000000</td>\n",
       "      <td>0.0</td>\n",
       "      <td>0.068182</td>\n",
       "      <td>0.0</td>\n",
       "      <td>0.0</td>\n",
       "      <td>0.090909</td>\n",
       "      <td>0.022727</td>\n",
       "      <td>0.0</td>\n",
       "      <td>0.000000</td>\n",
       "      <td>0.0</td>\n",
       "      <td>...</td>\n",
       "      <td>0.022727</td>\n",
       "      <td>0.068182</td>\n",
       "      <td>0.045455</td>\n",
       "      <td>0.022727</td>\n",
       "      <td>0.000000</td>\n",
       "      <td>0.000000</td>\n",
       "      <td>0.0</td>\n",
       "      <td>0.022727</td>\n",
       "      <td>0.0</td>\n",
       "      <td>0.0</td>\n",
       "    </tr>\n",
       "    <tr>\n",
       "      <th>1</th>\n",
       "      <td>0.040000</td>\n",
       "      <td>0.0</td>\n",
       "      <td>0.000000</td>\n",
       "      <td>0.0</td>\n",
       "      <td>0.0</td>\n",
       "      <td>0.080000</td>\n",
       "      <td>0.080000</td>\n",
       "      <td>0.0</td>\n",
       "      <td>0.000000</td>\n",
       "      <td>0.0</td>\n",
       "      <td>...</td>\n",
       "      <td>0.000000</td>\n",
       "      <td>0.000000</td>\n",
       "      <td>0.160000</td>\n",
       "      <td>0.040000</td>\n",
       "      <td>0.000000</td>\n",
       "      <td>0.040000</td>\n",
       "      <td>0.0</td>\n",
       "      <td>0.000000</td>\n",
       "      <td>0.0</td>\n",
       "      <td>0.0</td>\n",
       "    </tr>\n",
       "    <tr>\n",
       "      <th>2</th>\n",
       "      <td>0.040000</td>\n",
       "      <td>0.0</td>\n",
       "      <td>0.120000</td>\n",
       "      <td>0.0</td>\n",
       "      <td>0.0</td>\n",
       "      <td>0.100000</td>\n",
       "      <td>0.060000</td>\n",
       "      <td>0.0</td>\n",
       "      <td>0.000000</td>\n",
       "      <td>0.0</td>\n",
       "      <td>...</td>\n",
       "      <td>0.080000</td>\n",
       "      <td>0.020000</td>\n",
       "      <td>0.060000</td>\n",
       "      <td>0.020000</td>\n",
       "      <td>0.100000</td>\n",
       "      <td>0.040000</td>\n",
       "      <td>0.0</td>\n",
       "      <td>0.000000</td>\n",
       "      <td>0.0</td>\n",
       "      <td>0.0</td>\n",
       "    </tr>\n",
       "    <tr>\n",
       "      <th>3</th>\n",
       "      <td>0.035714</td>\n",
       "      <td>0.0</td>\n",
       "      <td>0.107143</td>\n",
       "      <td>0.0</td>\n",
       "      <td>0.0</td>\n",
       "      <td>0.107143</td>\n",
       "      <td>0.142857</td>\n",
       "      <td>0.0</td>\n",
       "      <td>0.000000</td>\n",
       "      <td>0.0</td>\n",
       "      <td>...</td>\n",
       "      <td>0.071429</td>\n",
       "      <td>0.035714</td>\n",
       "      <td>0.071429</td>\n",
       "      <td>0.000000</td>\n",
       "      <td>0.000000</td>\n",
       "      <td>0.035714</td>\n",
       "      <td>0.0</td>\n",
       "      <td>0.000000</td>\n",
       "      <td>0.0</td>\n",
       "      <td>0.0</td>\n",
       "    </tr>\n",
       "    <tr>\n",
       "      <th>4</th>\n",
       "      <td>0.000000</td>\n",
       "      <td>0.0</td>\n",
       "      <td>0.085714</td>\n",
       "      <td>0.0</td>\n",
       "      <td>0.0</td>\n",
       "      <td>0.114286</td>\n",
       "      <td>0.114286</td>\n",
       "      <td>0.0</td>\n",
       "      <td>0.028571</td>\n",
       "      <td>0.0</td>\n",
       "      <td>...</td>\n",
       "      <td>0.000000</td>\n",
       "      <td>0.028571</td>\n",
       "      <td>0.057143</td>\n",
       "      <td>0.028571</td>\n",
       "      <td>0.057143</td>\n",
       "      <td>0.000000</td>\n",
       "      <td>0.0</td>\n",
       "      <td>0.000000</td>\n",
       "      <td>0.0</td>\n",
       "      <td>0.0</td>\n",
       "    </tr>\n",
       "  </tbody>\n",
       "</table>\n",
       "<p>5 rows × 36 columns</p>\n",
       "</div>"
      ],
      "text/plain": [
       "         CC   CD        DT   EX   FW        IN        JJ  JJR       JJS   LS  \\\n",
       "0  0.000000  0.0  0.068182  0.0  0.0  0.090909  0.022727  0.0  0.000000  0.0   \n",
       "1  0.040000  0.0  0.000000  0.0  0.0  0.080000  0.080000  0.0  0.000000  0.0   \n",
       "2  0.040000  0.0  0.120000  0.0  0.0  0.100000  0.060000  0.0  0.000000  0.0   \n",
       "3  0.035714  0.0  0.107143  0.0  0.0  0.107143  0.142857  0.0  0.000000  0.0   \n",
       "4  0.000000  0.0  0.085714  0.0  0.0  0.114286  0.114286  0.0  0.028571  0.0   \n",
       "\n",
       "  ...         VB       VBD       VBG       VBN       VBP       VBZ  WDT  \\\n",
       "0 ...   0.022727  0.068182  0.045455  0.022727  0.000000  0.000000  0.0   \n",
       "1 ...   0.000000  0.000000  0.160000  0.040000  0.000000  0.040000  0.0   \n",
       "2 ...   0.080000  0.020000  0.060000  0.020000  0.100000  0.040000  0.0   \n",
       "3 ...   0.071429  0.035714  0.071429  0.000000  0.000000  0.035714  0.0   \n",
       "4 ...   0.000000  0.028571  0.057143  0.028571  0.057143  0.000000  0.0   \n",
       "\n",
       "         WP  WP$  WRB  \n",
       "0  0.022727  0.0  0.0  \n",
       "1  0.000000  0.0  0.0  \n",
       "2  0.000000  0.0  0.0  \n",
       "3  0.000000  0.0  0.0  \n",
       "4  0.000000  0.0  0.0  \n",
       "\n",
       "[5 rows x 36 columns]"
      ]
     },
     "execution_count": 458,
     "metadata": {},
     "output_type": "execute_result"
    }
   ],
   "source": [
    "desc_parts_of_speech.head()"
   ]
  },
  {
   "cell_type": "code",
   "execution_count": 459,
   "metadata": {},
   "outputs": [],
   "source": [
    "desc_parts_of_speech.columns = [str(n) + '_desc' for n in desc_parts_of_speech.columns]"
   ]
  },
  {
   "cell_type": "code",
   "execution_count": 460,
   "metadata": {},
   "outputs": [
    {
     "data": {
      "text/plain": [
       "True"
      ]
     },
     "execution_count": 460,
     "metadata": {},
     "output_type": "execute_result"
    }
   ],
   "source": [
    "# Checking for correct length\n",
    "desc_parts_of_speech.shape[0] == title_parts_of_speech.shape[0]"
   ]
  },
  {
   "cell_type": "code",
   "execution_count": 461,
   "metadata": {},
   "outputs": [],
   "source": [
    "pos_tags = pd.concat([title_parts_of_speech, desc_parts_of_speech], axis=1)"
   ]
  },
  {
   "cell_type": "code",
   "execution_count": 462,
   "metadata": {},
   "outputs": [
    {
     "data": {
      "text/plain": [
       "Index(['author', 'description', 'publishedAt', 'source', 'title', 'url',\n",
       "       'yes_right', 'combined', 'avg_word_len_title', 'title_polarity',\n",
       "       'title_subjectivity', 'desc_polarity', 'desc_subjectivity',\n",
       "       'subj_difference', 'polarity_difference'],\n",
       "      dtype='object')"
      ]
     },
     "execution_count": 462,
     "metadata": {},
     "output_type": "execute_result"
    }
   ],
   "source": [
    "text.columns"
   ]
  },
  {
   "cell_type": "code",
   "execution_count": 463,
   "metadata": {},
   "outputs": [
    {
     "data": {
      "text/html": [
       "<div>\n",
       "<style scoped>\n",
       "    .dataframe tbody tr th:only-of-type {\n",
       "        vertical-align: middle;\n",
       "    }\n",
       "\n",
       "    .dataframe tbody tr th {\n",
       "        vertical-align: top;\n",
       "    }\n",
       "\n",
       "    .dataframe thead th {\n",
       "        text-align: right;\n",
       "    }\n",
       "</style>\n",
       "<table border=\"1\" class=\"dataframe\">\n",
       "  <thead>\n",
       "    <tr style=\"text-align: right;\">\n",
       "      <th></th>\n",
       "      <th>title_polarity</th>\n",
       "      <th>title_subjectivity</th>\n",
       "      <th>desc_polarity</th>\n",
       "      <th>desc_subjectivity</th>\n",
       "      <th>subj_difference</th>\n",
       "      <th>polarity_difference</th>\n",
       "      <th>avg_word_len_title</th>\n",
       "      <th>CC_title</th>\n",
       "      <th>CD_title</th>\n",
       "      <th>DT_title</th>\n",
       "      <th>...</th>\n",
       "      <th>VBD_desc</th>\n",
       "      <th>VBG_desc</th>\n",
       "      <th>VBN_desc</th>\n",
       "      <th>VBP_desc</th>\n",
       "      <th>VBZ_desc</th>\n",
       "      <th>WDT_desc</th>\n",
       "      <th>WP_desc</th>\n",
       "      <th>WP$_desc</th>\n",
       "      <th>WRB_desc</th>\n",
       "      <th>yes_right</th>\n",
       "    </tr>\n",
       "  </thead>\n",
       "  <tbody>\n",
       "    <tr>\n",
       "      <th>0</th>\n",
       "      <td>0.50</td>\n",
       "      <td>0.233333</td>\n",
       "      <td>0.500000</td>\n",
       "      <td>0.000000</td>\n",
       "      <td>0.233333</td>\n",
       "      <td>0.000000</td>\n",
       "      <td>5.166667</td>\n",
       "      <td>0.0</td>\n",
       "      <td>0.0</td>\n",
       "      <td>0.0</td>\n",
       "      <td>...</td>\n",
       "      <td>0.068182</td>\n",
       "      <td>0.045455</td>\n",
       "      <td>0.022727</td>\n",
       "      <td>0.0</td>\n",
       "      <td>0.00</td>\n",
       "      <td>0.0</td>\n",
       "      <td>0.022727</td>\n",
       "      <td>0.0</td>\n",
       "      <td>0.0</td>\n",
       "      <td>1</td>\n",
       "    </tr>\n",
       "    <tr>\n",
       "      <th>1</th>\n",
       "      <td>0.25</td>\n",
       "      <td>0.900000</td>\n",
       "      <td>0.250000</td>\n",
       "      <td>0.650000</td>\n",
       "      <td>0.250000</td>\n",
       "      <td>0.000000</td>\n",
       "      <td>5.750000</td>\n",
       "      <td>0.0</td>\n",
       "      <td>0.0</td>\n",
       "      <td>0.0</td>\n",
       "      <td>...</td>\n",
       "      <td>0.000000</td>\n",
       "      <td>0.160000</td>\n",
       "      <td>0.040000</td>\n",
       "      <td>0.0</td>\n",
       "      <td>0.04</td>\n",
       "      <td>0.0</td>\n",
       "      <td>0.000000</td>\n",
       "      <td>0.0</td>\n",
       "      <td>0.0</td>\n",
       "      <td>1</td>\n",
       "    </tr>\n",
       "    <tr>\n",
       "      <th>2</th>\n",
       "      <td>0.40</td>\n",
       "      <td>0.300000</td>\n",
       "      <td>0.555417</td>\n",
       "      <td>0.666667</td>\n",
       "      <td>-0.366667</td>\n",
       "      <td>-0.155417</td>\n",
       "      <td>6.545455</td>\n",
       "      <td>0.0</td>\n",
       "      <td>0.0</td>\n",
       "      <td>0.0</td>\n",
       "      <td>...</td>\n",
       "      <td>0.020000</td>\n",
       "      <td>0.060000</td>\n",
       "      <td>0.020000</td>\n",
       "      <td>0.1</td>\n",
       "      <td>0.04</td>\n",
       "      <td>0.0</td>\n",
       "      <td>0.000000</td>\n",
       "      <td>0.0</td>\n",
       "      <td>0.0</td>\n",
       "      <td>1</td>\n",
       "    </tr>\n",
       "  </tbody>\n",
       "</table>\n",
       "<p>3 rows × 79 columns</p>\n",
       "</div>"
      ],
      "text/plain": [
       "   title_polarity  title_subjectivity  desc_polarity  desc_subjectivity  \\\n",
       "0            0.50            0.233333       0.500000           0.000000   \n",
       "1            0.25            0.900000       0.250000           0.650000   \n",
       "2            0.40            0.300000       0.555417           0.666667   \n",
       "\n",
       "   subj_difference  polarity_difference  avg_word_len_title  CC_title  \\\n",
       "0         0.233333             0.000000            5.166667       0.0   \n",
       "1         0.250000             0.000000            5.750000       0.0   \n",
       "2        -0.366667            -0.155417            6.545455       0.0   \n",
       "\n",
       "   CD_title  DT_title    ...      VBD_desc  VBG_desc  VBN_desc  VBP_desc  \\\n",
       "0       0.0       0.0    ...      0.068182  0.045455  0.022727       0.0   \n",
       "1       0.0       0.0    ...      0.000000  0.160000  0.040000       0.0   \n",
       "2       0.0       0.0    ...      0.020000  0.060000  0.020000       0.1   \n",
       "\n",
       "   VBZ_desc  WDT_desc   WP_desc  WP$_desc  WRB_desc  yes_right  \n",
       "0      0.00       0.0  0.022727       0.0       0.0          1  \n",
       "1      0.04       0.0  0.000000       0.0       0.0          1  \n",
       "2      0.04       0.0  0.000000       0.0       0.0          1  \n",
       "\n",
       "[3 rows x 79 columns]"
      ]
     },
     "execution_count": 463,
     "metadata": {},
     "output_type": "execute_result"
    }
   ],
   "source": [
    "# Concatenate all created features together with target\n",
    "df = pd.concat([text[['title_polarity', 'title_subjectivity', 'desc_polarity', 'desc_subjectivity', \n",
    "                      'subj_difference', 'polarity_difference', 'avg_word_len_title']], pos_tags, text.yes_right],\n",
    "               axis=1)\n",
    "df.head(3)"
   ]
  },
  {
   "cell_type": "code",
   "execution_count": 464,
   "metadata": {},
   "outputs": [
    {
     "data": {
      "text/html": [
       "<div>\n",
       "<style scoped>\n",
       "    .dataframe tbody tr th:only-of-type {\n",
       "        vertical-align: middle;\n",
       "    }\n",
       "\n",
       "    .dataframe tbody tr th {\n",
       "        vertical-align: top;\n",
       "    }\n",
       "\n",
       "    .dataframe thead th {\n",
       "        text-align: right;\n",
       "    }\n",
       "</style>\n",
       "<table border=\"1\" class=\"dataframe\">\n",
       "  <thead>\n",
       "    <tr style=\"text-align: right;\">\n",
       "      <th></th>\n",
       "      <th>count</th>\n",
       "      <th>mean</th>\n",
       "      <th>std</th>\n",
       "      <th>min</th>\n",
       "      <th>25%</th>\n",
       "      <th>50%</th>\n",
       "      <th>75%</th>\n",
       "      <th>max</th>\n",
       "    </tr>\n",
       "  </thead>\n",
       "  <tbody>\n",
       "    <tr>\n",
       "      <th>subj_difference</th>\n",
       "      <td>36854.0</td>\n",
       "      <td>-0.094585</td>\n",
       "      <td>0.383312</td>\n",
       "      <td>-1.0</td>\n",
       "      <td>-0.350000</td>\n",
       "      <td>-0.041667</td>\n",
       "      <td>0.065054</td>\n",
       "      <td>1.0</td>\n",
       "    </tr>\n",
       "    <tr>\n",
       "      <th>polarity_difference</th>\n",
       "      <td>36854.0</td>\n",
       "      <td>-0.015980</td>\n",
       "      <td>0.147941</td>\n",
       "      <td>-1.0</td>\n",
       "      <td>-0.083333</td>\n",
       "      <td>0.000000</td>\n",
       "      <td>0.038194</td>\n",
       "      <td>0.9</td>\n",
       "    </tr>\n",
       "  </tbody>\n",
       "</table>\n",
       "</div>"
      ],
      "text/plain": [
       "                       count      mean       std  min       25%       50%  \\\n",
       "subj_difference      36854.0 -0.094585  0.383312 -1.0 -0.350000 -0.041667   \n",
       "polarity_difference  36854.0 -0.015980  0.147941 -1.0 -0.083333  0.000000   \n",
       "\n",
       "                          75%  max  \n",
       "subj_difference      0.065054  1.0  \n",
       "polarity_difference  0.038194  0.9  "
      ]
     },
     "execution_count": 464,
     "metadata": {},
     "output_type": "execute_result"
    }
   ],
   "source": [
    "# I will want to scale these between 0 and 1 like all the other features\n",
    "df[['subj_difference','polarity_difference']].describe().T"
   ]
  },
  {
   "cell_type": "code",
   "execution_count": 465,
   "metadata": {},
   "outputs": [
    {
     "name": "stdout",
     "output_type": "stream",
     "text": [
      "subj_difference\n",
      "polarity_difference\n",
      "avg_word_len_title\n"
     ]
    }
   ],
   "source": [
    "def scaled_checker(df):\n",
    "    for col in df.columns:\n",
    "        if max(df[col]) > 1:\n",
    "            print(col)\n",
    "        if min(df[col]) < 0:\n",
    "            print(col)\n",
    "        else:\n",
    "            pass\n",
    "        \n",
    "scaled_checker(df)"
   ]
  },
  {
   "cell_type": "code",
   "execution_count": 466,
   "metadata": {},
   "outputs": [],
   "source": [
    "df['subj_difference'] = (df['subj_difference'] - min(df['subj_difference']))/(max(df['subj_difference'])-min(df['subj_difference']))\n",
    "df['polarity_difference'] = (df['polarity_difference'] - min(df['polarity_difference']))/(max(df['polarity_difference'])-min(df['polarity_difference']))\n",
    "df['avg_word_len_title'] = (df['avg_word_len_title'] - min(df['avg_word_len_title']))/(max(df['avg_word_len_title'])-min(df['avg_word_len_title']))\n"
   ]
  },
  {
   "cell_type": "code",
   "execution_count": 467,
   "metadata": {},
   "outputs": [],
   "source": [
    "scaled_checker(df) # numerical data is scaled"
   ]
  },
  {
   "cell_type": "code",
   "execution_count": 469,
   "metadata": {},
   "outputs": [],
   "source": [
    "# Save my mostly cleaned datasets\n",
    "text.to_csv('./datasets/text2.csv')\n",
    "df.to_csv('./datasets/df2.csv')"
   ]
  },
  {
   "cell_type": "markdown",
   "metadata": {},
   "source": [
    "<a id=\"explore-data\"></a>\n",
    "# Explore Data\n",
    "[Return to Index](#contents)\n",
    "\n",
    "Exploring the sentiment analysis features, there is not much significant to note. Correlations between features and the target are extremely weak. All distributions had the same shape, with all of polarity having a normal distribution and all description distributions being skewed right. In other words, most text was neutral in terms of polarity and most text was more objective than subjective. One difference is that there was more subjective language in the descriptions than in the titles. "
   ]
  },
  {
   "cell_type": "code",
   "execution_count": 175,
   "metadata": {},
   "outputs": [
    {
     "data": {
      "image/png": "[encoded data removed]",
      "text/plain": [
       "<Figure size 1080x576 with 2 Axes>"
      ]
     },
     "metadata": {},
     "output_type": "display_data"
    }
   ],
   "source": [
    "num_corrs = df[['title_polarity','title_subjectivity','desc_polarity','desc_subjectivity',\n",
    "                'subj_difference','polarity_difference', 'avg_word_len_title','yes_right']].corr()\n",
    "mask = np.zeros_like(num_corrs, dtype=np.bool)\n",
    "mask[np.triu_indices_from(mask)] = True\n",
    "plt.figure(figsize=(15,8))\n",
    "plt.title('Correlations Between Sentiment Analysis Features and Target', fontsize=20)\n",
    "sns.heatmap(num_corrs, linewidths=0.5, mask=mask, annot=True);\n",
    "# Very insignificant "
   ]
  },
  {
   "cell_type": "code",
   "execution_count": 180,
   "metadata": {},
   "outputs": [],
   "source": [
    "# Looking at features based on target\n",
    "rightwing = df[df.yes_right==1]\n",
    "notrightwing = df[df.yes_right==0]"
   ]
  },
  {
   "cell_type": "code",
   "execution_count": 182,
   "metadata": {},
   "outputs": [
    {
     "data": {
      "image/png": "[encoded data removed]",
      "text/plain": [
       "<Figure size 864x576 with 4 Axes>"
      ]
     },
     "metadata": {},
     "output_type": "display_data"
    }
   ],
   "source": [
    "figure, ax = plt.subplots(nrows=2, ncols=2, figsize=(12, 8))\n",
    "\n",
    "rightwing.title_polarity.plot(kind='hist', ax=ax[0,1], title='Title Polarity: Right')\n",
    "notrightwing.title_polarity.plot(kind='hist', ax=ax[0,0], title='Title Polarity: Not Right')\n",
    "notrightwing.desc_polarity.plot(kind='hist', ax=ax[1,0], title='Description Polarity: Not Right')\n",
    "rightwing.desc_polarity.plot(kind='hist', ax=ax[1,1], title='Description Polarity: Right');"
   ]
  },
  {
   "cell_type": "code",
   "execution_count": 188,
   "metadata": {},
   "outputs": [
    {
     "data": {
      "image/png": "[encoded data removed]",
      "text/plain": [
       "<Figure size 864x576 with 4 Axes>"
      ]
     },
     "metadata": {},
     "output_type": "display_data"
    }
   ],
   "source": [
    "figure, ax = plt.subplots(nrows=2, ncols=2, figsize=(12, 8))\n",
    "\n",
    "rightwing.title_subjectivity.plot(kind='hist', ax=ax[0,1], title='Title Subjectivity: Right')\n",
    "notrightwing.title_subjectivity.plot(kind='hist', ax=ax[0,0], title='Title Subjectivity: Not Right')\n",
    "notrightwing.desc_subjectivity.plot(kind='hist', ax=ax[1,0], title='Description Subjectivity: Not Right')\n",
    "rightwing.desc_subjectivity.plot(kind='hist', ax=ax[1,1], title='Description Subjectivity: Right');"
   ]
  },
  {
   "cell_type": "code",
   "execution_count": 185,
   "metadata": {},
   "outputs": [
    {
     "data": {
      "text/html": [
       "<div>\n",
       "<style scoped>\n",
       "    .dataframe tbody tr th:only-of-type {\n",
       "        vertical-align: middle;\n",
       "    }\n",
       "\n",
       "    .dataframe tbody tr th {\n",
       "        vertical-align: top;\n",
       "    }\n",
       "\n",
       "    .dataframe thead th {\n",
       "        text-align: right;\n",
       "    }\n",
       "</style>\n",
       "<table border=\"1\" class=\"dataframe\">\n",
       "  <thead>\n",
       "    <tr style=\"text-align: right;\">\n",
       "      <th></th>\n",
       "      <th>count</th>\n",
       "      <th>mean</th>\n",
       "      <th>std</th>\n",
       "      <th>min</th>\n",
       "      <th>25%</th>\n",
       "      <th>50%</th>\n",
       "      <th>75%</th>\n",
       "      <th>max</th>\n",
       "    </tr>\n",
       "  </thead>\n",
       "  <tbody>\n",
       "    <tr>\n",
       "      <th>title_polarity</th>\n",
       "      <td>17148.0</td>\n",
       "      <td>0.507856</td>\n",
       "      <td>0.113371</td>\n",
       "      <td>0.0</td>\n",
       "      <td>0.500000</td>\n",
       "      <td>0.500000</td>\n",
       "      <td>0.500000</td>\n",
       "      <td>1.000000</td>\n",
       "    </tr>\n",
       "    <tr>\n",
       "      <th>title_subjectivity</th>\n",
       "      <td>17148.0</td>\n",
       "      <td>0.201348</td>\n",
       "      <td>0.296501</td>\n",
       "      <td>0.0</td>\n",
       "      <td>0.000000</td>\n",
       "      <td>0.000000</td>\n",
       "      <td>0.400000</td>\n",
       "      <td>1.000000</td>\n",
       "    </tr>\n",
       "    <tr>\n",
       "      <th>desc_polarity</th>\n",
       "      <td>17148.0</td>\n",
       "      <td>0.524758</td>\n",
       "      <td>0.107297</td>\n",
       "      <td>0.0</td>\n",
       "      <td>0.500000</td>\n",
       "      <td>0.500000</td>\n",
       "      <td>0.568182</td>\n",
       "      <td>1.000000</td>\n",
       "    </tr>\n",
       "    <tr>\n",
       "      <th>desc_subjectivity</th>\n",
       "      <td>17148.0</td>\n",
       "      <td>0.312783</td>\n",
       "      <td>0.270642</td>\n",
       "      <td>0.0</td>\n",
       "      <td>0.000000</td>\n",
       "      <td>0.300000</td>\n",
       "      <td>0.500000</td>\n",
       "      <td>1.000000</td>\n",
       "    </tr>\n",
       "    <tr>\n",
       "      <th>subj_difference</th>\n",
       "      <td>17148.0</td>\n",
       "      <td>0.444283</td>\n",
       "      <td>0.180273</td>\n",
       "      <td>0.0</td>\n",
       "      <td>0.325000</td>\n",
       "      <td>0.478975</td>\n",
       "      <td>0.500000</td>\n",
       "      <td>1.000000</td>\n",
       "    </tr>\n",
       "    <tr>\n",
       "      <th>polarity_difference</th>\n",
       "      <td>17148.0</td>\n",
       "      <td>0.517420</td>\n",
       "      <td>0.070813</td>\n",
       "      <td>0.0</td>\n",
       "      <td>0.488722</td>\n",
       "      <td>0.526316</td>\n",
       "      <td>0.539474</td>\n",
       "      <td>1.000000</td>\n",
       "    </tr>\n",
       "    <tr>\n",
       "      <th>avg_word_len_title</th>\n",
       "      <td>17148.0</td>\n",
       "      <td>0.299787</td>\n",
       "      <td>0.065313</td>\n",
       "      <td>0.0</td>\n",
       "      <td>0.257143</td>\n",
       "      <td>0.294643</td>\n",
       "      <td>0.337662</td>\n",
       "      <td>0.714286</td>\n",
       "    </tr>\n",
       "  </tbody>\n",
       "</table>\n",
       "</div>"
      ],
      "text/plain": [
       "                       count      mean       std  min       25%       50%  \\\n",
       "title_polarity       17148.0  0.507856  0.113371  0.0  0.500000  0.500000   \n",
       "title_subjectivity   17148.0  0.201348  0.296501  0.0  0.000000  0.000000   \n",
       "desc_polarity        17148.0  0.524758  0.107297  0.0  0.500000  0.500000   \n",
       "desc_subjectivity    17148.0  0.312783  0.270642  0.0  0.000000  0.300000   \n",
       "subj_difference      17148.0  0.444283  0.180273  0.0  0.325000  0.478975   \n",
       "polarity_difference  17148.0  0.517420  0.070813  0.0  0.488722  0.526316   \n",
       "avg_word_len_title   17148.0  0.299787  0.065313  0.0  0.257143  0.294643   \n",
       "\n",
       "                          75%       max  \n",
       "title_polarity       0.500000  1.000000  \n",
       "title_subjectivity   0.400000  1.000000  \n",
       "desc_polarity        0.568182  1.000000  \n",
       "desc_subjectivity    0.500000  1.000000  \n",
       "subj_difference      0.500000  1.000000  \n",
       "polarity_difference  0.539474  1.000000  \n",
       "avg_word_len_title   0.337662  0.714286  "
      ]
     },
     "execution_count": 185,
     "metadata": {},
     "output_type": "execute_result"
    }
   ],
   "source": [
    "rightwing.describe().T.head(7)"
   ]
  },
  {
   "cell_type": "code",
   "execution_count": 187,
   "metadata": {},
   "outputs": [
    {
     "data": {
      "text/html": [
       "<div>\n",
       "<style scoped>\n",
       "    .dataframe tbody tr th:only-of-type {\n",
       "        vertical-align: middle;\n",
       "    }\n",
       "\n",
       "    .dataframe tbody tr th {\n",
       "        vertical-align: top;\n",
       "    }\n",
       "\n",
       "    .dataframe thead th {\n",
       "        text-align: right;\n",
       "    }\n",
       "</style>\n",
       "<table border=\"1\" class=\"dataframe\">\n",
       "  <thead>\n",
       "    <tr style=\"text-align: right;\">\n",
       "      <th></th>\n",
       "      <th>count</th>\n",
       "      <th>mean</th>\n",
       "      <th>std</th>\n",
       "      <th>min</th>\n",
       "      <th>25%</th>\n",
       "      <th>50%</th>\n",
       "      <th>75%</th>\n",
       "      <th>max</th>\n",
       "    </tr>\n",
       "  </thead>\n",
       "  <tbody>\n",
       "    <tr>\n",
       "      <th>title_polarity</th>\n",
       "      <td>19706.0</td>\n",
       "      <td>0.520245</td>\n",
       "      <td>0.124798</td>\n",
       "      <td>0.000000</td>\n",
       "      <td>0.500000</td>\n",
       "      <td>0.500000</td>\n",
       "      <td>0.550000</td>\n",
       "      <td>1.000000</td>\n",
       "    </tr>\n",
       "    <tr>\n",
       "      <th>title_subjectivity</th>\n",
       "      <td>19706.0</td>\n",
       "      <td>0.252814</td>\n",
       "      <td>0.315929</td>\n",
       "      <td>0.000000</td>\n",
       "      <td>0.000000</td>\n",
       "      <td>0.050000</td>\n",
       "      <td>0.487500</td>\n",
       "      <td>1.000000</td>\n",
       "    </tr>\n",
       "    <tr>\n",
       "      <th>desc_polarity</th>\n",
       "      <td>19706.0</td>\n",
       "      <td>0.535423</td>\n",
       "      <td>0.117463</td>\n",
       "      <td>0.000000</td>\n",
       "      <td>0.500000</td>\n",
       "      <td>0.500000</td>\n",
       "      <td>0.587500</td>\n",
       "      <td>1.000000</td>\n",
       "    </tr>\n",
       "    <tr>\n",
       "      <th>desc_subjectivity</th>\n",
       "      <td>19706.0</td>\n",
       "      <td>0.332736</td>\n",
       "      <td>0.284196</td>\n",
       "      <td>0.000000</td>\n",
       "      <td>0.000000</td>\n",
       "      <td>0.316369</td>\n",
       "      <td>0.500000</td>\n",
       "      <td>1.000000</td>\n",
       "    </tr>\n",
       "    <tr>\n",
       "      <th>subj_difference</th>\n",
       "      <td>19706.0</td>\n",
       "      <td>0.460039</td>\n",
       "      <td>0.200754</td>\n",
       "      <td>0.000000</td>\n",
       "      <td>0.325000</td>\n",
       "      <td>0.479167</td>\n",
       "      <td>0.555556</td>\n",
       "      <td>1.000000</td>\n",
       "    </tr>\n",
       "    <tr>\n",
       "      <th>polarity_difference</th>\n",
       "      <td>19706.0</td>\n",
       "      <td>0.518327</td>\n",
       "      <td>0.083516</td>\n",
       "      <td>0.052632</td>\n",
       "      <td>0.479825</td>\n",
       "      <td>0.526316</td>\n",
       "      <td>0.552632</td>\n",
       "      <td>0.960526</td>\n",
       "    </tr>\n",
       "    <tr>\n",
       "      <th>avg_word_len_title</th>\n",
       "      <td>19706.0</td>\n",
       "      <td>0.279079</td>\n",
       "      <td>0.062686</td>\n",
       "      <td>0.057143</td>\n",
       "      <td>0.238095</td>\n",
       "      <td>0.274725</td>\n",
       "      <td>0.317460</td>\n",
       "      <td>1.000000</td>\n",
       "    </tr>\n",
       "  </tbody>\n",
       "</table>\n",
       "</div>"
      ],
      "text/plain": [
       "                       count      mean       std       min       25%  \\\n",
       "title_polarity       19706.0  0.520245  0.124798  0.000000  0.500000   \n",
       "title_subjectivity   19706.0  0.252814  0.315929  0.000000  0.000000   \n",
       "desc_polarity        19706.0  0.535423  0.117463  0.000000  0.500000   \n",
       "desc_subjectivity    19706.0  0.332736  0.284196  0.000000  0.000000   \n",
       "subj_difference      19706.0  0.460039  0.200754  0.000000  0.325000   \n",
       "polarity_difference  19706.0  0.518327  0.083516  0.052632  0.479825   \n",
       "avg_word_len_title   19706.0  0.279079  0.062686  0.057143  0.238095   \n",
       "\n",
       "                          50%       75%       max  \n",
       "title_polarity       0.500000  0.550000  1.000000  \n",
       "title_subjectivity   0.050000  0.487500  1.000000  \n",
       "desc_polarity        0.500000  0.587500  1.000000  \n",
       "desc_subjectivity    0.316369  0.500000  1.000000  \n",
       "subj_difference      0.479167  0.555556  1.000000  \n",
       "polarity_difference  0.526316  0.552632  0.960526  \n",
       "avg_word_len_title   0.274725  0.317460  1.000000  "
      ]
     },
     "execution_count": 187,
     "metadata": {},
     "output_type": "execute_result"
    }
   ],
   "source": [
    "notrightwing.describe().T.head(7)"
   ]
  },
  {
   "cell_type": "markdown",
   "metadata": {},
   "source": [
    "### Exploring Word Counts\n",
    "\n",
    "In the following several sections, I used Count Vectorizer to find the highest count single-grams, bi-grams, tri-grams, and quad-grams in the titles and descriptions, sorted by both target classes. After initially looking at the counts and seeing a lot of source information and noise, I created a custom preprocessor that removes stop grams of noise and source information as well as lemmatize the text. I also created a custom group of stop words that contain source information and appended it to SciKitLearn’s list of English stop words, which I used in all of my Count Vectorizer and TfIdf models. The initial words counts demonstrated that there is much noise in the data, and TfIdf might be the best choice for a vectorizer as it will penalize terms that appear very frequently across documents. However, if some of these terms only appear frequently in one target class, I decided to remove them manually if they are somehow source giveaways or noise.  \n",
    "\n",
    "There were a couple interesting interpretations, especially as the n-grams increased, but the most common n-grams in the documents were mostly similar between left and right until the tri-gram level, when noticeable differences began to form. "
   ]
  },
  {
   "cell_type": "markdown",
   "metadata": {},
   "source": [
    "**Set Up Vectorizer**"
   ]
  },
  {
   "cell_type": "code",
   "execution_count": 59,
   "metadata": {},
   "outputs": [],
   "source": [
    "lemmatizer = WordNetLemmatizer()\n",
    "\n",
    "def my_preprocessor(doc):\n",
    "    stop_grams = ['national review','National Review','Fox News','Content Uploads','content uploads','fox news',\n",
    "             'Associated Press','associated press','Fox amp Friends','Rachel Maddow','Morning Joe',\n",
    "              'morning joe', 'Breitbart News', 'fast facts', 'Fast Facts','Fox &', 'Fox & Friends', 'Ali Velshi',\n",
    "             'Stephanie Ruhle','Raw video', '& Friends', 'Ari Melber','amp Friends', 'Content uploads']\n",
    "    for stop in stop_grams:\n",
    "        doc = doc.replace(stop,'')\n",
    "    return lemmatizer.lemmatize(doc.lower())"
   ]
  },
  {
   "cell_type": "code",
   "execution_count": 60,
   "metadata": {},
   "outputs": [],
   "source": [
    "cust_stop_words = ['CNN', 'cnn', 'amp',\n",
    "                   'national review', 'huffpost','fox','reuters','ap', 'associated press', 'vice','breitbart',\n",
    "                   'nationalreview', 'www', 'content uploads', 'msnbc', 'infowars', 'foxnews','Vice','Breitbart',\n",
    "                  'National Review','Fox News','Reuters','Fast Facts','Infowars','Vice','Content Uploads','MSNBC',\n",
    "                   'www', 'AP','Huffpost','HuffPost','Fox amp Friends','Morning Joe', 'Maddow', 'FOX NEWS', '&'\n",
    "                  ]\n",
    "from sklearn.feature_extraction.text import ENGLISH_STOP_WORDS\n",
    "original_stopwords = list(ENGLISH_STOP_WORDS)\n",
    "cust_stop_words += original_stopwords"
   ]
  },
  {
   "cell_type": "markdown",
   "metadata": {},
   "source": [
    "### Single Grams for Title"
   ]
  },
  {
   "cell_type": "code",
   "execution_count": 27,
   "metadata": {},
   "outputs": [],
   "source": [
    "right = text['yes_right'] == 1\n",
    "notright = text['yes_right'] == 0"
   ]
  },
  {
   "cell_type": "code",
   "execution_count": 28,
   "metadata": {},
   "outputs": [],
   "source": [
    "# Separate title and description based on target class\n",
    "right_title = text[right].title\n",
    "right_desc = text[right].description\n",
    "notright_title = text[notright].title\n",
    "notright_desc = text[notright].description"
   ]
  },
  {
   "cell_type": "code",
   "execution_count": 31,
   "metadata": {},
   "outputs": [],
   "source": [
    "stem = PorterStemmer()\n",
    "lemmatizer = WordNetLemmatizer()\n",
    "cvec = CountVectorizer(preprocessor=my_preprocessor, \n",
    "                       ngram_range=(1,1), stop_words=cust_stop_words, min_df=10)"
   ]
  },
  {
   "cell_type": "code",
   "execution_count": 32,
   "metadata": {},
   "outputs": [],
   "source": [
    "cvec.fit(right_title)\n",
    "rt_counts = pd.DataFrame(cvec.transform(right_title).todense(),\n",
    "                       columns=cvec.get_feature_names())\n",
    "title_counts = rt_counts.sum(axis=0)\n",
    "title_counts = pd.DataFrame(title_counts.sort_values(ascending = False), columns=['right'])"
   ]
  },
  {
   "cell_type": "code",
   "execution_count": 33,
   "metadata": {},
   "outputs": [],
   "source": [
    "cvec = CountVectorizer(preprocessor=my_preprocessor, ngram_range=(1,1), stop_words=cust_stop_words, min_df=10)\n",
    "cvec.fit(notright_title)\n",
    "nrt_counts = pd.DataFrame(cvec.transform(notright_title).todense(),\n",
    "                         columns=cvec.get_feature_names())\n",
    "nrt_counts = nrt_counts.sum(axis=0)\n",
    "title_counts['not right'] = nrt_counts"
   ]
  },
  {
   "cell_type": "code",
   "execution_count": 34,
   "metadata": {},
   "outputs": [
    {
     "data": {
      "text/html": [
       "<div>\n",
       "<style scoped>\n",
       "    .dataframe tbody tr th:only-of-type {\n",
       "        vertical-align: middle;\n",
       "    }\n",
       "\n",
       "    .dataframe tbody tr th {\n",
       "        vertical-align: top;\n",
       "    }\n",
       "\n",
       "    .dataframe thead th {\n",
       "        text-align: right;\n",
       "    }\n",
       "</style>\n",
       "<table border=\"1\" class=\"dataframe\">\n",
       "  <thead>\n",
       "    <tr style=\"text-align: right;\">\n",
       "      <th></th>\n",
       "      <th>right</th>\n",
       "      <th>not right</th>\n",
       "    </tr>\n",
       "  </thead>\n",
       "  <tbody>\n",
       "    <tr>\n",
       "      <th>trump</th>\n",
       "      <td>2981</td>\n",
       "      <td>3872.0</td>\n",
       "    </tr>\n",
       "    <tr>\n",
       "      <th>report</th>\n",
       "      <td>569</td>\n",
       "      <td>270.0</td>\n",
       "    </tr>\n",
       "    <tr>\n",
       "      <th>north</th>\n",
       "      <td>523</td>\n",
       "      <td>414.0</td>\n",
       "    </tr>\n",
       "    <tr>\n",
       "      <th>korea</th>\n",
       "      <td>502</td>\n",
       "      <td>401.0</td>\n",
       "    </tr>\n",
       "    <tr>\n",
       "      <th>says</th>\n",
       "      <td>481</td>\n",
       "      <td>585.0</td>\n",
       "    </tr>\n",
       "    <tr>\n",
       "      <th>new</th>\n",
       "      <td>453</td>\n",
       "      <td>1043.0</td>\n",
       "    </tr>\n",
       "    <tr>\n",
       "      <th>border</th>\n",
       "      <td>419</td>\n",
       "      <td>222.0</td>\n",
       "    </tr>\n",
       "    <tr>\n",
       "      <th>house</th>\n",
       "      <td>419</td>\n",
       "      <td>471.0</td>\n",
       "    </tr>\n",
       "    <tr>\n",
       "      <th>kim</th>\n",
       "      <td>397</td>\n",
       "      <td>347.0</td>\n",
       "    </tr>\n",
       "    <tr>\n",
       "      <th>summit</th>\n",
       "      <td>390</td>\n",
       "      <td>282.0</td>\n",
       "    </tr>\n",
       "    <tr>\n",
       "      <th>president</th>\n",
       "      <td>386</td>\n",
       "      <td>297.0</td>\n",
       "    </tr>\n",
       "    <tr>\n",
       "      <th>day</th>\n",
       "      <td>375</td>\n",
       "      <td>231.0</td>\n",
       "    </tr>\n",
       "    <tr>\n",
       "      <th>police</th>\n",
       "      <td>366</td>\n",
       "      <td>144.0</td>\n",
       "    </tr>\n",
       "    <tr>\n",
       "      <th>immigration</th>\n",
       "      <td>340</td>\n",
       "      <td>208.0</td>\n",
       "    </tr>\n",
       "    <tr>\n",
       "      <th>donald</th>\n",
       "      <td>304</td>\n",
       "      <td>184.0</td>\n",
       "    </tr>\n",
       "  </tbody>\n",
       "</table>\n",
       "</div>"
      ],
      "text/plain": [
       "             right  not right\n",
       "trump         2981     3872.0\n",
       "report         569      270.0\n",
       "north          523      414.0\n",
       "korea          502      401.0\n",
       "says           481      585.0\n",
       "new            453     1043.0\n",
       "border         419      222.0\n",
       "house          419      471.0\n",
       "kim            397      347.0\n",
       "summit         390      282.0\n",
       "president      386      297.0\n",
       "day            375      231.0\n",
       "police         366      144.0\n",
       "immigration    340      208.0\n",
       "donald         304      184.0"
      ]
     },
     "execution_count": 34,
     "metadata": {},
     "output_type": "execute_result"
    }
   ],
   "source": [
    "# Noise\n",
    "title_counts.head(15)"
   ]
  },
  {
   "cell_type": "code",
   "execution_count": 35,
   "metadata": {},
   "outputs": [
    {
     "data": {
      "text/html": [
       "<div>\n",
       "<style scoped>\n",
       "    .dataframe tbody tr th:only-of-type {\n",
       "        vertical-align: middle;\n",
       "    }\n",
       "\n",
       "    .dataframe tbody tr th {\n",
       "        vertical-align: top;\n",
       "    }\n",
       "\n",
       "    .dataframe thead th {\n",
       "        text-align: right;\n",
       "    }\n",
       "</style>\n",
       "<table border=\"1\" class=\"dataframe\">\n",
       "  <thead>\n",
       "    <tr style=\"text-align: right;\">\n",
       "      <th></th>\n",
       "      <th>right</th>\n",
       "      <th>not right</th>\n",
       "    </tr>\n",
       "  </thead>\n",
       "  <tbody>\n",
       "    <tr>\n",
       "      <th>trump</th>\n",
       "      <td>2981</td>\n",
       "      <td>3872.0</td>\n",
       "    </tr>\n",
       "    <tr>\n",
       "      <th>new</th>\n",
       "      <td>453</td>\n",
       "      <td>1043.0</td>\n",
       "    </tr>\n",
       "    <tr>\n",
       "      <th>says</th>\n",
       "      <td>481</td>\n",
       "      <td>585.0</td>\n",
       "    </tr>\n",
       "    <tr>\n",
       "      <th>house</th>\n",
       "      <td>419</td>\n",
       "      <td>471.0</td>\n",
       "    </tr>\n",
       "    <tr>\n",
       "      <th>2018</th>\n",
       "      <td>220</td>\n",
       "      <td>430.0</td>\n",
       "    </tr>\n",
       "    <tr>\n",
       "      <th>north</th>\n",
       "      <td>523</td>\n",
       "      <td>414.0</td>\n",
       "    </tr>\n",
       "    <tr>\n",
       "      <th>korea</th>\n",
       "      <td>502</td>\n",
       "      <td>401.0</td>\n",
       "    </tr>\n",
       "    <tr>\n",
       "      <th>cohen</th>\n",
       "      <td>53</td>\n",
       "      <td>391.0</td>\n",
       "    </tr>\n",
       "    <tr>\n",
       "      <th>mueller</th>\n",
       "      <td>212</td>\n",
       "      <td>377.0</td>\n",
       "    </tr>\n",
       "    <tr>\n",
       "      <th>white</th>\n",
       "      <td>302</td>\n",
       "      <td>350.0</td>\n",
       "    </tr>\n",
       "    <tr>\n",
       "      <th>kim</th>\n",
       "      <td>397</td>\n",
       "      <td>347.0</td>\n",
       "    </tr>\n",
       "    <tr>\n",
       "      <th>18</th>\n",
       "      <td>81</td>\n",
       "      <td>339.0</td>\n",
       "    </tr>\n",
       "    <tr>\n",
       "      <th>world</th>\n",
       "      <td>207</td>\n",
       "      <td>338.0</td>\n",
       "    </tr>\n",
       "    <tr>\n",
       "      <th>like</th>\n",
       "      <td>98</td>\n",
       "      <td>333.0</td>\n",
       "    </tr>\n",
       "    <tr>\n",
       "      <th>gop</th>\n",
       "      <td>260</td>\n",
       "      <td>328.0</td>\n",
       "    </tr>\n",
       "  </tbody>\n",
       "</table>\n",
       "</div>"
      ],
      "text/plain": [
       "         right  not right\n",
       "trump     2981     3872.0\n",
       "new        453     1043.0\n",
       "says       481      585.0\n",
       "house      419      471.0\n",
       "2018       220      430.0\n",
       "north      523      414.0\n",
       "korea      502      401.0\n",
       "cohen       53      391.0\n",
       "mueller    212      377.0\n",
       "white      302      350.0\n",
       "kim        397      347.0\n",
       "18          81      339.0\n",
       "world      207      338.0\n",
       "like        98      333.0\n",
       "gop        260      328.0"
      ]
     },
     "execution_count": 35,
     "metadata": {},
     "output_type": "execute_result"
    }
   ],
   "source": [
    "title_counts.sort_values('not right', ascending=False).head(15)"
   ]
  },
  {
   "cell_type": "markdown",
   "metadata": {},
   "source": [
    "### Single Grams for Description"
   ]
  },
  {
   "cell_type": "code",
   "execution_count": 37,
   "metadata": {},
   "outputs": [],
   "source": [
    "cvec = CountVectorizer(preprocessor=my_preprocessor,\n",
    "                       ngram_range=(1,1), stop_words=cust_stop_words, min_df=10)\n",
    "cvec.fit(right_desc)\n",
    "rd_counts = pd.DataFrame(cvec.transform(right_desc).todense(),\n",
    "                         columns=cvec.get_feature_names())\n",
    "desc_counts = rd_counts.sum(axis=0)\n",
    "desc_counts = pd.DataFrame(desc_counts.sort_values(ascending = False), columns=['right'])"
   ]
  },
  {
   "cell_type": "code",
   "execution_count": 38,
   "metadata": {},
   "outputs": [],
   "source": [
    "cvec = CountVectorizer(preprocessor=my_preprocessor, ngram_range=(1,1),\n",
    "                       stop_words=cust_stop_words, min_df=10)\n",
    "cvec.fit(notright_desc)\n",
    "nrd_counts = pd.DataFrame(cvec.transform(notright_desc).todense(),\n",
    "                         columns=cvec.get_feature_names())\n",
    "nrd_counts = nrd_counts.sum(axis=0)\n",
    "desc_counts['not right'] = nrd_counts"
   ]
  },
  {
   "cell_type": "code",
   "execution_count": 39,
   "metadata": {},
   "outputs": [
    {
     "data": {
      "text/html": [
       "<div>\n",
       "<style scoped>\n",
       "    .dataframe tbody tr th:only-of-type {\n",
       "        vertical-align: middle;\n",
       "    }\n",
       "\n",
       "    .dataframe tbody tr th {\n",
       "        vertical-align: top;\n",
       "    }\n",
       "\n",
       "    .dataframe thead th {\n",
       "        text-align: right;\n",
       "    }\n",
       "</style>\n",
       "<table border=\"1\" class=\"dataframe\">\n",
       "  <thead>\n",
       "    <tr style=\"text-align: right;\">\n",
       "      <th></th>\n",
       "      <th>right</th>\n",
       "      <th>not right</th>\n",
       "    </tr>\n",
       "  </thead>\n",
       "  <tbody>\n",
       "    <tr>\n",
       "      <th>trump</th>\n",
       "      <td>3830</td>\n",
       "      <td>4756.0</td>\n",
       "    </tr>\n",
       "    <tr>\n",
       "      <th>president</th>\n",
       "      <td>3216</td>\n",
       "      <td>2799.0</td>\n",
       "    </tr>\n",
       "    <tr>\n",
       "      <th>new</th>\n",
       "      <td>1479</td>\n",
       "      <td>2052.0</td>\n",
       "    </tr>\n",
       "    <tr>\n",
       "      <th>house</th>\n",
       "      <td>1214</td>\n",
       "      <td>1039.0</td>\n",
       "    </tr>\n",
       "    <tr>\n",
       "      <th>said</th>\n",
       "      <td>1205</td>\n",
       "      <td>1093.0</td>\n",
       "    </tr>\n",
       "    <tr>\n",
       "      <th>donald</th>\n",
       "      <td>1111</td>\n",
       "      <td>1374.0</td>\n",
       "    </tr>\n",
       "    <tr>\n",
       "      <th>north</th>\n",
       "      <td>938</td>\n",
       "      <td>721.0</td>\n",
       "    </tr>\n",
       "    <tr>\n",
       "      <th>state</th>\n",
       "      <td>909</td>\n",
       "      <td>527.0</td>\n",
       "    </tr>\n",
       "    <tr>\n",
       "      <th>says</th>\n",
       "      <td>846</td>\n",
       "      <td>840.0</td>\n",
       "    </tr>\n",
       "    <tr>\n",
       "      <th>news</th>\n",
       "      <td>760</td>\n",
       "      <td>687.0</td>\n",
       "    </tr>\n",
       "    <tr>\n",
       "      <th>year</th>\n",
       "      <td>735</td>\n",
       "      <td>584.0</td>\n",
       "    </tr>\n",
       "    <tr>\n",
       "      <th>white</th>\n",
       "      <td>734</td>\n",
       "      <td>768.0</td>\n",
       "    </tr>\n",
       "    <tr>\n",
       "      <th>police</th>\n",
       "      <td>703</td>\n",
       "      <td>265.0</td>\n",
       "    </tr>\n",
       "    <tr>\n",
       "      <th>tuesday</th>\n",
       "      <td>682</td>\n",
       "      <td>416.0</td>\n",
       "    </tr>\n",
       "    <tr>\n",
       "      <th>people</th>\n",
       "      <td>632</td>\n",
       "      <td>831.0</td>\n",
       "    </tr>\n",
       "  </tbody>\n",
       "</table>\n",
       "</div>"
      ],
      "text/plain": [
       "           right  not right\n",
       "trump       3830     4756.0\n",
       "president   3216     2799.0\n",
       "new         1479     2052.0\n",
       "house       1214     1039.0\n",
       "said        1205     1093.0\n",
       "donald      1111     1374.0\n",
       "north        938      721.0\n",
       "state        909      527.0\n",
       "says         846      840.0\n",
       "news         760      687.0\n",
       "year         735      584.0\n",
       "white        734      768.0\n",
       "police       703      265.0\n",
       "tuesday      682      416.0\n",
       "people       632      831.0"
      ]
     },
     "execution_count": 39,
     "metadata": {},
     "output_type": "execute_result"
    }
   ],
   "source": [
    "desc_counts.head(15)"
   ]
  },
  {
   "cell_type": "code",
   "execution_count": 40,
   "metadata": {},
   "outputs": [
    {
     "data": {
      "text/html": [
       "<div>\n",
       "<style scoped>\n",
       "    .dataframe tbody tr th:only-of-type {\n",
       "        vertical-align: middle;\n",
       "    }\n",
       "\n",
       "    .dataframe tbody tr th {\n",
       "        vertical-align: top;\n",
       "    }\n",
       "\n",
       "    .dataframe thead th {\n",
       "        text-align: right;\n",
       "    }\n",
       "</style>\n",
       "<table border=\"1\" class=\"dataframe\">\n",
       "  <thead>\n",
       "    <tr style=\"text-align: right;\">\n",
       "      <th></th>\n",
       "      <th>right</th>\n",
       "      <th>not right</th>\n",
       "    </tr>\n",
       "  </thead>\n",
       "  <tbody>\n",
       "    <tr>\n",
       "      <th>trump</th>\n",
       "      <td>3830</td>\n",
       "      <td>4756.0</td>\n",
       "    </tr>\n",
       "    <tr>\n",
       "      <th>president</th>\n",
       "      <td>3216</td>\n",
       "      <td>2799.0</td>\n",
       "    </tr>\n",
       "    <tr>\n",
       "      <th>new</th>\n",
       "      <td>1479</td>\n",
       "      <td>2052.0</td>\n",
       "    </tr>\n",
       "    <tr>\n",
       "      <th>donald</th>\n",
       "      <td>1111</td>\n",
       "      <td>1374.0</td>\n",
       "    </tr>\n",
       "    <tr>\n",
       "      <th>said</th>\n",
       "      <td>1205</td>\n",
       "      <td>1093.0</td>\n",
       "    </tr>\n",
       "    <tr>\n",
       "      <th>house</th>\n",
       "      <td>1214</td>\n",
       "      <td>1039.0</td>\n",
       "    </tr>\n",
       "    <tr>\n",
       "      <th>says</th>\n",
       "      <td>846</td>\n",
       "      <td>840.0</td>\n",
       "    </tr>\n",
       "    <tr>\n",
       "      <th>people</th>\n",
       "      <td>632</td>\n",
       "      <td>831.0</td>\n",
       "    </tr>\n",
       "    <tr>\n",
       "      <th>discuss</th>\n",
       "      <td>275</td>\n",
       "      <td>777.0</td>\n",
       "    </tr>\n",
       "    <tr>\n",
       "      <th>white</th>\n",
       "      <td>734</td>\n",
       "      <td>768.0</td>\n",
       "    </tr>\n",
       "    <tr>\n",
       "      <th>north</th>\n",
       "      <td>938</td>\n",
       "      <td>721.0</td>\n",
       "    </tr>\n",
       "    <tr>\n",
       "      <th>michael</th>\n",
       "      <td>236</td>\n",
       "      <td>710.0</td>\n",
       "    </tr>\n",
       "    <tr>\n",
       "      <th>news</th>\n",
       "      <td>760</td>\n",
       "      <td>687.0</td>\n",
       "    </tr>\n",
       "    <tr>\n",
       "      <th>day</th>\n",
       "      <td>424</td>\n",
       "      <td>623.0</td>\n",
       "    </tr>\n",
       "    <tr>\n",
       "      <th>year</th>\n",
       "      <td>735</td>\n",
       "      <td>584.0</td>\n",
       "    </tr>\n",
       "  </tbody>\n",
       "</table>\n",
       "</div>"
      ],
      "text/plain": [
       "           right  not right\n",
       "trump       3830     4756.0\n",
       "president   3216     2799.0\n",
       "new         1479     2052.0\n",
       "donald      1111     1374.0\n",
       "said        1205     1093.0\n",
       "house       1214     1039.0\n",
       "says         846      840.0\n",
       "people       632      831.0\n",
       "discuss      275      777.0\n",
       "white        734      768.0\n",
       "north        938      721.0\n",
       "michael      236      710.0\n",
       "news         760      687.0\n",
       "day          424      623.0\n",
       "year         735      584.0"
      ]
     },
     "execution_count": 40,
     "metadata": {},
     "output_type": "execute_result"
    }
   ],
   "source": [
    "desc_counts.sort_values('not right', ascending=False).head(15)"
   ]
  },
  {
   "cell_type": "markdown",
   "metadata": {},
   "source": [
    "### BiGrams for Title"
   ]
  },
  {
   "cell_type": "code",
   "execution_count": 41,
   "metadata": {},
   "outputs": [],
   "source": [
    "cvec = CountVectorizer(preprocessor=my_preprocessor, ngram_range=(2,2),\n",
    "                       stop_words=cust_stop_words, min_df=10)\n",
    "cvec.fit(right_title)\n",
    "rt_counts2 = pd.DataFrame(cvec.transform(right_title).todense(),\n",
    "                         columns=cvec.get_feature_names())\n",
    "title_counts2 = rt_counts2.sum(axis=0)\n",
    "title_counts2 = pd.DataFrame(title_counts2.sort_values(ascending = False), columns=['right'])"
   ]
  },
  {
   "cell_type": "code",
   "execution_count": 42,
   "metadata": {},
   "outputs": [],
   "source": [
    "cvec = CountVectorizer(preprocessor=my_preprocessor, ngram_range=(2,2),\n",
    "                       stop_words=cust_stop_words, min_df=10)\n",
    "cvec.fit(notright_title)\n",
    "nrt_counts2 = pd.DataFrame(cvec.transform(notright_desc).todense(),\n",
    "                         columns=cvec.get_feature_names())\n",
    "nrt_counts2 = nrt_counts2.sum(axis=0)\n",
    "title_counts2['not right'] = nrt_counts2"
   ]
  },
  {
   "cell_type": "code",
   "execution_count": 43,
   "metadata": {},
   "outputs": [
    {
     "data": {
      "text/html": [
       "<div>\n",
       "<style scoped>\n",
       "    .dataframe tbody tr th:only-of-type {\n",
       "        vertical-align: middle;\n",
       "    }\n",
       "\n",
       "    .dataframe tbody tr th {\n",
       "        vertical-align: top;\n",
       "    }\n",
       "\n",
       "    .dataframe thead th {\n",
       "        text-align: right;\n",
       "    }\n",
       "</style>\n",
       "<table border=\"1\" class=\"dataframe\">\n",
       "  <thead>\n",
       "    <tr style=\"text-align: right;\">\n",
       "      <th></th>\n",
       "      <th>right</th>\n",
       "      <th>not right</th>\n",
       "    </tr>\n",
       "  </thead>\n",
       "  <tbody>\n",
       "    <tr>\n",
       "      <th>north korea</th>\n",
       "      <td>417</td>\n",
       "      <td>386.0</td>\n",
       "    </tr>\n",
       "    <tr>\n",
       "      <th>donald trump</th>\n",
       "      <td>303</td>\n",
       "      <td>1352.0</td>\n",
       "    </tr>\n",
       "    <tr>\n",
       "      <th>white house</th>\n",
       "      <td>230</td>\n",
       "      <td>640.0</td>\n",
       "    </tr>\n",
       "    <tr>\n",
       "      <th>kim jong</th>\n",
       "      <td>182</td>\n",
       "      <td>414.0</td>\n",
       "    </tr>\n",
       "    <tr>\n",
       "      <th>president trump</th>\n",
       "      <td>181</td>\n",
       "      <td>904.0</td>\n",
       "    </tr>\n",
       "    <tr>\n",
       "      <th>ig report</th>\n",
       "      <td>141</td>\n",
       "      <td>7.0</td>\n",
       "    </tr>\n",
       "    <tr>\n",
       "      <th>supreme court</th>\n",
       "      <td>129</td>\n",
       "      <td>94.0</td>\n",
       "    </tr>\n",
       "    <tr>\n",
       "      <th>trump kim</th>\n",
       "      <td>121</td>\n",
       "      <td>61.0</td>\n",
       "    </tr>\n",
       "    <tr>\n",
       "      <th>day liberal</th>\n",
       "      <td>104</td>\n",
       "      <td>NaN</td>\n",
       "    </tr>\n",
       "    <tr>\n",
       "      <th>liberal judicial</th>\n",
       "      <td>104</td>\n",
       "      <td>NaN</td>\n",
       "    </tr>\n",
       "    <tr>\n",
       "      <th>judicial activism</th>\n",
       "      <td>104</td>\n",
       "      <td>NaN</td>\n",
       "    </tr>\n",
       "    <tr>\n",
       "      <th>new york</th>\n",
       "      <td>100</td>\n",
       "      <td>420.0</td>\n",
       "    </tr>\n",
       "    <tr>\n",
       "      <th>year old</th>\n",
       "      <td>91</td>\n",
       "      <td>201.0</td>\n",
       "    </tr>\n",
       "    <tr>\n",
       "      <th>kim summit</th>\n",
       "      <td>82</td>\n",
       "      <td>8.0</td>\n",
       "    </tr>\n",
       "    <tr>\n",
       "      <th>cartoons day</th>\n",
       "      <td>80</td>\n",
       "      <td>NaN</td>\n",
       "    </tr>\n",
       "  </tbody>\n",
       "</table>\n",
       "</div>"
      ],
      "text/plain": [
       "                   right  not right\n",
       "north korea          417      386.0\n",
       "donald trump         303     1352.0\n",
       "white house          230      640.0\n",
       "kim jong             182      414.0\n",
       "president trump      181      904.0\n",
       "ig report            141        7.0\n",
       "supreme court        129       94.0\n",
       "trump kim            121       61.0\n",
       "day liberal          104        NaN\n",
       "liberal judicial     104        NaN\n",
       "judicial activism    104        NaN\n",
       "new york             100      420.0\n",
       "year old              91      201.0\n",
       "kim summit            82        8.0\n",
       "cartoons day          80        NaN"
      ]
     },
     "execution_count": 43,
     "metadata": {},
     "output_type": "execute_result"
    }
   ],
   "source": [
    "title_counts2.head(15)"
   ]
  },
  {
   "cell_type": "code",
   "execution_count": 44,
   "metadata": {},
   "outputs": [
    {
     "data": {
      "text/html": [
       "<div>\n",
       "<style scoped>\n",
       "    .dataframe tbody tr th:only-of-type {\n",
       "        vertical-align: middle;\n",
       "    }\n",
       "\n",
       "    .dataframe tbody tr th {\n",
       "        vertical-align: top;\n",
       "    }\n",
       "\n",
       "    .dataframe thead th {\n",
       "        text-align: right;\n",
       "    }\n",
       "</style>\n",
       "<table border=\"1\" class=\"dataframe\">\n",
       "  <thead>\n",
       "    <tr style=\"text-align: right;\">\n",
       "      <th></th>\n",
       "      <th>right</th>\n",
       "      <th>not right</th>\n",
       "    </tr>\n",
       "  </thead>\n",
       "  <tbody>\n",
       "    <tr>\n",
       "      <th>donald trump</th>\n",
       "      <td>303</td>\n",
       "      <td>1352.0</td>\n",
       "    </tr>\n",
       "    <tr>\n",
       "      <th>president trump</th>\n",
       "      <td>181</td>\n",
       "      <td>904.0</td>\n",
       "    </tr>\n",
       "    <tr>\n",
       "      <th>white house</th>\n",
       "      <td>230</td>\n",
       "      <td>640.0</td>\n",
       "    </tr>\n",
       "    <tr>\n",
       "      <th>new york</th>\n",
       "      <td>100</td>\n",
       "      <td>420.0</td>\n",
       "    </tr>\n",
       "    <tr>\n",
       "      <th>kim jong</th>\n",
       "      <td>182</td>\n",
       "      <td>414.0</td>\n",
       "    </tr>\n",
       "    <tr>\n",
       "      <th>michael cohen</th>\n",
       "      <td>25</td>\n",
       "      <td>405.0</td>\n",
       "    </tr>\n",
       "    <tr>\n",
       "      <th>trump administration</th>\n",
       "      <td>71</td>\n",
       "      <td>401.0</td>\n",
       "    </tr>\n",
       "    <tr>\n",
       "      <th>north korea</th>\n",
       "      <td>417</td>\n",
       "      <td>386.0</td>\n",
       "    </tr>\n",
       "    <tr>\n",
       "      <th>north korean</th>\n",
       "      <td>53</td>\n",
       "      <td>254.0</td>\n",
       "    </tr>\n",
       "    <tr>\n",
       "      <th>special counsel</th>\n",
       "      <td>28</td>\n",
       "      <td>236.0</td>\n",
       "    </tr>\n",
       "    <tr>\n",
       "      <th>robert mueller</th>\n",
       "      <td>16</td>\n",
       "      <td>233.0</td>\n",
       "    </tr>\n",
       "    <tr>\n",
       "      <th>rudy giuliani</th>\n",
       "      <td>13</td>\n",
       "      <td>224.0</td>\n",
       "    </tr>\n",
       "    <tr>\n",
       "      <th>united states</th>\n",
       "      <td>24</td>\n",
       "      <td>223.0</td>\n",
       "    </tr>\n",
       "    <tr>\n",
       "      <th>stormy daniels</th>\n",
       "      <td>46</td>\n",
       "      <td>213.0</td>\n",
       "    </tr>\n",
       "    <tr>\n",
       "      <th>year old</th>\n",
       "      <td>91</td>\n",
       "      <td>201.0</td>\n",
       "    </tr>\n",
       "  </tbody>\n",
       "</table>\n",
       "</div>"
      ],
      "text/plain": [
       "                      right  not right\n",
       "donald trump            303     1352.0\n",
       "president trump         181      904.0\n",
       "white house             230      640.0\n",
       "new york                100      420.0\n",
       "kim jong                182      414.0\n",
       "michael cohen            25      405.0\n",
       "trump administration     71      401.0\n",
       "north korea             417      386.0\n",
       "north korean             53      254.0\n",
       "special counsel          28      236.0\n",
       "robert mueller           16      233.0\n",
       "rudy giuliani            13      224.0\n",
       "united states            24      223.0\n",
       "stormy daniels           46      213.0\n",
       "year old                 91      201.0"
      ]
     },
     "execution_count": 44,
     "metadata": {},
     "output_type": "execute_result"
    }
   ],
   "source": [
    "title_counts2.sort_values('not right', ascending=False).head(15)"
   ]
  },
  {
   "cell_type": "markdown",
   "metadata": {},
   "source": [
    "### BiGrams for Description"
   ]
  },
  {
   "cell_type": "code",
   "execution_count": 45,
   "metadata": {},
   "outputs": [],
   "source": [
    "cvec = CountVectorizer(preprocessor=my_preprocessor, ngram_range=(2,2),\n",
    "                       stop_words=cust_stop_words, min_df=10)\n",
    "cvec.fit(right_desc)\n",
    "rd_counts2 = pd.DataFrame(cvec.transform(right_desc).todense(),\n",
    "                         columns=cvec.get_feature_names())\n",
    "desc_counts2 = rd_counts2.sum(axis=0)\n",
    "desc_counts2 = pd.DataFrame(desc_counts2.sort_values(ascending = False), columns=['right'])"
   ]
  },
  {
   "cell_type": "code",
   "execution_count": 46,
   "metadata": {},
   "outputs": [],
   "source": [
    "cvec = CountVectorizer(preprocessor=my_preprocessor, ngram_range=(2,2),\n",
    "                       stop_words=cust_stop_words, min_df=10)\n",
    "cvec.fit(notright_desc)\n",
    "nrd_counts2 = pd.DataFrame(cvec.transform(notright_desc).todense(),\n",
    "                         columns=cvec.get_feature_names())\n",
    "nrd_counts2 = nrd_counts2.sum(axis=0)\n",
    "desc_counts2['not right'] = nrd_counts2"
   ]
  },
  {
   "cell_type": "code",
   "execution_count": 47,
   "metadata": {},
   "outputs": [
    {
     "data": {
      "text/html": [
       "<div>\n",
       "<style scoped>\n",
       "    .dataframe tbody tr th:only-of-type {\n",
       "        vertical-align: middle;\n",
       "    }\n",
       "\n",
       "    .dataframe tbody tr th {\n",
       "        vertical-align: top;\n",
       "    }\n",
       "\n",
       "    .dataframe thead th {\n",
       "        text-align: right;\n",
       "    }\n",
       "</style>\n",
       "<table border=\"1\" class=\"dataframe\">\n",
       "  <thead>\n",
       "    <tr style=\"text-align: right;\">\n",
       "      <th></th>\n",
       "      <th>right</th>\n",
       "      <th>not right</th>\n",
       "    </tr>\n",
       "  </thead>\n",
       "  <tbody>\n",
       "    <tr>\n",
       "      <th>president trump</th>\n",
       "      <td>1187</td>\n",
       "      <td>904.0</td>\n",
       "    </tr>\n",
       "    <tr>\n",
       "      <th>donald trump</th>\n",
       "      <td>1088</td>\n",
       "      <td>1352.0</td>\n",
       "    </tr>\n",
       "    <tr>\n",
       "      <th>president donald</th>\n",
       "      <td>932</td>\n",
       "      <td>673.0</td>\n",
       "    </tr>\n",
       "    <tr>\n",
       "      <th>white house</th>\n",
       "      <td>621</td>\n",
       "      <td>640.0</td>\n",
       "    </tr>\n",
       "    <tr>\n",
       "      <th>new york</th>\n",
       "      <td>481</td>\n",
       "      <td>420.0</td>\n",
       "    </tr>\n",
       "    <tr>\n",
       "      <th>kim jong</th>\n",
       "      <td>474</td>\n",
       "      <td>414.0</td>\n",
       "    </tr>\n",
       "    <tr>\n",
       "      <th>north korea</th>\n",
       "      <td>473</td>\n",
       "      <td>386.0</td>\n",
       "    </tr>\n",
       "    <tr>\n",
       "      <th>year old</th>\n",
       "      <td>339</td>\n",
       "      <td>201.0</td>\n",
       "    </tr>\n",
       "    <tr>\n",
       "      <th>united states</th>\n",
       "      <td>314</td>\n",
       "      <td>223.0</td>\n",
       "    </tr>\n",
       "    <tr>\n",
       "      <th>north korean</th>\n",
       "      <td>313</td>\n",
       "      <td>254.0</td>\n",
       "    </tr>\n",
       "    <tr>\n",
       "      <th>trump administration</th>\n",
       "      <td>257</td>\n",
       "      <td>401.0</td>\n",
       "    </tr>\n",
       "    <tr>\n",
       "      <th>com com</th>\n",
       "      <td>238</td>\n",
       "      <td>NaN</td>\n",
       "    </tr>\n",
       "    <tr>\n",
       "      <th>wp com</th>\n",
       "      <td>238</td>\n",
       "      <td>NaN</td>\n",
       "    </tr>\n",
       "    <tr>\n",
       "      <th>com wp</th>\n",
       "      <td>238</td>\n",
       "      <td>NaN</td>\n",
       "    </tr>\n",
       "    <tr>\n",
       "      <th>content uploads</th>\n",
       "      <td>238</td>\n",
       "      <td>NaN</td>\n",
       "    </tr>\n",
       "  </tbody>\n",
       "</table>\n",
       "</div>"
      ],
      "text/plain": [
       "                      right  not right\n",
       "president trump        1187      904.0\n",
       "donald trump           1088     1352.0\n",
       "president donald        932      673.0\n",
       "white house             621      640.0\n",
       "new york                481      420.0\n",
       "kim jong                474      414.0\n",
       "north korea             473      386.0\n",
       "year old                339      201.0\n",
       "united states           314      223.0\n",
       "north korean            313      254.0\n",
       "trump administration    257      401.0\n",
       "com com                 238        NaN\n",
       "wp com                  238        NaN\n",
       "com wp                  238        NaN\n",
       "content uploads         238        NaN"
      ]
     },
     "execution_count": 47,
     "metadata": {},
     "output_type": "execute_result"
    }
   ],
   "source": [
    "desc_counts2.head(15)\n",
    "# Still some noise in here"
   ]
  },
  {
   "cell_type": "code",
   "execution_count": 49,
   "metadata": {},
   "outputs": [
    {
     "data": {
      "text/html": [
       "<div>\n",
       "<style scoped>\n",
       "    .dataframe tbody tr th:only-of-type {\n",
       "        vertical-align: middle;\n",
       "    }\n",
       "\n",
       "    .dataframe tbody tr th {\n",
       "        vertical-align: top;\n",
       "    }\n",
       "\n",
       "    .dataframe thead th {\n",
       "        text-align: right;\n",
       "    }\n",
       "</style>\n",
       "<table border=\"1\" class=\"dataframe\">\n",
       "  <thead>\n",
       "    <tr style=\"text-align: right;\">\n",
       "      <th></th>\n",
       "      <th>right</th>\n",
       "      <th>not right</th>\n",
       "    </tr>\n",
       "  </thead>\n",
       "  <tbody>\n",
       "    <tr>\n",
       "      <th>donald trump</th>\n",
       "      <td>1088</td>\n",
       "      <td>1352.0</td>\n",
       "    </tr>\n",
       "    <tr>\n",
       "      <th>president trump</th>\n",
       "      <td>1187</td>\n",
       "      <td>904.0</td>\n",
       "    </tr>\n",
       "    <tr>\n",
       "      <th>president donald</th>\n",
       "      <td>932</td>\n",
       "      <td>673.0</td>\n",
       "    </tr>\n",
       "    <tr>\n",
       "      <th>white house</th>\n",
       "      <td>621</td>\n",
       "      <td>640.0</td>\n",
       "    </tr>\n",
       "    <tr>\n",
       "      <th>new york</th>\n",
       "      <td>481</td>\n",
       "      <td>420.0</td>\n",
       "    </tr>\n",
       "    <tr>\n",
       "      <th>kim jong</th>\n",
       "      <td>474</td>\n",
       "      <td>414.0</td>\n",
       "    </tr>\n",
       "    <tr>\n",
       "      <th>michael cohen</th>\n",
       "      <td>45</td>\n",
       "      <td>405.0</td>\n",
       "    </tr>\n",
       "    <tr>\n",
       "      <th>trump administration</th>\n",
       "      <td>257</td>\n",
       "      <td>401.0</td>\n",
       "    </tr>\n",
       "    <tr>\n",
       "      <th>north korea</th>\n",
       "      <td>473</td>\n",
       "      <td>386.0</td>\n",
       "    </tr>\n",
       "    <tr>\n",
       "      <th>north korean</th>\n",
       "      <td>313</td>\n",
       "      <td>254.0</td>\n",
       "    </tr>\n",
       "    <tr>\n",
       "      <th>special counsel</th>\n",
       "      <td>169</td>\n",
       "      <td>236.0</td>\n",
       "    </tr>\n",
       "    <tr>\n",
       "      <th>robert mueller</th>\n",
       "      <td>136</td>\n",
       "      <td>233.0</td>\n",
       "    </tr>\n",
       "    <tr>\n",
       "      <th>rudy giuliani</th>\n",
       "      <td>65</td>\n",
       "      <td>224.0</td>\n",
       "    </tr>\n",
       "    <tr>\n",
       "      <th>united states</th>\n",
       "      <td>314</td>\n",
       "      <td>223.0</td>\n",
       "    </tr>\n",
       "    <tr>\n",
       "      <th>stormy daniels</th>\n",
       "      <td>50</td>\n",
       "      <td>213.0</td>\n",
       "    </tr>\n",
       "  </tbody>\n",
       "</table>\n",
       "</div>"
      ],
      "text/plain": [
       "                      right  not right\n",
       "donald trump           1088     1352.0\n",
       "president trump        1187      904.0\n",
       "president donald        932      673.0\n",
       "white house             621      640.0\n",
       "new york                481      420.0\n",
       "kim jong                474      414.0\n",
       "michael cohen            45      405.0\n",
       "trump administration    257      401.0\n",
       "north korea             473      386.0\n",
       "north korean            313      254.0\n",
       "special counsel         169      236.0\n",
       "robert mueller          136      233.0\n",
       "rudy giuliani            65      224.0\n",
       "united states           314      223.0\n",
       "stormy daniels           50      213.0"
      ]
     },
     "execution_count": 49,
     "metadata": {},
     "output_type": "execute_result"
    }
   ],
   "source": [
    "desc_counts2.sort_values('not right',ascending=False).head(15)"
   ]
  },
  {
   "cell_type": "markdown",
   "metadata": {},
   "source": [
    "### TriGrams for Title"
   ]
  },
  {
   "cell_type": "code",
   "execution_count": 50,
   "metadata": {},
   "outputs": [],
   "source": [
    "cvec = CountVectorizer(preprocessor=my_preprocessor, ngram_range=(3,3),\n",
    "                       stop_words=cust_stop_words, min_df=5)\n",
    "cvec.fit(right_title)\n",
    "rt_counts3 = pd.DataFrame(cvec.transform(right_title).todense(),\n",
    "                         columns=cvec.get_feature_names())\n",
    "title_counts3 = rt_counts3.sum(axis=0)\n",
    "title_counts3 = pd.DataFrame(title_counts3.sort_values(ascending = False), columns=['right'])"
   ]
  },
  {
   "cell_type": "code",
   "execution_count": 51,
   "metadata": {},
   "outputs": [],
   "source": [
    "cvec = CountVectorizer(preprocessor=my_preprocessor, ngram_range=(3,3),\n",
    "                       stop_words=cust_stop_words, min_df=5)\n",
    "cvec.fit(notright_title)\n",
    "nrt_counts3 = pd.DataFrame(cvec.transform(notright_desc).todense(),\n",
    "                         columns=cvec.get_feature_names())\n",
    "nrt_counts3 = nrt_counts3.sum(axis=0)\n",
    "title_counts3['not right'] = nrt_counts3"
   ]
  },
  {
   "cell_type": "code",
   "execution_count": 53,
   "metadata": {},
   "outputs": [
    {
     "data": {
      "text/html": [
       "<div>\n",
       "<style scoped>\n",
       "    .dataframe tbody tr th:only-of-type {\n",
       "        vertical-align: middle;\n",
       "    }\n",
       "\n",
       "    .dataframe tbody tr th {\n",
       "        vertical-align: top;\n",
       "    }\n",
       "\n",
       "    .dataframe thead th {\n",
       "        text-align: right;\n",
       "    }\n",
       "</style>\n",
       "<table border=\"1\" class=\"dataframe\">\n",
       "  <thead>\n",
       "    <tr style=\"text-align: right;\">\n",
       "      <th></th>\n",
       "      <th>right</th>\n",
       "      <th>not right</th>\n",
       "    </tr>\n",
       "  </thead>\n",
       "  <tbody>\n",
       "    <tr>\n",
       "      <th>liberal judicial activism</th>\n",
       "      <td>104</td>\n",
       "      <td>NaN</td>\n",
       "    </tr>\n",
       "    <tr>\n",
       "      <th>day liberal judicial</th>\n",
       "      <td>104</td>\n",
       "      <td>NaN</td>\n",
       "    </tr>\n",
       "    <tr>\n",
       "      <th>north korea summit</th>\n",
       "      <td>75</td>\n",
       "      <td>38.0</td>\n",
       "    </tr>\n",
       "    <tr>\n",
       "      <th>trump kim summit</th>\n",
       "      <td>66</td>\n",
       "      <td>8.0</td>\n",
       "    </tr>\n",
       "    <tr>\n",
       "      <th>new york times</th>\n",
       "      <td>27</td>\n",
       "      <td>155.0</td>\n",
       "    </tr>\n",
       "    <tr>\n",
       "      <th>border patrol agents</th>\n",
       "      <td>26</td>\n",
       "      <td>NaN</td>\n",
       "    </tr>\n",
       "    <tr>\n",
       "      <th>south china sea</th>\n",
       "      <td>26</td>\n",
       "      <td>13.0</td>\n",
       "    </tr>\n",
       "    <tr>\n",
       "      <th>trump kim jong</th>\n",
       "      <td>23</td>\n",
       "      <td>41.0</td>\n",
       "    </tr>\n",
       "    <tr>\n",
       "      <th>judicial activism june</th>\n",
       "      <td>22</td>\n",
       "      <td>NaN</td>\n",
       "    </tr>\n",
       "    <tr>\n",
       "      <th>cartoons day march</th>\n",
       "      <td>21</td>\n",
       "      <td>NaN</td>\n",
       "    </tr>\n",
       "    <tr>\n",
       "      <th>judicial activism march</th>\n",
       "      <td>20</td>\n",
       "      <td>NaN</td>\n",
       "    </tr>\n",
       "    <tr>\n",
       "      <th>ms 13 gang</th>\n",
       "      <td>20</td>\n",
       "      <td>NaN</td>\n",
       "    </tr>\n",
       "    <tr>\n",
       "      <th>judicial activism april</th>\n",
       "      <td>19</td>\n",
       "      <td>NaN</td>\n",
       "    </tr>\n",
       "    <tr>\n",
       "      <th>cartoons day april</th>\n",
       "      <td>19</td>\n",
       "      <td>NaN</td>\n",
       "    </tr>\n",
       "    <tr>\n",
       "      <th>judicial activism february</th>\n",
       "      <td>19</td>\n",
       "      <td>NaN</td>\n",
       "    </tr>\n",
       "  </tbody>\n",
       "</table>\n",
       "</div>"
      ],
      "text/plain": [
       "                            right  not right\n",
       "liberal judicial activism     104        NaN\n",
       "day liberal judicial          104        NaN\n",
       "north korea summit             75       38.0\n",
       "trump kim summit               66        8.0\n",
       "new york times                 27      155.0\n",
       "border patrol agents           26        NaN\n",
       "south china sea                26       13.0\n",
       "trump kim jong                 23       41.0\n",
       "judicial activism june         22        NaN\n",
       "cartoons day march             21        NaN\n",
       "judicial activism march        20        NaN\n",
       "ms 13 gang                     20        NaN\n",
       "judicial activism april        19        NaN\n",
       "cartoons day april             19        NaN\n",
       "judicial activism february     19        NaN"
      ]
     },
     "execution_count": 53,
     "metadata": {},
     "output_type": "execute_result"
    }
   ],
   "source": [
    "title_counts3.head(15)\n",
    "# More mentions of \"judicial\" and \"ms 13 gang\""
   ]
  },
  {
   "cell_type": "code",
   "execution_count": 54,
   "metadata": {},
   "outputs": [
    {
     "data": {
      "text/html": [
       "<div>\n",
       "<style scoped>\n",
       "    .dataframe tbody tr th:only-of-type {\n",
       "        vertical-align: middle;\n",
       "    }\n",
       "\n",
       "    .dataframe tbody tr th {\n",
       "        vertical-align: top;\n",
       "    }\n",
       "\n",
       "    .dataframe thead th {\n",
       "        text-align: right;\n",
       "    }\n",
       "</style>\n",
       "<table border=\"1\" class=\"dataframe\">\n",
       "  <thead>\n",
       "    <tr style=\"text-align: right;\">\n",
       "      <th></th>\n",
       "      <th>right</th>\n",
       "      <th>not right</th>\n",
       "    </tr>\n",
       "  </thead>\n",
       "  <tbody>\n",
       "    <tr>\n",
       "      <th>new york times</th>\n",
       "      <td>27</td>\n",
       "      <td>155.0</td>\n",
       "    </tr>\n",
       "    <tr>\n",
       "      <th>new york city</th>\n",
       "      <td>9</td>\n",
       "      <td>60.0</td>\n",
       "    </tr>\n",
       "    <tr>\n",
       "      <th>trump legal team</th>\n",
       "      <td>5</td>\n",
       "      <td>48.0</td>\n",
       "    </tr>\n",
       "    <tr>\n",
       "      <th>trump white house</th>\n",
       "      <td>11</td>\n",
       "      <td>44.0</td>\n",
       "    </tr>\n",
       "    <tr>\n",
       "      <th>summit north korea</th>\n",
       "      <td>5</td>\n",
       "      <td>42.0</td>\n",
       "    </tr>\n",
       "    <tr>\n",
       "      <th>trump kim jong</th>\n",
       "      <td>23</td>\n",
       "      <td>41.0</td>\n",
       "    </tr>\n",
       "    <tr>\n",
       "      <th>fe high school</th>\n",
       "      <td>7</td>\n",
       "      <td>39.0</td>\n",
       "    </tr>\n",
       "    <tr>\n",
       "      <th>iran nuclear deal</th>\n",
       "      <td>10</td>\n",
       "      <td>39.0</td>\n",
       "    </tr>\n",
       "    <tr>\n",
       "      <th>santa fe high</th>\n",
       "      <td>9</td>\n",
       "      <td>38.0</td>\n",
       "    </tr>\n",
       "    <tr>\n",
       "      <th>north korea summit</th>\n",
       "      <td>75</td>\n",
       "      <td>38.0</td>\n",
       "    </tr>\n",
       "    <tr>\n",
       "      <th>donald trump jr</th>\n",
       "      <td>14</td>\n",
       "      <td>34.0</td>\n",
       "    </tr>\n",
       "    <tr>\n",
       "      <th>summit kim jong</th>\n",
       "      <td>15</td>\n",
       "      <td>27.0</td>\n",
       "    </tr>\n",
       "    <tr>\n",
       "      <th>stormy daniels lawyer</th>\n",
       "      <td>8</td>\n",
       "      <td>26.0</td>\n",
       "    </tr>\n",
       "    <tr>\n",
       "      <th>meeting kim jong</th>\n",
       "      <td>14</td>\n",
       "      <td>26.0</td>\n",
       "    </tr>\n",
       "    <tr>\n",
       "      <th>zero tolerance immigration</th>\n",
       "      <td>6</td>\n",
       "      <td>23.0</td>\n",
       "    </tr>\n",
       "  </tbody>\n",
       "</table>\n",
       "</div>"
      ],
      "text/plain": [
       "                            right  not right\n",
       "new york times                 27      155.0\n",
       "new york city                   9       60.0\n",
       "trump legal team                5       48.0\n",
       "trump white house              11       44.0\n",
       "summit north korea              5       42.0\n",
       "trump kim jong                 23       41.0\n",
       "fe high school                  7       39.0\n",
       "iran nuclear deal              10       39.0\n",
       "santa fe high                   9       38.0\n",
       "north korea summit             75       38.0\n",
       "donald trump jr                14       34.0\n",
       "summit kim jong                15       27.0\n",
       "stormy daniels lawyer           8       26.0\n",
       "meeting kim jong               14       26.0\n",
       "zero tolerance immigration      6       23.0"
      ]
     },
     "execution_count": 54,
     "metadata": {},
     "output_type": "execute_result"
    }
   ],
   "source": [
    "title_counts3.sort_values('not right', ascending=False).head(15)\n",
    "# Interesting: NYT is not one of my sources\n",
    "# Mentions of Stormy Daniels and immigration policy"
   ]
  },
  {
   "cell_type": "markdown",
   "metadata": {},
   "source": [
    "### TriGrams for Description"
   ]
  },
  {
   "cell_type": "code",
   "execution_count": 61,
   "metadata": {},
   "outputs": [],
   "source": [
    "cvec = CountVectorizer(preprocessor=my_preprocessor, ngram_range=(3,3),\n",
    "                       stop_words=cust_stop_words, min_df=5)\n",
    "cvec.fit(right_desc)\n",
    "rd_counts3 = pd.DataFrame(cvec.transform(right_desc).todense(),\n",
    "                         columns=cvec.get_feature_names())\n",
    "desc_counts3 = rd_counts3.sum(axis=0)\n",
    "desc_counts3 = pd.DataFrame(desc_counts3.sort_values(ascending = False), columns=['right'])"
   ]
  },
  {
   "cell_type": "code",
   "execution_count": 62,
   "metadata": {},
   "outputs": [],
   "source": [
    "cvec = CountVectorizer(preprocessor=my_preprocessor, ngram_range=(3,3),\n",
    "                       stop_words=cust_stop_words, min_df=5)\n",
    "cvec.fit(notright_desc)\n",
    "nrd_counts3 = pd.DataFrame(cvec.transform(notright_desc).todense(),\n",
    "                         columns=cvec.get_feature_names())\n",
    "nrd_counts3 = nrd_counts3.sum(axis=0)\n",
    "desc_counts3['not right'] = nrd_counts3"
   ]
  },
  {
   "cell_type": "code",
   "execution_count": 64,
   "metadata": {},
   "outputs": [
    {
     "data": {
      "text/html": [
       "<div>\n",
       "<style scoped>\n",
       "    .dataframe tbody tr th:only-of-type {\n",
       "        vertical-align: middle;\n",
       "    }\n",
       "\n",
       "    .dataframe tbody tr th {\n",
       "        vertical-align: top;\n",
       "    }\n",
       "\n",
       "    .dataframe thead th {\n",
       "        text-align: right;\n",
       "    }\n",
       "</style>\n",
       "<table border=\"1\" class=\"dataframe\">\n",
       "  <thead>\n",
       "    <tr style=\"text-align: right;\">\n",
       "      <th></th>\n",
       "      <th>right</th>\n",
       "      <th>not right</th>\n",
       "    </tr>\n",
       "  </thead>\n",
       "  <tbody>\n",
       "    <tr>\n",
       "      <th>president donald trump</th>\n",
       "      <td>926</td>\n",
       "      <td>672.0</td>\n",
       "    </tr>\n",
       "    <tr>\n",
       "      <th>wp com com</th>\n",
       "      <td>238</td>\n",
       "      <td>NaN</td>\n",
       "    </tr>\n",
       "    <tr>\n",
       "      <th>wp content uploads</th>\n",
       "      <td>238</td>\n",
       "      <td>NaN</td>\n",
       "    </tr>\n",
       "    <tr>\n",
       "      <th>com wp content</th>\n",
       "      <td>238</td>\n",
       "      <td>NaN</td>\n",
       "    </tr>\n",
       "    <tr>\n",
       "      <th>com com wp</th>\n",
       "      <td>238</td>\n",
       "      <td>NaN</td>\n",
       "    </tr>\n",
       "    <tr>\n",
       "      <th>content uploads 2018</th>\n",
       "      <td>233</td>\n",
       "      <td>NaN</td>\n",
       "    </tr>\n",
       "    <tr>\n",
       "      <th>jpg fit 1024</th>\n",
       "      <td>218</td>\n",
       "      <td>NaN</td>\n",
       "    </tr>\n",
       "    <tr>\n",
       "      <th>1024 2c597 ssl</th>\n",
       "      <td>216</td>\n",
       "      <td>NaN</td>\n",
       "    </tr>\n",
       "    <tr>\n",
       "      <th>fit 1024 2c597</th>\n",
       "      <td>216</td>\n",
       "      <td>NaN</td>\n",
       "    </tr>\n",
       "    <tr>\n",
       "      <th>dictator kim jong</th>\n",
       "      <td>125</td>\n",
       "      <td>21.0</td>\n",
       "    </tr>\n",
       "    <tr>\n",
       "      <th>new york times</th>\n",
       "      <td>118</td>\n",
       "      <td>155.0</td>\n",
       "    </tr>\n",
       "    <tr>\n",
       "      <th>special counsel robert</th>\n",
       "      <td>110</td>\n",
       "      <td>125.0</td>\n",
       "    </tr>\n",
       "    <tr>\n",
       "      <th>leader kim jong</th>\n",
       "      <td>108</td>\n",
       "      <td>149.0</td>\n",
       "    </tr>\n",
       "    <tr>\n",
       "      <th>counsel robert mueller</th>\n",
       "      <td>108</td>\n",
       "      <td>123.0</td>\n",
       "    </tr>\n",
       "    <tr>\n",
       "      <th>new york city</th>\n",
       "      <td>102</td>\n",
       "      <td>60.0</td>\n",
       "    </tr>\n",
       "  </tbody>\n",
       "</table>\n",
       "</div>"
      ],
      "text/plain": [
       "                        right  not right\n",
       "president donald trump    926      672.0\n",
       "wp com com                238        NaN\n",
       "wp content uploads        238        NaN\n",
       "com wp content            238        NaN\n",
       "com com wp                238        NaN\n",
       "content uploads 2018      233        NaN\n",
       "jpg fit 1024              218        NaN\n",
       "1024 2c597 ssl            216        NaN\n",
       "fit 1024 2c597            216        NaN\n",
       "dictator kim jong         125       21.0\n",
       "new york times            118      155.0\n",
       "special counsel robert    110      125.0\n",
       "leader kim jong           108      149.0\n",
       "counsel robert mueller    108      123.0\n",
       "new york city             102       60.0"
      ]
     },
     "execution_count": 64,
     "metadata": {},
     "output_type": "execute_result"
    }
   ],
   "source": [
    "desc_counts3.head(15)\n",
    "# For some reason \"content uploads\" is still appearing. Source giveaway. Also image noise data."
   ]
  },
  {
   "cell_type": "code",
   "execution_count": 65,
   "metadata": {},
   "outputs": [
    {
     "data": {
      "text/html": [
       "<div>\n",
       "<style scoped>\n",
       "    .dataframe tbody tr th:only-of-type {\n",
       "        vertical-align: middle;\n",
       "    }\n",
       "\n",
       "    .dataframe tbody tr th {\n",
       "        vertical-align: top;\n",
       "    }\n",
       "\n",
       "    .dataframe thead th {\n",
       "        text-align: right;\n",
       "    }\n",
       "</style>\n",
       "<table border=\"1\" class=\"dataframe\">\n",
       "  <thead>\n",
       "    <tr style=\"text-align: right;\">\n",
       "      <th></th>\n",
       "      <th>right</th>\n",
       "      <th>not right</th>\n",
       "    </tr>\n",
       "  </thead>\n",
       "  <tbody>\n",
       "    <tr>\n",
       "      <th>president donald trump</th>\n",
       "      <td>926</td>\n",
       "      <td>672.0</td>\n",
       "    </tr>\n",
       "    <tr>\n",
       "      <th>north korean leader</th>\n",
       "      <td>102</td>\n",
       "      <td>158.0</td>\n",
       "    </tr>\n",
       "    <tr>\n",
       "      <th>new york times</th>\n",
       "      <td>118</td>\n",
       "      <td>155.0</td>\n",
       "    </tr>\n",
       "    <tr>\n",
       "      <th>leader kim jong</th>\n",
       "      <td>108</td>\n",
       "      <td>149.0</td>\n",
       "    </tr>\n",
       "    <tr>\n",
       "      <th>korean leader kim</th>\n",
       "      <td>91</td>\n",
       "      <td>133.0</td>\n",
       "    </tr>\n",
       "    <tr>\n",
       "      <th>special counsel robert</th>\n",
       "      <td>110</td>\n",
       "      <td>125.0</td>\n",
       "    </tr>\n",
       "    <tr>\n",
       "      <th>counsel robert mueller</th>\n",
       "      <td>108</td>\n",
       "      <td>123.0</td>\n",
       "    </tr>\n",
       "    <tr>\n",
       "      <th>director james comey</th>\n",
       "      <td>59</td>\n",
       "      <td>81.0</td>\n",
       "    </tr>\n",
       "    <tr>\n",
       "      <th>fbi director james</th>\n",
       "      <td>60</td>\n",
       "      <td>81.0</td>\n",
       "    </tr>\n",
       "    <tr>\n",
       "      <th>lawyer michael cohen</th>\n",
       "      <td>15</td>\n",
       "      <td>69.0</td>\n",
       "    </tr>\n",
       "    <tr>\n",
       "      <th>attorney general jeff</th>\n",
       "      <td>48</td>\n",
       "      <td>64.0</td>\n",
       "    </tr>\n",
       "    <tr>\n",
       "      <th>general jeff sessions</th>\n",
       "      <td>48</td>\n",
       "      <td>64.0</td>\n",
       "    </tr>\n",
       "    <tr>\n",
       "      <th>new york city</th>\n",
       "      <td>102</td>\n",
       "      <td>60.0</td>\n",
       "    </tr>\n",
       "    <tr>\n",
       "      <th>zero tolerance policy</th>\n",
       "      <td>15</td>\n",
       "      <td>59.0</td>\n",
       "    </tr>\n",
       "    <tr>\n",
       "      <th>attorney michael cohen</th>\n",
       "      <td>9</td>\n",
       "      <td>59.0</td>\n",
       "    </tr>\n",
       "  </tbody>\n",
       "</table>\n",
       "</div>"
      ],
      "text/plain": [
       "                        right  not right\n",
       "president donald trump    926      672.0\n",
       "north korean leader       102      158.0\n",
       "new york times            118      155.0\n",
       "leader kim jong           108      149.0\n",
       "korean leader kim          91      133.0\n",
       "special counsel robert    110      125.0\n",
       "counsel robert mueller    108      123.0\n",
       "director james comey       59       81.0\n",
       "fbi director james         60       81.0\n",
       "lawyer michael cohen       15       69.0\n",
       "attorney general jeff      48       64.0\n",
       "general jeff sessions      48       64.0\n",
       "new york city             102       60.0\n",
       "zero tolerance policy      15       59.0\n",
       "attorney michael cohen      9       59.0"
      ]
     },
     "execution_count": 65,
     "metadata": {},
     "output_type": "execute_result"
    }
   ],
   "source": [
    "desc_counts3.sort_values('not right',ascending=False).head(15)"
   ]
  },
  {
   "cell_type": "markdown",
   "metadata": {},
   "source": [
    "### QuadGrams for Title"
   ]
  },
  {
   "cell_type": "code",
   "execution_count": 66,
   "metadata": {},
   "outputs": [],
   "source": [
    "cvec = CountVectorizer(preprocessor=my_preprocessor, ngram_range=(4,4),\n",
    "                       stop_words=cust_stop_words, min_df=3)\n",
    "cvec.fit(right_title)\n",
    "rt_counts4 = pd.DataFrame(cvec.transform(right_title).todense(),\n",
    "                         columns=cvec.get_feature_names())\n",
    "title_counts4 = rt_counts4.sum(axis=0)\n",
    "title_counts4 = pd.DataFrame(title_counts4.sort_values(ascending = False), columns=['right'])"
   ]
  },
  {
   "cell_type": "code",
   "execution_count": 67,
   "metadata": {},
   "outputs": [],
   "source": [
    "cvec = CountVectorizer(preprocessor=my_preprocessor, ngram_range=(4,4),\n",
    "                       stop_words=cust_stop_words, min_df=3)\n",
    "cvec.fit(notright_title)\n",
    "nrt_counts4 = pd.DataFrame(cvec.transform(notright_desc).todense(),\n",
    "                         columns=cvec.get_feature_names())\n",
    "nrt_counts4 = nrt_counts4.sum(axis=0)\n",
    "title_counts4['not right'] = nrt_counts4"
   ]
  },
  {
   "cell_type": "code",
   "execution_count": 69,
   "metadata": {},
   "outputs": [
    {
     "data": {
      "text/html": [
       "<div>\n",
       "<style scoped>\n",
       "    .dataframe tbody tr th:only-of-type {\n",
       "        vertical-align: middle;\n",
       "    }\n",
       "\n",
       "    .dataframe tbody tr th {\n",
       "        vertical-align: top;\n",
       "    }\n",
       "\n",
       "    .dataframe thead th {\n",
       "        text-align: right;\n",
       "    }\n",
       "</style>\n",
       "<table border=\"1\" class=\"dataframe\">\n",
       "  <thead>\n",
       "    <tr style=\"text-align: right;\">\n",
       "      <th></th>\n",
       "      <th>right</th>\n",
       "      <th>not right</th>\n",
       "    </tr>\n",
       "  </thead>\n",
       "  <tbody>\n",
       "    <tr>\n",
       "      <th>day liberal judicial activism</th>\n",
       "      <td>104</td>\n",
       "      <td>NaN</td>\n",
       "    </tr>\n",
       "    <tr>\n",
       "      <th>liberal judicial activism june</th>\n",
       "      <td>22</td>\n",
       "      <td>NaN</td>\n",
       "    </tr>\n",
       "    <tr>\n",
       "      <th>liberal judicial activism march</th>\n",
       "      <td>20</td>\n",
       "      <td>NaN</td>\n",
       "    </tr>\n",
       "    <tr>\n",
       "      <th>liberal judicial activism april</th>\n",
       "      <td>19</td>\n",
       "      <td>NaN</td>\n",
       "    </tr>\n",
       "    <tr>\n",
       "      <th>liberal judicial activism february</th>\n",
       "      <td>19</td>\n",
       "      <td>NaN</td>\n",
       "    </tr>\n",
       "    <tr>\n",
       "      <th>things caught eye today</th>\n",
       "      <td>11</td>\n",
       "      <td>NaN</td>\n",
       "    </tr>\n",
       "    <tr>\n",
       "      <th>fashion notes melania trump</th>\n",
       "      <td>9</td>\n",
       "      <td>NaN</td>\n",
       "    </tr>\n",
       "    <tr>\n",
       "      <th>north korea kim jong</th>\n",
       "      <td>9</td>\n",
       "      <td>NaN</td>\n",
       "    </tr>\n",
       "    <tr>\n",
       "      <th>public sector union dues</th>\n",
       "      <td>7</td>\n",
       "      <td>NaN</td>\n",
       "    </tr>\n",
       "    <tr>\n",
       "      <th>ms 13 gang members</th>\n",
       "      <td>7</td>\n",
       "      <td>NaN</td>\n",
       "    </tr>\n",
       "    <tr>\n",
       "      <th>fashion designer kate spade</th>\n",
       "      <td>7</td>\n",
       "      <td>NaN</td>\n",
       "    </tr>\n",
       "    <tr>\n",
       "      <th>santa fe high school</th>\n",
       "      <td>7</td>\n",
       "      <td>38.0</td>\n",
       "    </tr>\n",
       "    <tr>\n",
       "      <th>sector union dues case</th>\n",
       "      <td>7</td>\n",
       "      <td>NaN</td>\n",
       "    </tr>\n",
       "    <tr>\n",
       "      <th>trump says north korea</th>\n",
       "      <td>7</td>\n",
       "      <td>NaN</td>\n",
       "    </tr>\n",
       "    <tr>\n",
       "      <th>white house correspondents dinner</th>\n",
       "      <td>7</td>\n",
       "      <td>12.0</td>\n",
       "    </tr>\n",
       "  </tbody>\n",
       "</table>\n",
       "</div>"
      ],
      "text/plain": [
       "                                    right  not right\n",
       "day liberal judicial activism         104        NaN\n",
       "liberal judicial activism june         22        NaN\n",
       "liberal judicial activism march        20        NaN\n",
       "liberal judicial activism april        19        NaN\n",
       "liberal judicial activism february     19        NaN\n",
       "things caught eye today                11        NaN\n",
       "fashion notes melania trump             9        NaN\n",
       "north korea kim jong                    9        NaN\n",
       "public sector union dues                7        NaN\n",
       "ms 13 gang members                      7        NaN\n",
       "fashion designer kate spade             7        NaN\n",
       "santa fe high school                    7       38.0\n",
       "sector union dues case                  7        NaN\n",
       "trump says north korea                  7        NaN\n",
       "white house correspondents dinner       7       12.0"
      ]
     },
     "execution_count": 69,
     "metadata": {},
     "output_type": "execute_result"
    }
   ],
   "source": [
    "title_counts4.head(15)\n",
    "# Again, lost of \"judicial activism\" and MS 13 appears "
   ]
  },
  {
   "cell_type": "code",
   "execution_count": 70,
   "metadata": {},
   "outputs": [
    {
     "data": {
      "text/html": [
       "<div>\n",
       "<style scoped>\n",
       "    .dataframe tbody tr th:only-of-type {\n",
       "        vertical-align: middle;\n",
       "    }\n",
       "\n",
       "    .dataframe tbody tr th {\n",
       "        vertical-align: top;\n",
       "    }\n",
       "\n",
       "    .dataframe thead th {\n",
       "        text-align: right;\n",
       "    }\n",
       "</style>\n",
       "<table border=\"1\" class=\"dataframe\">\n",
       "  <thead>\n",
       "    <tr style=\"text-align: right;\">\n",
       "      <th></th>\n",
       "      <th>right</th>\n",
       "      <th>not right</th>\n",
       "    </tr>\n",
       "  </thead>\n",
       "  <tbody>\n",
       "    <tr>\n",
       "      <th>santa fe high school</th>\n",
       "      <td>7</td>\n",
       "      <td>38.0</td>\n",
       "    </tr>\n",
       "    <tr>\n",
       "      <th>zero tolerance immigration policy</th>\n",
       "      <td>6</td>\n",
       "      <td>23.0</td>\n",
       "    </tr>\n",
       "    <tr>\n",
       "      <th>new york attorney general</th>\n",
       "      <td>7</td>\n",
       "      <td>18.0</td>\n",
       "    </tr>\n",
       "    <tr>\n",
       "      <th>white house correspondents dinner</th>\n",
       "      <td>7</td>\n",
       "      <td>12.0</td>\n",
       "    </tr>\n",
       "    <tr>\n",
       "      <th>attorney general eric schneiderman</th>\n",
       "      <td>3</td>\n",
       "      <td>7.0</td>\n",
       "    </tr>\n",
       "    <tr>\n",
       "      <th>summit north korea kim</th>\n",
       "      <td>3</td>\n",
       "      <td>7.0</td>\n",
       "    </tr>\n",
       "    <tr>\n",
       "      <th>trump meeting kim jong</th>\n",
       "      <td>6</td>\n",
       "      <td>3.0</td>\n",
       "    </tr>\n",
       "    <tr>\n",
       "      <th>mtv movie tv awards</th>\n",
       "      <td>4</td>\n",
       "      <td>3.0</td>\n",
       "    </tr>\n",
       "    <tr>\n",
       "      <th>dhs secretary kirstjen nielsen</th>\n",
       "      <td>3</td>\n",
       "      <td>3.0</td>\n",
       "    </tr>\n",
       "    <tr>\n",
       "      <th>elon musk boring company</th>\n",
       "      <td>4</td>\n",
       "      <td>1.0</td>\n",
       "    </tr>\n",
       "    <tr>\n",
       "      <th>designer kate spade dead</th>\n",
       "      <td>4</td>\n",
       "      <td>1.0</td>\n",
       "    </tr>\n",
       "    <tr>\n",
       "      <th>deserves nobel peace prize</th>\n",
       "      <td>3</td>\n",
       "      <td>1.0</td>\n",
       "    </tr>\n",
       "    <tr>\n",
       "      <th>waffle house shooting suspect</th>\n",
       "      <td>3</td>\n",
       "      <td>1.0</td>\n",
       "    </tr>\n",
       "    <tr>\n",
       "      <th>santa fe school shooting</th>\n",
       "      <td>5</td>\n",
       "      <td>0.0</td>\n",
       "    </tr>\n",
       "    <tr>\n",
       "      <th>trump north korea summit</th>\n",
       "      <td>4</td>\n",
       "      <td>0.0</td>\n",
       "    </tr>\n",
       "  </tbody>\n",
       "</table>\n",
       "</div>"
      ],
      "text/plain": [
       "                                    right  not right\n",
       "santa fe high school                    7       38.0\n",
       "zero tolerance immigration policy       6       23.0\n",
       "new york attorney general               7       18.0\n",
       "white house correspondents dinner       7       12.0\n",
       "attorney general eric schneiderman      3        7.0\n",
       "summit north korea kim                  3        7.0\n",
       "trump meeting kim jong                  6        3.0\n",
       "mtv movie tv awards                     4        3.0\n",
       "dhs secretary kirstjen nielsen          3        3.0\n",
       "elon musk boring company                4        1.0\n",
       "designer kate spade dead                4        1.0\n",
       "deserves nobel peace prize              3        1.0\n",
       "waffle house shooting suspect           3        1.0\n",
       "santa fe school shooting                5        0.0\n",
       "trump north korea summit                4        0.0"
      ]
     },
     "execution_count": 70,
     "metadata": {},
     "output_type": "execute_result"
    }
   ],
   "source": [
    "title_counts4.sort_values('not right', ascending=False).head(15)"
   ]
  },
  {
   "cell_type": "markdown",
   "metadata": {},
   "source": [
    "### QuadGrams for Description"
   ]
  },
  {
   "cell_type": "code",
   "execution_count": 71,
   "metadata": {},
   "outputs": [],
   "source": [
    "cvec = CountVectorizer(preprocessor=my_preprocessor, ngram_range=(4,4),\n",
    "                       stop_words=cust_stop_words, min_df=5)\n",
    "cvec.fit(right_desc)\n",
    "rd_counts4 = pd.DataFrame(cvec.transform(right_desc).todense(),\n",
    "                         columns=cvec.get_feature_names())\n",
    "desc_counts4 = rd_counts4.sum(axis=0)\n",
    "desc_counts4 = pd.DataFrame(desc_counts4.sort_values(ascending = False), columns=['right'])"
   ]
  },
  {
   "cell_type": "code",
   "execution_count": 72,
   "metadata": {},
   "outputs": [],
   "source": [
    "cvec = CountVectorizer(preprocessor=my_preprocessor, ngram_range=(4,4),\n",
    "                       stop_words=cust_stop_words, min_df=5)\n",
    "cvec.fit(notright_desc)\n",
    "nrd_counts4 = pd.DataFrame(cvec.transform(notright_desc).todense(),\n",
    "                         columns=cvec.get_feature_names())\n",
    "nrd_counts4 = nrd_counts4.sum(axis=0)\n",
    "desc_counts4['not right'] = nrd_counts4"
   ]
  },
  {
   "cell_type": "code",
   "execution_count": 74,
   "metadata": {},
   "outputs": [
    {
     "data": {
      "text/html": [
       "<div>\n",
       "<style scoped>\n",
       "    .dataframe tbody tr th:only-of-type {\n",
       "        vertical-align: middle;\n",
       "    }\n",
       "\n",
       "    .dataframe tbody tr th {\n",
       "        vertical-align: top;\n",
       "    }\n",
       "\n",
       "    .dataframe thead th {\n",
       "        text-align: right;\n",
       "    }\n",
       "</style>\n",
       "<table border=\"1\" class=\"dataframe\">\n",
       "  <thead>\n",
       "    <tr style=\"text-align: right;\">\n",
       "      <th></th>\n",
       "      <th>right</th>\n",
       "      <th>not right</th>\n",
       "    </tr>\n",
       "  </thead>\n",
       "  <tbody>\n",
       "    <tr>\n",
       "      <th>com wp content uploads</th>\n",
       "      <td>238</td>\n",
       "      <td>NaN</td>\n",
       "    </tr>\n",
       "    <tr>\n",
       "      <th>com com wp content</th>\n",
       "      <td>238</td>\n",
       "      <td>NaN</td>\n",
       "    </tr>\n",
       "    <tr>\n",
       "      <th>wp com com wp</th>\n",
       "      <td>238</td>\n",
       "      <td>NaN</td>\n",
       "    </tr>\n",
       "    <tr>\n",
       "      <th>wp content uploads 2018</th>\n",
       "      <td>233</td>\n",
       "      <td>NaN</td>\n",
       "    </tr>\n",
       "    <tr>\n",
       "      <th>fit 1024 2c597 ssl</th>\n",
       "      <td>216</td>\n",
       "      <td>NaN</td>\n",
       "    </tr>\n",
       "    <tr>\n",
       "      <th>jpg fit 1024 2c597</th>\n",
       "      <td>209</td>\n",
       "      <td>NaN</td>\n",
       "    </tr>\n",
       "    <tr>\n",
       "      <th>special counsel robert mueller</th>\n",
       "      <td>108</td>\n",
       "      <td>123.0</td>\n",
       "    </tr>\n",
       "    <tr>\n",
       "      <th>north korean dictator kim</th>\n",
       "      <td>94</td>\n",
       "      <td>17.0</td>\n",
       "    </tr>\n",
       "    <tr>\n",
       "      <th>korean dictator kim jong</th>\n",
       "      <td>94</td>\n",
       "      <td>16.0</td>\n",
       "    </tr>\n",
       "    <tr>\n",
       "      <th>north korean leader kim</th>\n",
       "      <td>91</td>\n",
       "      <td>133.0</td>\n",
       "    </tr>\n",
       "    <tr>\n",
       "      <th>korean leader kim jong</th>\n",
       "      <td>90</td>\n",
       "      <td>132.0</td>\n",
       "    </tr>\n",
       "    <tr>\n",
       "      <th>https i0 wp com</th>\n",
       "      <td>83</td>\n",
       "      <td>NaN</td>\n",
       "    </tr>\n",
       "    <tr>\n",
       "      <th>i0 wp com com</th>\n",
       "      <td>83</td>\n",
       "      <td>NaN</td>\n",
       "    </tr>\n",
       "    <tr>\n",
       "      <th>i2 wp com com</th>\n",
       "      <td>78</td>\n",
       "      <td>NaN</td>\n",
       "    </tr>\n",
       "    <tr>\n",
       "      <th>https i2 wp com</th>\n",
       "      <td>78</td>\n",
       "      <td>NaN</td>\n",
       "    </tr>\n",
       "  </tbody>\n",
       "</table>\n",
       "</div>"
      ],
      "text/plain": [
       "                                right  not right\n",
       "com wp content uploads            238        NaN\n",
       "com com wp content                238        NaN\n",
       "wp com com wp                     238        NaN\n",
       "wp content uploads 2018           233        NaN\n",
       "fit 1024 2c597 ssl                216        NaN\n",
       "jpg fit 1024 2c597                209        NaN\n",
       "special counsel robert mueller    108      123.0\n",
       "north korean dictator kim          94       17.0\n",
       "korean dictator kim jong           94       16.0\n",
       "north korean leader kim            91      133.0\n",
       "korean leader kim jong             90      132.0\n",
       "https i0 wp com                    83        NaN\n",
       "i0 wp com com                      83        NaN\n",
       "i2 wp com com                      78        NaN\n",
       "https i2 wp com                    78        NaN"
      ]
     },
     "execution_count": 74,
     "metadata": {},
     "output_type": "execute_result"
    }
   ],
   "source": [
    "desc_counts4.head(15)\n",
    "# Very noisy"
   ]
  },
  {
   "cell_type": "code",
   "execution_count": 75,
   "metadata": {},
   "outputs": [
    {
     "data": {
      "text/html": [
       "<div>\n",
       "<style scoped>\n",
       "    .dataframe tbody tr th:only-of-type {\n",
       "        vertical-align: middle;\n",
       "    }\n",
       "\n",
       "    .dataframe tbody tr th {\n",
       "        vertical-align: top;\n",
       "    }\n",
       "\n",
       "    .dataframe thead th {\n",
       "        text-align: right;\n",
       "    }\n",
       "</style>\n",
       "<table border=\"1\" class=\"dataframe\">\n",
       "  <thead>\n",
       "    <tr style=\"text-align: right;\">\n",
       "      <th></th>\n",
       "      <th>right</th>\n",
       "      <th>not right</th>\n",
       "    </tr>\n",
       "  </thead>\n",
       "  <tbody>\n",
       "    <tr>\n",
       "      <th>north korean leader kim</th>\n",
       "      <td>91</td>\n",
       "      <td>133.0</td>\n",
       "    </tr>\n",
       "    <tr>\n",
       "      <th>korean leader kim jong</th>\n",
       "      <td>90</td>\n",
       "      <td>132.0</td>\n",
       "    </tr>\n",
       "    <tr>\n",
       "      <th>special counsel robert mueller</th>\n",
       "      <td>108</td>\n",
       "      <td>123.0</td>\n",
       "    </tr>\n",
       "    <tr>\n",
       "      <th>fbi director james comey</th>\n",
       "      <td>59</td>\n",
       "      <td>81.0</td>\n",
       "    </tr>\n",
       "    <tr>\n",
       "      <th>attorney general jeff sessions</th>\n",
       "      <td>48</td>\n",
       "      <td>63.0</td>\n",
       "    </tr>\n",
       "    <tr>\n",
       "      <th>white house press secretary</th>\n",
       "      <td>69</td>\n",
       "      <td>47.0</td>\n",
       "    </tr>\n",
       "    <tr>\n",
       "      <th>secretary state mike pompeo</th>\n",
       "      <td>53</td>\n",
       "      <td>47.0</td>\n",
       "    </tr>\n",
       "    <tr>\n",
       "      <th>trump north korean leader</th>\n",
       "      <td>26</td>\n",
       "      <td>45.0</td>\n",
       "    </tr>\n",
       "    <tr>\n",
       "      <th>santa fe high school</th>\n",
       "      <td>20</td>\n",
       "      <td>38.0</td>\n",
       "    </tr>\n",
       "    <tr>\n",
       "      <th>house press secretary sarah</th>\n",
       "      <td>43</td>\n",
       "      <td>35.0</td>\n",
       "    </tr>\n",
       "    <tr>\n",
       "      <th>donald trump north korean</th>\n",
       "      <td>37</td>\n",
       "      <td>34.0</td>\n",
       "    </tr>\n",
       "    <tr>\n",
       "      <th>president donald trump north</th>\n",
       "      <td>43</td>\n",
       "      <td>34.0</td>\n",
       "    </tr>\n",
       "    <tr>\n",
       "      <th>press secretary sarah sanders</th>\n",
       "      <td>34</td>\n",
       "      <td>34.0</td>\n",
       "    </tr>\n",
       "    <tr>\n",
       "      <th>trump lawyer rudy giuliani</th>\n",
       "      <td>5</td>\n",
       "      <td>33.0</td>\n",
       "    </tr>\n",
       "    <tr>\n",
       "      <th>personal lawyer michael cohen</th>\n",
       "      <td>8</td>\n",
       "      <td>31.0</td>\n",
       "    </tr>\n",
       "  </tbody>\n",
       "</table>\n",
       "</div>"
      ],
      "text/plain": [
       "                                right  not right\n",
       "north korean leader kim            91      133.0\n",
       "korean leader kim jong             90      132.0\n",
       "special counsel robert mueller    108      123.0\n",
       "fbi director james comey           59       81.0\n",
       "attorney general jeff sessions     48       63.0\n",
       "white house press secretary        69       47.0\n",
       "secretary state mike pompeo        53       47.0\n",
       "trump north korean leader          26       45.0\n",
       "santa fe high school               20       38.0\n",
       "house press secretary sarah        43       35.0\n",
       "donald trump north korean          37       34.0\n",
       "president donald trump north       43       34.0\n",
       "press secretary sarah sanders      34       34.0\n",
       "trump lawyer rudy giuliani          5       33.0\n",
       "personal lawyer michael cohen       8       31.0"
      ]
     },
     "execution_count": 75,
     "metadata": {},
     "output_type": "execute_result"
    }
   ],
   "source": [
    "desc_counts4.sort_values('not right', ascending=False).head(15)\n",
    "# Less noise, and what you'd expect to see. \n",
    "# The right wing noise is likely source giveaway that should be fixed"
   ]
  },
  {
   "cell_type": "markdown",
   "metadata": {},
   "source": [
    "<a id=\"modeling\"></a>\n",
    "# Modeling\n",
    "[Return to Index](#contents)\n",
    "\n",
    "For modeling, I first looked at title and description only to evaluate feature importances, and then did the same for only the numerical features created with feature engineering. Unsurprisingly, the numerical features did not have a great accuracy score, but 65% is still 12% better than the baseline. With text data, TfIdf gave me a better score with around 75% accuracy, an improvement of 22% from the baseline. Given this, I am hoping a combination of both features in a Pipeline using FeatureUnion will improve my score upon that."
   ]
  },
  {
   "cell_type": "code",
   "execution_count": 78,
   "metadata": {},
   "outputs": [],
   "source": [
    "# Load in cleaned .csv files\n",
    "text = pd.read_csv('./datasets/text2.csv').drop('Unnamed: 0', axis=1)\n",
    "df = pd.read_csv('./datasets/df2.csv').drop('Unnamed: 0', axis=1)"
   ]
  },
  {
   "cell_type": "markdown",
   "metadata": {},
   "source": [
    "<a id=\"text-only\"></a>\n",
    "### Text Features Only\n",
    "#### Simple CountVec\n",
    "[Return to Index](#contents)"
   ]
  },
  {
   "cell_type": "code",
   "execution_count": 79,
   "metadata": {},
   "outputs": [],
   "source": [
    "# For text data only\n",
    "X = text['combined']\n",
    "y = text['yes_right']"
   ]
  },
  {
   "cell_type": "code",
   "execution_count": 80,
   "metadata": {},
   "outputs": [],
   "source": [
    "X_train, X_test, y_train, y_test = train_test_split(X, y, random_state=42, stratify=y)"
   ]
  },
  {
   "cell_type": "code",
   "execution_count": 81,
   "metadata": {},
   "outputs": [],
   "source": [
    "cvec = CountVectorizer(preprocessor=my_preprocessor,\n",
    "                       strip_accents='unicode',\n",
    "                       ngram_range=(1,4),\n",
    "                       stop_words=cust_stop_words,\n",
    "                       min_df=5)"
   ]
  },
  {
   "cell_type": "code",
   "execution_count": 82,
   "metadata": {},
   "outputs": [
    {
     "data": {
      "text/plain": [
       "CountVectorizer(analyzer='word', binary=False, decode_error='strict',\n",
       "        dtype=<class 'numpy.int64'>, encoding='utf-8', input='content',\n",
       "        lowercase=True, max_df=1.0, max_features=None, min_df=5,\n",
       "        ngram_range=(1, 4),\n",
       "        preprocessor=<function my_preprocessor at 0x1a102bcb70>,\n",
       "        stop_words=['CNN', 'cnn', 'amp', 'national review', 'huffpost', 'fox', 'reuters', 'ap', 'associated press', 'vice', 'breitbart', 'nationalreview', 'www', 'content uploads', 'msnbc', 'infowars', 'foxnews', 'Vice', 'Breitbart', 'National Review', 'Fox News', 'Reuters', 'Fast Facts', 'Infowars', 'Vice'...over', 'bill', 'more', 'else', 'as', 'cant', 'whatever', 'what', 'becoming', 'am', 'every', 'whole'],\n",
       "        strip_accents='unicode', token_pattern='(?u)\\\\b\\\\w\\\\w+\\\\b',\n",
       "        tokenizer=None, vocabulary=None)"
      ]
     },
     "execution_count": 82,
     "metadata": {},
     "output_type": "execute_result"
    }
   ],
   "source": [
    "cvec.fit(X_train, y_train)"
   ]
  },
  {
   "cell_type": "code",
   "execution_count": 83,
   "metadata": {},
   "outputs": [],
   "source": [
    "X_feats = pd.DataFrame(cvec.transform(X_train).todense(), columns=cvec.get_feature_names()).sum(axis=0)"
   ]
  },
  {
   "cell_type": "code",
   "execution_count": 84,
   "metadata": {},
   "outputs": [
    {
     "data": {
      "text/plain": [
       "trump              11671\n",
       "president           5052\n",
       "new                 3763\n",
       "house               2301\n",
       "donald              2249\n",
       "donald trump        2200\n",
       "says                2080\n",
       "north               1980\n",
       "president trump     1803\n",
       "said                1789\n",
       "white               1612\n",
       "korea               1497\n",
       "kim                 1429\n",
       "people              1420\n",
       "news                1360\n",
       "dtype: int64"
      ]
     },
     "execution_count": 84,
     "metadata": {},
     "output_type": "execute_result"
    }
   ],
   "source": [
    "X_feats.sort_values(ascending = False).head(15)\n",
    "# Most common n-grams"
   ]
  },
  {
   "cell_type": "code",
   "execution_count": 100,
   "metadata": {},
   "outputs": [],
   "source": [
    "cloudwords = list(X_feats.sort_values(ascending = False).head(15).index)\n",
    "cloudwords = ' '.join(cloudwords).replace('The','')"
   ]
  },
  {
   "cell_type": "code",
   "execution_count": 115,
   "metadata": {},
   "outputs": [
    {
     "data": {
      "image/png": "[encoded data removed]",
      "text/plain": [
       "<Figure size 1080x576 with 1 Axes>"
      ]
     },
     "metadata": {},
     "output_type": "display_data"
    }
   ],
   "source": [
    "# When in Rome, you might as well WordCloud\n",
    "plt.figure(figsize=(15,8))\n",
    "wordcloud = WordCloud(font_path='/Library/Fonts/Verdana.ttf',\n",
    "                      width=2000, height=1000,\n",
    "                      relative_scaling = 1.0,\n",
    "                      background_color='white',\n",
    "                      colormap='gist_earth'\n",
    "                  \n",
    ").generate(cloudwords)\n",
    "plt.imshow(wordcloud)\n",
    "\n",
    "plt.axis(\"off\")\n",
    "plt.show()"
   ]
  },
  {
   "cell_type": "code",
   "execution_count": 85,
   "metadata": {},
   "outputs": [],
   "source": [
    "cv_train = cvec.transform(X_train).todense()\n",
    "cv_test = cvec.transform(X_test).todense()"
   ]
  },
  {
   "cell_type": "code",
   "execution_count": 86,
   "metadata": {},
   "outputs": [
    {
     "data": {
      "text/plain": [
       "LogisticRegression(C=1.0, class_weight=None, dual=False, fit_intercept=True,\n",
       "          intercept_scaling=1, max_iter=100, multi_class='ovr', n_jobs=1,\n",
       "          penalty='l2', random_state=42, solver='liblinear', tol=0.0001,\n",
       "          verbose=0, warm_start=False)"
      ]
     },
     "execution_count": 86,
     "metadata": {},
     "output_type": "execute_result"
    }
   ],
   "source": [
    "lr = LogisticRegression(random_state=42)\n",
    "lr.fit(cv_train, y_train)"
   ]
  },
  {
   "cell_type": "code",
   "execution_count": 87,
   "metadata": {},
   "outputs": [
    {
     "data": {
      "text/plain": [
       "(0.96284370477568737, 0.76470588235294112)"
      ]
     },
     "execution_count": 87,
     "metadata": {},
     "output_type": "execute_result"
    }
   ],
   "source": [
    "lr.score(cv_train, y_train), lr.score(cv_test, y_test)"
   ]
  },
  {
   "cell_type": "code",
   "execution_count": 88,
   "metadata": {},
   "outputs": [
    {
     "data": {
      "text/plain": [
       "0.72845753667711011"
      ]
     },
     "execution_count": 88,
     "metadata": {},
     "output_type": "execute_result"
    }
   ],
   "source": [
    "cross_val_score(lr, cv_test, y_test, scoring='accuracy', cv=7).mean()"
   ]
  },
  {
   "cell_type": "code",
   "execution_count": 89,
   "metadata": {},
   "outputs": [
    {
     "name": "stdout",
     "output_type": "stream",
     "text": [
      "             precision    recall  f1-score   support\n",
      "\n",
      "          0       0.77      0.81      0.79      4927\n",
      "          1       0.76      0.71      0.74      4287\n",
      "\n",
      "avg / total       0.76      0.76      0.76      9214\n",
      "\n"
     ]
    }
   ],
   "source": [
    "print(classification_report(y_test, lr.predict(cv_test)))"
   ]
  },
  {
   "cell_type": "code",
   "execution_count": 91,
   "metadata": {},
   "outputs": [
    {
     "name": "stdout",
     "output_type": "stream",
     "text": [
      "[[3982  945]\n",
      " [1223 3064]]\n"
     ]
    }
   ],
   "source": [
    "print(confusion_matrix(y_test, lr.predict(cv_test)))\n",
    "# Getting a lot of false positives.\n",
    "# Model is predicting article is not right wing when it actually is"
   ]
  },
  {
   "cell_type": "code",
   "execution_count": 92,
   "metadata": {},
   "outputs": [],
   "source": [
    "cfs = lr.coef_[0]\n",
    "fts = cvec.get_feature_names()"
   ]
  },
  {
   "cell_type": "code",
   "execution_count": 93,
   "metadata": {},
   "outputs": [
    {
     "data": {
      "text/html": [
       "<div>\n",
       "<style scoped>\n",
       "    .dataframe tbody tr th:only-of-type {\n",
       "        vertical-align: middle;\n",
       "    }\n",
       "\n",
       "    .dataframe tbody tr th {\n",
       "        vertical-align: top;\n",
       "    }\n",
       "\n",
       "    .dataframe thead th {\n",
       "        text-align: right;\n",
       "    }\n",
       "</style>\n",
       "<table border=\"1\" class=\"dataframe\">\n",
       "  <thead>\n",
       "    <tr style=\"text-align: right;\">\n",
       "      <th></th>\n",
       "      <th>feat</th>\n",
       "      <th>abs</th>\n",
       "      <th>coef</th>\n",
       "    </tr>\n",
       "  </thead>\n",
       "  <tbody>\n",
       "    <tr>\n",
       "      <th>10635</th>\n",
       "      <td>joins discuss</td>\n",
       "      <td>2.848528</td>\n",
       "      <td>-2.848528</td>\n",
       "    </tr>\n",
       "    <tr>\n",
       "      <th>7762</th>\n",
       "      <td>fmr</td>\n",
       "      <td>2.781032</td>\n",
       "      <td>-2.781032</td>\n",
       "    </tr>\n",
       "    <tr>\n",
       "      <th>5441</th>\n",
       "      <td>delingpole</td>\n",
       "      <td>2.498305</td>\n",
       "      <td>2.498305</td>\n",
       "    </tr>\n",
       "    <tr>\n",
       "      <th>13927</th>\n",
       "      <td>nolte</td>\n",
       "      <td>2.408937</td>\n",
       "      <td>2.408937</td>\n",
       "    </tr>\n",
       "    <tr>\n",
       "      <th>22395</th>\n",
       "      <td>visit post</td>\n",
       "      <td>2.293419</td>\n",
       "      <td>2.293419</td>\n",
       "    </tr>\n",
       "    <tr>\n",
       "      <th>2862</th>\n",
       "      <td>broadcast</td>\n",
       "      <td>2.266196</td>\n",
       "      <td>2.266196</td>\n",
       "    </tr>\n",
       "    <tr>\n",
       "      <th>21829</th>\n",
       "      <td>tucker</td>\n",
       "      <td>2.243125</td>\n",
       "      <td>2.243125</td>\n",
       "    </tr>\n",
       "    <tr>\n",
       "      <th>8433</th>\n",
       "      <td>goodnewsruhles</td>\n",
       "      <td>2.142707</td>\n",
       "      <td>-2.142707</td>\n",
       "    </tr>\n",
       "    <tr>\n",
       "      <th>20839</th>\n",
       "      <td>times local</td>\n",
       "      <td>2.113027</td>\n",
       "      <td>2.113027</td>\n",
       "    </tr>\n",
       "    <tr>\n",
       "      <th>10032</th>\n",
       "      <td>insight</td>\n",
       "      <td>2.103617</td>\n",
       "      <td>2.103617</td>\n",
       "    </tr>\n",
       "    <tr>\n",
       "      <th>11807</th>\n",
       "      <td>links</td>\n",
       "      <td>1.954393</td>\n",
       "      <td>1.954393</td>\n",
       "    </tr>\n",
       "    <tr>\n",
       "      <th>14067</th>\n",
       "      <td>nr</td>\n",
       "      <td>1.931093</td>\n",
       "      <td>1.931093</td>\n",
       "    </tr>\n",
       "    <tr>\n",
       "      <th>11699</th>\n",
       "      <td>lgbtq</td>\n",
       "      <td>1.869136</td>\n",
       "      <td>-1.869136</td>\n",
       "    </tr>\n",
       "    <tr>\n",
       "      <th>16254</th>\n",
       "      <td>queer</td>\n",
       "      <td>1.822175</td>\n",
       "      <td>-1.822175</td>\n",
       "    </tr>\n",
       "    <tr>\n",
       "      <th>2405</th>\n",
       "      <td>big question</td>\n",
       "      <td>1.811977</td>\n",
       "      <td>-1.811977</td>\n",
       "    </tr>\n",
       "  </tbody>\n",
       "</table>\n",
       "</div>"
      ],
      "text/plain": [
       "                 feat       abs      coef\n",
       "10635   joins discuss  2.848528 -2.848528\n",
       "7762              fmr  2.781032 -2.781032\n",
       "5441       delingpole  2.498305  2.498305\n",
       "13927           nolte  2.408937  2.408937\n",
       "22395      visit post  2.293419  2.293419\n",
       "2862        broadcast  2.266196  2.266196\n",
       "21829          tucker  2.243125  2.243125\n",
       "8433   goodnewsruhles  2.142707 -2.142707\n",
       "20839     times local  2.113027  2.113027\n",
       "10032         insight  2.103617  2.103617\n",
       "11807           links  1.954393  1.954393\n",
       "14067              nr  1.931093  1.931093\n",
       "11699           lgbtq  1.869136 -1.869136\n",
       "16254           queer  1.822175 -1.822175\n",
       "2405     big question  1.811977 -1.811977"
      ]
     },
     "execution_count": 93,
     "metadata": {},
     "output_type": "execute_result"
    }
   ],
   "source": [
    "pd.DataFrame(\n",
    "    list(zip(fts, np.abs(cfs), cfs)),\n",
    "    columns=['feat','abs','coef']).sort_values('abs',ascending=False).head(15)\n",
    "# Still some noise to correct, but looking better than previous dead giveaways of source"
   ]
  },
  {
   "cell_type": "markdown",
   "metadata": {},
   "source": [
    "**Passive Aggressive Classifier** on Same CountVectorized data:"
   ]
  },
  {
   "cell_type": "code",
   "execution_count": 94,
   "metadata": {},
   "outputs": [],
   "source": [
    "pac = PassiveAggressiveClassifier(C=0.5, random_state=42)"
   ]
  },
  {
   "cell_type": "code",
   "execution_count": 95,
   "metadata": {},
   "outputs": [
    {
     "data": {
      "text/plain": [
       "0.9154486251808972"
      ]
     },
     "execution_count": 95,
     "metadata": {},
     "output_type": "execute_result"
    }
   ],
   "source": [
    "pac.fit(cv_train, y_train)\n",
    "pac.score(cv_train, y_train)"
   ]
  },
  {
   "cell_type": "code",
   "execution_count": 96,
   "metadata": {},
   "outputs": [
    {
     "data": {
      "text/plain": [
       "0.74701541133058391"
      ]
     },
     "execution_count": 96,
     "metadata": {},
     "output_type": "execute_result"
    }
   ],
   "source": [
    "pac.score(cv_test, y_test)"
   ]
  },
  {
   "cell_type": "code",
   "execution_count": 97,
   "metadata": {},
   "outputs": [
    {
     "data": {
      "text/plain": [
       "0.70696935242130721"
      ]
     },
     "execution_count": 97,
     "metadata": {},
     "output_type": "execute_result"
    }
   ],
   "source": [
    "cross_val_score(pac, cv_test, y_test, scoring='accuracy', cv=7).mean()"
   ]
  },
  {
   "cell_type": "markdown",
   "metadata": {},
   "source": [
    "### TfIdf Vectorizer"
   ]
  },
  {
   "cell_type": "code",
   "execution_count": 98,
   "metadata": {},
   "outputs": [],
   "source": [
    "tf = TfidfVectorizer(strip_accents='unicode', preprocessor=my_preprocessor, ngram_range=(2,4),\n",
    "                     stop_words=cust_stop_words, min_df=2)"
   ]
  },
  {
   "cell_type": "code",
   "execution_count": 99,
   "metadata": {},
   "outputs": [],
   "source": [
    "tf.fit(X_train, y_train)\n",
    "tf_train = tf.transform(X_train)\n",
    "tf_test = tf.transform(X_test)"
   ]
  },
  {
   "cell_type": "code",
   "execution_count": 100,
   "metadata": {},
   "outputs": [],
   "source": [
    "lr = LogisticRegression(random_state=42)\n",
    "parameters = {\n",
    "    'penalty': ['l2','l1'],\n",
    "    'C': [1.0,0.6]}\n",
    "\n",
    "grid = GridSearchCV(lr, parameters, scoring='accuracy')"
   ]
  },
  {
   "cell_type": "code",
   "execution_count": 101,
   "metadata": {},
   "outputs": [
    {
     "data": {
      "text/plain": [
       "(0.92243125904486256, 0.73855003255914908)"
      ]
     },
     "execution_count": 101,
     "metadata": {},
     "output_type": "execute_result"
    }
   ],
   "source": [
    "grid.fit(tf_train, y_train)\n",
    "grid.score(tf_train, y_train), grid.score(tf_test, y_test)"
   ]
  },
  {
   "cell_type": "code",
   "execution_count": 102,
   "metadata": {},
   "outputs": [
    {
     "data": {
      "text/plain": [
       "{'C': 1.0, 'penalty': 'l2'}"
      ]
     },
     "execution_count": 102,
     "metadata": {},
     "output_type": "execute_result"
    }
   ],
   "source": [
    "grid.best_params_"
   ]
  },
  {
   "cell_type": "code",
   "execution_count": 103,
   "metadata": {},
   "outputs": [
    {
     "name": "stdout",
     "output_type": "stream",
     "text": [
      "             precision    recall  f1-score   support\n",
      "\n",
      "          0       0.72      0.82      0.77      4927\n",
      "          1       0.76      0.64      0.69      4287\n",
      "\n",
      "avg / total       0.74      0.74      0.74      9214\n",
      "\n"
     ]
    }
   ],
   "source": [
    "print(classification_report(y_test, grid.predict(tf_test)))"
   ]
  },
  {
   "cell_type": "code",
   "execution_count": 105,
   "metadata": {},
   "outputs": [
    {
     "name": "stdout",
     "output_type": "stream",
     "text": [
      "[[4064  863]\n",
      " [1546 2741]]\n"
     ]
    }
   ],
   "source": [
    "print(confusion_matrix(y_test, grid.predict(tf_test)))\n",
    "# More false positives but fewer false negatives"
   ]
  },
  {
   "cell_type": "code",
   "execution_count": 106,
   "metadata": {},
   "outputs": [
    {
     "data": {
      "text/html": [
       "<div>\n",
       "<style scoped>\n",
       "    .dataframe tbody tr th:only-of-type {\n",
       "        vertical-align: middle;\n",
       "    }\n",
       "\n",
       "    .dataframe tbody tr th {\n",
       "        vertical-align: top;\n",
       "    }\n",
       "\n",
       "    .dataframe thead th {\n",
       "        text-align: right;\n",
       "    }\n",
       "</style>\n",
       "<table border=\"1\" class=\"dataframe\">\n",
       "  <thead>\n",
       "    <tr style=\"text-align: right;\">\n",
       "      <th></th>\n",
       "      <th>feat</th>\n",
       "      <th>abs</th>\n",
       "      <th>coef</th>\n",
       "    </tr>\n",
       "  </thead>\n",
       "  <tbody>\n",
       "    <tr>\n",
       "      <th>47483</th>\n",
       "      <td>michael cohen</td>\n",
       "      <td>4.370050</td>\n",
       "      <td>-4.370050</td>\n",
       "    </tr>\n",
       "    <tr>\n",
       "      <th>38742</th>\n",
       "      <td>joins discuss</td>\n",
       "      <td>4.056380</td>\n",
       "      <td>-4.056380</td>\n",
       "    </tr>\n",
       "    <tr>\n",
       "      <th>35238</th>\n",
       "      <td>ig report</td>\n",
       "      <td>3.414464</td>\n",
       "      <td>3.414464</td>\n",
       "    </tr>\n",
       "    <tr>\n",
       "      <th>77969</th>\n",
       "      <td>times local</td>\n",
       "      <td>3.195757</td>\n",
       "      <td>3.195757</td>\n",
       "    </tr>\n",
       "    <tr>\n",
       "      <th>76722</th>\n",
       "      <td>tel aviv</td>\n",
       "      <td>3.082122</td>\n",
       "      <td>3.082122</td>\n",
       "    </tr>\n",
       "    <tr>\n",
       "      <th>66101</th>\n",
       "      <td>rudy giuliani</td>\n",
       "      <td>3.045239</td>\n",
       "      <td>-3.045239</td>\n",
       "    </tr>\n",
       "    <tr>\n",
       "      <th>58979</th>\n",
       "      <td>president trump</td>\n",
       "      <td>3.043469</td>\n",
       "      <td>3.043469</td>\n",
       "    </tr>\n",
       "    <tr>\n",
       "      <th>31829</th>\n",
       "      <td>gun control</td>\n",
       "      <td>2.961285</td>\n",
       "      <td>2.961285</td>\n",
       "    </tr>\n",
       "    <tr>\n",
       "      <th>50591</th>\n",
       "      <td>need know</td>\n",
       "      <td>2.901651</td>\n",
       "      <td>-2.901651</td>\n",
       "    </tr>\n",
       "    <tr>\n",
       "      <th>57161</th>\n",
       "      <td>police say</td>\n",
       "      <td>2.885630</td>\n",
       "      <td>2.885630</td>\n",
       "    </tr>\n",
       "    <tr>\n",
       "      <th>54632</th>\n",
       "      <td>panel discusses</td>\n",
       "      <td>2.842759</td>\n",
       "      <td>-2.842759</td>\n",
       "    </tr>\n",
       "    <tr>\n",
       "      <th>13061</th>\n",
       "      <td>charles krauthammer</td>\n",
       "      <td>2.817736</td>\n",
       "      <td>2.817736</td>\n",
       "    </tr>\n",
       "    <tr>\n",
       "      <th>66061</th>\n",
       "      <td>royal wedding</td>\n",
       "      <td>2.807622</td>\n",
       "      <td>-2.807622</td>\n",
       "    </tr>\n",
       "    <tr>\n",
       "      <th>43058</th>\n",
       "      <td>left wing</td>\n",
       "      <td>2.781428</td>\n",
       "      <td>2.781428</td>\n",
       "    </tr>\n",
       "    <tr>\n",
       "      <th>28885</th>\n",
       "      <td>free speech</td>\n",
       "      <td>2.753408</td>\n",
       "      <td>2.753408</td>\n",
       "    </tr>\n",
       "  </tbody>\n",
       "</table>\n",
       "</div>"
      ],
      "text/plain": [
       "                      feat       abs      coef\n",
       "47483        michael cohen  4.370050 -4.370050\n",
       "38742        joins discuss  4.056380 -4.056380\n",
       "35238            ig report  3.414464  3.414464\n",
       "77969          times local  3.195757  3.195757\n",
       "76722             tel aviv  3.082122  3.082122\n",
       "66101        rudy giuliani  3.045239 -3.045239\n",
       "58979      president trump  3.043469  3.043469\n",
       "31829          gun control  2.961285  2.961285\n",
       "50591            need know  2.901651 -2.901651\n",
       "57161           police say  2.885630  2.885630\n",
       "54632      panel discusses  2.842759 -2.842759\n",
       "13061  charles krauthammer  2.817736  2.817736\n",
       "66061        royal wedding  2.807622 -2.807622\n",
       "43058            left wing  2.781428  2.781428\n",
       "28885          free speech  2.753408  2.753408"
      ]
     },
     "execution_count": 106,
     "metadata": {},
     "output_type": "execute_result"
    }
   ],
   "source": [
    "fts = tf.get_feature_names()\n",
    "cfs = grid.best_estimator_.coef_[0]\n",
    "\n",
    "pd.DataFrame(list(zip(fts, np.abs(cfs), cfs)),\n",
    "             columns=['feat','abs','coef']).sort_values('abs',ascending=False).head(15)\n",
    "# Much, much less noise than CountVectorizer"
   ]
  },
  {
   "cell_type": "code",
   "execution_count": 107,
   "metadata": {},
   "outputs": [
    {
     "data": {
      "text/plain": [
       "array(['Breitbart', 'CNN', 'Fox News', 'National Review', 'Infowars',\n",
       "       'MSNBC'], dtype=object)"
      ]
     },
     "execution_count": 107,
     "metadata": {},
     "output_type": "execute_result"
    }
   ],
   "source": [
    "text[text['combined'].str.contains('IG report')]['source'].unique()"
   ]
  },
  {
   "cell_type": "markdown",
   "metadata": {},
   "source": [
    "<a id=\"numerical-only\"></a>\n",
    "### Look at Numerical Features Only\n",
    "[Return to Index](#contents)"
   ]
  },
  {
   "cell_type": "code",
   "execution_count": 108,
   "metadata": {},
   "outputs": [],
   "source": [
    "X = df[[col for col in df.columns if col != 'yes_right']]\n",
    "y = df['yes_right']"
   ]
  },
  {
   "cell_type": "code",
   "execution_count": 109,
   "metadata": {},
   "outputs": [],
   "source": [
    "X_train, X_test, y_train, y_test = train_test_split(X, y, random_state=42, stratify=y)"
   ]
  },
  {
   "cell_type": "code",
   "execution_count": 110,
   "metadata": {},
   "outputs": [
    {
     "data": {
      "text/plain": [
       "Pipeline(memory=None,\n",
       "     steps=[('model', LogisticRegression(C=1.0, class_weight=None, dual=False, fit_intercept=True,\n",
       "          intercept_scaling=1, max_iter=100, multi_class='ovr', n_jobs=1,\n",
       "          penalty='l2', random_state=None, solver='liblinear', tol=0.0001,\n",
       "          verbose=0, warm_start=False))])"
      ]
     },
     "execution_count": 110,
     "metadata": {},
     "output_type": "execute_result"
    }
   ],
   "source": [
    "pipe = Pipeline([\n",
    "#     ('poly', PolynomialFeatures(interaction_only=True)),\n",
    "    ('model', LogisticRegression())\n",
    "])\n",
    "\n",
    "pipe.fit(X_train, y_train)"
   ]
  },
  {
   "cell_type": "code",
   "execution_count": 111,
   "metadata": {},
   "outputs": [
    {
     "data": {
      "text/plain": [
       "(0.6296671490593343, 0.63338398089863257)"
      ]
     },
     "execution_count": 111,
     "metadata": {},
     "output_type": "execute_result"
    }
   ],
   "source": [
    "pipe.score(X_train, y_train), pipe.score(X_test, y_test)"
   ]
  },
  {
   "cell_type": "code",
   "execution_count": 113,
   "metadata": {},
   "outputs": [
    {
     "data": {
      "text/html": [
       "<div>\n",
       "<style scoped>\n",
       "    .dataframe tbody tr th:only-of-type {\n",
       "        vertical-align: middle;\n",
       "    }\n",
       "\n",
       "    .dataframe tbody tr th {\n",
       "        vertical-align: top;\n",
       "    }\n",
       "\n",
       "    .dataframe thead th {\n",
       "        text-align: right;\n",
       "    }\n",
       "</style>\n",
       "<table border=\"1\" class=\"dataframe\">\n",
       "  <thead>\n",
       "    <tr style=\"text-align: right;\">\n",
       "      <th></th>\n",
       "      <th>coef</th>\n",
       "      <th>coef_abs</th>\n",
       "      <th>feat</th>\n",
       "    </tr>\n",
       "  </thead>\n",
       "  <tbody>\n",
       "    <tr>\n",
       "      <th>24</th>\n",
       "      <td>-3.542671</td>\n",
       "      <td>3.542671</td>\n",
       "      <td>PRP$_title</td>\n",
       "    </tr>\n",
       "    <tr>\n",
       "      <th>55</th>\n",
       "      <td>3.161655</td>\n",
       "      <td>3.161655</td>\n",
       "      <td>NNPS_desc</td>\n",
       "    </tr>\n",
       "    <tr>\n",
       "      <th>42</th>\n",
       "      <td>-3.045602</td>\n",
       "      <td>3.045602</td>\n",
       "      <td>CC_desc</td>\n",
       "    </tr>\n",
       "    <tr>\n",
       "      <th>6</th>\n",
       "      <td>2.939313</td>\n",
       "      <td>2.939313</td>\n",
       "      <td>avg_word_len_title</td>\n",
       "    </tr>\n",
       "    <tr>\n",
       "      <th>43</th>\n",
       "      <td>2.722251</td>\n",
       "      <td>2.722251</td>\n",
       "      <td>CD_desc</td>\n",
       "    </tr>\n",
       "    <tr>\n",
       "      <th>59</th>\n",
       "      <td>-2.410286</td>\n",
       "      <td>2.410286</td>\n",
       "      <td>PRP_desc</td>\n",
       "    </tr>\n",
       "    <tr>\n",
       "      <th>60</th>\n",
       "      <td>-2.396420</td>\n",
       "      <td>2.396420</td>\n",
       "      <td>PRP$_desc</td>\n",
       "    </tr>\n",
       "    <tr>\n",
       "      <th>71</th>\n",
       "      <td>1.986782</td>\n",
       "      <td>1.986782</td>\n",
       "      <td>VBN_desc</td>\n",
       "    </tr>\n",
       "    <tr>\n",
       "      <th>77</th>\n",
       "      <td>-1.864823</td>\n",
       "      <td>1.864823</td>\n",
       "      <td>WRB_desc</td>\n",
       "    </tr>\n",
       "    <tr>\n",
       "      <th>44</th>\n",
       "      <td>-1.799065</td>\n",
       "      <td>1.799065</td>\n",
       "      <td>DT_desc</td>\n",
       "    </tr>\n",
       "  </tbody>\n",
       "</table>\n",
       "</div>"
      ],
      "text/plain": [
       "        coef  coef_abs                feat\n",
       "24 -3.542671  3.542671          PRP$_title\n",
       "55  3.161655  3.161655           NNPS_desc\n",
       "42 -3.045602  3.045602             CC_desc\n",
       "6   2.939313  2.939313  avg_word_len_title\n",
       "43  2.722251  2.722251             CD_desc\n",
       "59 -2.410286  2.410286            PRP_desc\n",
       "60 -2.396420  2.396420           PRP$_desc\n",
       "71  1.986782  1.986782            VBN_desc\n",
       "77 -1.864823  1.864823            WRB_desc\n",
       "44 -1.799065  1.799065             DT_desc"
      ]
     },
     "execution_count": 113,
     "metadata": {},
     "output_type": "execute_result"
    }
   ],
   "source": [
    "pd.DataFrame(list(zip(list(pipe.steps[0][1].coef_[0]), np.abs(list(pipe.steps[0][1].coef_[0])), X.columns)),\n",
    "             columns=['coef','coef_abs','feat']).sort_values('coef_abs', ascending=False).head(10)"
   ]
  },
  {
   "cell_type": "markdown",
   "metadata": {},
   "source": [
    "Again, for reference, part of speech tag descriptions can be found [here](https://www.clips.uantwerpen.be/pages/mbsp-tags). PRP$ is possessive pronoun, NNPS is plural proper noun, and CC is conjunction.\n",
    "\n",
    "It is interesting to note that using a possessive pronoun has a negative correlation with being right wing. This includes plural possessive pronouns, such as in \"*Our* Revolution\"."
   ]
  },
  {
   "cell_type": "markdown",
   "metadata": {},
   "source": [
    "<a id=\"pipeline\"></a>\n",
    "# Pipeline (Combining Text and Numerical Features)\n",
    "[Return to Index](#contents)\n",
    "\n",
    "In the Pipeline, four different models gave me around the same best accuracy scores: Passive Aggressive Classifier, Stochastic Gradient Descent Classifier, Logistic Regression, and Multinomial Naive Bayes Classifier. I decided to stick with Passive Aggressive Classifier as it had a slight edge on the others (not just because I love the name). There were a lot of different parameters to tune, in the model as well as in the Vectorizer, and I could spend a lot more time playing with this."
   ]
  },
  {
   "cell_type": "code",
   "execution_count": 114,
   "metadata": {},
   "outputs": [],
   "source": [
    "# For Pipeline:\n",
    "X = pd.concat([text['combined'], df[[col for col in df.columns if col != 'yes_right']]], axis=1)\n",
    "y = df['yes_right']\n",
    "num_cols = [col for col in X.columns if col != 'combined']"
   ]
  },
  {
   "cell_type": "code",
   "execution_count": 115,
   "metadata": {},
   "outputs": [],
   "source": [
    "X_train, X_test, y_train, y_test = train_test_split(X, y, random_state=42, stratify=y)"
   ]
  },
  {
   "cell_type": "code",
   "execution_count": 116,
   "metadata": {},
   "outputs": [],
   "source": [
    "# Function for FeatureUnion to extract data\n",
    "class DfExtract(BaseEstimator, TransformerMixin):\n",
    "    def __init__(self, column):\n",
    "        self.column = column\n",
    "    def fit(self, X, y=None):\n",
    "        return self\n",
    "    def transform(self, X, y=None):\n",
    "        if len(self.column) > 1:\n",
    "            return pd.DataFrame(X[self.column])\n",
    "        else:\n",
    "            return pd.Series(X[self.column[0]]) \n",
    "    def get_feature_names(self):\n",
    "        return X.columns.tolist()"
   ]
  },
  {
   "cell_type": "code",
   "execution_count": 117,
   "metadata": {},
   "outputs": [],
   "source": [
    "text_pipe = Pipeline([\n",
    "            ('ext', DfExtract(['combined'])),\n",
    "            ('tf', TfidfVectorizer(preprocessor=my_preprocessor,\n",
    "                                   strip_accents='unicode',\n",
    "                                   stop_words=cust_stop_words, min_df=2,\n",
    "                                   ngram_range=(2,4), use_idf=True, binary=False)\n",
    "            ),\n",
    "#             ('lda', TruncatedSVD(n_components=500))\n",
    "        ])\n",
    "\n",
    "num_pipe = Pipeline([\n",
    "            ('ext', DfExtract(num_cols)),\n",
    "#             ('poly', PolynomialFeatures(interaction_only=True))\n",
    "            ])"
   ]
  },
  {
   "cell_type": "code",
   "execution_count": 118,
   "metadata": {},
   "outputs": [],
   "source": [
    "feat_union = FeatureUnion([('text', text_pipe),('numerical', num_pipe)],\n",
    "                          transformer_weights={'text': 2, 'numerical': 1})"
   ]
  },
  {
   "cell_type": "code",
   "execution_count": 119,
   "metadata": {},
   "outputs": [],
   "source": [
    "pipe = Pipeline([\n",
    "    ('features', feat_union),\n",
    "#     ('lda', TruncatedSVD(n_components=100)),\n",
    "#     ('lr', LogisticRegression(random_state=42)),\n",
    "    ('pac', PassiveAggressiveClassifier(fit_intercept=True, random_state=42))\n",
    "#     ('mnb', MultinomialNB())\n",
    "#     ('sgdc', SGDClassifier(random_state=42))\n",
    "])"
   ]
  },
  {
   "cell_type": "code",
   "execution_count": 120,
   "metadata": {},
   "outputs": [],
   "source": [
    "params = {\n",
    "#     'lr__penalty': ['l1','l2'],\n",
    "#     'lr__C': [0.33, 0.5, 0.75, 1.0],\n",
    "    'pac__C': [0.25, 0.35, 0.45, 0.5, 0.65, 1],\n",
    "    'pac__loss': ['hinge','squared_hinge'],\n",
    "    'pac__average': [True, False]\n",
    "#     'mnb__alpha': [0.001, 0.01, 0.025, 0.05, 0.1, 0.15, 0.2, 0.25]\n",
    "#     'sgdc__loss': ['log','perceptron'],\n",
    "#     'sgdc__penalty': ['l2','elasticnet'],\n",
    "#     'sgdc__alpha': [0.00001, 0.0001, 0.001]\n",
    "}\n",
    "\n",
    "gs = GridSearchCV(pipe, params, scoring='accuracy')"
   ]
  },
  {
   "cell_type": "code",
   "execution_count": 121,
   "metadata": {},
   "outputs": [
    {
     "data": {
      "text/plain": [
       "GridSearchCV(cv=None, error_score='raise',\n",
       "       estimator=Pipeline(memory=None,\n",
       "     steps=[('features', FeatureUnion(n_jobs=1,\n",
       "       transformer_list=[('text', Pipeline(memory=None,\n",
       "     steps=[('ext', DfExtract(column=['combined'])), ('tf', TfidfVectorizer(analyzer='word', binary=False, decode_error='strict',\n",
       "        dtype=<class 'numpy.int64'>, encoding='utf-8', input='content',...     n_jobs=1, random_state=42, shuffle=True, tol=None, verbose=0,\n",
       "              warm_start=False))]),\n",
       "       fit_params=None, iid=True, n_jobs=1,\n",
       "       param_grid={'pac__C': [0.25, 0.35, 0.45, 0.5, 0.65, 1], 'pac__loss': ['hinge', 'squared_hinge'], 'pac__average': [True, False]},\n",
       "       pre_dispatch='2*n_jobs', refit=True, return_train_score='warn',\n",
       "       scoring='accuracy', verbose=0)"
      ]
     },
     "execution_count": 121,
     "metadata": {},
     "output_type": "execute_result"
    }
   ],
   "source": [
    "gs.fit(X_train, y_train)"
   ]
  },
  {
   "cell_type": "code",
   "execution_count": 122,
   "metadata": {},
   "outputs": [
    {
     "data": {
      "text/plain": [
       "0.98133140376266281"
      ]
     },
     "execution_count": 122,
     "metadata": {},
     "output_type": "execute_result"
    }
   ],
   "source": [
    "gs.score(X_train, y_train)"
   ]
  },
  {
   "cell_type": "code",
   "execution_count": 123,
   "metadata": {},
   "outputs": [
    {
     "data": {
      "text/plain": [
       "0.75189928369871939"
      ]
     },
     "execution_count": 123,
     "metadata": {},
     "output_type": "execute_result"
    }
   ],
   "source": [
    "gs.score(X_test, y_test)"
   ]
  },
  {
   "cell_type": "code",
   "execution_count": 124,
   "metadata": {},
   "outputs": [
    {
     "data": {
      "text/plain": [
       "{'pac__C': 0.25, 'pac__average': True, 'pac__loss': 'hinge'}"
      ]
     },
     "execution_count": 124,
     "metadata": {},
     "output_type": "execute_result"
    }
   ],
   "source": [
    "gs.best_params_"
   ]
  },
  {
   "cell_type": "markdown",
   "metadata": {},
   "source": [
    "<a id=\"eval-model\"></a>\n",
    "# Evaluate Model\n",
    "[Return to Index](#contents)\n",
    "\n",
    "Evaluating the first models that looked at text data and numerical data separately, it is clear that TfIdf Vectorizer did its job. The inverse document frequency weighting factor greatly reduced the amount of noise in the strongest coefficients compared to the Count Vectorizer model. Furthermore, as accuracy increased with TfIdf, the amount of false positives increased and false negatives increased. The recall score for the positive class was only 64%. This makes sense as there are several thousand more not right wing sources than right wing sources. I hoped that I could account for this in the Pipeline model that balances text data with numerical data.\n",
    "\n",
    "In the main Pipeline model, the 75.2% accuracy score isn’t as good as I had hoped for, but it is important to note that this score declined significantly the more I evaluated the model results and appropriately cleaned the data more, reducing noise and source giveaways. This helped to reduce overfitting; previously the train set score was a perfect 1.0. After cleaning the data more, the model will likely perform better on other political news media text outside of the data I have collected. For example, “Fast Facts” was previously a bi-gram with a very strong negative coefficient. This ended up being a giveaway for CNN. Removing it didn’t help my accuracy score, but improved the general performance of the model as it is intended to function.\n",
    "\n",
    "Furthermore, compared to the models I ran on the text data and numerical data separately, the Pipeline using the Passive Aggressive Classifier accounted for the previous issue of having many false positives. Accuracy, recall, precision, and F1 scores were all 75%, as there were about the same about of false positives as false negatives. Although there are no ethical considerations to consider when classifying political text—misclassifying a right wing article as not right wing isn’t any better or worse than misclassifying a not right wing article as right wing—it is an indication that the model is performing better overall when the errors are more balanced because the classes are slightly unbalanced in favor of not right wing sources. "
   ]
  },
  {
   "cell_type": "code",
   "execution_count": 125,
   "metadata": {},
   "outputs": [
    {
     "data": {
      "image/png": "[encoded data removed]",
      "text/plain": [
       "<Figure size 576x360 with 1 Axes>"
      ]
     },
     "metadata": {},
     "output_type": "display_data"
    }
   ],
   "source": [
    "y_counts = pd.DataFrame(y_test)['yes_right'].value_counts()\n",
    "yhat_counts = pd.DataFrame(gs.predict(X_test))[0].value_counts()\n",
    "pred_df = pd.DataFrame(pd.concat([y_counts, yhat_counts], axis=0))\n",
    "pred_df['index']=['Actual Not Right','Actual Right','Predicted Not Right', 'Predicted Right']\n",
    "pred_df.set_index('index', inplace=True)\n",
    "pred_df.plot(kind='bar', rot=45, fontsize=12, figsize=(8,5), legend=False, use_index=True)\n",
    "plt.title(\"Predicted Labels and Actual Labels\", fontsize=16)\n",
    "plt.ylabel('Counts');"
   ]
  },
  {
   "cell_type": "code",
   "execution_count": 126,
   "metadata": {},
   "outputs": [
    {
     "name": "stdout",
     "output_type": "stream",
     "text": [
      "             precision    recall  f1-score   support\n",
      "\n",
      "          0       0.76      0.79      0.77      4927\n",
      "          1       0.75      0.71      0.73      4287\n",
      "\n",
      "avg / total       0.75      0.75      0.75      9214\n",
      "\n"
     ]
    }
   ],
   "source": [
    "print(classification_report(y_test, gs.predict(X_test)))"
   ]
  },
  {
   "cell_type": "code",
   "execution_count": 127,
   "metadata": {},
   "outputs": [],
   "source": [
    "import itertools\n",
    "# From ScikitLearn's documentation:\n",
    "def plot_confusion_matrix(cm, classes,\n",
    "                          normalize=False,\n",
    "                          title='Confusion matrix',\n",
    "                          cmap=plt.cm.Blues):\n",
    "    \"\"\"\n",
    "    This function prints and plots the confusion matrix.\n",
    "    Normalization can be applied by setting `normalize=True`.\n",
    "    \"\"\"\n",
    "    if normalize:\n",
    "        cm = cm.astype('float') / cm.sum(axis=1)[:, np.newaxis]\n",
    "        print(\"Normalized confusion matrix\")\n",
    "    else:\n",
    "        print('Confusion matrix, without normalization')\n",
    "\n",
    "    print(cm)\n",
    "\n",
    "    plt.imshow(cm, interpolation='nearest', cmap=cmap)\n",
    "    plt.title(title)\n",
    "    plt.colorbar()\n",
    "    tick_marks = np.arange(len(classes))\n",
    "    plt.xticks(tick_marks, classes, rotation=45)\n",
    "    plt.yticks(tick_marks, classes)\n",
    "\n",
    "    fmt = '.2f' if normalize else 'd'\n",
    "    thresh = cm.max() / 2.\n",
    "    for i, j in itertools.product(range(cm.shape[0]), range(cm.shape[1])):\n",
    "        plt.text(j, i, format(cm[i, j], fmt),\n",
    "                 horizontalalignment=\"center\",\n",
    "                 color=\"white\" if cm[i, j] > thresh else \"black\")\n",
    "\n",
    "    plt.tight_layout()\n",
    "    plt.ylabel('True label')\n",
    "    plt.xlabel('Predicted label')"
   ]
  },
  {
   "cell_type": "code",
   "execution_count": 128,
   "metadata": {},
   "outputs": [
    {
     "name": "stdout",
     "output_type": "stream",
     "text": [
      "Confusion matrix, without normalization\n",
      "[[3896 1031]\n",
      " [1255 3032]]\n"
     ]
    },
    {
     "data": {
      "image/png": "[encoded data removed]",
      "text/plain": [
       "<Figure size 576x576 with 2 Axes>"
      ]
     },
     "metadata": {},
     "output_type": "display_data"
    }
   ],
   "source": [
    "np.set_printoptions(precision=2)\n",
    "plt.figure(figsize=(8,8))\n",
    "plot_confusion_matrix(confusion_matrix(y_test, gs.predict(X_test)), classes=['Not Right Wing','Right Wing'],\n",
    "                      title='Confusion matrix')\n",
    "plt.show()"
   ]
  },
  {
   "cell_type": "markdown",
   "metadata": {},
   "source": [
    "#### How well does the model work for each news source?\n",
    "Make function with input source name, or for loop through `source.unique()`"
   ]
  },
  {
   "cell_type": "code",
   "execution_count": 129,
   "metadata": {},
   "outputs": [],
   "source": [
    "# Will work on this function when I have time"
   ]
  },
  {
   "cell_type": "markdown",
   "metadata": {},
   "source": [
    "<a id=\"answer-question\"></a>\n",
    "# Interpret Results\n",
    "[Return to Index](#contents)\n",
    "\n",
    "Interpreting this model has become less and less challenging the more the data has been appropriately cleaned. However, by looking at the strongest coefficients, it is clear there is still some work to do. “Geraldo Rivera” had not appeared in the top strongest coefficients until the most recent iteration of running the model. However, we are starting to see some n-grams that make sense, such as “far left anti” being correlated with right wing articles. As this model continues to be tuned, it will provide more insight into what kind of language is used differently based on the kind of news source the language is found in. A high amount of possessive pronouns in the article title has a strong correlation with being not right wing, for example. Furthermore, the word cloud displays words ignored by the model because they either occurred in too many documents, occurred in to few documents, or were cut off by feature selection. It is what you’d expect to see, but a fun graphic nevertheless. "
   ]
  },
  {
   "cell_type": "markdown",
   "metadata": {},
   "source": [
    "### Getting Feature Importances"
   ]
  },
  {
   "cell_type": "code",
   "execution_count": 130,
   "metadata": {},
   "outputs": [],
   "source": [
    "feature_names = text_pipe.fit(X_train, y_train).steps[1][1].get_feature_names()\n",
    "feature_names.extend(num_pipe.fit(X_train, y_train).steps[0][1].get_feature_names())"
   ]
  },
  {
   "cell_type": "code",
   "execution_count": 131,
   "metadata": {},
   "outputs": [],
   "source": [
    "pipe_coefs = list(gs.best_estimator_.steps[1][1].coef_[0])"
   ]
  },
  {
   "cell_type": "code",
   "execution_count": 134,
   "metadata": {},
   "outputs": [],
   "source": [
    "feature_names.remove(feature_names[0])"
   ]
  },
  {
   "cell_type": "code",
   "execution_count": 135,
   "metadata": {},
   "outputs": [],
   "source": [
    "importances = pd.DataFrame(list(zip(feature_names, pipe_coefs, np.abs(pipe_coefs))),\n",
    "                          columns=['feature','coef','abs_coef'])"
   ]
  },
  {
   "cell_type": "code",
   "execution_count": 136,
   "metadata": {},
   "outputs": [
    {
     "data": {
      "text/html": [
       "<div>\n",
       "<style scoped>\n",
       "    .dataframe tbody tr th:only-of-type {\n",
       "        vertical-align: middle;\n",
       "    }\n",
       "\n",
       "    .dataframe tbody tr th {\n",
       "        vertical-align: top;\n",
       "    }\n",
       "\n",
       "    .dataframe thead th {\n",
       "        text-align: right;\n",
       "    }\n",
       "</style>\n",
       "<table border=\"1\" class=\"dataframe\">\n",
       "  <thead>\n",
       "    <tr style=\"text-align: right;\">\n",
       "      <th></th>\n",
       "      <th>feature</th>\n",
       "      <th>coef</th>\n",
       "      <th>abs_coef</th>\n",
       "    </tr>\n",
       "  </thead>\n",
       "  <tbody>\n",
       "    <tr>\n",
       "      <th>38742</th>\n",
       "      <td>joins discuss allegations</td>\n",
       "      <td>-2.571948</td>\n",
       "      <td>2.571948</td>\n",
       "    </tr>\n",
       "    <tr>\n",
       "      <th>77969</th>\n",
       "      <td>times local 05</td>\n",
       "      <td>2.363979</td>\n",
       "      <td>2.363979</td>\n",
       "    </tr>\n",
       "    <tr>\n",
       "      <th>88213</th>\n",
       "      <td>PRP$_title</td>\n",
       "      <td>-2.002159</td>\n",
       "      <td>2.002159</td>\n",
       "    </tr>\n",
       "    <tr>\n",
       "      <th>51782</th>\n",
       "      <td>news news brexit</td>\n",
       "      <td>1.943806</td>\n",
       "      <td>1.943806</td>\n",
       "    </tr>\n",
       "    <tr>\n",
       "      <th>26515</th>\n",
       "      <td>far left anti</td>\n",
       "      <td>1.763821</td>\n",
       "      <td>1.763821</td>\n",
       "    </tr>\n",
       "    <tr>\n",
       "      <th>36243</th>\n",
       "      <td>ingraham angle discuss</td>\n",
       "      <td>1.763778</td>\n",
       "      <td>1.763778</td>\n",
       "    </tr>\n",
       "    <tr>\n",
       "      <th>35238</th>\n",
       "      <td>ig report calls</td>\n",
       "      <td>1.721798</td>\n",
       "      <td>1.721798</td>\n",
       "    </tr>\n",
       "    <tr>\n",
       "      <th>54632</th>\n",
       "      <td>panel discusses latest</td>\n",
       "      <td>-1.691897</td>\n",
       "      <td>1.691897</td>\n",
       "    </tr>\n",
       "    <tr>\n",
       "      <th>43058</th>\n",
       "      <td>left wing activist</td>\n",
       "      <td>1.686019</td>\n",
       "      <td>1.686019</td>\n",
       "    </tr>\n",
       "    <tr>\n",
       "      <th>13061</th>\n",
       "      <td>charles krauthammer beloved</td>\n",
       "      <td>1.656056</td>\n",
       "      <td>1.656056</td>\n",
       "    </tr>\n",
       "    <tr>\n",
       "      <th>83745</th>\n",
       "      <td>visit president</td>\n",
       "      <td>1.600684</td>\n",
       "      <td>1.600684</td>\n",
       "    </tr>\n",
       "    <tr>\n",
       "      <th>88195</th>\n",
       "      <td>avg_word_len_title</td>\n",
       "      <td>1.591092</td>\n",
       "      <td>1.591092</td>\n",
       "    </tr>\n",
       "    <tr>\n",
       "      <th>88231</th>\n",
       "      <td>CC_desc</td>\n",
       "      <td>-1.547167</td>\n",
       "      <td>1.547167</td>\n",
       "    </tr>\n",
       "    <tr>\n",
       "      <th>29948</th>\n",
       "      <td>geraldo rivera</td>\n",
       "      <td>1.493624</td>\n",
       "      <td>1.493624</td>\n",
       "    </tr>\n",
       "    <tr>\n",
       "      <th>76722</th>\n",
       "      <td>tel aviv capital</td>\n",
       "      <td>1.467232</td>\n",
       "      <td>1.467232</td>\n",
       "    </tr>\n",
       "  </tbody>\n",
       "</table>\n",
       "</div>"
      ],
      "text/plain": [
       "                           feature      coef  abs_coef\n",
       "38742    joins discuss allegations -2.571948  2.571948\n",
       "77969               times local 05  2.363979  2.363979\n",
       "88213                   PRP$_title -2.002159  2.002159\n",
       "51782             news news brexit  1.943806  1.943806\n",
       "26515                far left anti  1.763821  1.763821\n",
       "36243       ingraham angle discuss  1.763778  1.763778\n",
       "35238              ig report calls  1.721798  1.721798\n",
       "54632       panel discusses latest -1.691897  1.691897\n",
       "43058           left wing activist  1.686019  1.686019\n",
       "13061  charles krauthammer beloved  1.656056  1.656056\n",
       "83745              visit president  1.600684  1.600684\n",
       "88195           avg_word_len_title  1.591092  1.591092\n",
       "88231                      CC_desc -1.547167  1.547167\n",
       "29948               geraldo rivera  1.493624  1.493624\n",
       "76722             tel aviv capital  1.467232  1.467232"
      ]
     },
     "execution_count": 136,
     "metadata": {},
     "output_type": "execute_result"
    }
   ],
   "source": [
    "importances.sort_values('abs_coef', ascending=False).head(15)"
   ]
  },
  {
   "cell_type": "code",
   "execution_count": 137,
   "metadata": {},
   "outputs": [
    {
     "data": {
      "text/plain": [
       "array(['National Review'], dtype=object)"
      ]
     },
     "execution_count": 137,
     "metadata": {},
     "output_type": "execute_result"
    }
   ],
   "source": [
    "text[text['combined'].str.contains('Visits White')]['source'].unique()"
   ]
  },
  {
   "cell_type": "code",
   "execution_count": 140,
   "metadata": {},
   "outputs": [
    {
     "data": {
      "image/png": "[encoded data removed]",
      "text/plain": [
       "<Figure size 864x432 with 1 Axes>"
      ]
     },
     "metadata": {},
     "output_type": "display_data"
    }
   ],
   "source": [
    "# PRP$_title means possesive pronoun in title, CC_desc is conjunction in description \n",
    "feat_imports = importances.sort_values('abs_coef', ascending=True).tail(15)\n",
    "feat_imports['sign'] = feat_imports['coef'].map(lambda x: 'Negative' if x < 0 else 'Positive')\n",
    "feat_imports.set_index('feature', inplace=True)\n",
    "\n",
    "feat_imports['coef'].plot(kind='barh', figsize=(12,6),\n",
    "                  title='Strongest Coefficients (Absolute Value)',\n",
    "                  fontsize=14, legend=False, cmap='Greens_r')\n",
    "plt.xlabel('Coefficient')\n",
    "plt.title('Top 15 Strongest Coefficients', fontsize=18);"
   ]
  },
  {
   "cell_type": "code",
   "execution_count": 149,
   "metadata": {},
   "outputs": [],
   "source": [
    "# Plot words ignored by model\n",
    "text_pipe.fit(X_train, y_train)\n",
    "ignored_text = text_pipe.steps[1][1].stop_words_"
   ]
  },
  {
   "cell_type": "code",
   "execution_count": 156,
   "metadata": {
    "scrolled": false
   },
   "outputs": [
    {
     "data": {
      "image/png": "[encoded data removed]",
      "text/plain": [
       "<Figure size 1080x576 with 1 Axes>"
      ]
     },
     "metadata": {},
     "output_type": "display_data"
    }
   ],
   "source": [
    "plt.figure(figsize=(15,8))\n",
    "wordcloud = WordCloud(font_path='/Library/Fonts/Verdana.ttf',\n",
    "                      width=2000, height=1000,\n",
    "                      relative_scaling = 1.0,\n",
    "                      background_color='white',\n",
    "                      colormap='Dark2'\n",
    "                  \n",
    ").generate(' '.join(ignored_text))\n",
    "plt.imshow(wordcloud)\n",
    "plt.title(\"Words Ignored by Model\", fontsize=28)\n",
    "plt.axis(\"off\")\n",
    "plt.show()"
   ]
  },
  {
   "cell_type": "markdown",
   "metadata": {},
   "source": [
    "----------------------------------------------------------------------------"
   ]
  },
  {
   "cell_type": "code",
   "execution_count": 34,
   "metadata": {},
   "outputs": [],
   "source": [
    "# I will have to change this for feat union and make function that creates NLP features\n",
    "def manual_test():\n",
    "    title = input('Article title: \\n')\n",
    "    desc = input('Article description: \\n')\n",
    "    df = [{'title': '{}'.format(title),\n",
    "                'description': '{}'.format(desc)\n",
    "                }]\n",
    "    df=pd.DataFrame(df)\n",
    "    pred = gs.predict(df)\n",
    "    if pred == 1:\n",
    "        print(\"Result: Right wing\")\n",
    "    else:\n",
    "        print(\"Result: Not right wing\")"
   ]
  },
  {
   "cell_type": "code",
   "execution_count": 35,
   "metadata": {},
   "outputs": [
    {
     "name": "stdout",
     "output_type": "stream",
     "text": [
      "Article title: \n",
      "Wait until midterms to choose next Supreme Court justice\n",
      "Article description: \n",
      "Mitch Mcconnell set a bad precedent \n",
      "Result: Not right wing\n"
     ]
    }
   ],
   "source": [
    "manual_test()"
   ]
  },
  {
   "cell_type": "markdown",
   "metadata": {},
   "source": [
    "<a id=\"next-steps\"></a>\n",
    "# Next Steps\n",
    "[Return to Index](#contents)"
   ]
  },
  {
   "cell_type": "markdown",
   "metadata": {},
   "source": [
    "There is clearly a lot of work that can be done with this project to improve on it. Given that the data is fairly time-specific, I would like to gather more article data from other time periods, both from the past and in the future. Nevertheless, it was a fun project to see what I could do with this dataset, and the project can function as a springboard to more bigger and complex NLP projects. This project was a joy to work on and will certainly continue to be as I keep playing with it."
   ]
  }
 ],
 "metadata": {
  "kernelspec": {
   "display_name": "Python [conda env:dsi]",
   "language": "python",
   "name": "conda-env-dsi-py"
  },
  "language_info": {
   "codemirror_mode": {
    "name": "ipython",
    "version": 3
   },
   "file_extension": ".py",
   "mimetype": "text/x-python",
   "name": "python",
   "nbconvert_exporter": "python",
   "pygments_lexer": "ipython3",
   "version": "3.6.5"
  }
 },
 "nbformat": 4,
 "nbformat_minor": 2
}
