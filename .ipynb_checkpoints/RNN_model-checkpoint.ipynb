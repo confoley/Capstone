{
 "cells": [
  {
   "cell_type": "raw",
   "metadata": {},
   "source": [
    "---\n",
    "layout: post\n",
    "title: Using a RNN Model with Keras for Text Classification\n",
    "date: 2018-07-23\n",
    "---"
   ]
  },
  {
   "cell_type": "markdown",
   "metadata": {},
   "source": []
  },
  {
   "cell_type": "code",
   "execution_count": 12,
   "metadata": {},
   "outputs": [],
   "source": [
    "import pandas as pd\n",
    "import numpy as np\n",
    "import matplotlib.pyplot as plt\n",
    "from sklearn.model_selection import train_test_split\n",
    "from keras.models import Model, Sequential\n",
    "from keras.layers import LSTM, Activation, Dense, Dropout, Input, Embedding, Conv1D, GlobalMaxPooling1D\n",
    "from keras.optimizers import RMSprop\n",
    "from keras.preprocessing.text import Tokenizer\n",
    "from keras.preprocessing import sequence\n",
    "from keras.utils import to_categorical\n",
    "from keras.callbacks import EarlyStopping\n",
    "from nltk.stem import WordNetLemmatizer\n",
    "from nltk.tokenize import RegexpTokenizer\n",
    "from sklearn.feature_extraction.text import ENGLISH_STOP_WORDS\n",
    "%matplotlib inline"
   ]
  },
  {
   "cell_type": "code",
   "execution_count": 5,
   "metadata": {},
   "outputs": [],
   "source": [
    "text = pd.read_csv('./data/text2.csv').drop('Unnamed: 0', axis=1)"
   ]
  },
  {
   "cell_type": "code",
   "execution_count": 19,
   "metadata": {},
   "outputs": [],
   "source": [
    "X = text['combined']\n",
    "y = text['yes_right']"
   ]
  },
  {
   "cell_type": "code",
   "execution_count": 22,
   "metadata": {},
   "outputs": [],
   "source": [
    "X_train, X_test, y_train, y_test = train_test_split(X, y, random_state=24, stratify=y)"
   ]
  },
  {
   "cell_type": "code",
   "execution_count": 6,
   "metadata": {},
   "outputs": [],
   "source": [
    "lemmatizer = WordNetLemmatizer()\n",
    "\n",
    "stop_grams = ['national review','National Review','Fox News','Content Uploads',\n",
    "                  'content uploads','fox news', 'Associated Press','associated press',\n",
    "                  'Fox amp Friends','Rachel Maddow','Morning Joe','morning joe',\n",
    "                  'Breitbart News', 'fast facts', 'Fast Facts','Fox &', 'Fox & Friends',\n",
    "                  'Ali Velshi','Stephanie Ruhle','Raw video', '& Friends', 'Ari Melber',\n",
    "                  'amp Friends', 'Content uploads', 'Geraldo Rivera']\n",
    "\n",
    "def my_preprocessor(doc, stop_grams):\n",
    "    for ngram in stop_grams:\n",
    "        doc = doc.replace(ngram,'')\n",
    "    return lemmatizer.lemmatize(doc.lower())"
   ]
  },
  {
   "cell_type": "code",
   "execution_count": 25,
   "metadata": {},
   "outputs": [],
   "source": [
    "X_train = [my_preprocessor(n, stop_grams=stop_grams) for n in X_train]\n",
    "X_test = [my_preprocessor(n, stop_grams=stop_grams) for n in X_test]"
   ]
  },
  {
   "cell_type": "code",
   "execution_count": 30,
   "metadata": {},
   "outputs": [],
   "source": [
    "max_words = 2000\n",
    "max_len = 200\n",
    "tok = Tokenizer(num_words=max_words)\n",
    "tok.fit_on_texts(X_train)\n",
    "sequences = tok.texts_to_sequences(X_train)\n",
    "sequences_matrix = sequence.pad_sequences(sequences,maxlen=max_len)"
   ]
  },
  {
   "cell_type": "code",
   "execution_count": 32,
   "metadata": {},
   "outputs": [],
   "source": [
    "def RNN():\n",
    "    inputs = Input(name='inputs',shape=[max_len])\n",
    "    layer = Embedding(max_words,50,input_length=max_len)(inputs)\n",
    "    layer = LSTM(64)(layer)\n",
    "    layer = Dense(256,name='FC1')(layer)\n",
    "    layer = Activation('relu')(layer)\n",
    "    layer = Dropout(0.5)(layer)\n",
    "    layer = Dense(1,name='out_layer')(layer)\n",
    "    layer = Activation('sigmoid')(layer)\n",
    "    model = Model(inputs=inputs,outputs=layer)\n",
    "    return model"
   ]
  },
  {
   "cell_type": "code",
   "execution_count": 33,
   "metadata": {},
   "outputs": [
    {
     "name": "stdout",
     "output_type": "stream",
     "text": [
      "_________________________________________________________________\n",
      "Layer (type)                 Output Shape              Param #   \n",
      "=================================================================\n",
      "inputs (InputLayer)          (None, 200)               0         \n",
      "_________________________________________________________________\n",
      "embedding_1 (Embedding)      (None, 200, 50)           100000    \n",
      "_________________________________________________________________\n",
      "lstm_1 (LSTM)                (None, 64)                29440     \n",
      "_________________________________________________________________\n",
      "FC1 (Dense)                  (None, 256)               16640     \n",
      "_________________________________________________________________\n",
      "activation_1 (Activation)    (None, 256)               0         \n",
      "_________________________________________________________________\n",
      "dropout_1 (Dropout)          (None, 256)               0         \n",
      "_________________________________________________________________\n",
      "out_layer (Dense)            (None, 1)                 257       \n",
      "_________________________________________________________________\n",
      "activation_2 (Activation)    (None, 1)                 0         \n",
      "=================================================================\n",
      "Total params: 146,337\n",
      "Trainable params: 146,337\n",
      "Non-trainable params: 0\n",
      "_________________________________________________________________\n"
     ]
    }
   ],
   "source": [
    "model = RNN()\n",
    "model.summary()\n",
    "model.compile(loss='binary_crossentropy', optimizer='adam', metrics=['accuracy'])"
   ]
  },
  {
   "cell_type": "code",
   "execution_count": 34,
   "metadata": {},
   "outputs": [
    {
     "name": "stdout",
     "output_type": "stream",
     "text": [
      "Train on 22112 samples, validate on 5528 samples\n",
      "Epoch 1/10\n",
      "22112/22112 [==============================] - 85s 4ms/step - loss: 0.5953 - acc: 0.6692 - val_loss: 0.5288 - val_acc: 0.7315\n",
      "Epoch 2/10\n",
      "22112/22112 [==============================] - 87s 4ms/step - loss: 0.4811 - acc: 0.7689 - val_loss: 0.4950 - val_acc: 0.7533\n",
      "Epoch 3/10\n",
      "22112/22112 [==============================] - 90s 4ms/step - loss: 0.4380 - acc: 0.7934 - val_loss: 0.4923 - val_acc: 0.7500\n",
      "Epoch 4/10\n",
      "22112/22112 [==============================] - 83s 4ms/step - loss: 0.4087 - acc: 0.8134 - val_loss: 0.4949 - val_acc: 0.7574\n"
     ]
    }
   ],
   "source": [
    "history = model.fit(sequences_matrix, y_train,batch_size=128, epochs=10,\n",
    "          validation_split=0.2,callbacks=[EarlyStopping(monitor='val_loss',min_delta=0.0001)])"
   ]
  },
  {
   "cell_type": "code",
   "execution_count": 35,
   "metadata": {},
   "outputs": [],
   "source": [
    "test_sequences = tok.texts_to_sequences(X_test)\n",
    "test_sequences_matrix = sequence.pad_sequences(test_sequences,maxlen=max_len)"
   ]
  },
  {
   "cell_type": "code",
   "execution_count": 37,
   "metadata": {},
   "outputs": [
    {
     "name": "stdout",
     "output_type": "stream",
     "text": [
      "9214/9214 [==============================] - 19s 2ms/step\n",
      "Test accuracy: 0.74799218574\n"
     ]
    }
   ],
   "source": [
    "accr = model.evaluate(test_sequences_matrix, y_test)\n",
    "print(\"Test accuracy:\", accr[1])"
   ]
  },
  {
   "cell_type": "code",
   "execution_count": 38,
   "metadata": {},
   "outputs": [
    {
     "data": {
      "image/png": "[encoded data removed]",
      "text/plain": [
       "<Figure size 432x288 with 1 Axes>"
      ]
     },
     "metadata": {},
     "output_type": "display_data"
    }
   ],
   "source": [
    "plt.plot(history.history['val_acc'], label='Test Accuracy')\n",
    "plt.plot(history.history['acc'], label='Train Accuracy')\n",
    "plt.title(\"Test and Train Accuracy\", fontsize=18)\n",
    "plt.legend();"
   ]
  },
  {
   "cell_type": "code",
   "execution_count": 39,
   "metadata": {},
   "outputs": [
    {
     "data": {
      "image/png": "[encoded data removed]",
      "text/plain": [
       "<Figure size 432x288 with 1 Axes>"
      ]
     },
     "metadata": {},
     "output_type": "display_data"
    }
   ],
   "source": [
    "plt.plot(history.history['val_loss'], label=\"Test Loss\")\n",
    "plt.plot(history.history['loss'], label=\"Train Loss\")\n",
    "plt.title(\"Test Loss and Train Loss\", fontsize=18)\n",
    "plt.legend();"
   ]
  },
  {
   "cell_type": "markdown",
   "metadata": {},
   "source": [
    "**Try Dense Model with TfIdf Vectorizer**"
   ]
  },
  {
   "cell_type": "code",
   "execution_count": 16,
   "metadata": {},
   "outputs": [],
   "source": [
    "X = text['combined']\n",
    "y = text['yes_right']\n",
    "X_train, X_test, y_train, y_test = train_test_split(X, y, random_state=24, stratify=y)\n",
    "\n",
    "X_train = [my_preprocessor(n, stop_grams=stop_grams) for n in X_train]\n",
    "X_test = [my_preprocessor(n, stop_grams=stop_grams) for n in X_test]"
   ]
  },
  {
   "cell_type": "code",
   "execution_count": 17,
   "metadata": {},
   "outputs": [
    {
     "name": "stdout",
     "output_type": "stream",
     "text": [
      "<class 'numpy.ndarray'> (27640, 200)\n"
     ]
    }
   ],
   "source": [
    "from sklearn.feature_extraction.text import TfidfVectorizer\n",
    "\n",
    "tf = TfidfVectorizer(max_features=200)\n",
    "\n",
    "tfidf_mat = tf.fit_transform(X_train).toarray()\n",
    "tfidf_mat_test = tf.fit_transform(X_test).toarray()\n",
    "print(type(tfidf_mat),tfidf_mat.shape)  # 5572 documents, tfidf 200 dimension"
   ]
  },
  {
   "cell_type": "code",
   "execution_count": 18,
   "metadata": {},
   "outputs": [
    {
     "name": "stdout",
     "output_type": "stream",
     "text": [
      "_________________________________________________________________\n",
      "Layer (type)                 Output Shape              Param #   \n",
      "=================================================================\n",
      "dense_4 (Dense)              (None, 64)                12864     \n",
      "_________________________________________________________________\n",
      "dropout_3 (Dropout)          (None, 64)                0         \n",
      "_________________________________________________________________\n",
      "activation_4 (Activation)    (None, 64)                0         \n",
      "_________________________________________________________________\n",
      "dense_5 (Dense)              (None, 64)                4160      \n",
      "_________________________________________________________________\n",
      "dropout_4 (Dropout)          (None, 64)                0         \n",
      "_________________________________________________________________\n",
      "activation_5 (Activation)    (None, 64)                0         \n",
      "_________________________________________________________________\n",
      "dense_6 (Dense)              (None, 1)                 65        \n",
      "_________________________________________________________________\n",
      "activation_6 (Activation)    (None, 1)                 0         \n",
      "=================================================================\n",
      "Total params: 17,089\n",
      "Trainable params: 17,089\n",
      "Non-trainable params: 0\n",
      "_________________________________________________________________\n"
     ]
    }
   ],
   "source": [
    "model = Sequential()\n",
    "model.add(Dense(64,input_shape=(200,)))\n",
    "model.add(Dropout(0.2))\n",
    "model.add(Activation('relu'))\n",
    "model.add(Dense(64))\n",
    "model.add(Dropout(0.2))\n",
    "model.add(Activation('relu'))\n",
    "model.add(Dense(1))\n",
    "model.add(Activation('sigmoid'))\n",
    "model.summary()\n",
    "model.compile(loss='binary_crossentropy',\n",
    "              optimizer='adam',\n",
    "              metrics=['acc'])"
   ]
  },
  {
   "cell_type": "code",
   "execution_count": 20,
   "metadata": {},
   "outputs": [
    {
     "name": "stdout",
     "output_type": "stream",
     "text": [
      "Train on 27640 samples, validate on 9214 samples\n",
      "Epoch 1/25\n",
      "27640/27640 [==============================] - 3s 107us/step - loss: 0.6339 - acc: 0.6385 - val_loss: 0.6680 - val_acc: 0.5964\n",
      "Epoch 2/25\n",
      "27640/27640 [==============================] - 3s 102us/step - loss: 0.6018 - acc: 0.6745 - val_loss: 0.6765 - val_acc: 0.5947\n",
      "Epoch 3/25\n",
      "27640/27640 [==============================] - 3s 102us/step - loss: 0.5866 - acc: 0.6883 - val_loss: 0.6761 - val_acc: 0.5919\n",
      "Epoch 4/25\n",
      "27640/27640 [==============================] - 3s 102us/step - loss: 0.5713 - acc: 0.7030 - val_loss: 0.6829 - val_acc: 0.5997\n",
      "Epoch 5/25\n",
      "27640/27640 [==============================] - 3s 102us/step - loss: 0.5535 - acc: 0.7186 - val_loss: 0.6976 - val_acc: 0.5946\n",
      "Epoch 6/25\n",
      "27640/27640 [==============================] - 3s 101us/step - loss: 0.5375 - acc: 0.7301 - val_loss: 0.7050 - val_acc: 0.5899\n",
      "Epoch 7/25\n",
      "27640/27640 [==============================] - 3s 102us/step - loss: 0.5226 - acc: 0.7400 - val_loss: 0.7084 - val_acc: 0.5903\n",
      "Epoch 8/25\n",
      "27640/27640 [==============================] - 3s 102us/step - loss: 0.5064 - acc: 0.7485 - val_loss: 0.7387 - val_acc: 0.5895\n",
      "Epoch 9/25\n",
      "27640/27640 [==============================] - 3s 100us/step - loss: 0.4980 - acc: 0.7585 - val_loss: 0.7395 - val_acc: 0.5929\n",
      "Epoch 10/25\n",
      "27640/27640 [==============================] - 3s 102us/step - loss: 0.4866 - acc: 0.7643 - val_loss: 0.7552 - val_acc: 0.5858\n",
      "Epoch 11/25\n",
      "27640/27640 [==============================] - 3s 101us/step - loss: 0.4779 - acc: 0.7689 - val_loss: 0.7535 - val_acc: 0.5835\n",
      "Epoch 12/25\n",
      "27640/27640 [==============================] - 3s 100us/step - loss: 0.4661 - acc: 0.7769 - val_loss: 0.7703 - val_acc: 0.5886\n",
      "Epoch 13/25\n",
      "27640/27640 [==============================] - 3s 102us/step - loss: 0.4643 - acc: 0.7781 - val_loss: 0.7751 - val_acc: 0.5866\n",
      "Epoch 14/25\n",
      "27640/27640 [==============================] - 3s 102us/step - loss: 0.4542 - acc: 0.7831 - val_loss: 0.7807 - val_acc: 0.5870\n",
      "Epoch 15/25\n",
      "27640/27640 [==============================] - 3s 100us/step - loss: 0.4466 - acc: 0.7911 - val_loss: 0.8001 - val_acc: 0.5898\n",
      "Epoch 16/25\n",
      "27640/27640 [==============================] - 3s 101us/step - loss: 0.4403 - acc: 0.7902 - val_loss: 0.8082 - val_acc: 0.5914\n",
      "Epoch 17/25\n",
      "27640/27640 [==============================] - 3s 100us/step - loss: 0.4363 - acc: 0.7954 - val_loss: 0.8057 - val_acc: 0.5894\n",
      "Epoch 18/25\n",
      "27640/27640 [==============================] - 3s 102us/step - loss: 0.4304 - acc: 0.8012 - val_loss: 0.8108 - val_acc: 0.5894\n",
      "Epoch 19/25\n",
      "27640/27640 [==============================] - 3s 101us/step - loss: 0.4286 - acc: 0.8012 - val_loss: 0.8241 - val_acc: 0.5862\n",
      "Epoch 20/25\n",
      "27640/27640 [==============================] - 3s 101us/step - loss: 0.4152 - acc: 0.8077 - val_loss: 0.8394 - val_acc: 0.5844\n",
      "Epoch 21/25\n",
      "27640/27640 [==============================] - 3s 101us/step - loss: 0.4162 - acc: 0.8062 - val_loss: 0.8490 - val_acc: 0.5815\n",
      "Epoch 22/25\n",
      "27640/27640 [==============================] - 3s 97us/step - loss: 0.4090 - acc: 0.8110 - val_loss: 0.8554 - val_acc: 0.5849\n",
      "Epoch 23/25\n",
      "27640/27640 [==============================] - 3s 102us/step - loss: 0.4075 - acc: 0.8117 - val_loss: 0.8555 - val_acc: 0.5906\n",
      "Epoch 24/25\n",
      "27640/27640 [==============================] - 3s 101us/step - loss: 0.4041 - acc: 0.8137 - val_loss: 0.8680 - val_acc: 0.5857\n",
      "Epoch 25/25\n",
      "27640/27640 [==============================] - 3s 96us/step - loss: 0.3997 - acc: 0.8150 - val_loss: 0.8834 - val_acc: 0.5842\n"
     ]
    }
   ],
   "source": [
    "history = model.fit(tfidf_mat,y_train,batch_size=32,epochs=25,validation_data=(tfidf_mat_test, y_test))"
   ]
  },
  {
   "cell_type": "code",
   "execution_count": 21,
   "metadata": {},
   "outputs": [
    {
     "name": "stdout",
     "output_type": "stream",
     "text": [
      "9214/9214 [==============================] - 0s 27us/step\n",
      "Test accuracy: 0.584219665765\n"
     ]
    }
   ],
   "source": [
    "accr = model.evaluate(tfidf_mat_test, y_test)\n",
    "print(\"Test accuracy:\", accr[1]) # Crap"
   ]
  },
  {
   "cell_type": "code",
   "execution_count": 22,
   "metadata": {},
   "outputs": [
    {
     "data": {
      "image/png": "[encoded data removed]",
      "text/plain": [
       "<Figure size 432x288 with 1 Axes>"
      ]
     },
     "metadata": {},
     "output_type": "display_data"
    }
   ],
   "source": [
    "plt.plot(history.history['val_acc'], label='Test Accuracy')\n",
    "plt.plot(history.history['acc'], label='Train Accuracy')\n",
    "plt.title(\"Test and Train Accuracy\", fontsize=18)\n",
    "plt.legend();"
   ]
  },
  {
   "cell_type": "code",
   "execution_count": 23,
   "metadata": {},
   "outputs": [
    {
     "data": {
      "image/png": "[encoded data removed]",
      "text/plain": [
       "<Figure size 432x288 with 1 Axes>"
      ]
     },
     "metadata": {},
     "output_type": "display_data"
    }
   ],
   "source": [
    "plt.plot(history.history['val_loss'], label=\"Test Loss\")\n",
    "plt.plot(history.history['loss'], label=\"Train Loss\")\n",
    "plt.title(\"Test Loss and Train Loss\", fontsize=18)\n",
    "plt.legend();"
   ]
  },
  {
   "cell_type": "code",
   "execution_count": null,
   "metadata": {},
   "outputs": [],
   "source": []
  }
 ],
 "metadata": {
  "kernelspec": {
   "display_name": "Python [conda env:dsi]",
   "language": "python",
   "name": "conda-env-dsi-py"
  },
  "language_info": {
   "codemirror_mode": {
    "name": "ipython",
    "version": 3
   },
   "file_extension": ".py",
   "mimetype": "text/x-python",
   "name": "python",
   "nbconvert_exporter": "python",
   "pygments_lexer": "ipython3",
   "version": "3.6.5"
  }
 },
 "nbformat": 4,
 "nbformat_minor": 2
}
